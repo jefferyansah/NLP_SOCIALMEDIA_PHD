{
 "cells": [
  {
   "cell_type": "code",
   "execution_count": null,
   "metadata": {
    "collapsed": false
   },
   "outputs": [],
   "source": [
    "newdict = {}\n",
    "newdict\n",
    "\n",
    "mydict = {'Jeff':'Ansah', 'Matthew': 'eghan', 'Jxcfeff': 'timothy', 'Jessff':'kalu', 'Jesff':'mole'}\n",
    "mydict\n",
    "#mydict['jeff'] = 'Thomas'  #changing the entry of a dictionary\n",
    "mydict \n",
    "mydict['Jeff']\n",
    "\n",
    "#update cab be used to combine dictionaries\n",
    "ladies = {'Princess':'gah', 'lydia': 'monty'}\n",
    "mydict.update(ladies)\n",
    "mydict\n",
    "\n",
    "# we can delete items from a dictionary by the key\n",
    "del ladies['lydia']\n",
    "ladies\n",
    "\n",
    "# we may also delete all item using the clear() function\n",
    "\n",
    "mydict.clear()\n",
    "mydict\n",
    "\n",
    "# testing whether a key exist in our dictionaries\n",
    "'Princess' in ladies\n",
    "'Jeff' in mydict\n",
    "'gah'  in ladies\n",
    "\n",
    "#getting an item by a key : this will retun the value stored in that key (eg. mydict['Jeff]) will return 'Ansah'\n",
    "\n",
    "mydict\n",
    "mydict = {'Jeff':'Ansah', 'Matthew': 'eghan', 'Jxcfeff': 'timothy', 'Jessff':'kalu', 'Jesff':'mole'}\n",
    "mydict['Jeff'] \n",
    "'Jeff' in mydict #use this to test whether a key exist in a fucntion\n",
    "\n",
    "mydict.get('Jeremy', 'Not a python key') #you can explicitly use the get()to output the value of a key and add an exception as wel\n",
    "\n",
    "# you can get all keys by using keys()\n",
    "mydict.keys()\n",
    "\n",
    "\n",
    "# to get all values in a dictionary...simply use .................values\n",
    "#eg.\n",
    "list(mydict.values())\n",
    "list(mydict.keys())\n",
    "#and when you want to get both\n",
    "list(mydict.items())\n"
   ]
  },
  {
   "cell_type": "code",
   "execution_count": 60,
   "metadata": {
    "collapsed": false
   },
   "outputs": [
    {
     "name": "stdout",
     "output_type": "stream",
     "text": [
      "svhsvs\n"
     ]
    }
   ],
   "source": [
    "# let go on ahead and do an assignment with hashtags\n",
    "\n",
    "tweetsdata = {'svhsvs'   :{'#melbourne', 'protest'}, \n",
    "              '@fhj':{'We taking our land for good #melbourne', 'blacklivesmatter'},\n",
    "              '@oluawa':{'Our home our land #reclaimaustralia', 'blacklivesmatter'},\n",
    "             }\n",
    "\n",
    "\n",
    "for name, contents in tweetsdata.items():\n",
    "    if '#melbourne' in contents:\n",
    "        print(name)\n",
    "        name\n",
    "\n",
    "        \n",
    "\n",
    "                    "
   ]
  },
  {
   "cell_type": "code",
   "execution_count": 61,
   "metadata": {
    "collapsed": false
   },
   "outputs": [
    {
     "name": "stdout",
     "output_type": "stream",
     "text": [
      "svhsvs\n"
     ]
    }
   ],
   "source": [
    "#comibinations and operators\n",
    "\n",
    "for username, bodytext in tweetsdata.items():\n",
    "    if bodytext & {'#melbourne', 'protest'}:\n",
    "        print(name)\n",
    "        "
   ]
  },
  {
   "cell_type": "code",
   "execution_count": null,
   "metadata": {
    "collapsed": true
   },
   "outputs": [],
   "source": []
  },
  {
   "cell_type": "code",
   "execution_count": 48,
   "metadata": {
    "collapsed": false
   },
   "outputs": [
    {
     "name": "stdout",
     "output_type": "stream",
     "text": [
      "screwdriver\n",
      "black russian\n",
      "screwdriver\n",
      "black russian\n"
     ]
    }
   ],
   "source": [
    "# lets try it first with the Vodka Example\n",
    "\n",
    "drinks = {'martini': {'vodka', 'vermouth'}, \n",
    "          'black russian': {'vodka', 'kahlua'},\n",
    "          'white russian': {'cream', 'kahlua', 'vodka'},\n",
    "          'manhattan': {'rye', 'vermouth', 'bitters'},\n",
    "          'screwdriver': {'orange juice', 'vodka'}\n",
    "         }\n",
    "for name, contents in drinks.items():\n",
    "    if 'vodka' in contents and not ('vermouth' in contents or 'cream' in contents):\n",
    "        print(name)\n",
    "        \n",
    "        \n",
    "    \n",
    "\n",
    "\n"
   ]
  },
  {
   "cell_type": "code",
   "execution_count": 49,
   "metadata": {
    "collapsed": false,
    "scrolled": true
   },
   "outputs": [
    {
     "name": "stdout",
     "output_type": "stream",
     "text": [
      "screwdriver\n",
      "black russian\n"
     ]
    }
   ],
   "source": [
    "for name, contents in drinks.items():\n",
    "    if 'vodka' in contents and not contents & {'vermouth', 'cream'}:\n",
    "        print(name)"
   ]
  },
  {
   "cell_type": "code",
   "execution_count": 125,
   "metadata": {
    "collapsed": false
   },
   "outputs": [
    {
     "name": "stdout",
     "output_type": "stream",
     "text": [
      "ICDM is a very good conference\n"
     ]
    }
   ],
   "source": [
    "# creating my own example\n",
    "conference = {'KDD': {'Excellent', 'A*'}, \n",
    "             'ICDM' : {'VeryGood', 'A'},\n",
    "             'IEEE': {'Good', 'B'},\n",
    "             'WSDM': {'Good', 'B'},\n",
    "             'VLDB': {'Good', 'A*'}}\n",
    "\n",
    "for confname, rank in conference.items():\n",
    "    if  'A' in rank :\n",
    "        print(confname + ' is a very good conference')\n",
    "        \n",
    "\n",
    "        \n"
   ]
  },
  {
   "cell_type": "code",
   "execution_count": 127,
   "metadata": {
    "collapsed": false
   },
   "outputs": [
    {
     "name": "stdout",
     "output_type": "stream",
     "text": [
      "WSDM\n",
      "IEEE\n"
     ]
    }
   ],
   "source": [
    "for clip, xtics in conference.items():\n",
    "    if  'B'  in xtics and not ('VeryGood' in xtics):\n",
    "        print(clip)"
   ]
  },
  {
   "cell_type": "code",
   "execution_count": 128,
   "metadata": {
    "collapsed": false
   },
   "outputs": [
    {
     "name": "stdout",
     "output_type": "stream",
     "text": [
      "VLDB\n",
      "KDD\n"
     ]
    }
   ],
   "source": [
    "for prize, rank in conference.items():\n",
    "    if rank & {'Excellent','A*'}:\n",
    "        print(prize)\n",
    "    "
   ]
  },
  {
   "cell_type": "code",
   "execution_count": 135,
   "metadata": {
    "collapsed": false
   },
   "outputs": [
    {
     "data": {
      "text/plain": [
       "{'accra, kumasi'}"
      ]
     },
     "execution_count": 135,
     "metadata": {},
     "output_type": "execute_result"
    }
   ],
   "source": [
    "#Summary and review of Chapter\n",
    "\n",
    "mylist = ['jeff', 'ansah', 'antwi', 'vanslerry']       # CREATING A LIST\n",
    "mytuple = 'ghskaq', 'vskllak','canopy'      # creating a tuple\n",
    "mydict  = {'ghana': {'accra, kumasi'},  # Creating dictionary\n",
    "          'southafrica': {'johanessburg', 'captown'}}\n",
    "mydict\n",
    "mylist\n",
    "mytuple\n",
    "\n",
    "#For the list and tuple, the value between the square brackets is an integer offset. For the\n",
    "#dictionary, it’s a key. For all three, the result is a value.\n",
    "\n",
    "mylist[2]\n",
    "mydict['ghana'] # you always remember to refence a dictionary with a 'key-value' not an index\n"
   ]
  }
 ],
 "metadata": {
  "anaconda-cloud": {},
  "kernelspec": {
   "display_name": "Python [conda root]",
   "language": "python",
   "name": "conda-root-py"
  },
  "language_info": {
   "codemirror_mode": {
    "name": "ipython",
    "version": 3
   },
   "file_extension": ".py",
   "mimetype": "text/x-python",
   "name": "python",
   "nbconvert_exporter": "python",
   "pygments_lexer": "ipython3",
   "version": "3.5.2"
  }
 },
 "nbformat": 4,
 "nbformat_minor": 1
}
