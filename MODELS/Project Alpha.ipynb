{
 "cells": [
  {
   "cell_type": "markdown",
   "metadata": {},
   "source": [
    "# #PROJECT ALPHA"
   ]
  },
  {
   "cell_type": "markdown",
   "metadata": {},
   "source": [
    "The Project is Purely Text Analysis. Preferably in Jupyter Notebook Python version 3.6. (All tasks in seperate notebook cells)\n",
    "\n",
    "\n",
    "1. Load some Data in the form of Tweets (Already have the text from Tweets)\n",
    "\n",
    "2. Seperate Tweets into dates: I mean date of publishing\n",
    "\n",
    "3. For all the Tweets Published in a given day; \n",
    "\n",
    "\n",
    "A.  Remove the URLS\n",
    "    Calculate the pairwise Cosine Similarity . Save the data in a csv file.\n",
    "    Calculate the pairwise Jaccrad Similarity. Save the data in a csv file.\n",
    "    Calculate the TF_IDF Similarity. Save the data in a csv file.\n",
    " \n",
    "\n",
    "B.  Break the Tweet into Tokens\n",
    "    Remove stop words\n",
    "    Count the Frequency of top 10 occuring keyword for every day. Save the data into a csv file\n",
    "    Use Kmeans clustering to cluster word tokens...Save number of Clusters and Words in\n",
    "    \n",
    "    Visualize Clusters and the words that are in that clusters in the form of word bubble\n",
    "\n",
    "\n"
   ]
  }
 ],
 "metadata": {
  "kernelspec": {
   "display_name": "R",
   "language": "R",
   "name": "ir"
  },
  "language_info": {
   "codemirror_mode": "r",
   "file_extension": ".r",
   "mimetype": "text/x-r-source",
   "name": "R",
   "pygments_lexer": "r",
   "version": "3.4.2"
  }
 },
 "nbformat": 4,
 "nbformat_minor": 2
}
