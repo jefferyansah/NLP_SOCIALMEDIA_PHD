{
 "cells": [
  {
   "cell_type": "code",
   "execution_count": 14,
   "metadata": {
    "collapsed": true
   },
   "outputs": [],
   "source": [
    "from pyspark.sql import SQLContext\n",
    "from pyspark.sql.functions import *\n",
    "from collections import Counter\n",
    "import matplotlib.pyplot as plt\n",
    "import matplotlib.cm as cm\n",
    "import pandas as pd\n",
    "import numpy as np\n",
    "import datetime as dt\n",
    "import time\n",
    "import json\n",
    "from pyspark.sql import SQLContext\n",
    "import json\n",
    "from IPython import display\n",
    "from IPython.core.display import HTML\n",
    "import pandas\n",
    "import time \n",
    "import numpy as np\n",
    "import matplotlib.pyplot as plt \n",
    "from pyspark.sql.functions import split, explode, col\n",
    "\n",
    "sql = SQLContext(sc)"
   ]
  },
  {
   "cell_type": "code",
   "execution_count": null,
   "metadata": {
    "collapsed": true
   },
   "outputs": [],
   "source": []
  },
  {
   "cell_type": "code",
   "execution_count": 15,
   "metadata": {
    "collapsed": false
   },
   "outputs": [
    {
     "name": "stdout",
     "output_type": "stream",
     "text": [
      "root\n",
      " |-- key:salt: byte (nullable = true)\n",
      " |-- key:timestamp: timestamp (nullable = true)\n",
      " |-- key:id: string (nullable = true)\n",
      " |-- key:subIds: array (nullable = true)\n",
      " |    |-- element: string (containsNull = true)\n",
      " |-- data: string (nullable = true)\n",
      " |-- reference: string (nullable = true)\n",
      " |-- format: string (nullable = true)\n",
      " |-- type: string (nullable = true)\n",
      " |-- source: string (nullable = true)\n",
      " |-- ingestTime: timestamp (nullable = true)\n",
      " |-- author: string (nullable = true)\n",
      " |-- civilEvents: string (nullable = true)\n",
      " |-- locations: string (nullable = true)\n",
      " |-- geo: string (nullable = true)\n",
      " |-- nlp: string (nullable = true)\n",
      " |-- publicationTime: timestamp (nullable = true)\n",
      " |-- politicalParty: string (nullable = true)\n",
      " |-- sentiment: string (nullable = true)\n",
      " |-- times: string (nullable = true)\n",
      " |-- bodyText: string (nullable = true)\n",
      " |-- title: string (nullable = true)\n",
      " |-- phraseList: string (nullable = true)\n",
      "\n"
     ]
    },
    {
     "data": {
      "text/html": [
       "<div>\n",
       "<table border=\"1\" class=\"dataframe\">\n",
       "  <thead>\n",
       "    <tr style=\"text-align: right;\">\n",
       "      <th></th>\n",
       "      <th>author</th>\n",
       "      <th>publicationTime</th>\n",
       "      <th>bodyText</th>\n",
       "      <th>locations</th>\n",
       "    </tr>\n",
       "  </thead>\n",
       "  <tbody>\n",
       "    <tr>\n",
       "      <th>0</th>\n",
       "      <td>id:twitter.com:1000640708</td>\n",
       "      <td>2016-10-09 21:38:56</td>\n",
       "      <td>None</td>\n",
       "      <td>None</td>\n",
       "    </tr>\n",
       "    <tr>\n",
       "      <th>1</th>\n",
       "      <td>id:twitter.com:1000881960</td>\n",
       "      <td>2016-10-09 21:38:06</td>\n",
       "      <td>None</td>\n",
       "      <td>None</td>\n",
       "    </tr>\n",
       "    <tr>\n",
       "      <th>2</th>\n",
       "      <td>id:twitter.com:1001005442</td>\n",
       "      <td>2016-10-09 21:36:09</td>\n",
       "      <td>None</td>\n",
       "      <td>None</td>\n",
       "    </tr>\n",
       "    <tr>\n",
       "      <th>3</th>\n",
       "      <td>id:twitter.com:1002878328</td>\n",
       "      <td>2016-10-09 21:37:29</td>\n",
       "      <td>None</td>\n",
       "      <td>None</td>\n",
       "    </tr>\n",
       "    <tr>\n",
       "      <th>4</th>\n",
       "      <td>id:twitter.com:1004220360</td>\n",
       "      <td>2016-10-09 21:30:33</td>\n",
       "      <td>None</td>\n",
       "      <td>None</td>\n",
       "    </tr>\n",
       "    <tr>\n",
       "      <th>5</th>\n",
       "      <td>id:twitter.com:1004332231</td>\n",
       "      <td>2016-10-09 21:31:36</td>\n",
       "      <td>None</td>\n",
       "      <td>None</td>\n",
       "    </tr>\n",
       "    <tr>\n",
       "      <th>6</th>\n",
       "      <td>id:twitter.com:1004332231</td>\n",
       "      <td>2016-10-09 21:31:04</td>\n",
       "      <td>None</td>\n",
       "      <td>None</td>\n",
       "    </tr>\n",
       "    <tr>\n",
       "      <th>7</th>\n",
       "      <td>id:twitter.com:1004332231</td>\n",
       "      <td>2016-10-09 21:31:01</td>\n",
       "      <td>None</td>\n",
       "      <td>None</td>\n",
       "    </tr>\n",
       "    <tr>\n",
       "      <th>8</th>\n",
       "      <td>id:twitter.com:1004332231</td>\n",
       "      <td>2016-10-09 21:31:14</td>\n",
       "      <td>None</td>\n",
       "      <td>None</td>\n",
       "    </tr>\n",
       "    <tr>\n",
       "      <th>9</th>\n",
       "      <td>id:twitter.com:1004332231</td>\n",
       "      <td>2016-10-09 21:31:45</td>\n",
       "      <td>None</td>\n",
       "      <td>None</td>\n",
       "    </tr>\n",
       "    <tr>\n",
       "      <th>10</th>\n",
       "      <td>id:twitter.com:1004332231</td>\n",
       "      <td>2016-10-09 21:30:59</td>\n",
       "      <td>None</td>\n",
       "      <td>None</td>\n",
       "    </tr>\n",
       "    <tr>\n",
       "      <th>11</th>\n",
       "      <td>id:twitter.com:100764658</td>\n",
       "      <td>2016-10-09 21:31:29</td>\n",
       "      <td>None</td>\n",
       "      <td>None</td>\n",
       "    </tr>\n",
       "    <tr>\n",
       "      <th>12</th>\n",
       "      <td>id:twitter.com:1008600494</td>\n",
       "      <td>2016-10-09 21:35:52</td>\n",
       "      <td>None</td>\n",
       "      <td>None</td>\n",
       "    </tr>\n",
       "    <tr>\n",
       "      <th>13</th>\n",
       "      <td>id:twitter.com:1008782282</td>\n",
       "      <td>2016-10-09 21:35:41</td>\n",
       "      <td>None</td>\n",
       "      <td>None</td>\n",
       "    </tr>\n",
       "    <tr>\n",
       "      <th>14</th>\n",
       "      <td>id:twitter.com:100910028</td>\n",
       "      <td>2016-10-09 21:39:44</td>\n",
       "      <td>None</td>\n",
       "      <td>None</td>\n",
       "    </tr>\n",
       "    <tr>\n",
       "      <th>15</th>\n",
       "      <td>id:twitter.com:100910161</td>\n",
       "      <td>2016-10-09 21:32:48</td>\n",
       "      <td>None</td>\n",
       "      <td>None</td>\n",
       "    </tr>\n",
       "    <tr>\n",
       "      <th>16</th>\n",
       "      <td>id:twitter.com:100989953</td>\n",
       "      <td>2016-10-09 21:30:07</td>\n",
       "      <td>None</td>\n",
       "      <td>None</td>\n",
       "    </tr>\n",
       "    <tr>\n",
       "      <th>17</th>\n",
       "      <td>id:twitter.com:101188435</td>\n",
       "      <td>2016-10-09 21:39:49</td>\n",
       "      <td>None</td>\n",
       "      <td>None</td>\n",
       "    </tr>\n",
       "    <tr>\n",
       "      <th>18</th>\n",
       "      <td>id:twitter.com:1013236308</td>\n",
       "      <td>2016-10-09 21:30:34</td>\n",
       "      <td>None</td>\n",
       "      <td>None</td>\n",
       "    </tr>\n",
       "    <tr>\n",
       "      <th>19</th>\n",
       "      <td>id:twitter.com:1013268800</td>\n",
       "      <td>2016-10-09 21:36:15</td>\n",
       "      <td>None</td>\n",
       "      <td>None</td>\n",
       "    </tr>\n",
       "    <tr>\n",
       "      <th>20</th>\n",
       "      <td>id:twitter.com:1013268800</td>\n",
       "      <td>2016-10-09 21:30:35</td>\n",
       "      <td>None</td>\n",
       "      <td>None</td>\n",
       "    </tr>\n",
       "    <tr>\n",
       "      <th>21</th>\n",
       "      <td>id:twitter.com:1013268800</td>\n",
       "      <td>2016-10-09 21:36:17</td>\n",
       "      <td>None</td>\n",
       "      <td>None</td>\n",
       "    </tr>\n",
       "    <tr>\n",
       "      <th>22</th>\n",
       "      <td>id:twitter.com:1013268800</td>\n",
       "      <td>2016-10-09 21:39:35</td>\n",
       "      <td>None</td>\n",
       "      <td>None</td>\n",
       "    </tr>\n",
       "    <tr>\n",
       "      <th>23</th>\n",
       "      <td>id:twitter.com:1013268800</td>\n",
       "      <td>2016-10-09 21:35:39</td>\n",
       "      <td>None</td>\n",
       "      <td>None</td>\n",
       "    </tr>\n",
       "    <tr>\n",
       "      <th>24</th>\n",
       "      <td>id:twitter.com:1013268800</td>\n",
       "      <td>2016-10-09 21:34:10</td>\n",
       "      <td>None</td>\n",
       "      <td>None</td>\n",
       "    </tr>\n",
       "    <tr>\n",
       "      <th>25</th>\n",
       "      <td>id:twitter.com:1013268800</td>\n",
       "      <td>2016-10-09 21:36:08</td>\n",
       "      <td>None</td>\n",
       "      <td>None</td>\n",
       "    </tr>\n",
       "    <tr>\n",
       "      <th>26</th>\n",
       "      <td>id:twitter.com:1013268800</td>\n",
       "      <td>2016-10-09 21:30:30</td>\n",
       "      <td>None</td>\n",
       "      <td>None</td>\n",
       "    </tr>\n",
       "    <tr>\n",
       "      <th>27</th>\n",
       "      <td>id:twitter.com:101437976</td>\n",
       "      <td>2016-10-09 21:30:19</td>\n",
       "      <td>None</td>\n",
       "      <td>None</td>\n",
       "    </tr>\n",
       "    <tr>\n",
       "      <th>28</th>\n",
       "      <td>id:twitter.com:1015165668</td>\n",
       "      <td>2016-10-09 21:32:53</td>\n",
       "      <td>None</td>\n",
       "      <td>None</td>\n",
       "    </tr>\n",
       "    <tr>\n",
       "      <th>29</th>\n",
       "      <td>id:twitter.com:1015170002</td>\n",
       "      <td>2016-10-09 21:38:10</td>\n",
       "      <td>None</td>\n",
       "      <td>None</td>\n",
       "    </tr>\n",
       "    <tr>\n",
       "      <th>...</th>\n",
       "      <td>...</td>\n",
       "      <td>...</td>\n",
       "      <td>...</td>\n",
       "      <td>...</td>\n",
       "    </tr>\n",
       "    <tr>\n",
       "      <th>10474</th>\n",
       "      <td>id:twitter.com:987144044</td>\n",
       "      <td>2016-10-09 21:31:29</td>\n",
       "      <td>None</td>\n",
       "      <td>None</td>\n",
       "    </tr>\n",
       "    <tr>\n",
       "      <th>10475</th>\n",
       "      <td>id:twitter.com:988407564</td>\n",
       "      <td>2016-10-09 21:35:14</td>\n",
       "      <td>None</td>\n",
       "      <td>None</td>\n",
       "    </tr>\n",
       "    <tr>\n",
       "      <th>10476</th>\n",
       "      <td>id:twitter.com:989906090</td>\n",
       "      <td>2016-10-09 21:35:04</td>\n",
       "      <td>None</td>\n",
       "      <td>None</td>\n",
       "    </tr>\n",
       "    <tr>\n",
       "      <th>10477</th>\n",
       "      <td>id:twitter.com:989906090</td>\n",
       "      <td>2016-10-09 21:34:13</td>\n",
       "      <td>None</td>\n",
       "      <td>None</td>\n",
       "    </tr>\n",
       "    <tr>\n",
       "      <th>10478</th>\n",
       "      <td>id:twitter.com:990543296</td>\n",
       "      <td>2016-10-09 21:30:04</td>\n",
       "      <td>None</td>\n",
       "      <td>None</td>\n",
       "    </tr>\n",
       "    <tr>\n",
       "      <th>10479</th>\n",
       "      <td>id:twitter.com:99233470</td>\n",
       "      <td>2016-10-09 21:35:04</td>\n",
       "      <td>None</td>\n",
       "      <td>None</td>\n",
       "    </tr>\n",
       "    <tr>\n",
       "      <th>10480</th>\n",
       "      <td>id:twitter.com:992569789</td>\n",
       "      <td>2016-10-09 21:35:04</td>\n",
       "      <td>None</td>\n",
       "      <td>None</td>\n",
       "    </tr>\n",
       "    <tr>\n",
       "      <th>10481</th>\n",
       "      <td>id:twitter.com:992693670</td>\n",
       "      <td>2016-10-09 21:34:41</td>\n",
       "      <td>None</td>\n",
       "      <td>None</td>\n",
       "    </tr>\n",
       "    <tr>\n",
       "      <th>10482</th>\n",
       "      <td>id:twitter.com:99301351</td>\n",
       "      <td>2016-10-09 21:34:19</td>\n",
       "      <td>None</td>\n",
       "      <td>None</td>\n",
       "    </tr>\n",
       "    <tr>\n",
       "      <th>10483</th>\n",
       "      <td>id:twitter.com:993642108</td>\n",
       "      <td>2016-10-09 21:32:03</td>\n",
       "      <td>None</td>\n",
       "      <td>None</td>\n",
       "    </tr>\n",
       "    <tr>\n",
       "      <th>10484</th>\n",
       "      <td>id:twitter.com:994293373</td>\n",
       "      <td>2016-10-09 21:38:51</td>\n",
       "      <td>None</td>\n",
       "      <td>None</td>\n",
       "    </tr>\n",
       "    <tr>\n",
       "      <th>10485</th>\n",
       "      <td>id:twitter.com:994293373</td>\n",
       "      <td>2016-10-09 21:38:51</td>\n",
       "      <td>None</td>\n",
       "      <td>None</td>\n",
       "    </tr>\n",
       "    <tr>\n",
       "      <th>10486</th>\n",
       "      <td>id:twitter.com:994443397</td>\n",
       "      <td>2016-10-09 21:31:03</td>\n",
       "      <td>None</td>\n",
       "      <td>None</td>\n",
       "    </tr>\n",
       "    <tr>\n",
       "      <th>10487</th>\n",
       "      <td>id:twitter.com:994526281</td>\n",
       "      <td>2016-10-09 21:36:26</td>\n",
       "      <td>None</td>\n",
       "      <td>None</td>\n",
       "    </tr>\n",
       "    <tr>\n",
       "      <th>10488</th>\n",
       "      <td>id:twitter.com:99455091</td>\n",
       "      <td>2016-10-09 21:31:13</td>\n",
       "      <td>None</td>\n",
       "      <td>None</td>\n",
       "    </tr>\n",
       "    <tr>\n",
       "      <th>10489</th>\n",
       "      <td>id:twitter.com:994649556</td>\n",
       "      <td>2016-10-09 21:30:21</td>\n",
       "      <td>None</td>\n",
       "      <td>None</td>\n",
       "    </tr>\n",
       "    <tr>\n",
       "      <th>10490</th>\n",
       "      <td>id:twitter.com:996091424</td>\n",
       "      <td>2016-10-09 21:33:19</td>\n",
       "      <td>None</td>\n",
       "      <td>None</td>\n",
       "    </tr>\n",
       "    <tr>\n",
       "      <th>10491</th>\n",
       "      <td>id:twitter.com:996150776</td>\n",
       "      <td>2016-10-09 21:30:31</td>\n",
       "      <td>None</td>\n",
       "      <td>None</td>\n",
       "    </tr>\n",
       "    <tr>\n",
       "      <th>10492</th>\n",
       "      <td>id:twitter.com:99632312</td>\n",
       "      <td>2016-10-09 21:32:43</td>\n",
       "      <td>None</td>\n",
       "      <td>None</td>\n",
       "    </tr>\n",
       "    <tr>\n",
       "      <th>10493</th>\n",
       "      <td>id:twitter.com:996370740</td>\n",
       "      <td>2016-10-09 21:35:04</td>\n",
       "      <td>None</td>\n",
       "      <td>None</td>\n",
       "    </tr>\n",
       "    <tr>\n",
       "      <th>10494</th>\n",
       "      <td>id:twitter.com:996370740</td>\n",
       "      <td>2016-10-09 21:33:57</td>\n",
       "      <td>None</td>\n",
       "      <td>None</td>\n",
       "    </tr>\n",
       "    <tr>\n",
       "      <th>10495</th>\n",
       "      <td>id:twitter.com:996370740</td>\n",
       "      <td>2016-10-09 21:36:38</td>\n",
       "      <td>None</td>\n",
       "      <td>None</td>\n",
       "    </tr>\n",
       "    <tr>\n",
       "      <th>10496</th>\n",
       "      <td>id:twitter.com:99638046</td>\n",
       "      <td>2016-10-09 21:32:27</td>\n",
       "      <td>None</td>\n",
       "      <td>None</td>\n",
       "    </tr>\n",
       "    <tr>\n",
       "      <th>10497</th>\n",
       "      <td>id:twitter.com:99672815</td>\n",
       "      <td>2016-10-09 21:32:19</td>\n",
       "      <td>None</td>\n",
       "      <td>None</td>\n",
       "    </tr>\n",
       "    <tr>\n",
       "      <th>10498</th>\n",
       "      <td>id:twitter.com:99866105</td>\n",
       "      <td>2016-10-09 21:35:16</td>\n",
       "      <td>None</td>\n",
       "      <td>None</td>\n",
       "    </tr>\n",
       "    <tr>\n",
       "      <th>10499</th>\n",
       "      <td>id:twitter.com:99866105</td>\n",
       "      <td>2016-10-09 21:35:11</td>\n",
       "      <td>None</td>\n",
       "      <td>None</td>\n",
       "    </tr>\n",
       "    <tr>\n",
       "      <th>10500</th>\n",
       "      <td>id:twitter.com:99877511</td>\n",
       "      <td>2016-10-09 21:38:43</td>\n",
       "      <td>None</td>\n",
       "      <td>None</td>\n",
       "    </tr>\n",
       "    <tr>\n",
       "      <th>10501</th>\n",
       "      <td>id:twitter.com:998781595</td>\n",
       "      <td>2016-10-09 21:34:25</td>\n",
       "      <td>None</td>\n",
       "      <td>None</td>\n",
       "    </tr>\n",
       "    <tr>\n",
       "      <th>10502</th>\n",
       "      <td>id:twitter.com:998781595</td>\n",
       "      <td>2016-10-09 21:34:14</td>\n",
       "      <td>None</td>\n",
       "      <td>None</td>\n",
       "    </tr>\n",
       "    <tr>\n",
       "      <th>10503</th>\n",
       "      <td>id:twitter.com:999907196</td>\n",
       "      <td>2016-10-09 21:30:20</td>\n",
       "      <td>None</td>\n",
       "      <td>None</td>\n",
       "    </tr>\n",
       "  </tbody>\n",
       "</table>\n",
       "<p>10504 rows × 4 columns</p>\n",
       "</div>"
      ],
      "text/plain": [
       "                          author     publicationTime bodyText locations\n",
       "0      id:twitter.com:1000640708 2016-10-09 21:38:56     None      None\n",
       "1      id:twitter.com:1000881960 2016-10-09 21:38:06     None      None\n",
       "2      id:twitter.com:1001005442 2016-10-09 21:36:09     None      None\n",
       "3      id:twitter.com:1002878328 2016-10-09 21:37:29     None      None\n",
       "4      id:twitter.com:1004220360 2016-10-09 21:30:33     None      None\n",
       "5      id:twitter.com:1004332231 2016-10-09 21:31:36     None      None\n",
       "6      id:twitter.com:1004332231 2016-10-09 21:31:04     None      None\n",
       "7      id:twitter.com:1004332231 2016-10-09 21:31:01     None      None\n",
       "8      id:twitter.com:1004332231 2016-10-09 21:31:14     None      None\n",
       "9      id:twitter.com:1004332231 2016-10-09 21:31:45     None      None\n",
       "10     id:twitter.com:1004332231 2016-10-09 21:30:59     None      None\n",
       "11      id:twitter.com:100764658 2016-10-09 21:31:29     None      None\n",
       "12     id:twitter.com:1008600494 2016-10-09 21:35:52     None      None\n",
       "13     id:twitter.com:1008782282 2016-10-09 21:35:41     None      None\n",
       "14      id:twitter.com:100910028 2016-10-09 21:39:44     None      None\n",
       "15      id:twitter.com:100910161 2016-10-09 21:32:48     None      None\n",
       "16      id:twitter.com:100989953 2016-10-09 21:30:07     None      None\n",
       "17      id:twitter.com:101188435 2016-10-09 21:39:49     None      None\n",
       "18     id:twitter.com:1013236308 2016-10-09 21:30:34     None      None\n",
       "19     id:twitter.com:1013268800 2016-10-09 21:36:15     None      None\n",
       "20     id:twitter.com:1013268800 2016-10-09 21:30:35     None      None\n",
       "21     id:twitter.com:1013268800 2016-10-09 21:36:17     None      None\n",
       "22     id:twitter.com:1013268800 2016-10-09 21:39:35     None      None\n",
       "23     id:twitter.com:1013268800 2016-10-09 21:35:39     None      None\n",
       "24     id:twitter.com:1013268800 2016-10-09 21:34:10     None      None\n",
       "25     id:twitter.com:1013268800 2016-10-09 21:36:08     None      None\n",
       "26     id:twitter.com:1013268800 2016-10-09 21:30:30     None      None\n",
       "27      id:twitter.com:101437976 2016-10-09 21:30:19     None      None\n",
       "28     id:twitter.com:1015165668 2016-10-09 21:32:53     None      None\n",
       "29     id:twitter.com:1015170002 2016-10-09 21:38:10     None      None\n",
       "...                          ...                 ...      ...       ...\n",
       "10474   id:twitter.com:987144044 2016-10-09 21:31:29     None      None\n",
       "10475   id:twitter.com:988407564 2016-10-09 21:35:14     None      None\n",
       "10476   id:twitter.com:989906090 2016-10-09 21:35:04     None      None\n",
       "10477   id:twitter.com:989906090 2016-10-09 21:34:13     None      None\n",
       "10478   id:twitter.com:990543296 2016-10-09 21:30:04     None      None\n",
       "10479    id:twitter.com:99233470 2016-10-09 21:35:04     None      None\n",
       "10480   id:twitter.com:992569789 2016-10-09 21:35:04     None      None\n",
       "10481   id:twitter.com:992693670 2016-10-09 21:34:41     None      None\n",
       "10482    id:twitter.com:99301351 2016-10-09 21:34:19     None      None\n",
       "10483   id:twitter.com:993642108 2016-10-09 21:32:03     None      None\n",
       "10484   id:twitter.com:994293373 2016-10-09 21:38:51     None      None\n",
       "10485   id:twitter.com:994293373 2016-10-09 21:38:51     None      None\n",
       "10486   id:twitter.com:994443397 2016-10-09 21:31:03     None      None\n",
       "10487   id:twitter.com:994526281 2016-10-09 21:36:26     None      None\n",
       "10488    id:twitter.com:99455091 2016-10-09 21:31:13     None      None\n",
       "10489   id:twitter.com:994649556 2016-10-09 21:30:21     None      None\n",
       "10490   id:twitter.com:996091424 2016-10-09 21:33:19     None      None\n",
       "10491   id:twitter.com:996150776 2016-10-09 21:30:31     None      None\n",
       "10492    id:twitter.com:99632312 2016-10-09 21:32:43     None      None\n",
       "10493   id:twitter.com:996370740 2016-10-09 21:35:04     None      None\n",
       "10494   id:twitter.com:996370740 2016-10-09 21:33:57     None      None\n",
       "10495   id:twitter.com:996370740 2016-10-09 21:36:38     None      None\n",
       "10496    id:twitter.com:99638046 2016-10-09 21:32:27     None      None\n",
       "10497    id:twitter.com:99672815 2016-10-09 21:32:19     None      None\n",
       "10498    id:twitter.com:99866105 2016-10-09 21:35:16     None      None\n",
       "10499    id:twitter.com:99866105 2016-10-09 21:35:11     None      None\n",
       "10500    id:twitter.com:99877511 2016-10-09 21:38:43     None      None\n",
       "10501   id:twitter.com:998781595 2016-10-09 21:34:25     None      None\n",
       "10502   id:twitter.com:998781595 2016-10-09 21:34:14     None      None\n",
       "10503   id:twitter.com:999907196 2016-10-09 21:30:20     None      None\n",
       "\n",
       "[10504 rows x 4 columns]"
      ]
     },
     "metadata": {},
     "output_type": "display_data"
    }
   ],
   "source": [
    "lol = sql.read.load(format = \"au.com.d2dcrc.carbon.spark.tweets\", startTime = \"2016-10-09T11:00:00Z\", endTime = \"2016-10-09T11:10:00Z\")\n",
    "lol.printSchema()\n",
    "\n",
    "\n",
    "displaytweets = lol.select( \"author\", \"publicationTime\", \"bodyText\", \"locations\").orderBy(\"author\")\n",
    "pd.set_option('display.max_colwidth', 500)\n",
    "display.display(displaytweets.toPandas())"
   ]
  },
  {
   "cell_type": "code",
   "execution_count": 16,
   "metadata": {
    "collapsed": true
   },
   "outputs": [],
   "source": [
    "def get_tweets(df):\n",
    "    #return rows from dadtframe\n",
    "    return df.map(lambda row: row.data)"
   ]
  },
  {
   "cell_type": "code",
   "execution_count": 17,
   "metadata": {
    "collapsed": true
   },
   "outputs": [],
   "source": [
    "def get_jason(data):\n",
    "    #returns a pyspark.rdd.PipelinedRDD of jason data\n",
    "    return data.map(lambda data: json.loads(data))\n"
   ]
  },
  {
   "cell_type": "code",
   "execution_count": 18,
   "metadata": {
    "collapsed": true
   },
   "outputs": [],
   "source": [
    "\n",
    "def get_tweet_body(data):\n",
    "    #returns a pyspark.rdd.PipelinedRDD of tweet bodies\n",
    "    tweet_bodies = data.map(lambda tweet_as_json: tweet_as_json.get('body'))\n",
    "    return tweet_bodies "
   ]
  },
  {
   "cell_type": "code",
   "execution_count": 19,
   "metadata": {
    "collapsed": true
   },
   "outputs": [],
   "source": [
    "#This function obtains geo tag details from json tweets\n",
    "#input: json data\n",
    "#output: returns a pyspark.rdd.PipelinedRDD of tweet bodies\n",
    "def get_tweet_geo(data):\n",
    "    tweet_geo = data.map(lambda tweet_as_json: tweet_as_json.get('geo',\"none\"))\n",
    "    return tweet_geo"
   ]
  },
  {
   "cell_type": "code",
   "execution_count": 20,
   "metadata": {
    "collapsed": true
   },
   "outputs": [],
   "source": [
    "def get_tweet_BodyLocation(data):\n",
    "    bodys_with_location = data.filter(lambda line: 'location' in line).map(lambda line: (line.get('location', \"none\"),line.get('body',\"none\")))\n",
    "    return bodys_with_location"
   ]
  },
  {
   "cell_type": "code",
   "execution_count": 21,
   "metadata": {
    "collapsed": true
   },
   "outputs": [],
   "source": [
    "def get_hashtags(jdata):\n",
    "    hash_tags = jdata.flatMap(lambda line: line.split(\" \")).filter(lambda word: word.startswith('#'))\n",
    "    return hash_tags "
   ]
  },
  {
   "cell_type": "code",
   "execution_count": 22,
   "metadata": {
    "collapsed": true
   },
   "outputs": [],
   "source": [
    "def hashtag_counter(htags):\n",
    "    hashtag_counts = htags.map(lambda hashtag: (hashtag, 1)).reduceByKey(lambda a, b: a + b)\n",
    "    return hashtag_counts"
   ]
  },
  {
   "cell_type": "code",
   "execution_count": 23,
   "metadata": {
    "collapsed": true
   },
   "outputs": [],
   "source": [
    "#this fuction returns a given number of common hashtags\n",
    "#inputs: list of hashtags or hashtag counter dictionary\n",
    "#output: list of common hashtags \n",
    "def common_hashtags(htags,n):\n",
    "    return Counter(dict(htags)).most_common(n)"
   ]
  },
  {
   "cell_type": "code",
   "execution_count": 24,
   "metadata": {
    "collapsed": true
   },
   "outputs": [],
   "source": [
    "#this fuction takes a dictionary and plots key value pairs\n",
    "def plot_bargraph(d):\n",
    "    %matplotlib inline\n",
    "    plt.bar(range(len(d)), d.values(), align=\"center\")\n",
    "    plt.xticks(range(len(d)), list(d.keys()),rotation='vertical')\n",
    "    plt.show()"
   ]
  },
  {
   "cell_type": "code",
   "execution_count": 25,
   "metadata": {
    "collapsed": false
   },
   "outputs": [],
   "source": [
    "#df = get_data() #get twitter data for a given number of minutes\n",
    "\n",
    "df = lol\n",
    "test =get_tweets(df)\n",
    "test= get_jason(test)\n",
    "test=get_tweet_body(test)\n",
    "hashTags = get_hashtags(test)\n",
    "hashtag_counts = hashtag_counter(hashTags)"
   ]
  },
  {
   "cell_type": "code",
   "execution_count": 26,
   "metadata": {
    "collapsed": false
   },
   "outputs": [],
   "source": [
    "hashtag_count_list = hashtag_counts.take(500)"
   ]
  },
  {
   "cell_type": "code",
   "execution_count": 27,
   "metadata": {
    "collapsed": false
   },
   "outputs": [
    {
     "name": "stdout",
     "output_type": "stream",
     "text": [
      "[('#auspol', 98), ('#LIVE', 17), ('#dancehall', 16), ('#GOT7', 16), ('#afrotrap', 16), ('#SEVENTEEN', 16), ('#xfactorau', 15), ('#election2016', 13), ('#HousefulLionHeart', 9), ('#Kurds,', 9), ('#우현', 8), ('#Trump', 8), ('#tcot', 7), ('#wonwoo', 7), ('#EU', 6), ('#latest', 6), ('#Saudi', 6), ('#survivorau', 6), ('#VIDEO', 6), ('#startup', 6), ('#MoreElectableThanT…', 6), ('#UVIndex', 5), ('#Poland', 5), ('#amwriting', 5), ('#마크', 5), ('#terror', 5), ('#Leeds', 5), ('#No2Rouhani', 5), ('#Trump2016', 4), ('#LootT…', 4)]\n"
     ]
    }
   ],
   "source": [
    "#Ten common hashtags \n",
    "common_10 = common_hashtags(hashtag_count_list,30) \n",
    "print(common_10)"
   ]
  },
  {
   "cell_type": "code",
   "execution_count": 28,
   "metadata": {
    "collapsed": false
   },
   "outputs": [
    {
     "data": {
      "image/png": "[encoded data removed]",
      "text/plain": [
       "<matplotlib.figure.Figure at 0x7f224c04bcc0>"
      ]
     },
     "metadata": {},
     "output_type": "display_data"
    }
   ],
   "source": [
    "plot_bargraph(dict(common_10))"
   ]
  },
  {
   "cell_type": "markdown",
   "metadata": {},
   "source": [
    "# Futher Analysis:"
   ]
  },
  {
   "cell_type": "markdown",
   "metadata": {},
   "source": [
    "# Hashtags and Locations\n"
   ]
  },
  {
   "cell_type": "code",
   "execution_count": 29,
   "metadata": {
    "collapsed": true
   },
   "outputs": [],
   "source": [
    "#This function will extract the text of hashtag from gnip hashtag dictionary\n",
    "#input: gnip hashtag dictionaries\n",
    "#output: list of hashtag text\n",
    "def extract_hashtag(hashtag_list):\n",
    "    hashtags = list()\n",
    "    \n",
    "    for hashtag in hashtag_list:\n",
    "        text = hashtag.get('text').lower()\n",
    "        if text is not None:\n",
    "            hashtags.append(text)\n",
    "        \n",
    "    return hashtags\n",
    "\n",
    "#This function extracts the location and hashtag details for each tweet\n",
    "#input: dataframe loaded from the server\n",
    "#output: retuns a rdd containing location and hashtags for each location\n",
    "def get_twitter_details(df):\n",
    "    tweetTest = df.map(lambda row: row.data).map(lambda data: json.loads(data)).filter(lambda line: 'location' in line)\\\n",
    "    .map(lambda line: (line['location']['name'],line['twitter_entities']['hashtags']))\\\n",
    "    .map(lambda line_tuple: (line_tuple[0], extract_hashtag(line_tuple[1])))\n",
    "    return tweetTest\n",
    "#['country_code']"
   ]
  },
  {
   "cell_type": "code",
   "execution_count": 30,
   "metadata": {
    "collapsed": true
   },
   "outputs": [],
   "source": [
    "# creates a dataframe from extracted twitter details (location and hashtag)\n",
    "#input: rdd with list of hashtags for each location  \n",
    "#output: returns a spark dataframe for each hashtag with location\n",
    "def create_sparkDF(rdd):\n",
    "    sparkDF = sqlContext.createDataFrame(rdd,['location','hashtags'])\n",
    "    sparkDF = sparkDF.select('location',explode(sparkDF.hashtags).alias(\"aHash\"))\n",
    "    return sparkDF"
   ]
  },
  {
   "cell_type": "code",
   "execution_count": 31,
   "metadata": {
    "collapsed": true
   },
   "outputs": [],
   "source": [
    "def top_10_hashes(loc,dataframe):\n",
    "    dataframe.registerTempTable(\"hashtagTable\")\n",
    "    top10_for_location = sqlContext.sql(\"SELECT aHash as hashtag, count FROM \\\n",
    "                            (SELECT location, aHash,count(*) as count \\\n",
    "                            FROM hashtagTable GROUP BY location,aHash ORDER BY count DESC) as t \\\n",
    "                            WHERE t.location='\"+loc+\"' LIMIT 10\")\n",
    "    return top10_for_location"
   ]
  },
  {
   "cell_type": "code",
   "execution_count": 32,
   "metadata": {
    "collapsed": true
   },
   "outputs": [],
   "source": [
    "def top10_hashtags(sparkdf):\n",
    "    sparkdf.registerTempTable(\"eventTable\")\n",
    "    #sqlContext.sql(\"SELECT location, anHash AS 'Hash',COUNT(*) FROM eventTable GROUP BY location\").show()\n",
    "    top10DF = sqlContext.sql(\"SELECT location, aHash,count(*) as count FROM eventTable GROUP BY location,aHash ORDER BY count DESC LIMIT 10\")\n",
    "    return top10DF"
   ]
  },
  {
   "cell_type": "code",
   "execution_count": 35,
   "metadata": {
    "collapsed": true
   },
   "outputs": [],
   "source": [
    "#input: Number of hours tweetes are considered. \n",
    "#Will be considering tweets before n number of hours from current time\n",
    "def hashtag_main(lol):\n",
    "    df = lol\n",
    "    rddData = get_twitter_details(df)\n",
    "    spDF = create_sparkDF(rddData)\n",
    "    top10_spDF=top10_hashtags(spDF)\n",
    "    top10_spDF.show()\n",
    "#    \n",
    "  #df = lol\n",
    "#test =get_tweets(df)\n",
    "#test= get_jason(test)\n",
    "#test=get_tweet_body(test)\n",
    "#hashTags = get_hashtags(test)\n",
    "#hashtag_counts = hashtag_counter(hashTags)\n"
   ]
  },
  {
   "cell_type": "code",
   "execution_count": 36,
   "metadata": {
    "collapsed": false
   },
   "outputs": [
    {
     "name": "stdout",
     "output_type": "stream",
     "text": [
      "+----------+--------------------+-----+\n",
      "|  location|               aHash|count|\n",
      "+----------+--------------------+-----+\n",
      "|  Adelaide|ariastwentyonepilots|    6|\n",
      "| Traralgon|       themjcastep41|    5|\n",
      "|  Brisbane|              quotes|    3|\n",
      "|  Brisbane|          positivity|    3|\n",
      "|  Brisbane|thinkbigsundaywit...|    3|\n",
      "|  Brisbane|       inspirational|    3|\n",
      "|    Sydney|              sydney|    3|\n",
      "|    Sydney|             twitter|    2|\n",
      "|Gold Coast|              auspol|    2|\n",
      "|    Sydney|           cubevenue|    2|\n",
      "+----------+--------------------+-----+\n",
      "\n"
     ]
    }
   ],
   "source": [
    "hashtag_main(lol) #number of hashtags and location for the specified period of time"
   ]
  },
  {
   "cell_type": "code",
   "execution_count": 68,
   "metadata": {
    "collapsed": true
   },
   "outputs": [],
   "source": [
    "def top10_perlocation(lol,city):\n",
    "    df = lol #load twitter data\n",
    "    #hash_rdd = get_twitter_hash_location(df)\n",
    "    hash_rdd = get_twitter_details(df)\n",
    "    sparkdf = create_sparkDF(hash_rdd)\n",
    "    top10_spark = top_10_hashes(city,sparkdf)\n",
    "    top10_Panda = top10_spark.toPandas()\n",
    "    %matplotlib inline\n",
    "    top10_Panda.plot(x=\"hashtag\",kind='barh',color='green',title='Top 10 hashtags for '+city+' for the time period',legend=False)\n",
    "    plt.xlabel(\"count\")\n",
    "    plt.ylabel(\"HashTag#\")"
   ]
  },
  {
   "cell_type": "code",
   "execution_count": 69,
   "metadata": {
    "collapsed": false
   },
   "outputs": [
    {
     "data": {
      "image/png": "[encoded data removed]",
      "text/plain": [
       "<matplotlib.figure.Figure at 0x7f22137186a0>"
      ]
     },
     "metadata": {},
     "output_type": "display_data"
    }
   ],
   "source": [
    "top10_perlocation(lol,'Sydney') # top 10 hashtags in Sydney for the past "
   ]
  },
  {
   "cell_type": "code",
   "execution_count": 70,
   "metadata": {
    "collapsed": false
   },
   "outputs": [
    {
     "data": {
      "image/png": "[encoded data removed]",
      "text/plain": [
       "<matplotlib.figure.Figure at 0x7f2213736048>"
      ]
     },
     "metadata": {},
     "output_type": "display_data"
    }
   ],
   "source": [
    "top10_perlocation(lol,'Adelaide') # top 10 hashtags in Adelaide for the past "
   ]
  },
  {
   "cell_type": "code",
   "execution_count": 71,
   "metadata": {
    "collapsed": false
   },
   "outputs": [
    {
     "data": {
      "image/png": "[encoded data removed]",
      "text/plain": [
       "<matplotlib.figure.Figure at 0x7f2213700550>"
      ]
     },
     "metadata": {},
     "output_type": "display_data"
    }
   ],
   "source": [
    "top10_perlocation(lol,'Melbourne') # top 10 hashtags in Melbourne "
   ]
  }
 ],
 "metadata": {
  "kernelspec": {
   "display_name": "PySpark",
   "language": "python",
   "name": "pyspark"
  },
  "language_info": {
   "codemirror_mode": {
    "name": "ipython",
    "version": 3
   },
   "file_extension": ".py",
   "mimetype": "text/x-python",
   "name": "python",
   "nbconvert_exporter": "python",
   "pygments_lexer": "ipython3",
   "version": "3.5.2"
  }
 },
 "nbformat": 4,
 "nbformat_minor": 1
}
