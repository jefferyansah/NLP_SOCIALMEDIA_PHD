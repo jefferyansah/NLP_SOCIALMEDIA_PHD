{
 "cells": [
  {
   "cell_type": "code",
   "execution_count": 95,
   "metadata": {
    "collapsed": false
   },
   "outputs": [
    {
     "data": {
      "text/plain": [
       "(4, 2)"
      ]
     },
     "execution_count": 95,
     "metadata": {},
     "output_type": "execute_result"
    }
   ],
   "source": [
    "import numpy as np\n",
    "\n",
    "#first create a one-d numpy array\n",
    "\n",
    "firstNames = ([ 'jeff', 'james', 'johnson', 'robert'])\n",
    "lastNames = (['Ansah', 'Nwi-tanoe', 'sirelaf-ellem', 'nii-addo'])\n",
    "names = np.column_stack((firstName,lastNames))\n",
    "names.shape\n",
    "\n",
    "\n",
    "\n",
    "\n"
   ]
  },
  {
   "cell_type": "code",
   "execution_count": 57,
   "metadata": {
    "collapsed": false
   },
   "outputs": [
    {
     "data": {
      "text/plain": [
       "array([['jeff', 'james'],\n",
       "       ['Ansah', 'Nwi-tanoe']], \n",
       "      dtype='<U13')"
      ]
     },
     "execution_count": 57,
     "metadata": {},
     "output_type": "execute_result"
    }
   ],
   "source": [
    "names[0]\n",
    "names[1]\n",
    "names[1, 3]\n",
    "names[:, 1]   # this prints out james tanoe\n",
    "names[:, 3]\n",
    "names[:, 0:2]\n"
   ]
  },
  {
   "cell_type": "code",
   "execution_count": 84,
   "metadata": {
    "collapsed": false
   },
   "outputs": [
    {
     "data": {
      "text/plain": [
       "(7, 2)"
      ]
     },
     "execution_count": 84,
     "metadata": {},
     "output_type": "execute_result"
    }
   ],
   "source": [
    "players= ([67, 56], [67, 46], [65, 66], [44, 89], [78, 79] , [70, 77], [76, 79])\n",
    "np_players = np.array(players)\n",
    "np_players.shape\n"
   ]
  },
  {
   "cell_type": "code",
   "execution_count": 85,
   "metadata": {
    "collapsed": false
   },
   "outputs": [
    {
     "data": {
      "text/plain": [
       "array([[67, 56],\n",
       "       [67, 46],\n",
       "       [65, 66],\n",
       "       [44, 89],\n",
       "       [78, 79],\n",
       "       [70, 77],\n",
       "       [76, 79]])"
      ]
     },
     "execution_count": 85,
     "metadata": {},
     "output_type": "execute_result"
    }
   ],
   "source": [
    "np_players"
   ]
  },
  {
   "cell_type": "code",
   "execution_count": 86,
   "metadata": {
    "collapsed": false
   },
   "outputs": [
    {
     "data": {
      "text/plain": [
       "array([44, 89])"
      ]
     },
     "execution_count": 86,
     "metadata": {},
     "output_type": "execute_result"
    }
   ],
   "source": [
    "np_players[3, :]"
   ]
  },
  {
   "cell_type": "code",
   "execution_count": 87,
   "metadata": {
    "collapsed": false
   },
   "outputs": [
    {
     "data": {
      "text/plain": [
       "array([[134, 112],\n",
       "       [134,  92],\n",
       "       [130, 132],\n",
       "       [ 88, 178],\n",
       "       [156, 158],\n",
       "       [140, 154],\n",
       "       [152, 158]])"
      ]
     },
     "execution_count": 87,
     "metadata": {},
     "output_type": "execute_result"
    }
   ],
   "source": [
    "np_players * 2"
   ]
  },
  {
   "cell_type": "code",
   "execution_count": 89,
   "metadata": {
    "collapsed": false
   },
   "outputs": [
    {
     "data": {
      "text/plain": [
       "array([[67, 56],\n",
       "       [67, 46],\n",
       "       [65, 66],\n",
       "       [44, 89],\n",
       "       [78, 79],\n",
       "       [70, 77],\n",
       "       [76, 79]])"
      ]
     },
     "execution_count": 89,
     "metadata": {},
     "output_type": "execute_result"
    }
   ],
   "source": [
    "# performing operations on arrays: This code multiple the first coloum of the array by 0 and the colun\n",
    "\n",
    "np_players + np.array([3,20])\n",
    "np_players.shape\n",
    "np_players"
   ]
  },
  {
   "cell_type": "code",
   "execution_count": 90,
   "metadata": {
    "collapsed": false
   },
   "outputs": [
    {
     "data": {
      "text/plain": [
       "array([[ 67,  56,  56],\n",
       "       [ 67,  46, 213],\n",
       "       [ 65,  66,  54],\n",
       "       [ 44,  89,  21],\n",
       "       [ 78,  79, 132],\n",
       "       [ 70,  77, 232],\n",
       "       [ 76,  79, 231]])"
      ]
     },
     "execution_count": 90,
     "metadata": {},
     "output_type": "execute_result"
    }
   ],
   "source": [
    "tryplayers= ([67, 56, 56], [67, 46,213], [65, 66,54], [44, 89,21], [78, 79,132] , [70, 77,232], [76, 79,231])\n",
    "lnp_players = np.array(tryplayers)\n",
    "lnp_players.shape\n",
    "lnp_players\n",
    "\n"
   ]
  },
  {
   "cell_type": "code",
   "execution_count": 92,
   "metadata": {
    "collapsed": false
   },
   "outputs": [
    {
     "data": {
      "text/plain": [
       "array([[ 67,  56,  57],\n",
       "       [ 67,  46, 214],\n",
       "       [ 65,  66,  55],\n",
       "       [ 44,  89,  22],\n",
       "       [ 78,  79, 133],\n",
       "       [ 70,  77, 233],\n",
       "       [ 76,  79, 232]])"
      ]
     },
     "execution_count": 92,
     "metadata": {},
     "output_type": "execute_result"
    }
   ],
   "source": [
    "lnp_players + np.array([0, 0, 1])"
   ]
  },
  {
   "cell_type": "code",
   "execution_count": 93,
   "metadata": {
    "collapsed": false
   },
   "outputs": [
    {
     "ename": "ValueError",
     "evalue": "operands could not be broadcast together with shapes (7,3) (7,2) ",
     "output_type": "error",
     "traceback": [
      "\u001b[0;31m---------------------------------------------------------------------------\u001b[0m",
      "\u001b[0;31mValueError\u001b[0m                                Traceback (most recent call last)",
      "\u001b[0;32m<ipython-input-93-86263d480d1a>\u001b[0m in \u001b[0;36m<module>\u001b[0;34m()\u001b[0m\n\u001b[0;32m----> 1\u001b[0;31m \u001b[0mtryplayers\u001b[0m \u001b[1;33m+\u001b[0m \u001b[0mnp_players\u001b[0m\u001b[1;33m\u001b[0m\u001b[0m\n\u001b[0m",
      "\u001b[0;31mValueError\u001b[0m: operands could not be broadcast together with shapes (7,3) (7,2) "
     ]
    }
   ],
   "source": [
    "tryplayers + np_players"
   ]
  }
 ],
 "metadata": {
  "anaconda-cloud": {},
  "kernelspec": {
   "display_name": "Python [conda root]",
   "language": "python",
   "name": "conda-root-py"
  },
  "language_info": {
   "codemirror_mode": {
    "name": "ipython",
    "version": 3
   },
   "file_extension": ".py",
   "mimetype": "text/x-python",
   "name": "python",
   "nbconvert_exporter": "python",
   "pygments_lexer": "ipython3",
   "version": "3.5.2"
  }
 },
 "nbformat": 4,
 "nbformat_minor": 1
}
