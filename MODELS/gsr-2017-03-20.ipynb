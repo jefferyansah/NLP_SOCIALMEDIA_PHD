{
 "cells": [
  {
   "cell_type": "markdown",
   "metadata": {},
   "source": [
    "Use of the `au.com.d2dcrc.carbon.spark.gsr` datasource without a `version` parameter is deprecated. \n",
    "Please specify one of\n",
    "\n",
    "   * `\"1.0\"` - Old behaviour. This should be avoided as any potential mismatched records are not included\n",
    "     in the dataset. That is, if any events that are encoded multiple times but with differing values in\n",
    "     fields, for example if multiple population groups legitimately participated in the event, then they\n",
    "     are not included in the dataset.\n",
    "\n",
    "   * `\"1.1\"` - Same as 2.0, but with missing columns present in 1.0 populated using some row of the\n",
    "     'records' array column. This is purely to maintain API compatibility but should be avoided\n",
    "     as you are not getting the full picture. (Eg. if an event had multiple population groups)\n",
    "\n",
    "   * `\"2.0\"` - New behaviour. multiple encodings of the same events are grouped by `\"firstReportedLink\"`\n",
    "     and `\"eventDate\"`\n",
    "\n",
    "   * `\"latest\"` - an alias for the latest version\n",
    "   \n",
    "Default is `version=\"1.1\"`"
   ]
  },
  {
   "cell_type": "code",
   "execution_count": 1,
   "metadata": {
    "collapsed": false
   },
   "outputs": [
    {
     "name": "stdout",
     "output_type": "stream",
     "text": [
      "root\n",
      " |-- firstReportedLink: string (nullable = true)\n",
      " |-- key:eventDate: date (nullable = true)\n",
      " |-- records: array (nullable = true)\n",
      " |    |-- element: struct (containsNull = false)\n",
      " |    |    |-- id: long (nullable = false)\n",
      " |    |    |-- authorId: integer (nullable = true)\n",
      " |    |    |-- timestamp: timestamp (nullable = true)\n",
      " |    |    |-- timestampRevision: timestamp (nullable = true)\n",
      " |    |    |-- widespreadEventId: long (nullable = true)\n",
      " |    |    |-- eventType: string (nullable = true)\n",
      " |    |    |-- populationGroup: string (nullable = true)\n",
      " |    |    |-- country: string (nullable = true)\n",
      " |    |    |-- state: string (nullable = true)\n",
      " |    |    |-- city: string (nullable = true)\n",
      " |    |    |-- earliestReportedDate: date (nullable = true)\n",
      " |    |    |-- crowdSize: string (nullable = true)\n",
      " |    |    |-- violent: boolean (nullable = true)\n",
      " |    |    |-- newsSourceName: string (nullable = true)\n",
      " |    |    |-- headline: string (nullable = true)\n",
      " |    |    |-- englishHeadline: string (nullable = true)\n",
      " |    |    |-- eventDescription: string (nullable = true)\n",
      " |    |    |-- otherLinks: string (nullable = true)\n",
      " |    |    |-- comment: string (nullable = true)\n",
      " |    |    |-- ingested: boolean (nullable = true)\n",
      " |    |    |-- currentValidationState: string (nullable = false)\n",
      " |    |    |-- validatedBy: integer (nullable = true)\n",
      " |    |    |-- currentCleanState: string (nullable = false)\n",
      " |-- key:id: long (nullable = true)\n",
      " |-- authorId: long (nullable = true)\n",
      " |-- timestamp: timestamp (nullable = true)\n",
      " |-- timestampRevision: timestamp (nullable = true)\n",
      " |-- widespreadEventId: long (nullable = true)\n",
      " |-- eventType: string (nullable = true)\n",
      " |-- populationGroup: string (nullable = true)\n",
      " |-- country: string (nullable = true)\n",
      " |-- state: string (nullable = true)\n",
      " |-- city: string (nullable = true)\n",
      " |-- earliestReportedDate: date (nullable = true)\n",
      " |-- crowdSize: string (nullable = true)\n",
      " |-- isViolent: boolean (nullable = true)\n",
      " |-- newsSourceName: string (nullable = true)\n",
      " |-- headline: string (nullable = true)\n",
      " |-- englishHeadline: string (nullable = true)\n",
      " |-- eventDescription: string (nullable = true)\n",
      " |-- otherLinks: string (nullable = true)\n",
      " |-- comment: string (nullable = true)\n",
      " |-- ingested: boolean (nullable = true)\n",
      " |-- currentValidationState: string (nullable = true)\n",
      " |-- validatedBy: integer (nullable = true)\n",
      " |-- currentCleanState: string (nullable = true)\n",
      " |-- reportedCount: long (nullable = true)\n",
      "\n"
     ]
    }
   ],
   "source": [
    "dfDefault = sqlContext.read.format(\"au.com.d2dcrc.carbon.spark.gsr\").options(\n",
    "#   version=\"1.1\", # the default, can explicitly specify this version \n",
    "    startTime=\"2016-07-01T00:00:00Z\", \n",
    "    endTime=\"2016-08-01T00:00:00Z\"\n",
    ").load()\n",
    "dfDefault.printSchema()"
   ]
  },
  {
   "cell_type": "code",
   "execution_count": 2,
   "metadata": {
    "collapsed": false
   },
   "outputs": [
    {
     "name": "stdout",
     "output_type": "stream",
     "text": [
      "root\n",
      " |-- key:id: long (nullable = true)\n",
      " |-- authorId: long (nullable = true)\n",
      " |-- timestamp: timestamp (nullable = true)\n",
      " |-- timestampRevision: timestamp (nullable = true)\n",
      " |-- widespreadEventId: long (nullable = true)\n",
      " |-- eventType: string (nullable = true)\n",
      " |-- populationGroup: string (nullable = true)\n",
      " |-- country: string (nullable = true)\n",
      " |-- state: string (nullable = true)\n",
      " |-- city: string (nullable = true)\n",
      " |-- key:eventDate: date (nullable = true)\n",
      " |-- earliestReportedDate: date (nullable = true)\n",
      " |-- crowdSize: string (nullable = true)\n",
      " |-- isViolent: boolean (nullable = true)\n",
      " |-- newsSourceName: string (nullable = true)\n",
      " |-- headline: string (nullable = true)\n",
      " |-- englishHeadline: string (nullable = true)\n",
      " |-- eventDescription: string (nullable = true)\n",
      " |-- firstReportedLink: string (nullable = true)\n",
      " |-- otherLinks: string (nullable = true)\n",
      " |-- comment: string (nullable = true)\n",
      " |-- ingested: boolean (nullable = true)\n",
      " |-- currentValidationState: string (nullable = true)\n",
      " |-- validatedBy: integer (nullable = true)\n",
      " |-- currentCleanState: string (nullable = true)\n",
      " |-- reportedCount: long (nullable = true)\n",
      "\n"
     ]
    }
   ],
   "source": [
    "dfOld = sqlContext.read.format(\"au.com.d2dcrc.carbon.spark.gsr\").options(\n",
    "    version=\"1.0\",\n",
    "    startTime=\"2016-07-01T00:00:00Z\", \n",
    "    endTime=\"2016-08-01T00:00:00Z\"\n",
    ").load()\n",
    "dfOld.printSchema()"
   ]
  },
  {
   "cell_type": "code",
   "execution_count": 3,
   "metadata": {
    "collapsed": false
   },
   "outputs": [
    {
     "name": "stdout",
     "output_type": "stream",
     "text": [
      "root\n",
      " |-- firstReportedLink: string (nullable = true)\n",
      " |-- eventDate: date (nullable = true)\n",
      " |-- records: array (nullable = true)\n",
      " |    |-- element: struct (containsNull = false)\n",
      " |    |    |-- id: long (nullable = false)\n",
      " |    |    |-- authorId: integer (nullable = true)\n",
      " |    |    |-- timestamp: timestamp (nullable = true)\n",
      " |    |    |-- timestampRevision: timestamp (nullable = true)\n",
      " |    |    |-- widespreadEventId: long (nullable = true)\n",
      " |    |    |-- eventType: string (nullable = true)\n",
      " |    |    |-- populationGroup: string (nullable = true)\n",
      " |    |    |-- country: string (nullable = true)\n",
      " |    |    |-- state: string (nullable = true)\n",
      " |    |    |-- city: string (nullable = true)\n",
      " |    |    |-- earliestReportedDate: date (nullable = true)\n",
      " |    |    |-- crowdSize: string (nullable = true)\n",
      " |    |    |-- violent: boolean (nullable = true)\n",
      " |    |    |-- newsSourceName: string (nullable = true)\n",
      " |    |    |-- headline: string (nullable = true)\n",
      " |    |    |-- englishHeadline: string (nullable = true)\n",
      " |    |    |-- eventDescription: string (nullable = true)\n",
      " |    |    |-- otherLinks: string (nullable = true)\n",
      " |    |    |-- comment: string (nullable = true)\n",
      " |    |    |-- ingested: boolean (nullable = true)\n",
      " |    |    |-- currentValidationState: string (nullable = false)\n",
      " |    |    |-- validatedBy: integer (nullable = true)\n",
      " |    |    |-- currentCleanState: string (nullable = false)\n",
      "\n"
     ]
    }
   ],
   "source": [
    "dfNew = sqlContext.read.format(\"au.com.d2dcrc.carbon.spark.gsr\").options(\n",
    "    version=\"2.0\",\n",
    "    startTime=\"2016-07-01T00:00:00Z\", \n",
    "    endTime=\"2016-08-01T00:00:00Z\"\n",
    ").load()\n",
    "dfNew.printSchema()"
   ]
  },
  {
   "cell_type": "code",
   "execution_count": 4,
   "metadata": {
    "collapsed": false
   },
   "outputs": [
    {
     "name": "stdout",
     "output_type": "stream",
     "text": [
      "Total rows: 375\n"
     ]
    }
   ],
   "source": [
    "print(\"Total rows: {}\".format(dfNew.count()))"
   ]
  },
  {
   "cell_type": "code",
   "execution_count": 5,
   "metadata": {
    "collapsed": false
   },
   "outputs": [
    {
     "name": "stdout",
     "output_type": "stream",
     "text": [
      "Mismatched records: 75\n"
     ]
    }
   ],
   "source": [
    "dfMismatched = dfNew.filter(\"size(records) > 1\")\n",
    "print(\"Mismatched records: {}\".format(dfMismatched.count()))"
   ]
  },
  {
   "cell_type": "code",
   "execution_count": 6,
   "metadata": {
    "collapsed": true
   },
   "outputs": [],
   "source": [
    "from pyspark.sql.functions import *\n",
    "from pyspark.sql.types import *"
   ]
  },
  {
   "cell_type": "code",
   "execution_count": 7,
   "metadata": {
    "collapsed": false
   },
   "outputs": [],
   "source": [
    "def populationGroup(rows):\n",
    "    return [row[\"populationGroup\"] for row in rows]\n",
    "    \n",
    "populationGroupsUdf = udf(populationGroup, ArrayType(StringType()))\n",
    "    \n",
    "dfSelect = dfMismatched.select(\n",
    "    dfMismatched.eventDate,\n",
    "    populationGroupsUdf(dfMismatched.records).alias(\"populationGroups\")\n",
    ")\n",
    "    "
   ]
  },
  {
   "cell_type": "code",
   "execution_count": 8,
   "metadata": {
    "collapsed": false
   },
   "outputs": [
    {
     "name": "stdout",
     "output_type": "stream",
     "text": [
      "root\n",
      " |-- eventDate: date (nullable = true)\n",
      " |-- populationGroups: array (nullable = true)\n",
      " |    |-- element: string (containsNull = true)\n",
      "\n"
     ]
    }
   ],
   "source": [
    "dfSelect.printSchema()"
   ]
  },
  {
   "cell_type": "code",
   "execution_count": 9,
   "metadata": {
    "collapsed": false
   },
   "outputs": [
    {
     "name": "stdout",
     "output_type": "stream",
     "text": [
      "+----------+--------------------+\n",
      "| eventDate|    populationGroups|\n",
      "+----------+--------------------+\n",
      "|2016-07-12|[General, Religious]|\n",
      "|2016-07-05|[Religious, General]|\n",
      "|2016-07-05|  [General, General]|\n",
      "|2016-07-18|   [Ethnic, General]|\n",
      "+----------+--------------------+\n",
      "only showing top 4 rows\n",
      "\n"
     ]
    }
   ],
   "source": [
    "dfSelect.show(4)"
   ]
  },
  {
   "cell_type": "code",
   "execution_count": 10,
   "metadata": {
    "collapsed": false
   },
   "outputs": [],
   "source": [
    "dfExplode = dfSelect.select(\n",
    "    dfSelect.eventDate,\n",
    "    explode(dfSelect.populationGroups).alias(\"populationGroup\")\n",
    ")"
   ]
  },
  {
   "cell_type": "code",
   "execution_count": 11,
   "metadata": {
    "collapsed": false
   },
   "outputs": [
    {
     "name": "stdout",
     "output_type": "stream",
     "text": [
      "root\n",
      " |-- eventDate: date (nullable = true)\n",
      " |-- populationGroup: string (nullable = true)\n",
      "\n"
     ]
    }
   ],
   "source": [
    "dfExplode.printSchema()"
   ]
  },
  {
   "cell_type": "code",
   "execution_count": 12,
   "metadata": {
    "collapsed": false
   },
   "outputs": [
    {
     "name": "stdout",
     "output_type": "stream",
     "text": [
      "+----------+---------------+\n",
      "| eventDate|populationGroup|\n",
      "+----------+---------------+\n",
      "|2016-07-12|        General|\n",
      "|2016-07-12|      Religious|\n",
      "|2016-07-05|      Religious|\n",
      "|2016-07-05|        General|\n",
      "|2016-07-05|        General|\n",
      "|2016-07-05|        General|\n",
      "|2016-07-18|         Ethnic|\n",
      "|2016-07-18|        General|\n",
      "+----------+---------------+\n",
      "only showing top 8 rows\n",
      "\n"
     ]
    }
   ],
   "source": [
    "dfExplode.show(8)"
   ]
  },
  {
   "cell_type": "code",
   "execution_count": null,
   "metadata": {
    "collapsed": true
   },
   "outputs": [],
   "source": []
  }
 ],
 "metadata": {
  "kernelspec": {
   "display_name": "PySpark 1.6.3",
   "language": "python",
   "name": "pyspark-1.6.3"
  },
  "language_info": {
   "codemirror_mode": {
    "name": "ipython",
    "version": 3
   },
   "file_extension": ".py",
   "mimetype": "text/x-python",
   "name": "python",
   "nbconvert_exporter": "python",
   "pygments_lexer": "ipython3",
   "version": "3.5.3"
  }
 },
 "nbformat": 4,
 "nbformat_minor": 2
}
