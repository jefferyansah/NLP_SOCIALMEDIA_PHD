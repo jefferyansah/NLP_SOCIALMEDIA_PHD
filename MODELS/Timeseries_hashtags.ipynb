{
 "cells": [
  {
   "cell_type": "code",
   "execution_count": 1,
   "metadata": {
    "collapsed": false
   },
   "outputs": [],
   "source": [
    "from pyspark.sql import SQLContext\n",
    "from pyspark.sql.functions import *\n",
    "from collections import Counter\n",
    "import matplotlib.pyplot as plt\n",
    "import matplotlib.cm as cm\n",
    "import pandas as pd\n",
    "import numpy as np\n",
    "import datetime as dt\n",
    "import time\n",
    "import json\n",
    "from pyspark.sql import SQLContext\n",
    "import json\n",
    "from IPython import display\n",
    "from IPython.core.display import HTML\n",
    "import pandas\n",
    "import time \n",
    "import numpy as np\n",
    "import matplotlib.pyplot as plt \n",
    "from pyspark.sql.functions import split, explode, col\n",
    "\n",
    "sql = SQLContext(sc)"
   ]
  },
  {
   "cell_type": "markdown",
   "metadata": {},
   "source": [
    "#  KEEP SYDNEY OPEN: 8 OCTOBER 2016\n",
    "# Event Description:\n",
    "\n",
    "About 4,000 people have turned out in central Sydney to protest against the New South Wales Government's controversial lockout laws. Aussie rocker Jimmy Barnes threw his support behind the rally, releasing a video message in which he said the lockout laws were not working. The Cold Chisel frontman said he made a career playing in live venues in Sydney, but that attendance at live music venues had dropped 40 per cent since the lockout laws were introduced. The rally heard calls for the 1:30am lockout to be lifted, and for the 10:00pm takeaway cut-off to be reverted to midnight. \n",
    "\n",
    "The popular hashtags  for the event were : #keepsydneyopen #KeepSydneyOpen #Nolockouts #nightlivesmatter #keepsydneyopenrally #keepsydneylate"
   ]
  },
  {
   "cell_type": "markdown",
   "metadata": {
    "collapsed": true
   },
   "source": [
    "# Get one Week Tweet Before the Event...."
   ]
  },
  {
   "cell_type": "code",
   "execution_count": 2,
   "metadata": {
    "collapsed": false,
    "scrolled": true
   },
   "outputs": [
    {
     "name": "stdout",
     "output_type": "stream",
     "text": [
      "root\n",
      " |-- key:salt: byte (nullable = true)\n",
      " |-- key:timestamp: timestamp (nullable = true)\n",
      " |-- key:id: string (nullable = true)\n",
      " |-- key:subIds: array (nullable = true)\n",
      " |    |-- element: string (containsNull = true)\n",
      " |-- data: string (nullable = true)\n",
      " |-- reference: string (nullable = true)\n",
      " |-- format: string (nullable = true)\n",
      " |-- type: string (nullable = true)\n",
      " |-- source: string (nullable = true)\n",
      " |-- ingestTime: timestamp (nullable = true)\n",
      " |-- author: string (nullable = true)\n",
      " |-- civilEvents: string (nullable = true)\n",
      " |-- locations: string (nullable = true)\n",
      " |-- geo: string (nullable = true)\n",
      " |-- nlp: string (nullable = true)\n",
      " |-- publicationTime: timestamp (nullable = true)\n",
      " |-- politicalParty: string (nullable = true)\n",
      " |-- sentiment: string (nullable = true)\n",
      " |-- times: string (nullable = true)\n",
      " |-- bodyText: string (nullable = true)\n",
      " |-- title: string (nullable = true)\n",
      " |-- phraseList: string (nullable = true)\n",
      "\n"
     ]
    }
   ],
   "source": [
    "lol = sql.read.load(format = \"au.com.d2dcrc.carbon.spark.tweets\", startTime = \"2016-10-10T00:11:00Z\", endTime = \"2016-10-10T00:12:00Z\")\n",
    "lol.printSchema()\n",
    "displaytweets = lol.select( \"author\", \"publicationTime\", \"bodyText\", \"locations\")"
   ]
  },
  {
   "cell_type": "code",
   "execution_count": null,
   "metadata": {
    "collapsed": false
   },
   "outputs": [],
   "source": [
    "\n"
   ]
  },
  {
   "cell_type": "code",
   "execution_count": 35,
   "metadata": {
    "collapsed": false
   },
   "outputs": [],
   "source": [
    "x = only_time.select(\"publicationTime\").flatMap(list).collect()"
   ]
  },
  {
   "cell_type": "code",
   "execution_count": 49,
   "metadata": {
    "collapsed": false,
    "scrolled": true
   },
   "outputs": [
    {
     "data": {
      "image/png": "[encoded data removed]",
      "text/plain": [
       "<matplotlib.figure.Figure at 0x7eff605446a0>"
      ]
     },
     "metadata": {},
     "output_type": "display_data"
    }
   ],
   "source": [
    "mycount = [2,1,3,2,2,10,12,1,8]\n",
    "y= [1,2,3,4,5,6,7,8,9]\n",
    "\n",
    "mycount = np.array(mycount)\n",
    "x = np.array(x)\n",
    "\n",
    "plt.plot(y, mycount)\n",
    "plt.title('Usage of Hashtag')\n",
    "plt.xlabel('Time periods of the day')\n",
    "plt.ylabel('Count of Hashtags')\n",
    "#plt.scatter(days, counthash)\n",
    "\n",
    "plt.show()\n"
   ]
  },
  {
   "cell_type": "code",
   "execution_count": 41,
   "metadata": {
    "collapsed": false
   },
   "outputs": [
    {
     "data": {
      "text/plain": [
       "list"
      ]
     },
     "execution_count": 41,
     "metadata": {},
     "output_type": "execute_result"
    }
   ],
   "source": [
    "type(x)\n",
    "type(mycount)"
   ]
  },
  {
   "cell_type": "code",
   "execution_count": 9,
   "metadata": {
    "collapsed": false
   },
   "outputs": [],
   "source": [
    "mynew = displaytweets.toPandas()"
   ]
  },
  {
   "cell_type": "code",
   "execution_count": 11,
   "metadata": {
    "collapsed": false
   },
   "outputs": [
    {
     "data": {
      "text/plain": [
       "<bound method NDFrame.describe of                                  author     publicationTime  \\\n",
       "0               id:twitter.com:52776866 2016-10-10 10:41:00   \n",
       "1     id:twitter.com:742652113386274817 2016-10-10 10:41:00   \n",
       "2             id:twitter.com:1276192123 2016-10-10 10:41:01   \n",
       "3              id:twitter.com:499751665 2016-10-10 10:41:03   \n",
       "4             id:twitter.com:1973721288 2016-10-10 10:41:03   \n",
       "5             id:twitter.com:2489646169 2016-10-10 10:41:04   \n",
       "6              id:twitter.com:132868827 2016-10-10 10:41:05   \n",
       "7     id:twitter.com:762861090241810432 2016-10-10 10:41:05   \n",
       "8               id:twitter.com:86848460 2016-10-10 10:41:06   \n",
       "9               id:twitter.com:41378267 2016-10-10 10:41:07   \n",
       "10             id:twitter.com:304039080 2016-10-10 10:41:07   \n",
       "11             id:twitter.com:226857183 2016-10-10 10:41:08   \n",
       "12            id:twitter.com:1522410841 2016-10-10 10:41:08   \n",
       "13             id:twitter.com:127393602 2016-10-10 10:41:09   \n",
       "14             id:twitter.com:145367345 2016-10-10 10:41:09   \n",
       "15             id:twitter.com:222644440 2016-10-10 10:41:09   \n",
       "16              id:twitter.com:83091858 2016-10-10 10:41:10   \n",
       "17              id:twitter.com:20406312 2016-10-10 10:41:10   \n",
       "18             id:twitter.com:368710288 2016-10-10 10:41:12   \n",
       "19            id:twitter.com:1355397768 2016-10-10 10:41:12   \n",
       "20            id:twitter.com:3094811792 2016-10-10 10:41:12   \n",
       "21            id:twitter.com:3030018412 2016-10-10 10:41:13   \n",
       "22            id:twitter.com:2856369403 2016-10-10 10:41:13   \n",
       "23             id:twitter.com:293538857 2016-10-10 10:41:14   \n",
       "24            id:twitter.com:1592796290 2016-10-10 10:41:14   \n",
       "25              id:twitter.com:34017742 2016-10-10 10:41:14   \n",
       "26    id:twitter.com:722720603539640320 2016-10-10 10:41:15   \n",
       "27            id:twitter.com:2283679363 2016-10-10 10:41:16   \n",
       "28             id:twitter.com:439141206 2016-10-10 10:41:16   \n",
       "29            id:twitter.com:1887234522 2016-10-10 10:41:16   \n",
       "...                                 ...                 ...   \n",
       "1089           id:twitter.com:383469487 2016-10-10 10:41:41   \n",
       "1090           id:twitter.com:277106959 2016-10-10 10:41:42   \n",
       "1091            id:twitter.com:28947588 2016-10-10 10:41:43   \n",
       "1092          id:twitter.com:3259630459 2016-10-10 10:41:44   \n",
       "1093          id:twitter.com:3382810551 2016-10-10 10:41:44   \n",
       "1094           id:twitter.com:455404032 2016-10-10 10:41:45   \n",
       "1095           id:twitter.com:257946184 2016-10-10 10:41:45   \n",
       "1096          id:twitter.com:1963498808 2016-10-10 10:41:46   \n",
       "1097            id:twitter.com:74011546 2016-10-10 10:41:46   \n",
       "1098           id:twitter.com:928787017 2016-10-10 10:41:46   \n",
       "1099          id:twitter.com:1144189728 2016-10-10 10:41:47   \n",
       "1100            id:twitter.com:91045268 2016-10-10 10:41:47   \n",
       "1101            id:twitter.com:50212528 2016-10-10 10:41:48   \n",
       "1102          id:twitter.com:1898732161 2016-10-10 10:41:49   \n",
       "1103  id:twitter.com:714114690989694976 2016-10-10 10:41:49   \n",
       "1104          id:twitter.com:1365752984 2016-10-10 10:41:49   \n",
       "1105          id:twitter.com:3259630459 2016-10-10 10:41:50   \n",
       "1106          id:twitter.com:3237737664 2016-10-10 10:41:50   \n",
       "1107          id:twitter.com:1570166370 2016-10-10 10:41:51   \n",
       "1108          id:twitter.com:3045236170 2016-10-10 10:41:52   \n",
       "1109          id:twitter.com:1289955992 2016-10-10 10:41:52   \n",
       "1110  id:twitter.com:758529016701722624 2016-10-10 10:41:52   \n",
       "1111          id:twitter.com:2885203168 2016-10-10 10:41:52   \n",
       "1112           id:twitter.com:127393602 2016-10-10 10:41:53   \n",
       "1113  id:twitter.com:766410198135214081 2016-10-10 10:41:54   \n",
       "1114            id:twitter.com:15647751 2016-10-10 10:41:54   \n",
       "1115          id:twitter.com:2678410249 2016-10-10 10:41:55   \n",
       "1116          id:twitter.com:1592796290 2016-10-10 10:41:57   \n",
       "1117           id:twitter.com:261109532 2016-10-10 10:41:58   \n",
       "1118           id:twitter.com:633200412 2016-10-10 10:41:59   \n",
       "\n",
       "                                               bodyText             locations  \n",
       "0                                @imBengal sure thing 😂                        \n",
       "1     RT @Kris_SSMB: @annayyaabhimani @sumandhfm  \\n...                        \n",
       "2           @Lxckfk Haha callarme no evita que sea real                        \n",
       "3                               @thewilfredjames heyyyy                        \n",
       "4     RT @swaghero: Seen the bro @axtin_k_wood @Wend...                        \n",
       "5     RT @Lumaberry: Working on more badges today. L...                        \n",
       "6                           SMH https://t.co/f7OnnuFWDi                        \n",
       "7                              11:11 @troyesivan follow                        \n",
       "8       .@TheCitizenKay - Life Gives You Lemons [11:10]                        \n",
       "9     RT @PSyvret: That Trump stunt was beyond surre...                        \n",
       "10    @fonziegomez ITS AMBERS BIRTHDAY AND SHE WANT ...                        \n",
       "11    @Carr1Graham @ANTI_ALP What Trump said was dis...                        \n",
       "12    RT @CNN: Donald Trump in 1999: Hillary Clinton...                        \n",
       "13    RT @kimkaierro: 161008 dmc. 사랑스런 손인사😍😍😍 https:...                        \n",
       "14    I can't stand this \"I know you are but what am...                        \n",
       "15    RT @RealAlexJones: Insider: Hillary To Refuse ...                        \n",
       "16    @GENTLEMANMick @ABarrMLA where #greyhound raci...                        \n",
       "17    @DDsD @Reuters why not? It's worked so well be...                        \n",
       "18                                      @John_Hanna +10                        \n",
       "19    RT @GlennKesslerWP: Fun fact: @KellyannePolls ...                        \n",
       "20    Managing #conflict - 10 things you may not exp...                        \n",
       "21    RT @katyalaskas: she looks so little in this i...                        \n",
       "22    RT @RealTimFerguson: @SenPaterson is the New W...                        \n",
       "23    RT @ABCmediawatch: Beyond satire: News falls f...  Australia/NSW/Sydney  \n",
       "24                    @DarkestKale not right now. Noted                        \n",
       "25    #Alibaba 's #Hollywood partnership https://t.c...                        \n",
       "26    RT @findingdolans: WHO MADE THIS https://t.co/...                        \n",
       "27    Goldman Sachs 'undecided' on 2,000 staff move ...                        \n",
       "28    i need all my bread back if they do go on stri...                        \n",
       "29    I hope Nick Patrick is the ref for the triple ...                        \n",
       "...                                                 ...                   ...  \n",
       "1089  @AMY_Go1 @3TLMIZ صرت معتقداً ان أعور الدجال قد...                        \n",
       "1090  RT @mariacastro1111: Cualquier criminal puede ...                        \n",
       "1091  tfw you remember @andersoncooper is moderating...                        \n",
       "1092                                         11:11 arda                        \n",
       "1093  RT @midoriyas: @delightfuldekus I Love You Dad...                        \n",
       "1094                            @killerending Doh'kay.~                        \n",
       "1095  RT @SBSNews: \"The man is a sexual predator and...                        \n",
       "1096       What will u choose?? https://t.co/jyhwxde4BS                        \n",
       "1097  RT @cappsmj: Standing ovation from full hall f...                        \n",
       "1098  RT @BR_WWE: …and to kick off tonight, a MAIN E...                        \n",
       "1099  RT @charmedcastor: Do y'all remember this comi...                        \n",
       "1100  @alanvaarwerk WHAT WHY\\n\\nWHY HAS THIS ELECTIO...                        \n",
       "1101  RT @TrentKramer: A huge Thankyou to @deltagood...                        \n",
       "1102  RT @dariglish: تعلّم #الدارجة_الجزائرية \\n\\n#إ...                        \n",
       "1103  RT @0HOUR1__: #Debate protest  to start watch ...                        \n",
       "1104  WHO CARES WHAT SHE THINKS? Why is her  opinion...                        \n",
       "1105                                          11:11 mes                        \n",
       "1106  RT @BTS_twt: 오눌 와주셔서 고마워요\\n항상 감기 조심🤒\\n#JIMIN\\n...                        \n",
       "1107  RT @JohnWren1950: That people are wondering wh...                        \n",
       "1108  RT @kanyevst: The Sleeping Position of Women R...                        \n",
       "1109  Donald Trump: Prime Minister Malcolm Turnbull ...                        \n",
       "1110  RT @anitra_dominik: 18 Heart-Warming Moments i...                        \n",
       "1111  RT @ashleeeybash: WILL #OLICITY HAVE KIDS? EVE...                        \n",
       "1112            RT @KAI0114net: https://t.co/Cf3UzDHXJ9                        \n",
       "1113  i'm manaia from sydney,australia and i love @G...  Australia/NSW/Sydney  \n",
       "1114  \"I think this would make our founders roll ove...                        \n",
       "1115  RT @fish_thinkers: PhD avail @uow on behaviour...                        \n",
       "1116  @Kmaarrawi_Turtl still?  only 2 deaths in that...                        \n",
       "1117  RT @TottenhamKid: @ukrainedilemma @FarEasterne...                        \n",
       "1118  I liked a @YouTube video https://t.co/BIpTBNLh...                        \n",
       "\n",
       "[1119 rows x 4 columns]>"
      ]
     },
     "execution_count": 11,
     "metadata": {},
     "output_type": "execute_result"
    }
   ],
   "source": [
    "type(mynew)\n",
    "mynew.describe"
   ]
  },
  {
   "cell_type": "code",
   "execution_count": 12,
   "metadata": {
    "collapsed": true
   },
   "outputs": [],
   "source": [
    "hashTags = mynew.where(mynew['bodyText'].str.contains('#')).dropna()"
   ]
  },
  {
   "cell_type": "code",
   "execution_count": 15,
   "metadata": {
    "collapsed": false
   },
   "outputs": [
    {
     "data": {
      "text/html": [
       "<div>\n",
       "<table border=\"1\" class=\"dataframe\">\n",
       "  <thead>\n",
       "    <tr style=\"text-align: right;\">\n",
       "      <th></th>\n",
       "      <th>author</th>\n",
       "      <th>publicationTime</th>\n",
       "      <th>bodyText</th>\n",
       "      <th>locations</th>\n",
       "    </tr>\n",
       "  </thead>\n",
       "  <tbody>\n",
       "    <tr>\n",
       "      <th>9</th>\n",
       "      <td>id:twitter.com:41378267</td>\n",
       "      <td>2016-10-10 10:41:07</td>\n",
       "      <td>RT @PSyvret: That Trump stunt was beyond surre...</td>\n",
       "      <td></td>\n",
       "    </tr>\n",
       "    <tr>\n",
       "      <th>15</th>\n",
       "      <td>id:twitter.com:222644440</td>\n",
       "      <td>2016-10-10 10:41:09</td>\n",
       "      <td>RT @RealAlexJones: Insider: Hillary To Refuse ...</td>\n",
       "      <td></td>\n",
       "    </tr>\n",
       "    <tr>\n",
       "      <th>16</th>\n",
       "      <td>id:twitter.com:83091858</td>\n",
       "      <td>2016-10-10 10:41:10</td>\n",
       "      <td>@GENTLEMANMick @ABarrMLA where #greyhound raci...</td>\n",
       "      <td></td>\n",
       "    </tr>\n",
       "    <tr>\n",
       "      <th>20</th>\n",
       "      <td>id:twitter.com:3094811792</td>\n",
       "      <td>2016-10-10 10:41:12</td>\n",
       "      <td>Managing #conflict - 10 things you may not exp...</td>\n",
       "      <td></td>\n",
       "    </tr>\n",
       "    <tr>\n",
       "      <th>22</th>\n",
       "      <td>id:twitter.com:2856369403</td>\n",
       "      <td>2016-10-10 10:41:13</td>\n",
       "      <td>RT @RealTimFerguson: @SenPaterson is the New W...</td>\n",
       "      <td></td>\n",
       "    </tr>\n",
       "    <tr>\n",
       "      <th>23</th>\n",
       "      <td>id:twitter.com:293538857</td>\n",
       "      <td>2016-10-10 10:41:14</td>\n",
       "      <td>RT @ABCmediawatch: Beyond satire: News falls f...</td>\n",
       "      <td>Australia/NSW/Sydney</td>\n",
       "    </tr>\n",
       "    <tr>\n",
       "      <th>25</th>\n",
       "      <td>id:twitter.com:34017742</td>\n",
       "      <td>2016-10-10 10:41:14</td>\n",
       "      <td>#Alibaba 's #Hollywood partnership https://t.c...</td>\n",
       "      <td></td>\n",
       "    </tr>\n",
       "    <tr>\n",
       "      <th>29</th>\n",
       "      <td>id:twitter.com:1887234522</td>\n",
       "      <td>2016-10-10 10:41:16</td>\n",
       "      <td>I hope Nick Patrick is the ref for the triple ...</td>\n",
       "      <td></td>\n",
       "    </tr>\n",
       "    <tr>\n",
       "      <th>30</th>\n",
       "      <td>id:twitter.com:21051246</td>\n",
       "      <td>2016-10-10 10:41:17</td>\n",
       "      <td>RT @purplegwemlin: @NCInews I'll be talking ab...</td>\n",
       "      <td></td>\n",
       "    </tr>\n",
       "    <tr>\n",
       "      <th>34</th>\n",
       "      <td>id:twitter.com:726958925086515201</td>\n",
       "      <td>2016-10-10 10:41:22</td>\n",
       "      <td>Triple threat on the way #WWENoMercy #AJStyles...</td>\n",
       "      <td></td>\n",
       "    </tr>\n",
       "    <tr>\n",
       "      <th>37</th>\n",
       "      <td>id:twitter.com:721321552994820097</td>\n",
       "      <td>2016-10-10 10:41:24</td>\n",
       "      <td>The U.S. Election is like a race to the bottom...</td>\n",
       "      <td></td>\n",
       "    </tr>\n",
       "    <tr>\n",
       "      <th>39</th>\n",
       "      <td>id:twitter.com:1595734560</td>\n",
       "      <td>2016-10-10 10:41:26</td>\n",
       "      <td>RT @meidemich: The Mission - Tyranny of Secret...</td>\n",
       "      <td></td>\n",
       "    </tr>\n",
       "    <tr>\n",
       "      <th>48</th>\n",
       "      <td>id:twitter.com:4286365994</td>\n",
       "      <td>2016-10-10 10:41:32</td>\n",
       "      <td>Says it all \\n#debate #debatenight https://t.c...</td>\n",
       "      <td></td>\n",
       "    </tr>\n",
       "    <tr>\n",
       "      <th>50</th>\n",
       "      <td>id:twitter.com:563216905</td>\n",
       "      <td>2016-10-10 10:41:33</td>\n",
       "      <td>#Election2016 Simultaneously shameful and sham...</td>\n",
       "      <td></td>\n",
       "    </tr>\n",
       "    <tr>\n",
       "      <th>51</th>\n",
       "      <td>id:twitter.com:3034424365</td>\n",
       "      <td>2016-10-10 10:41:35</td>\n",
       "      <td>Restaurant review: Wild Duck https://t.co/6ycY...</td>\n",
       "      <td>Australia/NSW/Sydney</td>\n",
       "    </tr>\n",
       "    <tr>\n",
       "      <th>52</th>\n",
       "      <td>id:twitter.com:785246713892245504</td>\n",
       "      <td>2016-10-10 10:41:36</td>\n",
       "      <td>Too funny @jacksfilms #Election2016  #TooManyP...</td>\n",
       "      <td></td>\n",
       "    </tr>\n",
       "    <tr>\n",
       "      <th>53</th>\n",
       "      <td>id:twitter.com:18754969</td>\n",
       "      <td>2016-10-10 10:41:37</td>\n",
       "      <td>#DeanAmbrose hits the ring for the triple thre...</td>\n",
       "      <td></td>\n",
       "    </tr>\n",
       "    <tr>\n",
       "      <th>54</th>\n",
       "      <td>id:twitter.com:15563891</td>\n",
       "      <td>2016-10-10 10:41:37</td>\n",
       "      <td>RT @RealScottErnst: Being a #NationalSecurity ...</td>\n",
       "      <td></td>\n",
       "    </tr>\n",
       "    <tr>\n",
       "      <th>55</th>\n",
       "      <td>id:twitter.com:16407403</td>\n",
       "      <td>2016-10-10 10:41:39</td>\n",
       "      <td>RT @talk2jorgelopez: @donnabrazile &amp;amp; @Nanc...</td>\n",
       "      <td></td>\n",
       "    </tr>\n",
       "    <tr>\n",
       "      <th>56</th>\n",
       "      <td>id:twitter.com:1044211926</td>\n",
       "      <td>2016-10-10 10:41:39</td>\n",
       "      <td>@AvenirSound @VananiBooi @AceBandz5 @J4F288 Pl...</td>\n",
       "      <td></td>\n",
       "    </tr>\n",
       "    <tr>\n",
       "      <th>58</th>\n",
       "      <td>id:twitter.com:34380151</td>\n",
       "      <td>2016-10-10 10:41:40</td>\n",
       "      <td>#JobAlert Australia, Charters Towers, Experien...</td>\n",
       "      <td></td>\n",
       "    </tr>\n",
       "    <tr>\n",
       "      <th>59</th>\n",
       "      <td>id:twitter.com:3054829447</td>\n",
       "      <td>2016-10-10 10:41:42</td>\n",
       "      <td>피 땀 눈물 (1) and Lie (8) are still in the top 10...</td>\n",
       "      <td></td>\n",
       "    </tr>\n",
       "    <tr>\n",
       "      <th>61</th>\n",
       "      <td>id:twitter.com:3283610875</td>\n",
       "      <td>2016-10-10 10:41:44</td>\n",
       "      <td>RT @0HOUR1__: #Debate protest  to start watch ...</td>\n",
       "      <td></td>\n",
       "    </tr>\n",
       "    <tr>\n",
       "      <th>67</th>\n",
       "      <td>id:twitter.com:602390200</td>\n",
       "      <td>2016-10-10 10:41:47</td>\n",
       "      <td>RT @Penmonicus: #NP(09:30) @NLMAs16 South Aus ...</td>\n",
       "      <td></td>\n",
       "    </tr>\n",
       "    <tr>\n",
       "      <th>76</th>\n",
       "      <td>id:twitter.com:741288582095249408</td>\n",
       "      <td>2016-10-10 10:41:52</td>\n",
       "      <td>RT @drone_sport: Drone safety review called by...</td>\n",
       "      <td></td>\n",
       "    </tr>\n",
       "    <tr>\n",
       "      <th>80</th>\n",
       "      <td>id:twitter.com:776199245632245760</td>\n",
       "      <td>2016-10-10 10:41:55</td>\n",
       "      <td>RT @0HOUR1__: #Debate protest  to start watch ...</td>\n",
       "      <td></td>\n",
       "    </tr>\n",
       "    <tr>\n",
       "      <th>83</th>\n",
       "      <td>id:twitter.com:372559286</td>\n",
       "      <td>2016-10-10 10:41:59</td>\n",
       "      <td>RT @FoxNews: .@SenatorSessions: \"We know forme...</td>\n",
       "      <td></td>\n",
       "    </tr>\n",
       "    <tr>\n",
       "      <th>88</th>\n",
       "      <td>id:twitter.com:2149847652</td>\n",
       "      <td>2016-10-10 10:41:01</td>\n",
       "      <td>13 Oct is @unisdr #IDDR2016. Our free forum @R...</td>\n",
       "      <td></td>\n",
       "    </tr>\n",
       "    <tr>\n",
       "      <th>90</th>\n",
       "      <td>id:twitter.com:136903996</td>\n",
       "      <td>2016-10-10 10:41:01</td>\n",
       "      <td>@frontiertouring #PurposeTour what time do I b...</td>\n",
       "      <td>Australia/VIC/Melbourne\\nAustralia/NSW/Sydney</td>\n",
       "    </tr>\n",
       "    <tr>\n",
       "      <th>107</th>\n",
       "      <td>id:twitter.com:2929151922</td>\n",
       "      <td>2016-10-10 10:41:12</td>\n",
       "      <td>#cancel of the #reclass of a Non Credible #con...</td>\n",
       "      <td></td>\n",
       "    </tr>\n",
       "    <tr>\n",
       "      <th>...</th>\n",
       "      <td>...</td>\n",
       "      <td>...</td>\n",
       "      <td>...</td>\n",
       "      <td>...</td>\n",
       "    </tr>\n",
       "    <tr>\n",
       "      <th>1018</th>\n",
       "      <td>id:twitter.com:2733971311</td>\n",
       "      <td>2016-10-10 10:41:59</td>\n",
       "      <td>RT @ExposeTPP: .@sierraclub releases new inter...</td>\n",
       "      <td></td>\n",
       "    </tr>\n",
       "    <tr>\n",
       "      <th>1020</th>\n",
       "      <td>id:twitter.com:769688702004047872</td>\n",
       "      <td>2016-10-10 10:41:59</td>\n",
       "      <td>RT @JRsBBQ: I have no issues in @WWE Title mat...</td>\n",
       "      <td></td>\n",
       "    </tr>\n",
       "    <tr>\n",
       "      <th>1021</th>\n",
       "      <td>id:twitter.com:59131737</td>\n",
       "      <td>2016-10-10 10:41:00</td>\n",
       "      <td>RT @OccupyDemocrats: #Election2016 News: PRODU...</td>\n",
       "      <td></td>\n",
       "    </tr>\n",
       "    <tr>\n",
       "      <th>1023</th>\n",
       "      <td>id:twitter.com:21774355</td>\n",
       "      <td>2016-10-10 10:41:01</td>\n",
       "      <td>RT @SeanWSpoon56: Dope ass win on the road tod...</td>\n",
       "      <td></td>\n",
       "    </tr>\n",
       "    <tr>\n",
       "      <th>1024</th>\n",
       "      <td>id:twitter.com:86206997</td>\n",
       "      <td>2016-10-10 10:41:01</td>\n",
       "      <td>RT @ammanay: She gets knocked down, but she ge...</td>\n",
       "      <td></td>\n",
       "    </tr>\n",
       "    <tr>\n",
       "      <th>1026</th>\n",
       "      <td>id:twitter.com:2301109656</td>\n",
       "      <td>2016-10-10 10:41:03</td>\n",
       "      <td>映像電伝虫発見！\\n待ち構えるは、怪しい奴ら!?\\nhttps://t.co/WOEn3cS...</td>\n",
       "      <td></td>\n",
       "    </tr>\n",
       "    <tr>\n",
       "      <th>1029</th>\n",
       "      <td>id:twitter.com:1364690054</td>\n",
       "      <td>2016-10-10 10:41:04</td>\n",
       "      <td>Homer the Greek #TheSimpsons #Greek #Homer htt...</td>\n",
       "      <td></td>\n",
       "    </tr>\n",
       "    <tr>\n",
       "      <th>1039</th>\n",
       "      <td>id:twitter.com:757766774666498051</td>\n",
       "      <td>2016-10-10 10:41:10</td>\n",
       "      <td>@tena2731 #TripleThreat if #JohnCena wins we riot</td>\n",
       "      <td></td>\n",
       "    </tr>\n",
       "    <tr>\n",
       "      <th>1045</th>\n",
       "      <td>id:twitter.com:78586909</td>\n",
       "      <td>2016-10-10 10:41:13</td>\n",
       "      <td>THANK YOU @billshortenmp for once again standi...</td>\n",
       "      <td></td>\n",
       "    </tr>\n",
       "    <tr>\n",
       "      <th>1046</th>\n",
       "      <td>id:twitter.com:3371210360</td>\n",
       "      <td>2016-10-10 10:41:14</td>\n",
       "      <td>RT @Toimatom: BREAKING: Hillary gives press co...</td>\n",
       "      <td></td>\n",
       "    </tr>\n",
       "    <tr>\n",
       "      <th>1047</th>\n",
       "      <td>id:twitter.com:4777547310</td>\n",
       "      <td>2016-10-10 10:41:15</td>\n",
       "      <td>RT @andiesawmill: Nothing. #savedyouaclick htt...</td>\n",
       "      <td></td>\n",
       "    </tr>\n",
       "    <tr>\n",
       "      <th>1050</th>\n",
       "      <td>id:twitter.com:1596987152</td>\n",
       "      <td>2016-10-10 10:41:17</td>\n",
       "      <td>RT @theaterofscifi: #debate https://t.co/fw8Vp...</td>\n",
       "      <td></td>\n",
       "    </tr>\n",
       "    <tr>\n",
       "      <th>1051</th>\n",
       "      <td>id:twitter.com:86206997</td>\n",
       "      <td>2016-10-10 10:41:17</td>\n",
       "      <td>RT @rijanjks: A HUGE thank you to everyone who...</td>\n",
       "      <td></td>\n",
       "    </tr>\n",
       "    <tr>\n",
       "      <th>1052</th>\n",
       "      <td>id:twitter.com:327484473</td>\n",
       "      <td>2016-10-10 10:41:17</td>\n",
       "      <td>RT @BSO__AZAD: @BSO__AZAD protest rally in Kar...</td>\n",
       "      <td></td>\n",
       "    </tr>\n",
       "    <tr>\n",
       "      <th>1064</th>\n",
       "      <td>id:twitter.com:362759760</td>\n",
       "      <td>2016-10-10 10:41:24</td>\n",
       "      <td>RT @Clintonswalk: FUNDRAISER IS CLOSED!! Thank...</td>\n",
       "      <td></td>\n",
       "    </tr>\n",
       "    <tr>\n",
       "      <th>1065</th>\n",
       "      <td>id:twitter.com:17902137</td>\n",
       "      <td>2016-10-10 10:41:24</td>\n",
       "      <td>#Election2016 there is even a #debate about th...</td>\n",
       "      <td></td>\n",
       "    </tr>\n",
       "    <tr>\n",
       "      <th>1067</th>\n",
       "      <td>id:twitter.com:96697457</td>\n",
       "      <td>2016-10-10 10:41:25</td>\n",
       "      <td>Who's your pick to win the @WWE World Champion...</td>\n",
       "      <td></td>\n",
       "    </tr>\n",
       "    <tr>\n",
       "      <th>1070</th>\n",
       "      <td>id:twitter.com:780264896705404928</td>\n",
       "      <td>2016-10-10 10:41:27</td>\n",
       "      <td>#XFactor omg my favorite show at the moment</td>\n",
       "      <td></td>\n",
       "    </tr>\n",
       "    <tr>\n",
       "      <th>1071</th>\n",
       "      <td>id:twitter.com:146416567</td>\n",
       "      <td>2016-10-10 10:41:28</td>\n",
       "      <td>Views from the Rock w/ @yanasodope #PulpitRock...</td>\n",
       "      <td></td>\n",
       "    </tr>\n",
       "    <tr>\n",
       "      <th>1082</th>\n",
       "      <td>id:twitter.com:47026854</td>\n",
       "      <td>2016-10-10 10:41:36</td>\n",
       "      <td>Review By: George Me and my girlfriend went th...</td>\n",
       "      <td></td>\n",
       "    </tr>\n",
       "    <tr>\n",
       "      <th>1099</th>\n",
       "      <td>id:twitter.com:1144189728</td>\n",
       "      <td>2016-10-10 10:41:47</td>\n",
       "      <td>RT @charmedcastor: Do y'all remember this comi...</td>\n",
       "      <td></td>\n",
       "    </tr>\n",
       "    <tr>\n",
       "      <th>1101</th>\n",
       "      <td>id:twitter.com:50212528</td>\n",
       "      <td>2016-10-10 10:41:48</td>\n",
       "      <td>RT @TrentKramer: A huge Thankyou to @deltagood...</td>\n",
       "      <td></td>\n",
       "    </tr>\n",
       "    <tr>\n",
       "      <th>1102</th>\n",
       "      <td>id:twitter.com:1898732161</td>\n",
       "      <td>2016-10-10 10:41:49</td>\n",
       "      <td>RT @dariglish: تعلّم #الدارجة_الجزائرية \\n\\n#إ...</td>\n",
       "      <td></td>\n",
       "    </tr>\n",
       "    <tr>\n",
       "      <th>1103</th>\n",
       "      <td>id:twitter.com:714114690989694976</td>\n",
       "      <td>2016-10-10 10:41:49</td>\n",
       "      <td>RT @0HOUR1__: #Debate protest  to start watch ...</td>\n",
       "      <td></td>\n",
       "    </tr>\n",
       "    <tr>\n",
       "      <th>1104</th>\n",
       "      <td>id:twitter.com:1365752984</td>\n",
       "      <td>2016-10-10 10:41:49</td>\n",
       "      <td>WHO CARES WHAT SHE THINKS? Why is her  opinion...</td>\n",
       "      <td></td>\n",
       "    </tr>\n",
       "    <tr>\n",
       "      <th>1106</th>\n",
       "      <td>id:twitter.com:3237737664</td>\n",
       "      <td>2016-10-10 10:41:50</td>\n",
       "      <td>RT @BTS_twt: 오눌 와주셔서 고마워요\\n항상 감기 조심🤒\\n#JIMIN\\n...</td>\n",
       "      <td></td>\n",
       "    </tr>\n",
       "    <tr>\n",
       "      <th>1107</th>\n",
       "      <td>id:twitter.com:1570166370</td>\n",
       "      <td>2016-10-10 10:41:51</td>\n",
       "      <td>RT @JohnWren1950: That people are wondering wh...</td>\n",
       "      <td></td>\n",
       "    </tr>\n",
       "    <tr>\n",
       "      <th>1111</th>\n",
       "      <td>id:twitter.com:2885203168</td>\n",
       "      <td>2016-10-10 10:41:52</td>\n",
       "      <td>RT @ashleeeybash: WILL #OLICITY HAVE KIDS? EVE...</td>\n",
       "      <td></td>\n",
       "    </tr>\n",
       "    <tr>\n",
       "      <th>1113</th>\n",
       "      <td>id:twitter.com:766410198135214081</td>\n",
       "      <td>2016-10-10 10:41:54</td>\n",
       "      <td>i'm manaia from sydney,australia and i love @G...</td>\n",
       "      <td>Australia/NSW/Sydney</td>\n",
       "    </tr>\n",
       "    <tr>\n",
       "      <th>1114</th>\n",
       "      <td>id:twitter.com:15647751</td>\n",
       "      <td>2016-10-10 10:41:54</td>\n",
       "      <td>\"I think this would make our founders roll ove...</td>\n",
       "      <td></td>\n",
       "    </tr>\n",
       "  </tbody>\n",
       "</table>\n",
       "<p>341 rows × 4 columns</p>\n",
       "</div>"
      ],
      "text/plain": [
       "                                 author     publicationTime  \\\n",
       "9               id:twitter.com:41378267 2016-10-10 10:41:07   \n",
       "15             id:twitter.com:222644440 2016-10-10 10:41:09   \n",
       "16              id:twitter.com:83091858 2016-10-10 10:41:10   \n",
       "20            id:twitter.com:3094811792 2016-10-10 10:41:12   \n",
       "22            id:twitter.com:2856369403 2016-10-10 10:41:13   \n",
       "23             id:twitter.com:293538857 2016-10-10 10:41:14   \n",
       "25              id:twitter.com:34017742 2016-10-10 10:41:14   \n",
       "29            id:twitter.com:1887234522 2016-10-10 10:41:16   \n",
       "30              id:twitter.com:21051246 2016-10-10 10:41:17   \n",
       "34    id:twitter.com:726958925086515201 2016-10-10 10:41:22   \n",
       "37    id:twitter.com:721321552994820097 2016-10-10 10:41:24   \n",
       "39            id:twitter.com:1595734560 2016-10-10 10:41:26   \n",
       "48            id:twitter.com:4286365994 2016-10-10 10:41:32   \n",
       "50             id:twitter.com:563216905 2016-10-10 10:41:33   \n",
       "51            id:twitter.com:3034424365 2016-10-10 10:41:35   \n",
       "52    id:twitter.com:785246713892245504 2016-10-10 10:41:36   \n",
       "53              id:twitter.com:18754969 2016-10-10 10:41:37   \n",
       "54              id:twitter.com:15563891 2016-10-10 10:41:37   \n",
       "55              id:twitter.com:16407403 2016-10-10 10:41:39   \n",
       "56            id:twitter.com:1044211926 2016-10-10 10:41:39   \n",
       "58              id:twitter.com:34380151 2016-10-10 10:41:40   \n",
       "59            id:twitter.com:3054829447 2016-10-10 10:41:42   \n",
       "61            id:twitter.com:3283610875 2016-10-10 10:41:44   \n",
       "67             id:twitter.com:602390200 2016-10-10 10:41:47   \n",
       "76    id:twitter.com:741288582095249408 2016-10-10 10:41:52   \n",
       "80    id:twitter.com:776199245632245760 2016-10-10 10:41:55   \n",
       "83             id:twitter.com:372559286 2016-10-10 10:41:59   \n",
       "88            id:twitter.com:2149847652 2016-10-10 10:41:01   \n",
       "90             id:twitter.com:136903996 2016-10-10 10:41:01   \n",
       "107           id:twitter.com:2929151922 2016-10-10 10:41:12   \n",
       "...                                 ...                 ...   \n",
       "1018          id:twitter.com:2733971311 2016-10-10 10:41:59   \n",
       "1020  id:twitter.com:769688702004047872 2016-10-10 10:41:59   \n",
       "1021            id:twitter.com:59131737 2016-10-10 10:41:00   \n",
       "1023            id:twitter.com:21774355 2016-10-10 10:41:01   \n",
       "1024            id:twitter.com:86206997 2016-10-10 10:41:01   \n",
       "1026          id:twitter.com:2301109656 2016-10-10 10:41:03   \n",
       "1029          id:twitter.com:1364690054 2016-10-10 10:41:04   \n",
       "1039  id:twitter.com:757766774666498051 2016-10-10 10:41:10   \n",
       "1045            id:twitter.com:78586909 2016-10-10 10:41:13   \n",
       "1046          id:twitter.com:3371210360 2016-10-10 10:41:14   \n",
       "1047          id:twitter.com:4777547310 2016-10-10 10:41:15   \n",
       "1050          id:twitter.com:1596987152 2016-10-10 10:41:17   \n",
       "1051            id:twitter.com:86206997 2016-10-10 10:41:17   \n",
       "1052           id:twitter.com:327484473 2016-10-10 10:41:17   \n",
       "1064           id:twitter.com:362759760 2016-10-10 10:41:24   \n",
       "1065            id:twitter.com:17902137 2016-10-10 10:41:24   \n",
       "1067            id:twitter.com:96697457 2016-10-10 10:41:25   \n",
       "1070  id:twitter.com:780264896705404928 2016-10-10 10:41:27   \n",
       "1071           id:twitter.com:146416567 2016-10-10 10:41:28   \n",
       "1082            id:twitter.com:47026854 2016-10-10 10:41:36   \n",
       "1099          id:twitter.com:1144189728 2016-10-10 10:41:47   \n",
       "1101            id:twitter.com:50212528 2016-10-10 10:41:48   \n",
       "1102          id:twitter.com:1898732161 2016-10-10 10:41:49   \n",
       "1103  id:twitter.com:714114690989694976 2016-10-10 10:41:49   \n",
       "1104          id:twitter.com:1365752984 2016-10-10 10:41:49   \n",
       "1106          id:twitter.com:3237737664 2016-10-10 10:41:50   \n",
       "1107          id:twitter.com:1570166370 2016-10-10 10:41:51   \n",
       "1111          id:twitter.com:2885203168 2016-10-10 10:41:52   \n",
       "1113  id:twitter.com:766410198135214081 2016-10-10 10:41:54   \n",
       "1114            id:twitter.com:15647751 2016-10-10 10:41:54   \n",
       "\n",
       "                                               bodyText  \\\n",
       "9     RT @PSyvret: That Trump stunt was beyond surre...   \n",
       "15    RT @RealAlexJones: Insider: Hillary To Refuse ...   \n",
       "16    @GENTLEMANMick @ABarrMLA where #greyhound raci...   \n",
       "20    Managing #conflict - 10 things you may not exp...   \n",
       "22    RT @RealTimFerguson: @SenPaterson is the New W...   \n",
       "23    RT @ABCmediawatch: Beyond satire: News falls f...   \n",
       "25    #Alibaba 's #Hollywood partnership https://t.c...   \n",
       "29    I hope Nick Patrick is the ref for the triple ...   \n",
       "30    RT @purplegwemlin: @NCInews I'll be talking ab...   \n",
       "34    Triple threat on the way #WWENoMercy #AJStyles...   \n",
       "37    The U.S. Election is like a race to the bottom...   \n",
       "39    RT @meidemich: The Mission - Tyranny of Secret...   \n",
       "48    Says it all \\n#debate #debatenight https://t.c...   \n",
       "50    #Election2016 Simultaneously shameful and sham...   \n",
       "51    Restaurant review: Wild Duck https://t.co/6ycY...   \n",
       "52    Too funny @jacksfilms #Election2016  #TooManyP...   \n",
       "53    #DeanAmbrose hits the ring for the triple thre...   \n",
       "54    RT @RealScottErnst: Being a #NationalSecurity ...   \n",
       "55    RT @talk2jorgelopez: @donnabrazile &amp; @Nanc...   \n",
       "56    @AvenirSound @VananiBooi @AceBandz5 @J4F288 Pl...   \n",
       "58    #JobAlert Australia, Charters Towers, Experien...   \n",
       "59    피 땀 눈물 (1) and Lie (8) are still in the top 10...   \n",
       "61    RT @0HOUR1__: #Debate protest  to start watch ...   \n",
       "67    RT @Penmonicus: #NP(09:30) @NLMAs16 South Aus ...   \n",
       "76    RT @drone_sport: Drone safety review called by...   \n",
       "80    RT @0HOUR1__: #Debate protest  to start watch ...   \n",
       "83    RT @FoxNews: .@SenatorSessions: \"We know forme...   \n",
       "88    13 Oct is @unisdr #IDDR2016. Our free forum @R...   \n",
       "90    @frontiertouring #PurposeTour what time do I b...   \n",
       "107   #cancel of the #reclass of a Non Credible #con...   \n",
       "...                                                 ...   \n",
       "1018  RT @ExposeTPP: .@sierraclub releases new inter...   \n",
       "1020  RT @JRsBBQ: I have no issues in @WWE Title mat...   \n",
       "1021  RT @OccupyDemocrats: #Election2016 News: PRODU...   \n",
       "1023  RT @SeanWSpoon56: Dope ass win on the road tod...   \n",
       "1024  RT @ammanay: She gets knocked down, but she ge...   \n",
       "1026  映像電伝虫発見！\\n待ち構えるは、怪しい奴ら!?\\nhttps://t.co/WOEn3cS...   \n",
       "1029  Homer the Greek #TheSimpsons #Greek #Homer htt...   \n",
       "1039  @tena2731 #TripleThreat if #JohnCena wins we riot   \n",
       "1045  THANK YOU @billshortenmp for once again standi...   \n",
       "1046  RT @Toimatom: BREAKING: Hillary gives press co...   \n",
       "1047  RT @andiesawmill: Nothing. #savedyouaclick htt...   \n",
       "1050  RT @theaterofscifi: #debate https://t.co/fw8Vp...   \n",
       "1051  RT @rijanjks: A HUGE thank you to everyone who...   \n",
       "1052  RT @BSO__AZAD: @BSO__AZAD protest rally in Kar...   \n",
       "1064  RT @Clintonswalk: FUNDRAISER IS CLOSED!! Thank...   \n",
       "1065  #Election2016 there is even a #debate about th...   \n",
       "1067  Who's your pick to win the @WWE World Champion...   \n",
       "1070        #XFactor omg my favorite show at the moment   \n",
       "1071  Views from the Rock w/ @yanasodope #PulpitRock...   \n",
       "1082  Review By: George Me and my girlfriend went th...   \n",
       "1099  RT @charmedcastor: Do y'all remember this comi...   \n",
       "1101  RT @TrentKramer: A huge Thankyou to @deltagood...   \n",
       "1102  RT @dariglish: تعلّم #الدارجة_الجزائرية \\n\\n#إ...   \n",
       "1103  RT @0HOUR1__: #Debate protest  to start watch ...   \n",
       "1104  WHO CARES WHAT SHE THINKS? Why is her  opinion...   \n",
       "1106  RT @BTS_twt: 오눌 와주셔서 고마워요\\n항상 감기 조심🤒\\n#JIMIN\\n...   \n",
       "1107  RT @JohnWren1950: That people are wondering wh...   \n",
       "1111  RT @ashleeeybash: WILL #OLICITY HAVE KIDS? EVE...   \n",
       "1113  i'm manaia from sydney,australia and i love @G...   \n",
       "1114  \"I think this would make our founders roll ove...   \n",
       "\n",
       "                                          locations  \n",
       "9                                                    \n",
       "15                                                   \n",
       "16                                                   \n",
       "20                                                   \n",
       "22                                                   \n",
       "23                             Australia/NSW/Sydney  \n",
       "25                                                   \n",
       "29                                                   \n",
       "30                                                   \n",
       "34                                                   \n",
       "37                                                   \n",
       "39                                                   \n",
       "48                                                   \n",
       "50                                                   \n",
       "51                             Australia/NSW/Sydney  \n",
       "52                                                   \n",
       "53                                                   \n",
       "54                                                   \n",
       "55                                                   \n",
       "56                                                   \n",
       "58                                                   \n",
       "59                                                   \n",
       "61                                                   \n",
       "67                                                   \n",
       "76                                                   \n",
       "80                                                   \n",
       "83                                                   \n",
       "88                                                   \n",
       "90    Australia/VIC/Melbourne\\nAustralia/NSW/Sydney  \n",
       "107                                                  \n",
       "...                                             ...  \n",
       "1018                                                 \n",
       "1020                                                 \n",
       "1021                                                 \n",
       "1023                                                 \n",
       "1024                                                 \n",
       "1026                                                 \n",
       "1029                                                 \n",
       "1039                                                 \n",
       "1045                                                 \n",
       "1046                                                 \n",
       "1047                                                 \n",
       "1050                                                 \n",
       "1051                                                 \n",
       "1052                                                 \n",
       "1064                                                 \n",
       "1065                                                 \n",
       "1067                                                 \n",
       "1070                                                 \n",
       "1071                                                 \n",
       "1082                                                 \n",
       "1099                                                 \n",
       "1101                                                 \n",
       "1102                                                 \n",
       "1103                                                 \n",
       "1104                                                 \n",
       "1106                                                 \n",
       "1107                                                 \n",
       "1111                                                 \n",
       "1113                           Australia/NSW/Sydney  \n",
       "1114                                                 \n",
       "\n",
       "[341 rows x 4 columns]"
      ]
     },
     "execution_count": 15,
     "metadata": {},
     "output_type": "execute_result"
    }
   ],
   "source": [
    "hashTags"
   ]
  },
  {
   "cell_type": "code",
   "execution_count": 32,
   "metadata": {
    "collapsed": false
   },
   "outputs": [
    {
     "ename": "TypeError",
     "evalue": "'DataFrame' object is not callable",
     "output_type": "error",
     "traceback": [
      "\u001b[0;31m---------------------------------------------------------------------------\u001b[0m",
      "\u001b[0;31mTypeError\u001b[0m                                 Traceback (most recent call last)",
      "\u001b[0;32m<ipython-input-32-c261476d6f3b>\u001b[0m in \u001b[0;36m<module>\u001b[0;34m()\u001b[0m\n\u001b[0;32m----> 1\u001b[0;31m \u001b[0monly_time\u001b[0m \u001b[0;34m=\u001b[0m \u001b[0mlol\u001b[0m\u001b[0;34m(\u001b[0m\u001b[0;34m\"publicationTime\"\u001b[0m\u001b[0;34m)\u001b[0m\u001b[0;34m\u001b[0m\u001b[0m\n\u001b[0m\u001b[1;32m      2\u001b[0m \u001b[0monly_time\u001b[0m\u001b[0;34m.\u001b[0m\u001b[0mshow\u001b[0m\u001b[0;34m(\u001b[0m\u001b[0;34m)\u001b[0m\u001b[0;34m\u001b[0m\u001b[0m\n",
      "\u001b[0;31mTypeError\u001b[0m: 'DataFrame' object is not callable"
     ]
    }
   ],
   "source": [
    "only_time = lol(\"publicationTime\")\n",
    "only_time.show()"
   ]
  },
  {
   "cell_type": "code",
   "execution_count": null,
   "metadata": {
    "collapsed": true
   },
   "outputs": [],
   "source": []
  },
  {
   "cell_type": "code",
   "execution_count": null,
   "metadata": {
    "collapsed": true
   },
   "outputs": [],
   "source": [
    "x = only_time.select(\"publicationTime\").flatMap(list).collect()\n",
    "#print(x)\n"
   ]
  },
  {
   "cell_type": "code",
   "execution_count": 8,
   "metadata": {
    "collapsed": false
   },
   "outputs": [
    {
     "data": {
      "text/plain": [
       "pyspark.sql.dataframe.DataFrame"
      ]
     },
     "execution_count": 8,
     "metadata": {},
     "output_type": "execute_result"
    }
   ],
   "source": [
    "displaytweets.describe\n",
    "type(displaytweets)"
   ]
  },
  {
   "cell_type": "code",
   "execution_count": null,
   "metadata": {
    "collapsed": false
   },
   "outputs": [],
   "source": [
    "#realtweet = lol.select( 'publicationTime', 'bodyText') \n",
    "#sqlContext.registerDataFrameAsTable(lol, \"table1\")\n",
    "#daily = sqlContext.sql(\"SELECT bodyText, publicationTime FROM table5 WHERE bodyText LIKE '%#keepsydneyopen%' \")\n",
    "#myretweet.count\n",
    "#hashTags = displaytweets.where(displaytweets['bodyText'].str.contains('#')).dropna()\n"
   ]
  },
  {
   "cell_type": "code",
   "execution_count": null,
   "metadata": {
    "collapsed": false
   },
   "outputs": [],
   "source": [
    "daily.show()"
   ]
  },
  {
   "cell_type": "code",
   "execution_count": null,
   "metadata": {
    "collapsed": false
   },
   "outputs": [],
   "source": [
    "sqlContext.registerDataFrameAsTable(daily, \"table6\")\n",
    "#daily = sqlContext.sql(\"SELECT bodyText, publicationTime FROM table5 WHERE bodyText LIKE '%#keepsydneyopen%' \")\n",
    "sqlContext.sql(\"SELECT publicationTime FROM table6 \").count()"
   ]
  },
  {
   "cell_type": "code",
   "execution_count": null,
   "metadata": {
    "collapsed": false
   },
   "outputs": [],
   "source": [
    "sqlContext.sql(\"SELECT publicationTime FROM table6 WHERE publicationTime LIKE '%2016-10-01%' \").count()"
   ]
  },
  {
   "cell_type": "code",
   "execution_count": null,
   "metadata": {
    "collapsed": false
   },
   "outputs": [],
   "source": [
    "sqlContext.sql(\"SELECT publicationTime FROM table6 WHERE publicationTime LIKE '%2016-10-02%' \").count()"
   ]
  },
  {
   "cell_type": "code",
   "execution_count": null,
   "metadata": {
    "collapsed": false
   },
   "outputs": [],
   "source": [
    "sqlContext.sql(\"SELECT publicationTime FROM table6 WHERE publicationTime LIKE '%2016-10-03%' \").count()"
   ]
  },
  {
   "cell_type": "code",
   "execution_count": null,
   "metadata": {
    "collapsed": false
   },
   "outputs": [],
   "source": [
    "sqlContext.sql(\"SELECT publicationTime FROM table6 WHERE publicationTime LIKE '%2016-10-04%' \").count()"
   ]
  },
  {
   "cell_type": "code",
   "execution_count": null,
   "metadata": {
    "collapsed": false
   },
   "outputs": [],
   "source": [
    "sqlContext.sql(\"SELECT publicationTime FROM table6 WHERE publicationTime LIKE '%2016-10-05%' \").count()"
   ]
  },
  {
   "cell_type": "code",
   "execution_count": null,
   "metadata": {
    "collapsed": false
   },
   "outputs": [],
   "source": [
    "sqlContext.sql(\"SELECT publicationTime FROM table6 WHERE publicationTime LIKE '%2016-10-06%' \").count()"
   ]
  },
  {
   "cell_type": "code",
   "execution_count": null,
   "metadata": {
    "collapsed": false
   },
   "outputs": [],
   "source": [
    "sqlContext.sql(\"SELECT publicationTime FROM table6 WHERE publicationTime LIKE '%2016-10-07%' \").count()"
   ]
  },
  {
   "cell_type": "code",
   "execution_count": null,
   "metadata": {
    "collapsed": false
   },
   "outputs": [],
   "source": [
    "sqlContext.sql(\"SELECT publicationTime FROM table6 WHERE publicationTime LIKE '%2016-10-08%' \").count()"
   ]
  },
  {
   "cell_type": "code",
   "execution_count": null,
   "metadata": {
    "collapsed": false
   },
   "outputs": [],
   "source": [
    "sqlContext.sql(\"SELECT publicationTime FROM table6 WHERE publicationTime LIKE '%2016-10-09%' \").count()"
   ]
  },
  {
   "cell_type": "code",
   "execution_count": null,
   "metadata": {
    "collapsed": false
   },
   "outputs": [],
   "source": [
    "sqlContext.sql(\"SELECT publicationTime FROM table6 WHERE publicationTime LIKE '%2016-10-10%' \").count()"
   ]
  },
  {
   "cell_type": "code",
   "execution_count": null,
   "metadata": {
    "collapsed": true
   },
   "outputs": [],
   "source": [
    "myList = [2,1,3,2,2,10,12,1]"
   ]
  },
  {
   "cell_type": "markdown",
   "metadata": {},
   "source": [
    "# Futher Analysis:"
   ]
  },
  {
   "cell_type": "code",
   "execution_count": null,
   "metadata": {
    "collapsed": true
   },
   "outputs": [],
   "source": []
  },
  {
   "cell_type": "code",
   "execution_count": null,
   "metadata": {
    "collapsed": true
   },
   "outputs": [],
   "source": [
    "myList = [ ]"
   ]
  },
  {
   "cell_type": "markdown",
   "metadata": {},
   "source": [
    "# Hashtags and Locations\n"
   ]
  }
 ],
 "metadata": {
  "kernelspec": {
   "display_name": "PySpark",
   "language": "python",
   "name": "pyspark"
  },
  "language_info": {
   "codemirror_mode": {
    "name": "ipython",
    "version": 3
   },
   "file_extension": ".py",
   "mimetype": "text/x-python",
   "name": "python",
   "nbconvert_exporter": "python",
   "pygments_lexer": "ipython3",
   "version": "3.5.2"
  }
 },
 "nbformat": 4,
 "nbformat_minor": 1
}
