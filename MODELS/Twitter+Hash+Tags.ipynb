{
 "cells": [
  {
   "cell_type": "code",
   "execution_count": 2,
   "metadata": {
    "collapsed": true
   },
   "outputs": [],
   "source": [
    "from pyspark.sql import SQLContext\n",
    "import time\n",
    "import json\n",
    "import matplotlib.pyplot as plt\n",
    "%matplotlib inline\n",
    "\n",
    "sqlContext = SQLContext(sc)"
   ]
  },
  {
   "cell_type": "code",
   "execution_count": 3,
   "metadata": {
    "collapsed": false
   },
   "outputs": [],
   "source": [
    "def get_data(mins):\n",
    "    now = int(time.time()) - 60 # Make \"now\" one minute ago\n",
    "    min_ago = now - (mins * 60)\n",
    "    # The call below creates the Spark DAG (Directed Acyclic Graph) on the cluster\n",
    "    return sqlContext.read.load(format = \"au.com.d2dcrc.carbon.spark.tweets\", startTimestamp = min_ago, endTimestamp = now)"
   ]
  },
  {
   "cell_type": "code",
   "execution_count": 4,
   "metadata": {
    "collapsed": false
   },
   "outputs": [],
   "source": [
    "df = get_data(60)"
   ]
  },
  {
   "cell_type": "code",
   "execution_count": 5,
   "metadata": {
    "collapsed": true
   },
   "outputs": [],
   "source": [
    "body_texts = df.map(lambda row: row.data).map(lambda data: json.loads(data)).map(lambda tweet_as_json: tweet_as_json.get('body')).take(100)"
   ]
  },
  {
   "cell_type": "code",
   "execution_count": 6,
   "metadata": {
    "collapsed": false,
    "scrolled": true
   },
   "outputs": [],
   "source": [
    "#body_texts"
   ]
  },
  {
   "cell_type": "markdown",
   "metadata": {},
   "source": [
    "{ \"#tag\": {\n",
    "        \"occurrences\": 2234,\n",
    "        \"metrics\": [{\"Adelaide\": 234}]\n",
    "    }.\n",
    "  \"#tag2\" : {\n",
    "        \n",
    "    }\n",
    "}\n",
    "\n",
    "set()"
   ]
  },
  {
   "cell_type": "code",
   "execution_count": 7,
   "metadata": {
    "collapsed": false
   },
   "outputs": [
    {
     "data": {
      "text/plain": [
       "'James Roberts. #Bronxnation #BBTID https://t.co/zjx5aDIL2R'"
      ]
     },
     "execution_count": 7,
     "metadata": {},
     "output_type": "execute_result"
    }
   ],
   "source": [
    "tag=body_texts[0]\n",
    "tag"
   ]
  },
  {
   "cell_type": "code",
   "execution_count": 8,
   "metadata": {
    "collapsed": false
   },
   "outputs": [
    {
     "data": {
      "text/plain": [
       "[]"
      ]
     },
     "execution_count": 8,
     "metadata": {},
     "output_type": "execute_result"
    }
   ],
   "source": [
    "import re\n",
    "re.findall(r\"#(\\w+)\",body_texts[1])\n"
   ]
  },
  {
   "cell_type": "code",
   "execution_count": 9,
   "metadata": {
    "collapsed": false
   },
   "outputs": [],
   "source": [
    "def extract_hash_tags(s):\n",
    "    ans=set(part[1:] for part in s.split() if part.startswith('#'))\n",
    "    if len(ans)>0:\n",
    "        return ans\n",
    "    #return {s.strip(\"#\") for tag in s.split() if s.startswith(\"#\")}!"
   ]
  },
  {
   "cell_type": "code",
   "execution_count": 10,
   "metadata": {
    "collapsed": false
   },
   "outputs": [
    {
     "name": "stdout",
     "output_type": "stream",
     "text": [
      "{'BBTID', 'Bronxnation'}\n",
      "None\n",
      "{'BuyBeAlrightOniTunes'}\n",
      "None\n",
      "None\n",
      "None\n",
      "None\n",
      "None\n",
      "None\n",
      "None\n",
      "None\n",
      "None\n",
      "None\n",
      "None\n",
      "None\n",
      "{'espionage', 'Encryption'}\n",
      "None\n",
      "None\n",
      "None\n",
      "None\n",
      "{'melbourne'}\n",
      "None\n",
      "None\n",
      "{'servers', 'hardware', 'hp', 'refurbish'}\n",
      "None\n",
      "None\n",
      "None\n",
      "None\n",
      "None\n",
      "None\n",
      "None\n",
      "None\n",
      "None\n",
      "None\n",
      "{'flickr'}\n",
      "None\n",
      "{'DRU', 'dominos', 'TenNews'}\n",
      "{'auspol'}\n",
      "{'auspol'}\n",
      "{'BestFanArmy', '5SOSFam', 'iHeartAwards'}\n",
      "None\n",
      "None\n",
      "None\n",
      "None\n",
      "None\n",
      "None\n",
      "None\n",
      "None\n",
      "None\n",
      "None\n",
      "{'marriageequality', 'safeschools'}\n",
      "None\n",
      "None\n",
      "None\n",
      "{'semiconductors', 'coatings', 'SmartLab', 'XRD'}\n",
      "None\n",
      "None\n",
      "{'Madonna'}\n",
      "None\n",
      "None\n",
      "None\n",
      "None\n",
      "None\n",
      "None\n",
      "None\n",
      "{'UTSWriting'}\n",
      "{'auspol'}\n",
      "None\n",
      "None\n",
      "{'BonusBet'}\n",
      "None\n",
      "{'writing', 'amwriting'}\n",
      "{'BonusBet'}\n",
      "None\n",
      "None\n",
      "None\n",
      "{'Mellivia', 'Scandal'}\n",
      "{'au…', 'safeschools'}\n",
      "None\n",
      "None\n",
      "None\n",
      "None\n",
      "None\n",
      "{'RebelHeartTour', 'UnapolegeticBitch'}\n",
      "None\n",
      "{'gorditohermoso', 'cachorro', 'instalikes', 'i…', 'puppy'}\n",
      "{'QandA'}\n",
      "{'iartg', 'kindle', 'scifi'}\n",
      "None\n",
      "None\n",
      "{'whitesandsswim'}\n",
      "{'Fiddlesticks', 'Follies.'}\n",
      "{\"Brisbane's\", 'SouthBrisbane', 'WestEnd'}\n",
      "None\n",
      "None\n",
      "None\n",
      "None\n",
      "None\n",
      "{'DOODLE'}\n",
      "{'Friday'}\n"
     ]
    }
   ],
   "source": [
    "for tweet in body_texts:\n",
    "    print(extract_hash_tags(tweet))\n",
    "    #extract_hash_tags(tweet)"
   ]
  },
  {
   "cell_type": "code",
   "execution_count": 11,
   "metadata": {
    "collapsed": false
   },
   "outputs": [
    {
     "data": {
      "text/plain": [
       "['Bronxnation',\n",
       " 'BBTID',\n",
       " 'BuyBeAlrightOniTunes',\n",
       " 'Encryption',\n",
       " 'espionage',\n",
       " 'melbourne',\n",
       " 'servers',\n",
       " 'hp',\n",
       " 'refurbish',\n",
       " 'hardware',\n",
       " 'flickr',\n",
       " 'dominos',\n",
       " 'DRU',\n",
       " 'TenNews',\n",
       " 'auspol',\n",
       " 'auspol',\n",
       " '5SOSFam',\n",
       " 'BestFanArmy',\n",
       " 'iHeartAwards',\n",
       " 'safeschools',\n",
       " 'marriageequality',\n",
       " 'SmartLab',\n",
       " 'XRD',\n",
       " 'semiconductors',\n",
       " 'coatings',\n",
       " 'Madonna',\n",
       " 'UTSWriting',\n",
       " 'auspol',\n",
       " 'BonusBet',\n",
       " 'writing',\n",
       " 'amwriting',\n",
       " 'BonusBet',\n",
       " 'Mellivia',\n",
       " 'Scandal',\n",
       " 'safeschools',\n",
       " 'au…',\n",
       " 'RebelHeartTour',\n",
       " 'UnapolegeticBitch',\n",
       " 'gorditohermoso',\n",
       " 'cachorro',\n",
       " 'instalikes',\n",
       " 'puppy',\n",
       " 'i…',\n",
       " 'QandA',\n",
       " 'kindle',\n",
       " 'scifi',\n",
       " 'iartg',\n",
       " 'whitesandsswim',\n",
       " 'Fiddlesticks',\n",
       " 'Follies.',\n",
       " \"Brisbane's\",\n",
       " 'SouthBrisbane',\n",
       " 'WestEnd',\n",
       " 'DOODLE',\n",
       " 'Friday']"
      ]
     },
     "execution_count": 11,
     "metadata": {},
     "output_type": "execute_result"
    }
   ],
   "source": [
    "h_tags = []\n",
    "for t in body_texts:\n",
    "    for word in t.split():\n",
    "        if word.startswith('#'):\n",
    "            h_tags.append(word[1:])\n",
    "\n",
    "h_tags"
   ]
  },
  {
   "cell_type": "code",
   "execution_count": 12,
   "metadata": {
    "collapsed": false
   },
   "outputs": [
    {
     "name": "stdout",
     "output_type": "stream",
     "text": [
      "Bronxnation\t1\n",
      "BBTID\t1\n",
      "BuyBeAlrightOniTunes\t1\n",
      "Encryption\t1\n",
      "espionage\t1\n",
      "melbourne\t1\n",
      "servers\t1\n",
      "hp\t1\n",
      "refurbish\t1\n",
      "hardware\t1\n",
      "flickr\t1\n",
      "dominos\t1\n",
      "DRU\t1\n",
      "TenNews\t1\n",
      "auspol\t1\n",
      "auspol\t1\n",
      "5SOSFam\t1\n",
      "BestFanArmy\t1\n",
      "iHeartAwards\t1\n",
      "safeschools\t1\n",
      "marriageequality\t1\n",
      "SmartLab\t1\n",
      "XRD\t1\n",
      "semiconductors\t1\n",
      "coatings\t1\n",
      "Madonna\t1\n",
      "UTSWriting\t1\n",
      "auspol\t1\n",
      "BonusBet\t1\n",
      "writing\t1\n",
      "amwriting\t1\n",
      "BonusBet\t1\n",
      "Mellivia\t1\n",
      "Scandal\t1\n",
      "safeschools\t1\n",
      "au…\t1\n",
      "RebelHeartTour\t1\n",
      "UnapolegeticBitch\t1\n",
      "gorditohermoso\t1\n",
      "cachorro\t1\n",
      "instalikes\t1\n",
      "puppy\t1\n",
      "i…\t1\n",
      "QandA\t1\n",
      "kindle\t1\n",
      "scifi\t1\n",
      "iartg\t1\n",
      "whitesandsswim\t1\n",
      "Fiddlesticks\t1\n",
      "Follies.\t1\n",
      "Brisbane's\t1\n",
      "SouthBrisbane\t1\n",
      "WestEnd\t1\n",
      "DOODLE\t1\n",
      "Friday\t1\n"
     ]
    }
   ],
   "source": [
    "for word in h_tags:\n",
    "       print ('%s\\t%s' % (word, 1))"
   ]
  },
  {
   "cell_type": "code",
   "execution_count": 13,
   "metadata": {
    "collapsed": false
   },
   "outputs": [],
   "source": [
    "import matplotlib.pyplot as plt\n",
    "import collections,sys,math \n",
    "taghisto = collections.Counter(h_tags)\n",
    "taghisto = [list(x) for x in sorted(taghisto.items(), key=lambda x: -x[1])]\n",
    "\n",
    "# normalize everything to percentages, and get uncertainties\n",
    "ntweets = float(len(body_texts))\n",
    "# Loop over histogram bins\n",
    "for ibin in range(len(taghisto)):\n",
    "    # The poisson uncertainty is the square root of counts for each tag\n",
    "    uncertainty = math.sqrt(taghisto[ibin][1])\n",
    "    # Set counts to a percentage of total tweets in which tag occurs\n",
    "    taghisto[ibin][1]= 100.*taghisto[ibin][1]/ntweets\n",
    "    # Same for the uncertainty\n",
    "    taghisto[ibin].append(100.*uncertainty/ntweets)\n",
    "\n",
    "# Return just the histogram information\n",
    "#return taghisto\n",
    "#taghisto"
   ]
  },
  {
   "cell_type": "code",
   "execution_count": 14,
   "metadata": {
    "collapsed": false
   },
   "outputs": [],
   "source": [
    "bodyT = df.map(lambda row: row.data).map(lambda data: json.loads(data)).map(lambda tweet_as_json: tweet_as_json.get('body'))\n"
   ]
  },
  {
   "cell_type": "code",
   "execution_count": 15,
   "metadata": {
    "collapsed": false
   },
   "outputs": [],
   "source": [
    "#counts = text_file.flatMap(lambda line: line.split(\" \")) \\\n",
    "#             .map(lambda word: (word, 1)) \\\n",
    "#             .reduceByKey(lambda a, b: a + b)\n"
   ]
  },
  {
   "cell_type": "markdown",
   "metadata": {},
   "source": [
    "# Spark"
   ]
  },
  {
   "cell_type": "code",
   "execution_count": 16,
   "metadata": {
    "collapsed": false
   },
   "outputs": [],
   "source": [
    "def get_data_hourly(hr):\n",
    "    smins = hr*60\n",
    "    emins = (hr+1)*60\n",
    "    now = int(time.time()) # take current time\n",
    "    ehour_ago = now - (smins * 60)\n",
    "    shour_ago = now - (emins * 60)\n",
    "    # The call below creates the Spark DAG (Directed Acyclic Graph) on the cluster\n",
    "    return sqlContext.read.load(format = \"au.com.d2dcrc.carbon.spark.tweets\", startTimestamp = shour_ago, endTimestamp = ehour_ago)"
   ]
  },
  {
   "cell_type": "code",
   "execution_count": 17,
   "metadata": {
    "collapsed": false
   },
   "outputs": [],
   "source": [
    "df = get_data_hourly(1)"
   ]
  },
  {
   "cell_type": "code",
   "execution_count": 18,
   "metadata": {
    "collapsed": false
   },
   "outputs": [],
   "source": [
    "rawDF = df.select(\"data\")"
   ]
  },
  {
   "cell_type": "code",
   "execution_count": null,
   "metadata": {
    "collapsed": false
   },
   "outputs": [],
   "source": []
  },
  {
   "cell_type": "code",
   "execution_count": null,
   "metadata": {
    "collapsed": false
   },
   "outputs": [],
   "source": []
  },
  {
   "cell_type": "code",
   "execution_count": 19,
   "metadata": {
    "collapsed": false
   },
   "outputs": [],
   "source": [
    "type(rawDF)\n",
    "tweet_bodies = rawDF.map(lambda row: row.data).map(lambda data: json.loads(data)).map(lambda tweet_as_json: tweet_as_json.get('body'))\n",
    "#.map(lambda line: line.split(\" \")).map(lambda word: filter(word.startswith('#'))) "
   ]
  },
  {
   "cell_type": "code",
   "execution_count": null,
   "metadata": {
    "collapsed": false
   },
   "outputs": [],
   "source": []
  },
  {
   "cell_type": "code",
   "execution_count": 20,
   "metadata": {
    "collapsed": false
   },
   "outputs": [],
   "source": [
    "hash_tags =tweet_bodies.flatMap(lambda line: line.split(\" \")) \\\n",
    ".filter(lambda word: word.startswith('#'))\n",
    "\n",
    "hashtag_counts = hash_tags.map(lambda hashtag: (hashtag, 1)).reduceByKey(lambda a, b: a + b)\n",
    "\n",
    "#.map(lambda word: word.startswith('#')).take(2)\n",
    "#temp.map(lambda line: line.split(\" \")).map(lambda word: set(filter(word.startswith('#'))))"
   ]
  },
  {
   "cell_type": "markdown",
   "metadata": {},
   "source": [
    "for (word, count) in HTagCounts:\n",
    "        print(\"%s: %i\" % (word, count))"
   ]
  },
  {
   "cell_type": "code",
   "execution_count": 21,
   "metadata": {
    "collapsed": false
   },
   "outputs": [
    {
     "ename": "NameError",
     "evalue": "name 'words' is not defined",
     "output_type": "error",
     "traceback": [
      "\u001b[1;31m---------------------------------------------------------------------------\u001b[0m",
      "\u001b[1;31mNameError\u001b[0m                                 Traceback (most recent call last)",
      "\u001b[1;32m<ipython-input-21-04433f57820c>\u001b[0m in \u001b[0;36m<module>\u001b[1;34m()\u001b[0m\n\u001b[0;32m      1\u001b[0m \u001b[1;32mfrom\u001b[0m \u001b[0mcollections\u001b[0m \u001b[1;32mimport\u001b[0m \u001b[0mCounter\u001b[0m\u001b[1;33m\u001b[0m\u001b[0m\n\u001b[1;32m----> 2\u001b[1;33m \u001b[0mword_counts\u001b[0m \u001b[1;33m=\u001b[0m \u001b[0mCounter\u001b[0m\u001b[1;33m(\u001b[0m\u001b[0mwords\u001b[0m\u001b[1;33m)\u001b[0m\u001b[1;33m\u001b[0m\u001b[0m\n\u001b[0m\u001b[0;32m      3\u001b[0m \u001b[0mtop_three\u001b[0m \u001b[1;33m=\u001b[0m \u001b[0mword_counts\u001b[0m\u001b[1;33m.\u001b[0m\u001b[0mmost_common\u001b[0m\u001b[1;33m(\u001b[0m\u001b[1;36m3\u001b[0m\u001b[1;33m)\u001b[0m\u001b[1;33m\u001b[0m\u001b[0m\n\u001b[0;32m      4\u001b[0m \u001b[0mprint\u001b[0m\u001b[1;33m(\u001b[0m\u001b[0mtop_three\u001b[0m\u001b[1;33m)\u001b[0m\u001b[1;33m\u001b[0m\u001b[0m\n",
      "\u001b[1;31mNameError\u001b[0m: name 'words' is not defined"
     ]
    }
   ],
   "source": [
    "from collections import Counter\n",
    "word_counts = Counter(words)\n",
    "top_three = word_counts.most_common(3)\n",
    "print(top_three)"
   ]
  },
  {
   "cell_type": "code",
   "execution_count": 22,
   "metadata": {
    "collapsed": false
   },
   "outputs": [
    {
     "data": {
      "text/plain": [
       "['#weather', '#safeschools', '#Madonna', '#GOTYA2015', '#staytuned']"
      ]
     },
     "execution_count": 22,
     "metadata": {},
     "output_type": "execute_result"
    }
   ],
   "source": [
    "Tags=hash_tags.take(5)\n",
    "Tags"
   ]
  },
  {
   "cell_type": "code",
   "execution_count": 23,
   "metadata": {
    "collapsed": false
   },
   "outputs": [
    {
     "data": {
      "text/plain": [
       "[('#justsaying', 1),\n",
       " ('#instagood', 1),\n",
       " ('#ROHLTD', 1),\n",
       " ('#KPRS', 8),\n",
       " ('#idiots', 1),\n",
       " ('#BelugaSolar', 3),\n",
       " ('#LoveOzYA', 1),\n",
       " ('#Sikorsky', 1),\n",
       " ('#stories', 9),\n",
       " ('#designing', 2)]"
      ]
     },
     "execution_count": 23,
     "metadata": {},
     "output_type": "execute_result"
    }
   ],
   "source": [
    "hashtag_counts.take(10)"
   ]
  },
  {
   "cell_type": "code",
   "execution_count": 24,
   "metadata": {
    "collapsed": false
   },
   "outputs": [
    {
     "data": {
      "text/plain": [
       "[('#fairgofairfax', 141),\n",
       " ('#PurposeTour', 62),\n",
       " ('#Trump', 31),\n",
       " ('#ipadgames,', 16),\n",
       " ('#CUFIWatchman', 15),\n",
       " ('#stories', 9),\n",
       " ('#Indigenous', 8),\n",
       " ('#KPRS', 8),\n",
       " ('#Survival', 7),\n",
       " ('#free', 6)]"
      ]
     },
     "execution_count": 24,
     "metadata": {},
     "output_type": "execute_result"
    }
   ],
   "source": [
    "htags = hashtag_counts.take(200)\n",
    "type(htags)\n",
    "from collections import Counter\n",
    "Counter(dict(htags)).most_common(10)"
   ]
  },
  {
   "cell_type": "code",
   "execution_count": 25,
   "metadata": {
    "collapsed": false
   },
   "outputs": [
    {
     "data": {
      "image/png": "[encoded data removed]",
      "text/plain": [
       "<matplotlib.figure.Figure at 0x7f298da32048>"
      ]
     },
     "metadata": {},
     "output_type": "display_data"
    }
   ],
   "source": [
    "import matplotlib.pyplot as plt\n",
    "#type(dict(htags))\n",
    "d=dict(Counter(dict(htags)).most_common(10))\n",
    "#type(d)\n",
    "\n",
    "%matplotlib inline\n",
    "plt.bar(range(len(d)), d.values(), align=\"center\")\n",
    "plt.xticks(range(len(d)), list(d.keys()))\n",
    "plt.show()"
   ]
  },
  {
   "cell_type": "code",
   "execution_count": 315,
   "metadata": {
    "collapsed": true
   },
   "outputs": [],
   "source": [
    "tweet_bodies = rawDF.map(lambda row: row.data).map(lambda data: json.loads(data)).map(lambda tweet_as_json: tweet_as_json.get('body'))\n",
    "#.map(lambda line: line.split(\" \")).map(lambda word: filter(word.startswith('#')))"
   ]
  },
  {
   "cell_type": "code",
   "execution_count": 10,
   "metadata": {
    "collapsed": false
   },
   "outputs": [],
   "source": [
    "#import string\n",
    "#PUNCTUATION = set(string.punctuation)\n",
    "\n",
    "#for i in range(len(htags)):\n",
    "    #word=htags[i][0]\n",
    "    #print(word)\n",
    "    #newWord = \"#\"+''.join([letter for letter in word if not letter in PUNCTUATION])\n",
    "    #print(newWord)\n",
    "    #htags[i][0] = \n",
    "    #htags[i][0].replace(htags[i][0],newWord)"
   ]
  },
  {
   "cell_type": "code",
   "execution_count": 16,
   "metadata": {
    "collapsed": false
   },
   "outputs": [],
   "source": [
    "#type(rawDF)\n",
    "def explode_hashtag(hashtag_list):\n",
    "    hashtags = list()\n",
    "    \n",
    "    for hashtag in hashtag_list:\n",
    "        text = hashtag.get('text').lower()\n",
    "        if text is not None:\n",
    "            hashtags.append(text)\n",
    "        \n",
    "    return hashtags\n",
    "\n",
    "\n",
    "tweetTest = rawDF.map(lambda row: row.data).map(lambda data: json.loads(data)).filter(lambda line: 'location' in line)\\\n",
    ".map(lambda line: (line['location']['country_code'],line['twitter_entities']['hashtags'],line.get('body')))\\\n",
    ".map(lambda line_tuple: (line_tuple[0], explode_hashtag(line_tuple[1]), line_tuple[2]))\n",
    "\n",
    "#tweetTest.take(1)\n"
   ]
  },
  {
   "cell_type": "code",
   "execution_count": null,
   "metadata": {
    "collapsed": false
   },
   "outputs": [],
   "source": []
  },
  {
   "cell_type": "code",
   "execution_count": 14,
   "metadata": {
    "collapsed": true
   },
   "outputs": [],
   "source": [
    "def get_posted_hour(postedTime):\n",
    "        temp = postedTime.split(\":\")\n",
    "        posted_hour = temp[0][-2:]\n",
    "        return posted_hour"
   ]
  },
  {
   "cell_type": "code",
   "execution_count": 94,
   "metadata": {
    "collapsed": false
   },
   "outputs": [
    {
     "data": {
      "text/plain": [
       "['22', '22']"
      ]
     },
     "execution_count": 94,
     "metadata": {},
     "output_type": "execute_result"
    }
   ],
   "source": [
    "#postedT = rawDF.map(lambda row: row.data).map(lambda data: json.loads(data)).filter(lambda line: 'location' in line)\\\n",
    "#.map(lambda line: (line.get('postedTime')))\n",
    "\n",
    "#postedT.map(lambda line_tuple: (get_posted_hour(line_tuple[0]))).take(2)\n"
   ]
  },
  {
   "cell_type": "code",
   "execution_count": 240,
   "metadata": {
    "collapsed": false
   },
   "outputs": [],
   "source": [
    "#sample[0][2][0].get('text')\n",
    "#sample = tweetTest.take(10)\n",
    "#sample[:10]"
   ]
  },
  {
   "cell_type": "code",
   "execution_count": 19,
   "metadata": {
    "collapsed": false
   },
   "outputs": [
    {
     "data": {
      "text/plain": [
       "DataFrame[location: string, hashtags: array<string>, body: string]"
      ]
     },
     "execution_count": 19,
     "metadata": {},
     "output_type": "execute_result"
    }
   ],
   "source": [
    "sparkDF = sqlContext.createDataFrame(tweetTest,['location','hashtags','body'])\n",
    "#newDF = sparkDF.withColumn('timeframe', sparkDF.hashtags)\n",
    "#newDF.printSchema()\n",
    "#newDF.show()\n",
    "sparkDF\n",
    "#sparkDF.select(explode(sparkDF.col('hashtags')).alias(\"anHashtag\"))\n",
    "#sparkDF.take(10)"
   ]
  },
  {
   "cell_type": "code",
   "execution_count": 20,
   "metadata": {
    "collapsed": false
   },
   "outputs": [
    {
     "name": "stdout",
     "output_type": "stream",
     "text": [
      "+--------------------+--------------------+--------------------+\n",
      "|            location|            hashtags|                body|\n",
      "+--------------------+--------------------+--------------------+\n",
      "|           Australia|                  []|@khanadeelali اے ...|\n",
      "|       United States|                  []|Late night haircu...|\n",
      "|           Australia|               [csg]|We can talk all w...|\n",
      "|       United States|                  []|@FoxNews I don't ...|\n",
      "|           Australia|[cannabis, stoner...|Stoner Sloth is a...|\n",
      "|           Australia|                  []|@jenthinksharder ...|\n",
      "|           Australia| [youtube, musicbiz]|\"People want to h...|\n",
      "|           Australia|[summer, cricket,...|#summer #cricket ...|\n",
      "|           Australia|[internationallyi...|@VanityVonGlow @C...|\n",
      "|       United States|                  []|I'm at Los Angele...|\n",
      "|           Australia|                  []|Chromecast so con...|\n",
      "|           Australia|                  []|I can AnimeLab st...|\n",
      "|           Australia|                  []|Brewtime (@ Mad L...|\n",
      "|           Australia|                  []|Seeing @bryanahol...|\n",
      "|Republika ng Pili...|                  []|   @Pepayriffic *kay|\n",
      "|           Australia|           [british]|@satonme @CalumMc...|\n",
      "|         New Zealand|                  []|Just posted a pho...|\n",
      "|           Australia|          [canberra]|Travelling to Can...|\n",
      "|           Australia|          [canberra]|Can you find Canb...|\n",
      "|           Australia|[coal, elephant, ...|@TurnbullMalcolm ...|\n",
      "+--------------------+--------------------+--------------------+\n",
      "only showing top 20 rows\n",
      "\n"
     ]
    }
   ],
   "source": [
    "sparkDF.na.drop(how='any').show()"
   ]
  },
  {
   "cell_type": "code",
   "execution_count": 257,
   "metadata": {
    "collapsed": false
   },
   "outputs": [
    {
     "data": {
      "text/plain": [
       "PythonRDD[247] at RDD at PythonRDD.scala:43"
      ]
     },
     "execution_count": 257,
     "metadata": {},
     "output_type": "execute_result"
    }
   ],
   "source": [
    "#def get_hashtags(rddBody):\n",
    "    #sparkDF.map(lambda r: r.body)\n",
    "    #return rddBody.flatMap(lambda line: line.split(\" \")).filter(lambda word: word.startswith('#'))\n",
    "\n",
    "#get_hashtags(sparkDF.map(lambda r: r.body))"
   ]
  },
  {
   "cell_type": "code",
   "execution_count": 21,
   "metadata": {
    "collapsed": false
   },
   "outputs": [],
   "source": [
    "#tags = sparkDF.flatMap(lambda r: r.hashtags).map(lambda d: \",\" + d.get('text','none'))\n",
    "#tags.take(10)\n",
    "#sparkDF.select(explode(sparkDF.hashtags).alias(\"anHashtag\"))\n",
    "from pyspark.sql.functions import *\n",
    "sparkDF = sparkDF.select('*',explode(sparkDF.hashtags).alias(\"anHash\"))\n",
    "#sparkDF.take(10)"
   ]
  },
  {
   "cell_type": "code",
   "execution_count": 22,
   "metadata": {
    "collapsed": false
   },
   "outputs": [
    {
     "name": "stdout",
     "output_type": "stream",
     "text": [
      "+---------+--------------------+--------------------+--------------------+\n",
      "| location|            hashtags|                body|              anHash|\n",
      "+---------+--------------------+--------------------+--------------------+\n",
      "|Australia|               [csg]|We can talk all w...|                 csg|\n",
      "|Australia|[cannabis, stoner...|Stoner Sloth is a...|            cannabis|\n",
      "|Australia|[cannabis, stoner...|Stoner Sloth is a...|         stonersloth|\n",
      "|Australia|[cannabis, stoner...|Stoner Sloth is a...|              auspol|\n",
      "|Australia| [youtube, musicbiz]|\"People want to h...|             youtube|\n",
      "|Australia| [youtube, musicbiz]|\"People want to h...|            musicbiz|\n",
      "|Australia|[summer, cricket,...|#summer #cricket ...|              summer|\n",
      "|Australia|[summer, cricket,...|#summer #cricket ...|             cricket|\n",
      "|Australia|[summer, cricket,...|#summer #cricket ...|               bbl05|\n",
      "|Australia|[internationallyi...|@VanityVonGlow @C...|internationallyig...|\n",
      "|Australia|[internationallyi...|@VanityVonGlow @C...|internationallyre...|\n",
      "|Australia|           [british]|@satonme @CalumMc...|             british|\n",
      "|Australia|          [canberra]|Travelling to Can...|            canberra|\n",
      "|Australia|          [canberra]|Can you find Canb...|            canberra|\n",
      "|Australia|[coal, elephant, ...|@TurnbullMalcolm ...|                coal|\n",
      "|Australia|[coal, elephant, ...|@TurnbullMalcolm ...|            elephant|\n",
      "|Australia|[coal, elephant, ...|@TurnbullMalcolm ...|             punters|\n",
      "|Australia|       [bieberbrits]|#bieberbrits is n...|         bieberbrits|\n",
      "|Australia|             [gilly]|@GrandSyndicates ...|               gilly|\n",
      "|Australia|          [facebook]|@facebook Hi Ther...|            facebook|\n",
      "+---------+--------------------+--------------------+--------------------+\n",
      "only showing top 20 rows\n",
      "\n"
     ]
    }
   ],
   "source": [
    "sparkDF.show()"
   ]
  },
  {
   "cell_type": "code",
   "execution_count": 108,
   "metadata": {
    "collapsed": false
   },
   "outputs": [
    {
     "name": "stdout",
     "output_type": "stream",
     "text": [
      "+-------+--------+--------------------+\n",
      "|summary|location|              anHash|\n",
      "+-------+--------+--------------------+\n",
      "|  count|     929|                 929|\n",
      "|   mean|    null|                 1.0|\n",
      "| stddev|    null|                 0.0|\n",
      "|    min|Adelaide|             12for12|\n",
      "|    max| Wyoming|เก็บโหมดเศร้าใส่ถ...|\n",
      "+-------+--------+--------------------+\n",
      "\n"
     ]
    }
   ],
   "source": [
    "sparkDF.describe('location','anHash').show()"
   ]
  },
  {
   "cell_type": "code",
   "execution_count": 43,
   "metadata": {
    "collapsed": false
   },
   "outputs": [
    {
     "name": "stdout",
     "output_type": "stream",
     "text": [
      "+------------------+----------------+\n",
      "|location_freqItems|anHash_freqItems|\n",
      "+------------------+----------------+\n",
      "|   [Mountain View]|      [Veterans]|\n",
      "+------------------+----------------+\n",
      "\n"
     ]
    }
   ],
   "source": [
    "#sparkDF.stat.crosstab('location','anHash').show()\n",
    "sparkDF.stat.freqItems(['location','anHash'], 0.9).show()"
   ]
  },
  {
   "cell_type": "code",
   "execution_count": 40,
   "metadata": {
    "collapsed": false
   },
   "outputs": [
    {
     "data": {
      "text/plain": [
       "[Row(loc_hash_freqItems=[Row(location='Mountain View', anHash='Veterans')])]"
      ]
     },
     "execution_count": 40,
     "metadata": {},
     "output_type": "execute_result"
    }
   ],
   "source": [
    "from pyspark.sql.functions import struct\n",
    "freq = sparkDF.withColumn('loc_hash', struct('location', 'anHash')).stat.freqItems(['loc_hash'], 0.9)\n",
    "freq.take(3)"
   ]
  },
  {
   "cell_type": "code",
   "execution_count": 23,
   "metadata": {
    "collapsed": false
   },
   "outputs": [
    {
     "name": "stdout",
     "output_type": "stream",
     "text": [
      "+--------------+---------------+-----+\n",
      "|      location|         anHash|count|\n",
      "+--------------+---------------+-----+\n",
      "|     Australia|  senateinquiry|   26|\n",
      "|     Australia|    williamtown|   26|\n",
      "|     Australia|         auspol|   24|\n",
      "|     Australia|     nowplaying|   15|\n",
      "|     Australia|         sydney|   11|\n",
      "|     Australia|   penaltyrates|    8|\n",
      "|     Australia|      melbourne|    8|\n",
      "|     Australia|     victraffic|    8|\n",
      "|     Australia|      australia|    7|\n",
      "|     Australia|      bbcdebate|    6|\n",
      "|     Australia|         trndnl|    6|\n",
      "|     Australia|      christmas|    6|\n",
      "|     Australia|      abcnews24|    6|\n",
      "|     Australia|           whys|    6|\n",
      "|     Australia|        bzbooks|    6|\n",
      "|     Australia|      firealarm|    5|\n",
      "|     Australia|aussiedolanteam|    5|\n",
      "|United Kingdom|         megans|    5|\n",
      "|     Australia|thisisaustralia|    5|\n",
      "|     Australia|          perth|    5|\n",
      "+--------------+---------------+-----+\n",
      "only showing top 20 rows\n",
      "\n"
     ]
    }
   ],
   "source": [
    "sparkDF.groupBy(sparkDF['location'],sparkDF['anHash']).count().sort('count', ascending=False).show()"
   ]
  },
  {
   "cell_type": "code",
   "execution_count": 54,
   "metadata": {
    "collapsed": false
   },
   "outputs": [],
   "source": [
    "sparkDF.registerTempTable(\"eventTable\")\n",
    "#sqlContext.sql(\"SELECT location, anHash AS 'Hash',COUNT(*) FROM eventTable GROUP BY location\").show()\n",
    "tablePlot = sqlContext.sql(\"SELECT location, anHash,count(*) as count FROM eventTable GROUP BY location,anHash ORDER BY count DESC\")"
   ]
  },
  {
   "cell_type": "code",
   "execution_count": 24,
   "metadata": {
    "collapsed": false
   },
   "outputs": [],
   "source": [
    "def top_10_hashes(loc,dataframe):\n",
    "    dataframe.registerTempTable(\"hashtagTable\")\n",
    "    ans = sqlContext.sql(\"SELECT anHash as hashtag, count FROM \\\n",
    "                            (SELECT location, anHash,count(*) as count \\\n",
    "                            FROM hashtagTable GROUP BY location,anHash ORDER BY count DESC) as t \\\n",
    "                            WHERE t.location='\"+loc+\"' LIMIT 10\")\n",
    "    return ans\n",
    "    \n",
    "#top_10_hashes('Sydney',sparkDF).show()"
   ]
  },
  {
   "cell_type": "code",
   "execution_count": 25,
   "metadata": {
    "collapsed": false
   },
   "outputs": [
    {
     "name": "stdout",
     "output_type": "stream",
     "text": [
      "+-------------+-----+\n",
      "|      hashtag|count|\n",
      "+-------------+-----+\n",
      "|  williamtown|   26|\n",
      "|senateinquiry|   26|\n",
      "|       auspol|   24|\n",
      "|   nowplaying|   15|\n",
      "|       sydney|   11|\n",
      "|   victraffic|    8|\n",
      "| penaltyrates|    8|\n",
      "|    melbourne|    8|\n",
      "|    australia|    7|\n",
      "|       trndnl|    6|\n",
      "+-------------+-----+\n",
      "\n"
     ]
    }
   ],
   "source": [
    "top_10_hashes('Australia',sparkDF).show()"
   ]
  },
  {
   "cell_type": "code",
   "execution_count": 96,
   "metadata": {
    "collapsed": false
   },
   "outputs": [],
   "source": [
    "def plot_top10_hashes(city,spDF):\n",
    "    dd = top_10_hashes(city,spDF)\n",
    "    ddPanda = dd.toPandas()\n",
    "    ddPanda.plot(\"hashtag\",kind='bar',color='gray',title='Top 10 hashtags for '+city,legend=False)"
   ]
  },
  {
   "cell_type": "code",
   "execution_count": 97,
   "metadata": {
    "collapsed": false
   },
   "outputs": [
    {
     "data": {
      "image/png": "[encoded data removed]",
      "text/plain": [
       "<matplotlib.figure.Figure at 0x7f7e17b88438>"
      ]
     },
     "metadata": {},
     "output_type": "display_data"
    }
   ],
   "source": [
    "plot_top10_hashes('Sydney',sparkDF)"
   ]
  },
  {
   "cell_type": "code",
   "execution_count": 98,
   "metadata": {
    "collapsed": false
   },
   "outputs": [
    {
     "data": {
      "image/png": "[encoded data removed]",
      "text/plain": [
       "<matplotlib.figure.Figure at 0x7f7e17e12470>"
      ]
     },
     "metadata": {},
     "output_type": "display_data"
    }
   ],
   "source": [
    "plot_top10_hashes('Melbourne',sparkDF)"
   ]
  },
  {
   "cell_type": "code",
   "execution_count": 99,
   "metadata": {
    "collapsed": false
   },
   "outputs": [
    {
     "data": {
      "image/png": "[encoded data removed]",
      "text/plain": [
       "<matplotlib.figure.Figure at 0x7f7e17a22860>"
      ]
     },
     "metadata": {},
     "output_type": "display_data"
    }
   ],
   "source": [
    "plot_top10_hashes('Brisbane',sparkDF)"
   ]
  },
  {
   "cell_type": "code",
   "execution_count": 80,
   "metadata": {
    "collapsed": false
   },
   "outputs": [
    {
     "name": "stdout",
     "output_type": "stream",
     "text": [
      "+--------+-----------------+-----+\n",
      "|location|          hashtag|count|\n",
      "+--------+-----------------+-----+\n",
      "|  Sydney|       nowplaying|   13|\n",
      "|  Sydney|           auspol|    8|\n",
      "|  Sydney|           Sydney|    6|\n",
      "|  Sydney|           sydney|    6|\n",
      "|  Sydney|      naturalGold|    4|\n",
      "|  Sydney|         skincare|    4|\n",
      "|  Sydney|OrganicRosehipOil|    4|\n",
      "|  Sydney|       cosmetique|    4|\n",
      "|  Sydney|  TheForceAwakens|    4|\n",
      "|  Sydney|        cosmetics|    4|\n",
      "+--------+-----------------+-----+\n",
      "\n"
     ]
    }
   ],
   "source": [
    "def top_10_hashes(loc,dataframe):\n",
    "    dataframe.registerTempTable(\"hashtagTable\")\n",
    "    Sydney = sqlContext.sql(\"SELECT location, anHash as hashtag, count(*) as count \\\n",
    "                            FROM hashtagTable \\\n",
    "                            GROUP BY location,anHash \\\n",
    "                            HAVING location='\"+loc+\"'\\\n",
    "                            ORDER BY count DESC \\\n",
    "                            LIMIT 10\")\n",
    "    Sydney.show()\n",
    "    \n",
    "top_10_hashes('Sydney',sparkDF)"
   ]
  },
  {
   "cell_type": "code",
   "execution_count": 28,
   "metadata": {
    "collapsed": false
   },
   "outputs": [
    {
     "data": {
      "text/html": [
       "<div>\n",
       "<table border=\"1\" class=\"dataframe\">\n",
       "  <thead>\n",
       "    <tr style=\"text-align: right;\">\n",
       "      <th></th>\n",
       "      <th>location</th>\n",
       "      <th>anHash</th>\n",
       "      <th>count</th>\n",
       "    </tr>\n",
       "  </thead>\n",
       "  <tbody>\n",
       "    <tr>\n",
       "      <th>0</th>\n",
       "      <td>Sydney</td>\n",
       "      <td>nowplaying</td>\n",
       "      <td>324</td>\n",
       "    </tr>\n",
       "    <tr>\n",
       "      <th>1</th>\n",
       "      <td>Ghan</td>\n",
       "      <td>trndnl</td>\n",
       "      <td>271</td>\n",
       "    </tr>\n",
       "    <tr>\n",
       "      <th>2</th>\n",
       "      <td>Sydney</td>\n",
       "      <td>Sydney</td>\n",
       "      <td>179</td>\n",
       "    </tr>\n",
       "    <tr>\n",
       "      <th>3</th>\n",
       "      <td>Pinjarra</td>\n",
       "      <td>EvasHolidayGiveaway</td>\n",
       "      <td>138</td>\n",
       "    </tr>\n",
       "    <tr>\n",
       "      <th>4</th>\n",
       "      <td>Sydney</td>\n",
       "      <td>ALDUB5thMonthsary</td>\n",
       "      <td>120</td>\n",
       "    </tr>\n",
       "    <tr>\n",
       "      <th>5</th>\n",
       "      <td>Melbourne</td>\n",
       "      <td>auspol</td>\n",
       "      <td>109</td>\n",
       "    </tr>\n",
       "    <tr>\n",
       "      <th>6</th>\n",
       "      <td>Sydney</td>\n",
       "      <td>sydneystorm</td>\n",
       "      <td>104</td>\n",
       "    </tr>\n",
       "    <tr>\n",
       "      <th>7</th>\n",
       "      <td>Sydney</td>\n",
       "      <td>sydney</td>\n",
       "      <td>102</td>\n",
       "    </tr>\n",
       "    <tr>\n",
       "      <th>8</th>\n",
       "      <td>Melbourne</td>\n",
       "      <td>PTSD</td>\n",
       "      <td>95</td>\n",
       "    </tr>\n",
       "    <tr>\n",
       "      <th>9</th>\n",
       "      <td>Melbourne</td>\n",
       "      <td>EndoSisters</td>\n",
       "      <td>95</td>\n",
       "    </tr>\n",
       "  </tbody>\n",
       "</table>\n",
       "</div>"
      ],
      "text/plain": [
       "    location               anHash  count\n",
       "0     Sydney           nowplaying    324\n",
       "1       Ghan               trndnl    271\n",
       "2     Sydney               Sydney    179\n",
       "3   Pinjarra  EvasHolidayGiveaway    138\n",
       "4     Sydney    ALDUB5thMonthsary    120\n",
       "5  Melbourne               auspol    109\n",
       "6     Sydney          sydneystorm    104\n",
       "7     Sydney               sydney    102\n",
       "8  Melbourne                 PTSD     95\n",
       "9  Melbourne          EndoSisters     95"
      ]
     },
     "execution_count": 28,
     "metadata": {},
     "output_type": "execute_result"
    }
   ],
   "source": [
    "top10_hour = tablePlot.toPandas()\n",
    "top10_hour"
   ]
  },
  {
   "cell_type": "code",
   "execution_count": null,
   "metadata": {
    "collapsed": true
   },
   "outputs": [],
   "source": []
  },
  {
   "cell_type": "code",
   "execution_count": 43,
   "metadata": {
    "collapsed": false
   },
   "outputs": [
    {
     "name": "stdout",
     "output_type": "stream",
     "text": [
      "+--------------------+-----+\n",
      "|            location|count|\n",
      "+--------------------+-----+\n",
      "|           Mount Isa|    3|\n",
      "|      Bondi Junction|    2|\n",
      "|              Cyprus|    1|\n",
      "|Salamander Bay - ...|    3|\n",
      "|             Mildura|    2|\n",
      "|              Lindos|   12|\n",
      "|             Salford|    1|\n",
      "|       Murray Bridge|    8|\n",
      "|         Fredericton|    1|\n",
      "|      Rancho Cordova|    2|\n",
      "|             Cardiff|    5|\n",
      "|Kyoto City Nakagy...|    9|\n",
      "|           Lafayette|    1|\n",
      "|            Inkerman|    1|\n",
      "|          Wollongong|   49|\n",
      "|Ocean Grove - Bar...|    6|\n",
      "|The Art Institute...|    1|\n",
      "|             Bohumín|    5|\n",
      "|             Geelong|   44|\n",
      "|         Nogata City|    5|\n",
      "+--------------------+-----+\n",
      "only showing top 20 rows\n",
      "\n"
     ]
    }
   ],
   "source": [
    "#summary = sqlContext.sql(\"SELECT sum(count) as tweets_for_hour, avg(count) as avg_tweets_per_hour FROM (SELECT location, count(*) as count  FROM eventTable GROUP BY location)inner_q\")\n",
    "summary = sqlContext.sql(\"SELECT * FROM (SELECT location, count(*) as count  FROM eventTable GROUP BY location)inner_q\")\n",
    "summary.show()"
   ]
  },
  {
   "cell_type": "code",
   "execution_count": null,
   "metadata": {
    "collapsed": false
   },
   "outputs": [],
   "source": []
  },
  {
   "cell_type": "code",
   "execution_count": 41,
   "metadata": {
    "collapsed": false
   },
   "outputs": [
    {
     "data": {
      "text/plain": [
       "<matplotlib.figure.Figure at 0x7f7e17f1bcf8>"
      ]
     },
     "execution_count": 41,
     "metadata": {},
     "output_type": "execute_result"
    },
    {
     "data": {
      "text/plain": [
       "<matplotlib.figure.Figure at 0x7f7e17f1bcf8>"
      ]
     },
     "metadata": {},
     "output_type": "display_data"
    }
   ],
   "source": [
    "import matplotlib.pyplot as plt\n",
    "from pandas.tools.plotting import andrews_curves\n",
    "%matplotlib inline\n",
    "plt.figure()\n"
   ]
  },
  {
   "cell_type": "code",
   "execution_count": 169,
   "metadata": {
    "collapsed": false
   },
   "outputs": [
    {
     "data": {
      "text/plain": [
       "<matplotlib.axes._subplots.AxesSubplot at 0x7f1c49784208>"
      ]
     },
     "execution_count": 169,
     "metadata": {},
     "output_type": "execute_result"
    },
    {
     "data": {
      "image/png": "[encoded data removed]",
      "text/plain": [
       "<matplotlib.figure.Figure at 0x7f1c4b2ace80>"
      ]
     },
     "metadata": {},
     "output_type": "display_data"
    }
   ],
   "source": [
    "andrews_curves(data[:10], 'location')"
   ]
  },
  {
   "cell_type": "code",
   "execution_count": 58,
   "metadata": {
    "collapsed": false
   },
   "outputs": [
    {
     "data": {
      "text/plain": [
       "<matplotlib.axes._subplots.AxesSubplot at 0x7fcbe5b1d6d8>"
      ]
     },
     "execution_count": 58,
     "metadata": {},
     "output_type": "execute_result"
    },
    {
     "data": {
      "image/png": "[encoded data removed]",
      "text/plain": [
       "<matplotlib.figure.Figure at 0x7fcbe5b991d0>"
      ]
     },
     "metadata": {},
     "output_type": "display_data"
    }
   ],
   "source": [
    "import matplotlib.pyplot as plt\n",
    "%matplotlib inline\n",
    "fig, ax = plt.subplots()\n",
    "LHdata[:10].plot(ax=ax, kind='bar')"
   ]
  },
  {
   "cell_type": "code",
   "execution_count": 70,
   "metadata": {
    "collapsed": false
   },
   "outputs": [
    {
     "data": {
      "text/plain": [
       "<matplotlib.axes._subplots.AxesSubplot at 0x7fcbe584e358>"
      ]
     },
     "execution_count": 70,
     "metadata": {},
     "output_type": "execute_result"
    },
    {
     "data": {
      "image/png": "[encoded data removed]",
      "text/plain": [
       "<matplotlib.figure.Figure at 0x7fcbe5aa5390>"
      ]
     },
     "metadata": {},
     "output_type": "display_data"
    }
   ],
   "source": [
    "LHdata[:10].plot(\"location\")"
   ]
  },
  {
   "cell_type": "code",
   "execution_count": 93,
   "metadata": {
    "collapsed": false
   },
   "outputs": [
    {
     "data": {
      "text/plain": [
       "<matplotlib.axes._subplots.AxesSubplot at 0x7fcbe51fc8d0>"
      ]
     },
     "execution_count": 93,
     "metadata": {},
     "output_type": "execute_result"
    },
    {
     "data": {
      "image/png": "[encoded data removed]",
      "text/plain": [
       "<matplotlib.figure.Figure at 0x7fcbe520c5f8>"
      ]
     },
     "metadata": {},
     "output_type": "display_data"
    }
   ],
   "source": [
    "data[:10].plot(\"location\",kind='bar',stacked=True,color='gray',title='Top 10 cities having hashtag tweets/hr',legend=False)"
   ]
  },
  {
   "cell_type": "markdown",
   "metadata": {},
   "source": [
    "import plotly.plotly as py\n",
    "import cufflinks as cf\n",
    "import pandas as pd\n",
    "\n",
    "cf.set_config_file(offline=False, world_readable=True, theme='ggplot')\n",
    "\n",
    "#df = pd.read_csv('https://raw.githubusercontent.com/plotly/widgets/master/ipandas-examples/311_150k.csv', parse_dates=True, index_col=1)\n",
    "#df.head(3)\n",
    "\n",
    "series = LHdata[:10]\n",
    "series.head(3)\n",
    "\n",
    "series.iplot(kind='bar', yTitle='Number of Complaints', title='NYC 311 Complaints',\n",
    "             filename='cufflinks/categorical-bar-chart')\n"
   ]
  },
  {
   "cell_type": "code",
   "execution_count": 76,
   "metadata": {
    "collapsed": false
   },
   "outputs": [
    {
     "data": {
      "text/html": [
       "<div>\n",
       "<table border=\"1\" class=\"dataframe\">\n",
       "  <thead>\n",
       "    <tr style=\"text-align: right;\">\n",
       "      <th></th>\n",
       "      <th>location</th>\n",
       "      <th>anHash</th>\n",
       "      <th>count</th>\n",
       "    </tr>\n",
       "  </thead>\n",
       "  <tbody>\n",
       "    <tr>\n",
       "      <th>0</th>\n",
       "      <td>Sydney</td>\n",
       "      <td>sydneystorm</td>\n",
       "      <td>21</td>\n",
       "    </tr>\n",
       "    <tr>\n",
       "      <th>1</th>\n",
       "      <td>Ghan</td>\n",
       "      <td>trndnl</td>\n",
       "      <td>15</td>\n",
       "    </tr>\n",
       "    <tr>\n",
       "      <th>2</th>\n",
       "      <td>Sydney</td>\n",
       "      <td>Sydney</td>\n",
       "      <td>14</td>\n",
       "    </tr>\n",
       "    <tr>\n",
       "      <th>3</th>\n",
       "      <td>Melbourne</td>\n",
       "      <td>auspol</td>\n",
       "      <td>13</td>\n",
       "    </tr>\n",
       "    <tr>\n",
       "      <th>4</th>\n",
       "      <td>Sydney</td>\n",
       "      <td>nowplaying</td>\n",
       "      <td>13</td>\n",
       "    </tr>\n",
       "    <tr>\n",
       "      <th>5</th>\n",
       "      <td>Melbourne</td>\n",
       "      <td>CrawfordTo1Million</td>\n",
       "      <td>9</td>\n",
       "    </tr>\n",
       "    <tr>\n",
       "      <th>6</th>\n",
       "      <td>Sydney</td>\n",
       "      <td>ALDUB5thMonthsary</td>\n",
       "      <td>9</td>\n",
       "    </tr>\n",
       "    <tr>\n",
       "      <th>7</th>\n",
       "      <td>Sydney</td>\n",
       "      <td>sydney</td>\n",
       "      <td>8</td>\n",
       "    </tr>\n",
       "    <tr>\n",
       "      <th>8</th>\n",
       "      <td>Melbourne</td>\n",
       "      <td>CRE</td>\n",
       "      <td>8</td>\n",
       "    </tr>\n",
       "    <tr>\n",
       "      <th>9</th>\n",
       "      <td>Melbourne</td>\n",
       "      <td>HighStPrahran</td>\n",
       "      <td>7</td>\n",
       "    </tr>\n",
       "  </tbody>\n",
       "</table>\n",
       "</div>"
      ],
      "text/plain": [
       "    location              anHash  count\n",
       "0     Sydney         sydneystorm     21\n",
       "1       Ghan              trndnl     15\n",
       "2     Sydney              Sydney     14\n",
       "3  Melbourne              auspol     13\n",
       "4     Sydney          nowplaying     13\n",
       "5  Melbourne  CrawfordTo1Million      9\n",
       "6     Sydney   ALDUB5thMonthsary      9\n",
       "7     Sydney              sydney      8\n",
       "8  Melbourne                 CRE      8\n",
       "9  Melbourne       HighStPrahran      7"
      ]
     },
     "execution_count": 76,
     "metadata": {},
     "output_type": "execute_result"
    }
   ],
   "source": [
    "D=LHdata[:10]\n",
    "D"
   ]
  },
  {
   "cell_type": "code",
   "execution_count": 42,
   "metadata": {
    "collapsed": false
   },
   "outputs": [
    {
     "data": {
      "text/plain": [
       "<matplotlib.figure.Figure at 0x7fbb98a134e0>"
      ]
     },
     "execution_count": 42,
     "metadata": {},
     "output_type": "execute_result"
    },
    {
     "data": {
      "text/plain": [
       "<matplotlib.figure.Figure at 0x7fbb98a134e0>"
      ]
     },
     "metadata": {},
     "output_type": "display_data"
    }
   ],
   "source": [
    "import matplotlib.pyplot as plt\n",
    "import matplotlib\n",
    "matplotlib.style.use('ggplot')\n",
    "import pandas.tools.rplot as rplot\n",
    "%matplotlib inline\n",
    "plt.figure()\n",
    "#plot = rplot.RPlot(D)\n",
    "#plot.add(rplot.TrellisGrid(['location','.']))\n",
    "#plot.add(rplot.GeomScatter())\n",
    "#plot.add(rplot.GeomPolyFit(degree=2))\n",
    "#plot.render(plt.gcf())"
   ]
  },
  {
   "cell_type": "markdown",
   "metadata": {},
   "source": [
    "import seaborn as sns\n",
    "g = sns.FacetGrid(LHdata[:10], row=\"location\")\n",
    "g.map(plt.scatter, \"anHash\", \"count\")"
   ]
  },
  {
   "cell_type": "code",
   "execution_count": 81,
   "metadata": {
    "collapsed": false
   },
   "outputs": [],
   "source": [
    "test = sqlContext.sql(\"SELECT location, anHash FROM eventTable\")\n",
    "ptest = test.toPandas()\n",
    "#ptest"
   ]
  },
  {
   "cell_type": "code",
   "execution_count": 15,
   "metadata": {
    "collapsed": false
   },
   "outputs": [
    {
     "data": {
      "text/plain": [
       "(datetime.datetime(2015, 12, 17, 17, 58, 58, 948212),\n",
       " datetime.datetime(2015, 12, 17, 16, 59, 58, 948212))"
      ]
     },
     "execution_count": 15,
     "metadata": {},
     "output_type": "execute_result"
    }
   ],
   "source": [
    "from datetime import datetime, timedelta\n",
    "d = datetime.now()\n",
    "\n",
    "#data = [d + timedelta(minutes=i) for i in range(100)]\n",
    "k = d + timedelta(minutes=+(d.minute % 60)) \n",
    "k, d"
   ]
  },
  {
   "cell_type": "code",
   "execution_count": 34,
   "metadata": {
    "collapsed": false
   },
   "outputs": [
    {
     "data": {
      "text/html": [
       "<div>\n",
       "<table border=\"1\" class=\"dataframe\">\n",
       "  <thead>\n",
       "    <tr style=\"text-align: right;\">\n",
       "      <th></th>\n",
       "      <th>hashtag</th>\n",
       "      <th>count</th>\n",
       "      <th>timeframe</th>\n",
       "    </tr>\n",
       "  </thead>\n",
       "  <tbody>\n",
       "    <tr>\n",
       "      <th>0</th>\n",
       "      <td>nowplaying</td>\n",
       "      <td>13</td>\n",
       "      <td>0</td>\n",
       "    </tr>\n",
       "    <tr>\n",
       "      <th>1</th>\n",
       "      <td>sydney</td>\n",
       "      <td>13</td>\n",
       "      <td>0</td>\n",
       "    </tr>\n",
       "    <tr>\n",
       "      <th>2</th>\n",
       "      <td>aldubthesearch</td>\n",
       "      <td>7</td>\n",
       "      <td>1</td>\n",
       "    </tr>\n",
       "    <tr>\n",
       "      <th>3</th>\n",
       "      <td>livingutilities</td>\n",
       "      <td>2</td>\n",
       "      <td>1</td>\n",
       "    </tr>\n",
       "    <tr>\n",
       "      <th>4</th>\n",
       "      <td>tgif</td>\n",
       "      <td>2</td>\n",
       "      <td>2</td>\n",
       "    </tr>\n",
       "    <tr>\n",
       "      <th>5</th>\n",
       "      <td>nowplaying</td>\n",
       "      <td>13</td>\n",
       "      <td>2</td>\n",
       "    </tr>\n",
       "    <tr>\n",
       "      <th>6</th>\n",
       "      <td>sydney</td>\n",
       "      <td>7</td>\n",
       "      <td>3</td>\n",
       "    </tr>\n",
       "    <tr>\n",
       "      <th>7</th>\n",
       "      <td>christmas</td>\n",
       "      <td>4</td>\n",
       "      <td>3</td>\n",
       "    </tr>\n",
       "    <tr>\n",
       "      <th>8</th>\n",
       "      <td>starwars</td>\n",
       "      <td>4</td>\n",
       "      <td>4</td>\n",
       "    </tr>\n",
       "    <tr>\n",
       "      <th>9</th>\n",
       "      <td>auspol</td>\n",
       "      <td>4</td>\n",
       "      <td>4</td>\n",
       "    </tr>\n",
       "  </tbody>\n",
       "</table>\n",
       "</div>"
      ],
      "text/plain": [
       "           hashtag  count  timeframe\n",
       "0       nowplaying     13          0\n",
       "1           sydney     13          0\n",
       "2   aldubthesearch      7          1\n",
       "3  livingutilities      2          1\n",
       "4             tgif      2          2\n",
       "5       nowplaying     13          2\n",
       "6           sydney      7          3\n",
       "7        christmas      4          3\n",
       "8         starwars      4          4\n",
       "9           auspol      4          4"
      ]
     },
     "execution_count": 34,
     "metadata": {},
     "output_type": "execute_result"
    }
   ],
   "source": [
    "import pandas as pd\n",
    "PandaDF = pd.DataFrame(columns=['hashtag','count','timeframe'])\n",
    "PandaDF['hashtag']=['nowplaying','sydney','aldubthesearch','livingutilities','tgif','nowplaying','sydney','christmas','starwars','auspol']\n",
    "PandaDF['count']=[13,13,7,2,2,13,7,4,4,4]\n",
    "PandaDF['timeframe']=[0,0,1,1,2,2,3,3,4,4]\n",
    "PandaDF"
   ]
  },
  {
   "cell_type": "code",
   "execution_count": 28,
   "metadata": {
    "collapsed": false
   },
   "outputs": [
    {
     "data": {
      "text/plain": [
       "<matplotlib.collections.PathCollection at 0x7f2342e6a860>"
      ]
     },
     "execution_count": 28,
     "metadata": {},
     "output_type": "execute_result"
    },
    {
     "data": {
      "image/png": "[encoded data removed]",
      "text/plain": [
       "<matplotlib.figure.Figure at 0x7f2342eeb780>"
      ]
     },
     "metadata": {},
     "output_type": "display_data"
    }
   ],
   "source": [
    "import matplotlib.cm as cm\n",
    "import numpy as np\n",
    "#for i, group in PandaDF.groupby('timeframe'):\n",
    "    #plt.figure()\n",
    "    #group.plot(x='count', y='timeframe', title=str(i))\n",
    "    #plt.figure()   \n",
    "colors = iter(cm.rainbow(np.linspace(0, 1,10)))\n",
    "\n",
    "fig, ax = plt.subplots()\n",
    "ax.scatter(PandaDF['timeframe'],PandaDF['count'],color=next(colors))"
   ]
  },
  {
   "cell_type": "code",
   "execution_count": 35,
   "metadata": {
    "collapsed": false
   },
   "outputs": [
    {
     "name": "stderr",
     "output_type": "stream",
     "text": [
      "/usr/local/lib/python3.4/dist-packages/matplotlib/axes/_base.py:2767: UserWarning: Attempting to set identical left==right results\n",
      "in singular transformations; automatically expanding.\n",
      "left=1.0, right=1.0\n",
      "  'left=%s, right=%s') % (left, right))\n"
     ]
    },
    {
     "data": {
      "image/png": "[encoded data removed]",
      "text/plain": [
       "<matplotlib.figure.Figure at 0x7f2342a47588>"
      ]
     },
     "metadata": {},
     "output_type": "display_data"
    }
   ],
   "source": [
    "import matplotlib.cm as cm\n",
    "import numpy as np\n",
    "fig, ax = plt.subplots()\n",
    "\n",
    "grouped = PandaDF.groupby('hashtag')\n",
    "\n",
    "colors = iter(cm.rainbow(np.linspace(0, 1, len(grouped))))\n",
    "\n",
    "for key, group in grouped:\n",
    "    group.plot(ax=ax, x='timeframe', y='count',label=key,marker='o',color=next(colors),linestyle='-',legend=False)\n",
    "    #print(group['timeframe'])\n",
    "    #ax.annotate(group['hashtag'], xy=(group['timeframe'], group['count']))\n",
    "    \n",
    "#ax.legend(loc='upper right',ncol=3,fontsize=8,numpoints=1)\n",
    "\n",
    "for i, txt in enumerate(PandaDF['hashtag']):\n",
    "    ax.annotate(txt,xy=(PandaDF['timeframe'][i],PandaDF['count'][i]),xytext = (-10,5),textcoords = 'offset points',)\n",
    "    \n",
    "plt.show()"
   ]
  },
  {
   "cell_type": "code",
   "execution_count": 33,
   "metadata": {
    "collapsed": false
   },
   "outputs": [
    {
     "name": "stdout",
     "output_type": "stream",
     "text": [
      "13 0\n",
      "13 0\n",
      "7 0\n",
      "2 0\n",
      "2 0\n",
      "13 1\n",
      "7 1\n",
      "4 1\n",
      "4 1\n",
      "4 1\n"
     ]
    },
    {
     "data": {
      "image/png": "[encoded data removed]",
      "text/plain": [
       "<matplotlib.figure.Figure at 0x7f2342cb16a0>"
      ]
     },
     "metadata": {},
     "output_type": "display_data"
    }
   ],
   "source": [
    "y=[2.56422, 3.77284,3.52623,3.51468,3.02199]\n",
    "z=[0.15, 0.3, 0.45, 0.6, 0.75]\n",
    "n=[58,651,393,203,123]\n",
    "\n",
    "fig, ax = plt.subplots()\n",
    "ax.scatter(z, y,marker='o')\n",
    "\n",
    "for i, txt in enumerate(PandaDF['hashtag']):\n",
    "    #ax.annotate(txt, (z[i],y[i]))\n",
    "    #print(z[i],y[i])\n",
    "    print(PandaDF['count'][i],PandaDF['timeframe'][i])\n"
   ]
  },
  {
   "cell_type": "code",
   "execution_count": 133,
   "metadata": {
    "collapsed": false
   },
   "outputs": [],
   "source": [
    "def annotate_df(row):  \n",
    "    ax.annotate(row.name, row.values,\n",
    "                xytext=(10,-5), \n",
    "                textcoords='offset points',\n",
    "                size=18, \n",
    "                color='darkslategrey')"
   ]
  },
  {
   "cell_type": "code",
   "execution_count": 101,
   "metadata": {
    "collapsed": false
   },
   "outputs": [
    {
     "data": {
      "text/plain": [
       "<matplotlib.text.Text at 0x7fac80539748>"
      ]
     },
     "execution_count": 101,
     "metadata": {},
     "output_type": "execute_result"
    },
    {
     "data": {
      "image/png": "[encoded data removed]",
      "text/plain": [
       "<matplotlib.figure.Figure at 0x7fac805c60f0>"
      ]
     },
     "metadata": {},
     "output_type": "display_data"
    }
   ],
   "source": [
    "import matplotlib.dates as mdates\n",
    "\n",
    "ax3=PandaDF.plot('timeframe','count')\n",
    "ax3.set_ylim(0,20)\n",
    "ax3.set_title('Heatherwood-Quarterly')"
   ]
  },
  {
   "cell_type": "code",
   "execution_count": null,
   "metadata": {
    "collapsed": true
   },
   "outputs": [],
   "source": [
    "#df = issue_counts.unstack()\n",
    "#rows = np.random.choice(df.index.values, 15)\n",
    "#df = df.ix[rows]\n",
    "#df.plot(kind='bar', stacked=True, figsize=(20, 10), colormap=\"BuGn\")\n",
    "#ax = .plot(kind='bar', stacked=True, width = 0.5, figsize=(18, 10), colormap=\"YlGnBu\")\n",
    "#ax.legend(bbox_to_anchor=(0.98, 1.0))\n",
    "ax.set_ylabel(\"Number of Issues\")\n",
    "patches, labels = ax.get_legend_handles_labels()\n",
    "ax.legend(patches, labels, loc='best')\n",
    "\n",
    "###################################\n",
    "import matplotlib.pyplot as plt\n",
    "%matplotlib inline\n",
    "\n",
    "#df = tt.unstack()\n",
    "#ax = finalP.plot(kind='bar',x='timeframe', y='hashtag',figsize=(30,10), colormap=\"gray\")\n",
    "#ax.set_ylabel(\"Number of Hashtags\")\n",
    "#patches, labels = ax.get_legend_handles_labels()\n",
    "#ax.legend(patches, labels, loc='best')\n",
    "#ax.legend(bbox_to_anchor=(0.16, 0.98))"
   ]
  },
  {
   "cell_type": "code",
   "execution_count": null,
   "metadata": {
    "collapsed": true
   },
   "outputs": [],
   "source": [
    "text1=['***UNION or NON UNION submissions***\\nMust be registered with Central Casting\\n\\nKendall is taking submissions for a... http://t.co/g9tKTO6hHP',\n",
    " 'RT @Snowden: I was told to stop tweeting cat pictures. This is a protest. The cat pictures will continue until morale improves.  https://t.…',\n",
    " 'RT @Finance_Fan: Video: Undercover Israeli soldiers infiltrate Palestinian demonstration, beat protesters and shoot detain... http://t.co/e…',\n",
    " 'Video Game voice actors vote yes in regards to being able to start a strike.\\n#GameNews #Gaming #Voiceacting\\nhttp://t.co/UTU838u4wY',\n",
    " '@da_667 @threat_inc @TalosSecurity Aye, the tales of the mercenaries of the Talos have traveled to the far reaches of the western border.']\n",
    "text2='***UNION or NON UNION submissions***\\nMust be registered with Central Casting\\n\\nKendall is taking submissions for a... http://t.co/g9tKTO6hHP'\n",
    "#sentences=sent_tokenize(text1)\n",
    "#my_text=[sent for sent in text1 if 'protest' in word_tokenize(sent)]\n",
    "\n",
    "def get_bodytext(body_list):\n",
    "    my_text=list()\n",
    "    for sent in body_list:\n",
    "        #print(word_tokenize(sent.lower()))\n",
    "        if 'the' in  word_tokenize(sent.lower()):\n",
    "            #print(sent)\n",
    "            my_text.append(sent.lower())\n",
    "    #print(my_text)       \n",
    "    return my_text\n",
    "\n",
    "def get_tweet(body_line):\n",
    "    #my_text=list()\n",
    "    if 'central' in  word_tokenize(body_line.lower()):\n",
    "        print(body_line)\n",
    "        #return body_line"
   ]
  },
  {
   "cell_type": "markdown",
   "metadata": {},
   "source": [
    "# Part II"
   ]
  },
  {
   "cell_type": "code",
   "execution_count": 36,
   "metadata": {
    "collapsed": true
   },
   "outputs": [],
   "source": [
    "from pyspark.sql import SQLContext\n",
    "import datetime as dt\n",
    "import time\n",
    "import json\n",
    "import nltk\n",
    "sqlContext = SQLContext(sc)\n",
    "\n",
    "from nltk.tokenize import sent_tokenize\n",
    "from nltk.tokenize import word_tokenize\n",
    "\n",
    "from nltk.tokenize import TweetTokenizer\n",
    "tweet_tokenizer = TweetTokenizer()"
   ]
  },
  {
   "cell_type": "code",
   "execution_count": 65,
   "metadata": {
    "collapsed": false
   },
   "outputs": [],
   "source": [
    "def load_data():\n",
    "    day = dt.datetime(2015,10,10)\n",
    "    day_ago = day - dt.timedelta(days=1)\n",
    "    \n",
    "    end_time = time.mktime(day.timetuple())\n",
    "    start_time = time.mktime(day_ago.timetuple())\n",
    "    \n",
    "    return sqlContext.read.load(format = \"au.com.d2dcrc.carbon.spark.tweets\", startTimestamp = int(start_time), endTimestamp = int(end_time))"
   ]
  },
  {
   "cell_type": "code",
   "execution_count": 2,
   "metadata": {
    "collapsed": false
   },
   "outputs": [],
   "source": [
    "def get_data(hrs):\n",
    "    time_now = dt.datetime.now()\n",
    "    hour_ago = time_now - dt.timedelta(hours=hrs)\n",
    "    #print(time_now,hour_ago)\n",
    "\n",
    "    end_time = time.mktime(time_now.timetuple())\n",
    "    start_time = time.mktime(hour_ago.timetuple())\n",
    "    #print(start_time,end_time)\n",
    "    \n",
    "    return sqlContext.read.load(format = \"au.com.d2dcrc.carbon.spark.tweets\", startTimestamp = int(start_time), endTimestamp = int(end_time))\n"
   ]
  },
  {
   "cell_type": "code",
   "execution_count": 3,
   "metadata": {
    "collapsed": false
   },
   "outputs": [],
   "source": [
    "#df = load_data()\n",
    "df = get_data(hrs=1)\n",
    "rawDF = df.select(\"data\")"
   ]
  },
  {
   "cell_type": "code",
   "execution_count": 15,
   "metadata": {
    "collapsed": false
   },
   "outputs": [],
   "source": [
    "body_text = rawDF.map(lambda row: row.data).map(lambda data: json.loads(data))\\\n",
    ".filter(lambda line_tuple: 'en' in line_tuple['twitter_lang']).map(lambda line:(line.get('body',None), line.get('twitter_lang',None)))\n",
    "#.filter(lambda line_tuple: 'en' in line_tuple['actor']['languages']).map(lambda line:line.get('body'))\n",
    "#.map(lambda line: (line.get('body'),line['actor']['languages']))\n"
   ]
  },
  {
   "cell_type": "code",
   "execution_count": 17,
   "metadata": {
    "collapsed": false
   },
   "outputs": [
    {
     "data": {
      "text/plain": [
       "51251"
      ]
     },
     "execution_count": 17,
     "metadata": {},
     "output_type": "execute_result"
    }
   ],
   "source": [
    "body_text.count()"
   ]
  },
  {
   "cell_type": "code",
   "execution_count": 5,
   "metadata": {
    "collapsed": true
   },
   "outputs": [],
   "source": [
    "body_tokens = body_text.map(lambda line: tweet_tokenizer.tokenize(line))"
   ]
  },
  {
   "cell_type": "code",
   "execution_count": 15,
   "metadata": {
    "collapsed": false
   },
   "outputs": [
    {
     "data": {
      "text/plain": [
       "[['@justwalkingaway',\n",
       "  'not',\n",
       "  'needed',\n",
       "  '.',\n",
       "  'You',\n",
       "  '’',\n",
       "  'll',\n",
       "  'be',\n",
       "  'ok',\n",
       "  '.',\n",
       "  'You',\n",
       "  'don',\n",
       "  '’',\n",
       "  't',\n",
       "  'do',\n",
       "  'half',\n",
       "  'and',\n",
       "  'half',\n",
       "  ',',\n",
       "  'you',\n",
       "  'commit',\n",
       "  'to',\n",
       "  'the',\n",
       "  'short',\n",
       "  'or',\n",
       "  'the',\n",
       "  'long',\n",
       "  '.',\n",
       "  'Have',\n",
       "  'faith',\n",
       "  'in',\n",
       "  'your',\n",
       "  'commitment'],\n",
       " ['RT',\n",
       "  '@mary_blando',\n",
       "  ':',\n",
       "  'Wow',\n",
       "  'fantastic',\n",
       "  'c',\n",
       "  'bibi',\n",
       "  '!',\n",
       "  '!',\n",
       "  '#ALDUBMyOneAndONLY',\n",
       "  'https://t.co/jXdqeiarn0']]"
      ]
     },
     "execution_count": 15,
     "metadata": {},
     "output_type": "execute_result"
    }
   ],
   "source": [
    "body_tokens.take(2)"
   ]
  },
  {
   "cell_type": "code",
   "execution_count": 6,
   "metadata": {
    "collapsed": false
   },
   "outputs": [],
   "source": [
    "#for bendigo data taken from Oct 10, 2015\n",
    "body_text = rawDF.map(lambda row: row.data).map(lambda data: json.loads(data)).map(lambda line: line.get('body'))\\\n",
    ".filter(lambda line_tuple: \"bendigo\" in line_tuple.lower())"
   ]
  },
  {
   "cell_type": "code",
   "execution_count": 221,
   "metadata": {
    "collapsed": false
   },
   "outputs": [
    {
     "data": {
      "text/plain": [
       "['YouTube Interviews President Obama after the State of the Union... https://t.co/zbbefw5ZmL #stateoftheunion2016',\n",
       " \"Me in school: GIVE ME LIBERTY OR GIVE ME DEATH!!!!!! Mainly liberty please cause like I'm too young to die *does smile and gives thumbs up*\",\n",
       " 'RT @MinhKular: LNP will NOT rule out GST.....accusing Labor of scare campaign.\\nOnly scare around is LNP and their GST\\n\\n#auspol']"
      ]
     },
     "execution_count": 221,
     "metadata": {},
     "output_type": "execute_result"
    }
   ],
   "source": [
    "body_text.take(3)"
   ]
  },
  {
   "cell_type": "code",
   "execution_count": 77,
   "metadata": {
    "collapsed": false
   },
   "outputs": [
    {
     "data": {
      "text/plain": [
       "['@foo', '#bar', ':)', 'lol', 'twitter', '#funny', '@bar']"
      ]
     },
     "execution_count": 77,
     "metadata": {},
     "output_type": "execute_result"
    }
   ],
   "source": [
    "def tokenize_tweet(tweet):\n",
    "    return tweet_tokenizer.tokenize(tweet)\n",
    "\n",
    "\n",
    "tokenize_tweet(\"@foo #bar :) lol twitter #funny @bar\")"
   ]
  },
  {
   "cell_type": "code",
   "execution_count": 32,
   "metadata": {
    "collapsed": false
   },
   "outputs": [
    {
     "data": {
      "text/plain": [
       "244"
      ]
     },
     "execution_count": 32,
     "metadata": {},
     "output_type": "execute_result"
    }
   ],
   "source": [
    "body_links = body_text.map(lambda line: tweet_tokenizer.tokenize(line)).flatMap(lambda x: x).filter(lambda x: \"http\" in x)\n",
    "body_links.count()"
   ]
  },
  {
   "cell_type": "code",
   "execution_count": 23,
   "metadata": {
    "collapsed": true
   },
   "outputs": [],
   "source": [
    "body_tokens = rawDF.map(lambda row: row.data).map(lambda data: json.loads(data)).map(lambda line: line.get('body'))\\\n",
    ".filter(lambda line_tuple: \"bendigo\" in line_tuple.lower()).map(lambda line: tweet_tokenizer.tokenize(line))"
   ]
  },
  {
   "cell_type": "code",
   "execution_count": 35,
   "metadata": {
    "collapsed": false
   },
   "outputs": [],
   "source": [
    "import string \n",
    "\n",
    "PUNCTUATION = set(string.punctuation)\n",
    "STOPWORDS = set(stopwords.words('english'))\n",
    "STEMMER = PorterStemmer()\n",
    "\n",
    "def feature_extraction(tokens):\n",
    "    lowercased = [t.lower() for t in tokens]\n",
    "    no_punctuation = []\n",
    "    for word in lowercased:\n",
    "        punct_removed = ''.join([letter for letter in word if not letter in PUNCTUATION])\n",
    "        no_punctuation.append(punct_removed)\n",
    "    no_stopwords = [w for w in no_punctuation if not w in STOPWORDS]\n",
    "    stemmed = [STEMMER.stem(w) for w in no_stopwords]\n",
    "    no_links = [w for w in stemmed if (not 'http' in w) and len(w)>2]\n",
    "    return [w for w in no_links if w]"
   ]
  },
  {
   "cell_type": "code",
   "execution_count": 26,
   "metadata": {
    "collapsed": false
   },
   "outputs": [],
   "source": [
    "twitter_features = body_tokens.map(lambda token_list: {\"features\":feature_extraction(token_list),\"populationGroup\":0})"
   ]
  },
  {
   "cell_type": "code",
   "execution_count": 28,
   "metadata": {
    "collapsed": false
   },
   "outputs": [
    {
     "data": {
      "text/plain": [
       "56457"
      ]
     },
     "execution_count": 28,
     "metadata": {},
     "output_type": "execute_result"
    }
   ],
   "source": [
    "twitter_features.count()"
   ]
  },
  {
   "cell_type": "code",
   "execution_count": 248,
   "metadata": {
    "collapsed": false
   },
   "outputs": [],
   "source": [
    "#body_text = rawDF.map(lambda row: row.data).map(lambda data: json.loads(data))\\\n",
    "#.filter(lambda line_tuple: 'location' in line_tuple).map(lambda line: line.get('body'))\n",
    "aa=twitter_features.map(lambda l: (l['features'],l['populationGroup']))\n",
    "sparkDF = sqlContext.createDataFrame(aa,['feature','population'])"
   ]
  },
  {
   "cell_type": "code",
   "execution_count": 249,
   "metadata": {
    "collapsed": false
   },
   "outputs": [
    {
     "name": "stdout",
     "output_type": "stream",
     "text": [
      "+--------------------+----------+\n",
      "|             feature|population|\n",
      "+--------------------+----------+\n",
      "|[youtub, intervie...|         0|\n",
      "|[school, give, li...|         0|\n",
      "|[rt, minhkular, l...|         0|\n",
      "|[look, forward, a...|         0|\n",
      "|[rt, k1erri, awes...|         0|\n",
      "|[rt, cloydriv, ob...|         0|\n",
      "|[link, httpstcozl...|         0|\n",
      "|[rt, nbcnightlyne...|         0|\n",
      "|[rt, poemsporn, h...|         0|\n",
      "|[rt, thotari, u, ...|         0|\n",
      "|[harryshannon, de...|         0|\n",
      "|[pursu, freelanc,...|         0|\n",
      "|[rt, islandmagta,...|         0|\n",
      "|[girlcallederin, ...|         0|\n",
      "|[rt, poempost, yo...|         0|\n",
      "|[cyborg, children...|         0|\n",
      "|[deal, doctor, st...|         0|\n",
      "|[rt, aronftaylor,...|         0|\n",
      "|[rt, cloydriv, ob...|         0|\n",
      "|[rt, bradybuzz, i...|         0|\n",
      "+--------------------+----------+\n",
      "only showing top 20 rows\n",
      "\n"
     ]
    }
   ],
   "source": [
    "sparkDF.show()"
   ]
  },
  {
   "cell_type": "code",
   "execution_count": 209,
   "metadata": {
    "collapsed": false
   },
   "outputs": [],
   "source": [
    "test_tweet_hashed = twitter_features.map(lambda line: LabeledPoint(line['populationGroup'], htf.transform(line['article'])))"
   ]
  },
  {
   "cell_type": "code",
   "execution_count": 5,
   "metadata": {
    "collapsed": false
   },
   "outputs": [],
   "source": [
    "bendigo_tweet=body_text.take(5)"
   ]
  },
  {
   "cell_type": "code",
   "execution_count": 8,
   "metadata": {
    "collapsed": false
   },
   "outputs": [],
   "source": [
    "from nltk.tokenize import RegexpTokenizer\n",
    "\n",
    "tokenizer = RegexpTokenizer(r'\\w+')\n",
    "tokns=[tokenizer.tokenize(line)for line in bendigo_tweet]\n",
    "#tokns\n",
    "tagged = [nltk.pos_tag(word) for word in tokns]\n",
    "#tagged\n",
    "#entities = nltk.chunk.ne_chunk(tagged)"
   ]
  },
  {
   "cell_type": "markdown",
   "metadata": {
    "collapsed": true
   },
   "source": [
    "# Naive Bayes"
   ]
  },
  {
   "cell_type": "code",
   "execution_count": 192,
   "metadata": {
    "collapsed": false
   },
   "outputs": [],
   "source": [
    "data =[\n",
    "    {\"text\": \"not to eat too much is not enough to lose weight enough\", \"category\": 1},\n",
    "    {\"text\": \"Russia is trying to invade Ukraine\", \"category\": 2},\n",
    "    {\"text\": \"do not neglect exercise\", \"category\": 1},\n",
    "    {\"text\": \"Syria is the main issue, Obama says\", \"category\": 2},\n",
    "    {\"text\": \"eat to lose weight\", \"category\": 1},\n",
    "    {\"text\": \"you should not eat much\", \"category\": 1}\n",
    "]\n",
    "\n",
    "#data =[\n",
    "#    {\"text\": \"not to eat too much is not enough to lose weight\", \"category\": \"health\"},\n",
    "#    {\"text\": \"Russia is trying to invade Ukraine\", \"category\": \"politics\"},\n",
    "#    {\"text\": \"do not neglect exercise\", \"category\": \"health\"},\n",
    "#    {\"text\": \"Syria is the main issue, Obama says\", \"category\": \"politics\"},\n",
    "#    {\"text\": \"eat to lose weight\", \"category\": \"health\"},\n",
    "#    {\"text\": \"you should not eat much\", \"category\": \"health\"}\n",
    "#]\n",
    "#{\"text\": \"From: USERNAME@leland.Stanford.EDU (USER NAME)\\nSubject: When does Fred McGriff of the Padres become a free agent?\\nOrganization: DSG, Stanford University, CA 94305, USA\\nLines: 1\\n\\n\\n\", \"label_name\": \"rec.sport.baseball\", \"label\": 9}"
   ]
  },
  {
   "cell_type": "code",
   "execution_count": 30,
   "metadata": {
    "collapsed": false
   },
   "outputs": [],
   "source": [
    "train = [('I love this sandwich.', 'pos'),\n",
    "    ('this is an amazing place!', 'pos'),\n",
    "    ('I feel very good about these beers.', 'pos'),\n",
    "    ('this is my best work.', 'pos'),\n",
    "    (\"what an awesome view\", 'pos'),\n",
    "    ('I do not like this restaurant', 'neg'),\n",
    "    ('I am tired of this stuff.', 'neg'),\n",
    "    (\"I can't deal with this\", 'neg'),\n",
    "    ('he is my sworn enemy!', 'neg'),\n",
    "    ('my boss is horrible.', 'neg')]\n",
    "\n",
    "test = [('the beer was good.', 'pos'),\n",
    "    ('I do not enjoy my job', 'neg'),\n",
    "    (\"I ain't feeling dandy today.\", 'neg'),\n",
    "    (\"I feel amazing!\", 'pos'),\n",
    "    ('Gary is a friend of mine.', 'pos'),\n",
    "    (\"I can't believe I'm doing this.\", 'neg')]"
   ]
  },
  {
   "cell_type": "code",
   "execution_count": 5,
   "metadata": {
    "collapsed": false
   },
   "outputs": [],
   "source": [
    "n = json.dumps(data)  \n",
    "dataj=json.loads(n)\n",
    "#rdd_train = sc.parallelize(dataj)\n",
    "#data_raw=rdd_train.map(lambda line: json.loads(line))"
   ]
  },
  {
   "cell_type": "code",
   "execution_count": 7,
   "metadata": {
    "collapsed": false
   },
   "outputs": [],
   "source": [
    "data_pared=sc.parallelize(dataj)"
   ]
  },
  {
   "cell_type": "code",
   "execution_count": 14,
   "metadata": {
    "collapsed": false
   },
   "outputs": [],
   "source": [
    "data_cleaned = data_pared.map(lambda category, text: (category, tokenize(text)))"
   ]
  },
  {
   "cell_type": "code",
   "execution_count": 200,
   "metadata": {
    "collapsed": false
   },
   "outputs": [],
   "source": [
    "data_cleaned = sc.parallelize(dd)"
   ]
  },
  {
   "cell_type": "code",
   "execution_count": 173,
   "metadata": {
    "collapsed": false
   },
   "outputs": [],
   "source": [
    "data_hashed = data_cleaned.map(lambda category, text: LabeledPoint(category, htf.transform(text)))\n",
    "train_hashed, test_hashed = data_hashed.randomSplit([0.7, 0.3])"
   ]
  },
  {
   "cell_type": "code",
   "execution_count": 181,
   "metadata": {
    "collapsed": false
   },
   "outputs": [
    {
     "data": {
      "text/plain": [
       "LabeledPoint(1.0, (500,[9,24,65,89,106,195,238,273,302,319,406,409,437,447,451,472],[1.0,1.0,1.0,2.0,1.0,2.0,1.0,1.0,1.0,2.0,1.0,1.0,2.0,1.0,1.0,1.0]))"
      ]
     },
     "execution_count": 181,
     "metadata": {},
     "output_type": "execute_result"
    }
   ],
   "source": [
    "LabeledPoint(1, htf.transform(text_tokn))"
   ]
  },
  {
   "cell_type": "code",
   "execution_count": 207,
   "metadata": {
    "collapsed": false
   },
   "outputs": [],
   "source": [
    "label_point=list()\n",
    "for sdict in dd:\n",
    "    #print(sdict.get('text'))\n",
    "    #print(LabeledPoint(sdict['category'],htf.transform(sdict['text'])))\n",
    "    label_point.append(LabeledPoint(sdict['category'],htf.transform(sdict['text'])))"
   ]
  },
  {
   "cell_type": "code",
   "execution_count": 209,
   "metadata": {
    "collapsed": false
   },
   "outputs": [],
   "source": [
    "label_point_data = sc.parallelize(label_point)"
   ]
  },
  {
   "cell_type": "code",
   "execution_count": 211,
   "metadata": {
    "collapsed": false
   },
   "outputs": [
    {
     "data": {
      "text/plain": [
       "LabeledPoint(1.0, (500,[43,111,338,340,459],[1.0,1.0,1.0,1.0,2.0]))"
      ]
     },
     "execution_count": 211,
     "metadata": {},
     "output_type": "execute_result"
    }
   ],
   "source": [
    "label_point_data.first()"
   ]
  },
  {
   "cell_type": "code",
   "execution_count": 212,
   "metadata": {
    "collapsed": true
   },
   "outputs": [],
   "source": [
    "train_hashed, test_hashed = label_point_data.randomSplit([0.7, 0.3])"
   ]
  },
  {
   "cell_type": "code",
   "execution_count": 225,
   "metadata": {
    "collapsed": false
   },
   "outputs": [
    {
     "data": {
      "text/plain": [
       "[LabeledPoint(2.0, (500,[24,39,304,440],[1.0,1.0,1.0,1.0])),\n",
       " LabeledPoint(1.0, (500,[43,111,340],[1.0,1.0,1.0])),\n",
       " LabeledPoint(1.0, (500,[43,338],[1.0,1.0]))]"
      ]
     },
     "execution_count": 225,
     "metadata": {},
     "output_type": "execute_result"
    }
   ],
   "source": [
    "train_hashed.take(3)"
   ]
  },
  {
   "cell_type": "code",
   "execution_count": 221,
   "metadata": {
    "collapsed": false
   },
   "outputs": [
    {
     "data": {
      "text/plain": [
       "[LabeledPoint(1.0, (500,[43,111,338,340,459],[1.0,1.0,1.0,1.0,2.0]))]"
      ]
     },
     "execution_count": 221,
     "metadata": {},
     "output_type": "execute_result"
    }
   ],
   "source": [
    "test_hashed.take(1)"
   ]
  },
  {
   "cell_type": "code",
   "execution_count": 1,
   "metadata": {
    "collapsed": false
   },
   "outputs": [],
   "source": [
    "#model = NaiveBayes.train(label_point_data,1.0)"
   ]
  },
  {
   "cell_type": "code",
   "execution_count": 75,
   "metadata": {
    "collapsed": false
   },
   "outputs": [],
   "source": [
    "data = raw_data.map(lambda line: json.loads(line))"
   ]
  },
  {
   "cell_type": "code",
   "execution_count": 93,
   "metadata": {
    "collapsed": false
   },
   "outputs": [],
   "source": [
    "data_pared = data.map(lambda line: {'populationGroup': line['populationGroup'], 'article': line['article']})"
   ]
  },
  {
   "cell_type": "code",
   "execution_count": 119,
   "metadata": {
    "collapsed": false
   },
   "outputs": [],
   "source": [
    "#gives population and tokens\n",
    "#data_cleaned = data_pared.map(lambda data_pared: (data_pared['populationGroup'], tokenize(data_pared['article'])))"
   ]
  },
  {
   "cell_type": "code",
   "execution_count": 291,
   "metadata": {
    "collapsed": false
   },
   "outputs": [],
   "source": [
    "data_cleaned = data_pared.map(lambda pared_line: {'populationGroup': lable_classes(pared_line['populationGroup']),'article':tokenize(pared_line['article'])})"
   ]
  },
  {
   "cell_type": "code",
   "execution_count": 294,
   "metadata": {
    "collapsed": false
   },
   "outputs": [],
   "source": [
    "data_hashed = data_cleaned.map(lambda dict_line: LabeledPoint(dict_line['populationGroup'], htf.transform(dict_line['article'])))"
   ]
  },
  {
   "cell_type": "code",
   "execution_count": 296,
   "metadata": {
    "collapsed": true
   },
   "outputs": [],
   "source": [
    "train_hashed, test_hashed = data_hashed.randomSplit([0.8, 0.2])"
   ]
  },
  {
   "cell_type": "code",
   "execution_count": 297,
   "metadata": {
    "collapsed": false
   },
   "outputs": [
    {
     "data": {
      "text/plain": [
       "374"
      ]
     },
     "execution_count": 297,
     "metadata": {},
     "output_type": "execute_result"
    }
   ],
   "source": [
    "train_hashed.count()"
   ]
  },
  {
   "cell_type": "code",
   "execution_count": 298,
   "metadata": {
    "collapsed": false
   },
   "outputs": [
    {
     "data": {
      "text/plain": [
       "85"
      ]
     },
     "execution_count": 298,
     "metadata": {},
     "output_type": "execute_result"
    }
   ],
   "source": [
    "test_hashed.count()"
   ]
  },
  {
   "cell_type": "code",
   "execution_count": 129,
   "metadata": {
    "collapsed": false
   },
   "outputs": [
    {
     "data": {
      "text/plain": [
       "<ProbDist with 2 samples>"
      ]
     },
     "execution_count": 129,
     "metadata": {},
     "output_type": "execute_result"
    }
   ],
   "source": [
    "examples = [({\"blue\":True, \"red\":False},\"BlueOne\"), ({\"blue\":False,\"red\":True},\"RedOne\")] \n",
    "classifier = nltk.classify.naivebayes.NaiveBayesClassifier.train(examples)\n",
    "classifier.prob_classify({\"blue\":True,\"red\":False}) "
   ]
  },
  {
   "cell_type": "code",
   "execution_count": 130,
   "metadata": {
    "collapsed": true
   },
   "outputs": [],
   "source": [
    "dist = classifier.prob_classify({\"blue\":True,\"red\":False}) "
   ]
  },
  {
   "cell_type": "code",
   "execution_count": 137,
   "metadata": {
    "collapsed": false
   },
   "outputs": [
    {
     "data": {
      "text/plain": [
       "0.1"
      ]
     },
     "execution_count": 137,
     "metadata": {},
     "output_type": "execute_result"
    }
   ],
   "source": [
    "dist.prob(\"RedOne\")"
   ]
  },
  {
   "cell_type": "markdown",
   "metadata": {},
   "source": [
    "# Naive Bayes Classification For Populations"
   ]
  },
  {
   "cell_type": "code",
   "execution_count": 34,
   "metadata": {
    "collapsed": true
   },
   "outputs": [],
   "source": [
    "import string\n",
    "import json \n",
    "import re\n",
    "import nltk\n",
    "import datetime as dt\n",
    "import time\n",
    "\n",
    "from nltk.tokenize import word_tokenize\n",
    "from nltk.corpus import stopwords\n",
    "from nltk.stem.porter import PorterStemmer\n",
    "\n",
    "from pyspark import SparkContext\n",
    "from pyspark.mllib.feature import HashingTF\n",
    "from pyspark.mllib.regression import LabeledPoint\n",
    "from pyspark.mllib.classification import NaiveBayes"
   ]
  },
  {
   "cell_type": "code",
   "execution_count": 31,
   "metadata": {
    "collapsed": false
   },
   "outputs": [],
   "source": [
    "#global variables for the tokenize function \n",
    "PUNCTUATION = set(string.punctuation)\n",
    "STOPWORDS = set(stopwords.words('english'))\n",
    "STEMMER = PorterStemmer()\n",
    "\n",
    "# Function to break text into \"tokens\", lowercase them, remove punctuation and stopwords, and stem them\n",
    "def tokenize(text):\n",
    "    #load nltk dictionaries to cluster. temporary \n",
    "    nltk.data.path.append(\"/local/hdfs-volume/data/nltk_data\")\n",
    "    \n",
    "    tokens = word_tokenize(text)\n",
    "    lowercased = [t.lower() for t in tokens]\n",
    "    no_punctuation = []\n",
    "    for word in lowercased:\n",
    "        punct_removed = ''.join([letter for letter in word if not letter in PUNCTUATION])\n",
    "        no_punctuation.append(punct_removed)\n",
    "    no_stopwords = [w for w in no_punctuation if not w in STOPWORDS]\n",
    "    stemmed = [STEMMER.stem(w) for w in no_stopwords]\n",
    "    return [w for w in stemmed if w]"
   ]
  },
  {
   "cell_type": "code",
   "execution_count": 49,
   "metadata": {
    "collapsed": false
   },
   "outputs": [],
   "source": [
    "#label classes for Naive Bayse considering education and all others\n",
    "def lable_class_edu(item_pop):\n",
    "    if item_pop.lower() == \"education\":\n",
    "        item_pop = 1\n",
    "    else:\n",
    "        item_pop = 2\n",
    "    return item_pop\n",
    "\n",
    "#label classes for Naive Bayse considering general population and all others\n",
    "def lable_class_gen(item_pop):\n",
    "    if \"general\" in item_pop.lower():\n",
    "        item_pop = 1\n",
    "    else:\n",
    "        item_pop = 2\n",
    "    return item_pop\n",
    "\n",
    "#label classes for Naive Bayse considering legal and all others\n",
    "def lable_class_leg(item_pop):\n",
    "    if \"legal\" in item_pop.lower():\n",
    "        item_pop = 1\n",
    "    else:\n",
    "        item_pop = 2\n",
    "    return item_pop\n",
    "\n",
    "#label classes for Naive Bayse considering ethnic and all others\n",
    "def lable_class_eth(item_pop):\n",
    "    if \"ethnic\" in pop_item.lower():\n",
    "        item_pop = 1\n",
    "    else:\n",
    "        item_pop = 2\n",
    "    return item_pop\n",
    "\n",
    "#label classes for Naive Bayse considering religious and all others\n",
    "def lable_class_reli(item_pop):\n",
    "    if \"religious\" in item_pop.lower():\n",
    "        item_pop = 1\n",
    "    else:\n",
    "        item_pop = 2\n",
    "    return item_pop\n",
    "\n",
    "#label classes for Naive Bayse considering media and all others\n",
    "def lable_class_reli(item_pop):\n",
    "    if \"media\" in item_pop.lower():\n",
    "        item_pop = 1\n",
    "    else:\n",
    "        item_pop = 2\n",
    "    return item_pop\n",
    "\n",
    "#label classes for Naive Bayse considering media and all others\n",
    "def lable_class_reli(item_pop):\n",
    "    if re.compile('agricul[tural|ture]').match(item_pop.lower()):\n",
    "        item_pop = 1\n",
    "    else:\n",
    "        item_pop = 2\n",
    "    return item_pop"
   ]
  },
  {
   "cell_type": "code",
   "execution_count": 3,
   "metadata": {
    "collapsed": true
   },
   "outputs": [],
   "source": [
    "#label classes for Naive Bayse considering multiple targets\n",
    "def lable_classes(pop_item):\n",
    "    #population = pop_item.lower()\n",
    "    if \"education\" in pop_item.lower():\n",
    "        pop_item = 1\n",
    "    elif \"general\" in pop_item.lower():\n",
    "        pop_item = 2\n",
    "    elif \"legal\" in pop_item.lower():\n",
    "        pop_item = 3\n",
    "    elif re.compile('bus[iness|siness]').match(pop_item.lower()):\n",
    "        pop_item = 4\n",
    "    elif re.compile('eth[nic|ic]').match(pop_item.lower()):\n",
    "        pop_item = 5\n",
    "    elif \"medical\" in pop_item.lower():\n",
    "        pop_item = 6  \n",
    "    elif \"religious\" in pop_item.lower():\n",
    "        pop_item = 7  \n",
    "    elif re.compile('agricul[tural|ture]').match(pop_item.lower()):\n",
    "        pop_item = 8\n",
    "    elif re.compile('lab[or|our]').match(pop_item.lower()):\n",
    "        pop_item = 9\n",
    "    elif \"media\" in pop_item.lower():\n",
    "        pop_item = 10\n",
    "    return pop_item"
   ]
  },
  {
   "cell_type": "code",
   "execution_count": 1,
   "metadata": {
    "collapsed": false
   },
   "outputs": [],
   "source": [
    "#for item in populations:\n",
    "    #a = lable_classes(item)\n",
    "    #print(a)"
   ]
  },
  {
   "cell_type": "code",
   "execution_count": 4,
   "metadata": {
    "collapsed": false
   },
   "outputs": [],
   "source": [
    "#load gsr web article data\n",
    "#raw_data = sc.textFile(\"hdfs:///gsr.json\") #includes months data \n",
    "raw_data = sc.textFile(\"hdfs:///gsr3.json\") #only english\n",
    "#raw_data.take(2)"
   ]
  },
  {
   "cell_type": "code",
   "execution_count": 5,
   "metadata": {
    "collapsed": false
   },
   "outputs": [],
   "source": [
    "#load json\n",
    "data = raw_data.map(lambda line: json.loads(line))\n",
    "#data.take(2)"
   ]
  },
  {
   "cell_type": "code",
   "execution_count": 6,
   "metadata": {
    "collapsed": false
   },
   "outputs": [
    {
     "data": {
      "text/plain": [
       "236"
      ]
     },
     "execution_count": 6,
     "metadata": {},
     "output_type": "execute_result"
    }
   ],
   "source": [
    "#extract intrested features, population group and article content\n",
    "data_pared = data.map(lambda line: {'populationGroup': line['populationGroup'], 'article': line['article']})\n",
    "#populations = data_pared.map(lambda l: l['populationGroup']).collect()\n",
    "data_pared.count()"
   ]
  },
  {
   "cell_type": "code",
   "execution_count": 58,
   "metadata": {
    "collapsed": false
   },
   "outputs": [
    {
     "data": {
      "text/plain": [
       "108"
      ]
     },
     "execution_count": 58,
     "metadata": {},
     "output_type": "execute_result"
    }
   ],
   "source": [
    "general_class = data_pared.filter(lambda line: 'general' in line['populationGroup'].lower()).count()\n",
    "general_class"
   ]
  },
  {
   "cell_type": "code",
   "execution_count": 9,
   "metadata": {
    "collapsed": false
   },
   "outputs": [
    {
     "data": {
      "text/plain": [
       "10"
      ]
     },
     "execution_count": 9,
     "metadata": {},
     "output_type": "execute_result"
    }
   ],
   "source": [
    "edu_class = data_pared.filter(lambda line: 'education' in line['populationGroup'].lower()).count()\n",
    "edu_class"
   ]
  },
  {
   "cell_type": "code",
   "execution_count": 69,
   "metadata": {
    "collapsed": false
   },
   "outputs": [
    {
     "data": {
      "text/plain": [
       "76"
      ]
     },
     "execution_count": 69,
     "metadata": {},
     "output_type": "execute_result"
    }
   ],
   "source": [
    "ethnic_class = balancedData.filter(lambda line: 'eth' in line['populationGroup'].lower()).count()\n",
    "ethnic_class"
   ]
  },
  {
   "cell_type": "code",
   "execution_count": 10,
   "metadata": {
    "collapsed": false
   },
   "outputs": [
    {
     "data": {
      "text/plain": [
       "88"
      ]
     },
     "execution_count": 10,
     "metadata": {},
     "output_type": "execute_result"
    }
   ],
   "source": [
    "labour_class = data_pared.filter(lambda line: 'lab' in line['populationGroup'].lower()).count()\n",
    "labour_class"
   ]
  },
  {
   "cell_type": "code",
   "execution_count": 71,
   "metadata": {
    "collapsed": false
   },
   "outputs": [
    {
     "data": {
      "text/plain": [
       "0"
      ]
     },
     "execution_count": 71,
     "metadata": {},
     "output_type": "execute_result"
    }
   ],
   "source": [
    "media_class = balancedData.filter(lambda line: 'media' in line['populationGroup'].lower()).count()\n",
    "media_class"
   ]
  },
  {
   "cell_type": "code",
   "execution_count": 72,
   "metadata": {
    "collapsed": false
   },
   "outputs": [
    {
     "data": {
      "text/plain": [
       "0"
      ]
     },
     "execution_count": 72,
     "metadata": {},
     "output_type": "execute_result"
    }
   ],
   "source": [
    "legal_class = data_pared.filter(lambda line: 'legal' in line['populationGroup'].lower()).count()\n",
    "legal_class"
   ]
  },
  {
   "cell_type": "code",
   "execution_count": 73,
   "metadata": {
    "collapsed": false
   },
   "outputs": [
    {
     "data": {
      "text/plain": [
       "85"
      ]
     },
     "execution_count": 73,
     "metadata": {},
     "output_type": "execute_result"
    }
   ],
   "source": [
    "business_class = balancedData.filter(lambda line: 'business' in line['populationGroup'].lower()).count()\n",
    "business_class"
   ]
  },
  {
   "cell_type": "code",
   "execution_count": 74,
   "metadata": {
    "collapsed": false
   },
   "outputs": [
    {
     "data": {
      "text/plain": [
       "63"
      ]
     },
     "execution_count": 74,
     "metadata": {},
     "output_type": "execute_result"
    }
   ],
   "source": [
    "medical_class = balancedData.filter(lambda line: 'medical' in line['populationGroup'].lower()).count()\n",
    "medical_class"
   ]
  },
  {
   "cell_type": "code",
   "execution_count": 75,
   "metadata": {
    "collapsed": false
   },
   "outputs": [
    {
     "data": {
      "text/plain": [
       "24"
      ]
     },
     "execution_count": 75,
     "metadata": {},
     "output_type": "execute_result"
    }
   ],
   "source": [
    "reli_class = balancedData.filter(lambda line: 'religious' in line['populationGroup'].lower()).count()\n",
    "reli_class"
   ]
  },
  {
   "cell_type": "code",
   "execution_count": 76,
   "metadata": {
    "collapsed": false
   },
   "outputs": [
    {
     "data": {
      "text/plain": [
       "46"
      ]
     },
     "execution_count": 76,
     "metadata": {},
     "output_type": "execute_result"
    }
   ],
   "source": [
    "agri_class = balancedData.filter(lambda line: 'agri' in line['populationGroup'].lower()).count()\n",
    "agri_class"
   ]
  },
  {
   "cell_type": "code",
   "execution_count": 62,
   "metadata": {
    "collapsed": false
   },
   "outputs": [
    {
     "data": {
      "text/plain": [
       "40"
      ]
     },
     "execution_count": 62,
     "metadata": {},
     "output_type": "execute_result"
    }
   ],
   "source": [
    "data_pared.filter(lambda line: 'general' not in line['populationGroup'].lower())\\\n",
    ".filter(lambda line: 'lab' not in line['populationGroup'].lower()).count()"
   ]
  },
  {
   "cell_type": "code",
   "execution_count": 64,
   "metadata": {
    "collapsed": false
   },
   "outputs": [
    {
     "data": {
      "text/plain": [
       "196"
      ]
     },
     "execution_count": 64,
     "metadata": {},
     "output_type": "execute_result"
    }
   ],
   "source": [
    "genaralSample = data_pared.filter(lambda line: 'general' in line['populationGroup'].lower())\n",
    "labourSample = data_pared.filter(lambda line: 'lab' in line['populationGroup'].lower())\n",
    "genaralSample.union(labourSample).count()"
   ]
  },
  {
   "cell_type": "code",
   "execution_count": 11,
   "metadata": {
    "collapsed": false
   },
   "outputs": [
    {
     "data": {
      "text/plain": [
       "564"
      ]
     },
     "execution_count": 11,
     "metadata": {},
     "output_type": "execute_result"
    }
   ],
   "source": [
    "minorityFraction = labour_class / float(edu_class)\n",
    "\n",
    "genaralSample = data_pared.filter(lambda line: 'general' in line['populationGroup'].lower())\n",
    "labourSample = data_pared.filter(lambda line: 'lab' in line['populationGroup'].lower())\n",
    "MajoritySample = genaralSample.union(labourSample)\n",
    "\n",
    "MinoritySample = data_pared.filter(lambda line: 'general' not in line['populationGroup'].lower())\\\n",
    ".filter(lambda line: 'lab' not in line['populationGroup'].lower()).sample(withReplacement=True, fraction=minorityFraction)\n",
    "\n",
    "balancedData = MajoritySample.union(MinoritySample)\n",
    "balancedData.count()"
   ]
  },
  {
   "cell_type": "code",
   "execution_count": null,
   "metadata": {
    "collapsed": false
   },
   "outputs": [],
   "source": []
  },
  {
   "cell_type": "code",
   "execution_count": 12,
   "metadata": {
    "collapsed": false
   },
   "outputs": [],
   "source": [
    "#assign numerical lables to population groups and tokenized article text\n",
    "#data_cleaned = data_pared.map(lambda pared_line: {'populationGroup': lable_classes(pared_line['populationGroup']),'article':tokenize(pared_line['article'])})\n",
    "data_cleaned = balancedData.map(lambda pared_line: {'populationGroup': lable_classes(pared_line['populationGroup']),'article':tokenize(pared_line['article'])})"
   ]
  },
  {
   "cell_type": "code",
   "execution_count": 13,
   "metadata": {
    "collapsed": false
   },
   "outputs": [
    {
     "data": {
      "text/plain": [
       "564"
      ]
     },
     "execution_count": 13,
     "metadata": {},
     "output_type": "execute_result"
    }
   ],
   "source": [
    "data_cleaned.count()"
   ]
  },
  {
   "cell_type": "code",
   "execution_count": 14,
   "metadata": {
    "collapsed": true
   },
   "outputs": [],
   "source": [
    "#vectorize the hash with 50k features. Determines the size of a sparse vector\n",
    "htf = HashingTF(50000)"
   ]
  },
  {
   "cell_type": "code",
   "execution_count": 85,
   "metadata": {
    "collapsed": true
   },
   "outputs": [],
   "source": [
    "data_hashed = data_cleaned.map(lambda dict_line: LabeledPoint(dict_line['populationGroup'], htf.transform(dict_line['article'])))"
   ]
  },
  {
   "cell_type": "code",
   "execution_count": 54,
   "metadata": {
    "collapsed": false
   },
   "outputs": [],
   "source": [
    "#data_hashed.take(3)"
   ]
  },
  {
   "cell_type": "code",
   "execution_count": 21,
   "metadata": {
    "collapsed": true
   },
   "outputs": [],
   "source": [
    "from pyspark.mllib.feature import IDF"
   ]
  },
  {
   "cell_type": "code",
   "execution_count": 42,
   "metadata": {
    "collapsed": true
   },
   "outputs": [],
   "source": [
    "def transform(document):\n",
    "    #tf.take(2)\n",
    "    idf = IDF().fit(tf)\n",
    "    tfidf = idf.transform(tf)\n",
    "    return tfidf"
   ]
  },
  {
   "cell_type": "code",
   "execution_count": 51,
   "metadata": {
    "collapsed": false
   },
   "outputs": [],
   "source": [
    "data_htf = data_cleaned.map(lambda dict_line: (dict_line['populationGroup'], htf.transform(dict_line['article'])))"
   ]
  },
  {
   "cell_type": "code",
   "execution_count": 62,
   "metadata": {
    "collapsed": false
   },
   "outputs": [
    {
     "data": {
      "text/plain": [
       "PythonRDD[64] at RDD at PythonRDD.scala:43"
      ]
     },
     "execution_count": 62,
     "metadata": {},
     "output_type": "execute_result"
    }
   ],
   "source": [
    "data_htf.map(lambda l:l[1])"
   ]
  },
  {
   "cell_type": "code",
   "execution_count": 50,
   "metadata": {
    "collapsed": false
   },
   "outputs": [
    {
     "data": {
      "text/plain": [
       "[(2,\n",
       "  SparseVector(50000, {37: 1.0, 135: 1.0, 206: 3.0, 906: 1.0, 1365: 1.0, 4906: 1.0, 5469: 1.0, 5536: 1.0, 5870: 1.0, 6163: 2.0, 6328: 5.0, 6775: 1.0, 7467: 1.0, 8167: 1.0, 8582: 2.0, 8962: 1.0, 9036: 2.0, 9218: 1.0, 9628: 1.0, 9939: 1.0, 10064: 1.0, 11394: 1.0, 11546: 1.0, 11583: 1.0, 11649: 1.0, 11739: 1.0, 12072: 1.0, 13089: 1.0, 13294: 1.0, 13439: 2.0, 14862: 1.0, 16227: 1.0, 16282: 1.0, 17453: 1.0, 17498: 1.0, 17724: 1.0, 18299: 1.0, 18755: 1.0, 19056: 1.0, 19876: 2.0, 20997: 1.0, 21136: 1.0, 21162: 1.0, 22220: 1.0, 22336: 1.0, 22626: 1.0, 22660: 1.0, 22778: 1.0, 23387: 1.0, 23736: 1.0, 24150: 1.0, 24745: 1.0, 24910: 1.0, 25313: 1.0, 25601: 1.0, 26110: 1.0, 26162: 1.0, 26217: 1.0, 26482: 1.0, 26931: 1.0, 27192: 1.0, 27246: 1.0, 27539: 1.0, 27636: 1.0, 28245: 2.0, 29053: 2.0, 29516: 1.0, 29729: 1.0, 30270: 1.0, 31045: 1.0, 31103: 1.0, 31206: 1.0, 31306: 1.0, 31314: 1.0, 33415: 1.0, 33607: 1.0, 33877: 1.0, 34390: 3.0, 35518: 1.0, 35945: 1.0, 36078: 1.0, 36091: 1.0, 36260: 1.0, 36280: 1.0, 36655: 1.0, 36819: 1.0, 37052: 1.0, 39338: 1.0, 40488: 1.0, 40612: 3.0, 41180: 1.0, 41886: 1.0, 42135: 8.0, 42687: 1.0, 43130: 4.0, 43493: 1.0, 43789: 1.0, 43820: 1.0, 44268: 1.0, 45041: 5.0, 45168: 1.0, 45760: 1.0, 46073: 3.0, 46319: 1.0, 46425: 1.0, 46861: 2.0, 47453: 1.0, 47669: 1.0, 49551: 3.0}))]"
      ]
     },
     "execution_count": 50,
     "metadata": {},
     "output_type": "execute_result"
    }
   ],
   "source": [
    "data_hashed.take(1)"
   ]
  },
  {
   "cell_type": "code",
   "execution_count": 31,
   "metadata": {
    "collapsed": false
   },
   "outputs": [
    {
     "data": {
      "text/plain": [
       "[SparseVector(50000, {37: 1.0, 135: 1.0, 206: 3.0, 906: 1.0, 1365: 1.0, 4906: 1.0, 5469: 1.0, 5536: 1.0, 5870: 1.0, 6163: 2.0, 6328: 5.0, 6775: 1.0, 7467: 1.0, 8167: 1.0, 8582: 2.0, 8962: 1.0, 9036: 2.0, 9218: 1.0, 9628: 1.0, 9939: 1.0, 10064: 1.0, 11394: 1.0, 11546: 1.0, 11583: 1.0, 11649: 1.0, 11739: 1.0, 12072: 1.0, 13089: 1.0, 13294: 1.0, 13439: 2.0, 14862: 1.0, 16227: 1.0, 16282: 1.0, 17453: 1.0, 17498: 1.0, 17724: 1.0, 18299: 1.0, 18755: 1.0, 19056: 1.0, 19876: 2.0, 20997: 1.0, 21136: 1.0, 21162: 1.0, 22220: 1.0, 22336: 1.0, 22626: 1.0, 22660: 1.0, 22778: 1.0, 23387: 1.0, 23736: 1.0, 24150: 1.0, 24745: 1.0, 24910: 1.0, 25313: 1.0, 25601: 1.0, 26110: 1.0, 26162: 1.0, 26217: 1.0, 26482: 1.0, 26931: 1.0, 27192: 1.0, 27246: 1.0, 27539: 1.0, 27636: 1.0, 28245: 2.0, 29053: 2.0, 29516: 1.0, 29729: 1.0, 30270: 1.0, 31045: 1.0, 31103: 1.0, 31206: 1.0, 31306: 1.0, 31314: 1.0, 33415: 1.0, 33607: 1.0, 33877: 1.0, 34390: 3.0, 35518: 1.0, 35945: 1.0, 36078: 1.0, 36091: 1.0, 36260: 1.0, 36280: 1.0, 36655: 1.0, 36819: 1.0, 37052: 1.0, 39338: 1.0, 40488: 1.0, 40612: 3.0, 41180: 1.0, 41886: 1.0, 42135: 8.0, 42687: 1.0, 43130: 4.0, 43493: 1.0, 43789: 1.0, 43820: 1.0, 44268: 1.0, 45041: 5.0, 45168: 1.0, 45760: 1.0, 46073: 3.0, 46319: 1.0, 46425: 1.0, 46861: 2.0, 47453: 1.0, 47669: 1.0, 49551: 3.0}),\n",
       " SparseVector(50000, {2763: 1.0, 5867: 1.0, 8056: 2.0, 9527: 1.0, 11943: 1.0, 13708: 1.0, 16411: 1.0, 16792: 3.0, 16881: 1.0, 16976: 1.0, 21689: 1.0, 26162: 2.0, 26538: 2.0, 27271: 1.0, 28150: 1.0, 30640: 1.0, 30863: 1.0, 31222: 1.0, 31516: 1.0, 32403: 1.0, 38292: 1.0, 40788: 1.0, 44174: 1.0, 44553: 2.0, 48953: 2.0})]"
      ]
     },
     "execution_count": 31,
     "metadata": {},
     "output_type": "execute_result"
    }
   ],
   "source": [
    "tf.take(2)"
   ]
  },
  {
   "cell_type": "code",
   "execution_count": 32,
   "metadata": {
    "collapsed": false
   },
   "outputs": [
    {
     "data": {
      "text/plain": [
       "[SparseVector(50000, {37: 3.2458, 135: 1.541, 206: 9.123, 906: 2.6733, 1365: 4.0342, 4906: 2.4656, 5469: 1.9674, 5536: 1.6829, 5870: 3.0046, 6163: 2.0472, 6328: 15.7939, 6775: 2.2425, 7467: 3.9389, 8167: 4.0342, 8582: 1.2594, 8962: 2.8403, 9036: 1.746, 9218: 3.7719, 9628: 2.3665, 9939: 2.2593, 10064: 2.3665, 11394: 3.6978, 11546: 1.3532, 11583: 3.7719, 11649: 1.4616, 11739: 4.0342, 12072: 0.9432, 13089: 2.1472, 13294: 1.815, 13439: 3.6964, 14862: 3.0046, 16227: 4.0342, 16282: 1.3396, 17453: 1.993, 17498: 4.0342, 17724: 3.0787, 18299: 2.5756, 18755: 1.1663, 19056: 4.0342, 19876: 7.7038, 20997: 3.3411, 21136: 1.2742, 21162: 3.9389, 22220: 1.2129, 22336: 2.7533, 22626: 2.1937, 22660: 4.0342, 22778: 4.0342, 23387: 2.1321, 23736: 4.0342, 24150: 0.4233, 24745: 3.0046, 24910: 2.8711, 25313: 1.8042, 25601: 1.5165, 26110: 2.9356, 26162: 0.7609, 26217: 1.8482, 26482: 4.0342, 26931: 4.0342, 27192: 2.2097, 27246: 3.6978, 27539: 2.0193, 27636: 1.9674, 28245: 7.7038, 29053: 2.3214, 29516: 2.6479, 29729: 2.6992, 30270: 4.0342, 31045: 1.5328, 31103: 3.9389, 31206: 3.0787, 31306: 4.0342, 31314: 3.5036, 33415: 4.0342, 33607: 3.5642, 33877: 3.3411, 34390: 2.619, 35518: 1.2248, 35945: 4.0342, 36078: 3.2458, 36091: 4.0342, 36260: 1.4693, 36280: 1.9301, 36655: 2.8403, 36819: 3.8519, 37052: 4.0342, 39338: 3.2013, 40488: 4.0342, 40612: 1.5771, 41180: 2.405, 41886: 3.8519, 42135: 32.2739, 42687: 0.5654, 43130: 1.0829, 43493: 3.041, 43789: 4.0342, 43820: 3.7719, 44268: 3.9389, 45041: 16.9619, 45168: 2.1937, 45760: 2.5756, 46073: 5.9404, 46319: 2.8105, 46425: 2.9695, 46861: 3.545, 47453: 4.0342, 47669: 4.0342, 49551: 2.3749}),\n",
       " SparseVector(50000, {2763: 1.5085, 5867: 0.8194, 8056: 1.4694, 9527: 1.3064, 11943: 0.9387, 13708: 1.4616, 16411: 1.2679, 16792: 2.1384, 16881: 1.4465, 16976: 1.439, 21689: 1.4693, 26162: 1.5218, 26538: 2.878, 27271: 1.3464, 28150: 1.5661, 30640: 1.4693, 30863: 1.541, 31222: 0.8114, 31516: 1.2679, 32403: 0.702, 38292: 1.5832, 40788: 1.2742, 44174: 0.7839, 44553: 2.9853, 48953: 3.1493})]"
      ]
     },
     "execution_count": 32,
     "metadata": {},
     "output_type": "execute_result"
    }
   ],
   "source": [
    "tfidf.take(2)"
   ]
  },
  {
   "cell_type": "code",
   "execution_count": 86,
   "metadata": {
    "collapsed": true
   },
   "outputs": [],
   "source": [
    "train_hashed, test_hashed = data_hashed.randomSplit([0.8, 0.2])"
   ]
  },
  {
   "cell_type": "code",
   "execution_count": 87,
   "metadata": {
    "collapsed": false
   },
   "outputs": [
    {
     "data": {
      "text/plain": [
       "457"
      ]
     },
     "execution_count": 87,
     "metadata": {},
     "output_type": "execute_result"
    }
   ],
   "source": [
    "train_hashed.count()"
   ]
  },
  {
   "cell_type": "code",
   "execution_count": 88,
   "metadata": {
    "collapsed": false
   },
   "outputs": [
    {
     "data": {
      "text/plain": [
       "121"
      ]
     },
     "execution_count": 88,
     "metadata": {},
     "output_type": "execute_result"
    }
   ],
   "source": [
    "test_hashed.count()"
   ]
  },
  {
   "cell_type": "code",
   "execution_count": 89,
   "metadata": {
    "collapsed": true
   },
   "outputs": [],
   "source": [
    "model = NaiveBayes.train(train_hashed)"
   ]
  },
  {
   "cell_type": "code",
   "execution_count": 90,
   "metadata": {
    "collapsed": true
   },
   "outputs": [],
   "source": [
    "predictionAndLabel = test_hashed.map(lambda p : (float(model.predict(p.features)), p.label))"
   ]
  },
  {
   "cell_type": "code",
   "execution_count": 47,
   "metadata": {
    "collapsed": false
   },
   "outputs": [],
   "source": [
    "#predictionAndLabel.collect()"
   ]
  },
  {
   "cell_type": "code",
   "execution_count": 59,
   "metadata": {
    "collapsed": true
   },
   "outputs": [],
   "source": [
    "correct = predictionAndLabel.filter(lambda a: a[0] == a[1])"
   ]
  },
  {
   "cell_type": "code",
   "execution_count": 91,
   "metadata": {
    "collapsed": false
   },
   "outputs": [
    {
     "data": {
      "text/plain": [
       "0.7768595041322314"
      ]
     },
     "execution_count": 91,
     "metadata": {},
     "output_type": "execute_result"
    }
   ],
   "source": [
    "accuracy = 1.0 * predictionAndLabel.filter(lambda result_line: result_line[0] == result_line[1]).count() / test_hashed.count()\n",
    "accuracy"
   ]
  },
  {
   "cell_type": "code",
   "execution_count": null,
   "metadata": {
    "collapsed": true
   },
   "outputs": [],
   "source": [
    "model.save(sc, \"myModelPath\")\n",
    "sameModel = NaiveBayesModel.load(sc, \"myModelPath\")"
   ]
  },
  {
   "cell_type": "markdown",
   "metadata": {},
   "source": [
    "========================================================================================"
   ]
  },
  {
   "cell_type": "code",
   "execution_count": 211,
   "metadata": {
    "collapsed": false
   },
   "outputs": [
    {
     "data": {
      "text/plain": [
       "69325"
      ]
     },
     "execution_count": 211,
     "metadata": {},
     "output_type": "execute_result"
    }
   ],
   "source": [
    "test_tweet_hashed.count()"
   ]
  },
  {
   "cell_type": "code",
   "execution_count": 212,
   "metadata": {
    "collapsed": false
   },
   "outputs": [
    {
     "data": {
      "text/plain": [
       "236"
      ]
     },
     "execution_count": 212,
     "metadata": {},
     "output_type": "execute_result"
    }
   ],
   "source": [
    "data_hashed.count()"
   ]
  },
  {
   "cell_type": "code",
   "execution_count": 213,
   "metadata": {
    "collapsed": true
   },
   "outputs": [],
   "source": [
    "model = NaiveBayes.train(data_hashed)"
   ]
  },
  {
   "cell_type": "code",
   "execution_count": 214,
   "metadata": {
    "collapsed": false
   },
   "outputs": [],
   "source": [
    "prediction_and_label = test_tweet_hashed.map(lambda p : (model.predict(p.features), p.label))"
   ]
  },
  {
   "cell_type": "code",
   "execution_count": 217,
   "metadata": {
    "collapsed": false
   },
   "outputs": [
    {
     "data": {
      "text/plain": [
       "69325"
      ]
     },
     "execution_count": 217,
     "metadata": {},
     "output_type": "execute_result"
    }
   ],
   "source": [
    "prediction_and_label.count()"
   ]
  },
  {
   "cell_type": "code",
   "execution_count": 281,
   "metadata": {
    "collapsed": false
   },
   "outputs": [
    {
     "data": {
      "text/plain": [
       "Column<b'predicted'>"
      ]
     },
     "execution_count": 281,
     "metadata": {},
     "output_type": "execute_result"
    }
   ],
   "source": [
    "predicted_pop = prediction_and_label.map(lambda a: (int(a[0]),int(a[1])))\n",
    "spark_predicts = sqlContext.createDataFrame(predicted_pop,['predicted','default'])\n",
    "spark_predicts['predicted']"
   ]
  },
  {
   "cell_type": "code",
   "execution_count": 89,
   "metadata": {
    "collapsed": false
   },
   "outputs": [],
   "source": [
    "#gen_pop = 100*prediction_and_label.filter(lambda result: result[0]==2).count()/test_tweet_hashed.count()"
   ]
  },
  {
   "cell_type": "code",
   "execution_count": 286,
   "metadata": {
    "collapsed": false
   },
   "outputs": [],
   "source": [
    "#new_sparkDF= sparkDF.join(spark_predicts['predicted'],\"predictedd\")"
   ]
  },
  {
   "cell_type": "code",
   "execution_count": 255,
   "metadata": {
    "collapsed": false
   },
   "outputs": [
    {
     "data": {
      "text/plain": [
       "69325"
      ]
     },
     "execution_count": 255,
     "metadata": {},
     "output_type": "execute_result"
    }
   ],
   "source": [
    "new_sparkDF"
   ]
  },
  {
   "cell_type": "code",
   "execution_count": 21,
   "metadata": {
    "collapsed": false
   },
   "outputs": [
    {
     "data": {
      "text/plain": [
       "PythonRDD[11] at RDD at PythonRDD.scala:43"
      ]
     },
     "execution_count": 21,
     "metadata": {},
     "output_type": "execute_result"
    }
   ],
   "source": [
    "feturs = train_hashed.map(lambda x: x.features)\n",
    "feturs"
   ]
  },
  {
   "cell_type": "code",
   "execution_count": 92,
   "metadata": {
    "collapsed": false
   },
   "outputs": [],
   "source": [
    "from pyspark.mllib.evaluation import MulticlassMetrics\n",
    "from pyspark.mllib.util import MLUtils\n",
    "#predictionAndLabels = sc.parallelize([(6.0, 5.0), (6.0, 6.0), (7.0, 5.0), (6.0, 5.0), (6.0, 6.0), (6.0,6.0), (6.0, 6.0), (7.0, 7.0), (7.0, 5.0)])"
   ]
  },
  {
   "cell_type": "code",
   "execution_count": 58,
   "metadata": {
    "collapsed": false
   },
   "outputs": [],
   "source": [
    "predictionAndLabels = sc.parallelize([(2.0, 2.0), (2.0, 2.0), (2.0, 2.0), (2.0, 9.0), (2.0, 5.0), (2.0, 1.0), (2.0, 2.0), (9.0, 9.0),\n",
    " (2.0, 9.0), (2.0, 9.0), (2.0, 2.0), (2.0, 2.0), (2.0, 2.0), (9.0, 9.0), (9.0, 9.0), (2.0, 2.0), (9.0, 9.0), (2.0, 2.0), (2.0, 2.0),\n",
    " (9.0, 9.0), (2.0, 2.0), (2.0, 2.0), (2.0, 2.0), (9.0, 9.0), (2.0, 9.0), (9.0, 9.0), (9.0, 9.0), (2.0, 2.0), (9.0, 9.0), (2.0, 2.0),\n",
    " (2.0, 4.0), (2.0, 1.0), (2.0, 2.0), (2.0, 9.0), (9.0, 9.0), (9.0, 9.0), (2.0, 2.0), (9.0, 9.0), (9.0, 9.0), (2.0, 2.0), (9.0, 9.0),\n",
    " (2.0, 4.0), (2.0, 4.0), (9.0, 9.0), (2.0, 7.0)])"
   ]
  },
  {
   "cell_type": "code",
   "execution_count": 93,
   "metadata": {
    "collapsed": false
   },
   "outputs": [
    {
     "data": {
      "text/plain": [
       "array([[ 16.,   0.,   0.,   1.,   0.,   0.,   0.,   0.],\n",
       "       [  4.,  17.,   0.,   0.,   1.,   0.,   0.,   0.],\n",
       "       [  0.,   0.,  14.,   4.,   0.,   0.,   1.,   0.],\n",
       "       [  5.,   0.,   0.,   8.,   0.,   0.,   0.,   0.],\n",
       "       [  2.,   0.,   0.,   0.,  10.,   0.,   0.,   0.],\n",
       "       [  0.,   0.,   0.,   0.,   0.,   6.,   0.,   0.],\n",
       "       [  3.,   0.,   0.,   0.,   0.,   0.,   4.,   0.],\n",
       "       [  4.,   1.,   0.,   0.,   1.,   0.,   0.,  19.]])"
      ]
     },
     "execution_count": 93,
     "metadata": {},
     "output_type": "execute_result"
    }
   ],
   "source": [
    "metrics = MulticlassMetrics(predictionAndLabel)\n",
    "metrics.confusionMatrix().toArray()"
   ]
  },
  {
   "cell_type": "code",
   "execution_count": 94,
   "metadata": {
    "collapsed": false
   },
   "outputs": [
    {
     "name": "stdout",
     "output_type": "stream",
     "text": [
      "Summary Stats\n",
      "Precision = 0.7768595041322314\n",
      "Recall = 0.7768595041322314\n",
      "F1 Score = 0.7768595041322314\n"
     ]
    }
   ],
   "source": [
    "precision = metrics.precision()\n",
    "recall = metrics.recall()\n",
    "f1Score = metrics.fMeasure()\n",
    "print(\"Summary Stats\")\n",
    "print(\"Precision = %s\" % precision)\n",
    "print(\"Recall = %s\" % recall)\n",
    "print(\"F1 Score = %s\" % f1Score)"
   ]
  },
  {
   "cell_type": "code",
   "execution_count": 98,
   "metadata": {
    "collapsed": false
   },
   "outputs": [
    {
     "name": "stdout",
     "output_type": "stream",
     "text": [
      "[6.0, 1.0, 7.0, 8.0, 2.0, 9.0, 4.0, 5.0]\n",
      "[6.0, 1.0, 7.0, 8.0, 2.0, 9.0, 4.0, 5.0]\n"
     ]
    }
   ],
   "source": [
    "labels_test = test_hashed.map(lambda lp: lp.label).distinct().collect()\n",
    "print(labels_test)\n",
    "labels = data_hashed.map(lambda lp: lp.label).distinct().collect()\n",
    "print(labels)"
   ]
  },
  {
   "cell_type": "code",
   "execution_count": 100,
   "metadata": {
    "collapsed": false
   },
   "outputs": [
    {
     "name": "stdout",
     "output_type": "stream",
     "text": [
      "Class 1.0 precision = 0.47058823529411764\n",
      "Class 1.0 recall = 0.9411764705882353\n",
      "Class 1.0 F1 Measure = 0.627450980392157\n",
      "\n",
      "\n",
      "Class 2.0 precision = 0.9444444444444444\n",
      "Class 2.0 recall = 0.7727272727272727\n",
      "Class 2.0 F1 Measure = 0.85\n",
      "\n",
      "\n",
      "Class 4.0 precision = 1.0\n",
      "Class 4.0 recall = 0.7368421052631579\n",
      "Class 4.0 F1 Measure = 0.8484848484848484\n",
      "\n",
      "\n",
      "Class 5.0 precision = 0.6153846153846154\n",
      "Class 5.0 recall = 0.6153846153846154\n",
      "Class 5.0 F1 Measure = 0.6153846153846154\n",
      "\n",
      "\n",
      "Class 6.0 precision = 0.8333333333333334\n",
      "Class 6.0 recall = 0.8333333333333334\n",
      "Class 6.0 F1 Measure = 0.8333333333333334\n",
      "\n",
      "\n",
      "Class 7.0 precision = 1.0\n",
      "Class 7.0 recall = 1.0\n",
      "Class 7.0 F1 Measure = 1.0\n",
      "\n",
      "\n",
      "Class 8.0 precision = 0.8\n",
      "Class 8.0 recall = 0.5714285714285714\n",
      "Class 8.0 F1 Measure = 0.6666666666666666\n",
      "\n",
      "\n",
      "Class 9.0 precision = 1.0\n",
      "Class 9.0 recall = 0.76\n",
      "Class 9.0 F1 Measure = 0.8636363636363636\n",
      "\n",
      "\n"
     ]
    }
   ],
   "source": [
    "# Statistics by class\n",
    "#labels = data.map(lambda lp: lp.label).distinct().collect()\n",
    "for label in sorted(labels):\n",
    "    print(\"Class %s precision = %s\" % (label, metrics.precision(label)))\n",
    "    print(\"Class %s recall = %s\" % (label, metrics.recall(label)))\n",
    "    print(\"Class %s F1 Measure = %s\" % (label, metrics.fMeasure(label, beta=1.0)))\n",
    "    print(\"\\n\")"
   ]
  },
  {
   "cell_type": "code",
   "execution_count": null,
   "metadata": {
    "collapsed": true
   },
   "outputs": [],
   "source": []
  },
  {
   "cell_type": "code",
   "execution_count": 11,
   "metadata": {
    "collapsed": false
   },
   "outputs": [],
   "source": [
    "from pyspark import SparkContext\n",
    "sqlContext = SQLContext(sc)\n",
    "from pyspark.mllib.util import MLUtils\n",
    "\n",
    "import string\n",
    "import json \n",
    "import pandas as pd"
   ]
  },
  {
   "cell_type": "code",
   "execution_count": 17,
   "metadata": {
    "collapsed": false
   },
   "outputs": [],
   "source": [
    "def load_tweets(tweets_data_path):\n",
    "    \n",
    "    tweets_data = []\n",
    "    tweets_file = open(tweets_data_path, \"r\")\n",
    "    for line in tweets_file:\n",
    "        try:\n",
    "            tweet = json.loads(line)\n",
    "            #print(tweet['text'])\n",
    "            tweets_data.append(tweet)\n",
    "        except:\n",
    "            continue\n",
    "    return tweets_data\n",
    "#print(tweets_data[0])"
   ]
  },
  {
   "cell_type": "code",
   "execution_count": 60,
   "metadata": {
    "collapsed": false
   },
   "outputs": [],
   "source": [
    "business_data = sc.parallelize(load_tweets(\"Tweets_NB/business_tweet.txt\"))\n",
    "agri_data = sc.parallelize(load_tweets(\"Tweets_NB/agri_tweet.txt\"))\n",
    "edu_data = sc.parallelize(load_tweets(\"Tweets_NB/education_tweets.txt\"))\n",
    "ethic_data = sc.parallelize(load_tweets(\"Tweets_NB/ethic_tweets.txt\"))\n",
    "labour_data = sc.parallelize(load_tweets(\"Tweets_NB/labour_tweets.txt\"))\n",
    "medical_data = sc.parallelize(load_tweets(\"Tweets_NB/medical_tweets.txt\"))\n",
    "religious_data = sc.parallelize(load_tweets(\"Tweets_NB/religious_tweets.txt\"))"
   ]
  },
  {
   "cell_type": "code",
   "execution_count": 61,
   "metadata": {
    "collapsed": false
   },
   "outputs": [
    {
     "name": "stdout",
     "output_type": "stream",
     "text": [
      "100 100 100 100 100 100 100\n"
     ]
    }
   ],
   "source": [
    "print(business_data.count(),agri_data.count(),edu_data.count(),ethic_data.count(), labour_data.count(),medical_data.count(),religious_data.count())"
   ]
  },
  {
   "cell_type": "code",
   "execution_count": null,
   "metadata": {
    "collapsed": true
   },
   "outputs": [],
   "source": [
    "#load business_tweets.txt"
   ]
  },
  {
   "cell_type": "code",
   "execution_count": 33,
   "metadata": {
    "collapsed": false
   },
   "outputs": [],
   "source": [
    "def tokenize_data(data):\n",
    "    return raw_data.map(lambda row: row.get('text',None)).map(lambda line: tweet_tokenizer.tokenize(line))"
   ]
  },
  {
   "cell_type": "code",
   "execution_count": 62,
   "metadata": {
    "collapsed": false
   },
   "outputs": [],
   "source": [
    "agri_features = agri_data.map(lambda row: row.get('text',None)).map(lambda line: tweet_tokenizer.tokenize(line)).map(lambda tokens: {\"features\":feature_extraction(tokens),\"populationGroup\":8})\n",
    "business_features = business_data.map(lambda row: row.get('text',None)).map(lambda line: tweet_tokenizer.tokenize(line)).map(lambda tokens: {\"features\":feature_extraction(tokens),\"populationGroup\":4})\n",
    "edu_features = edu_data.map(lambda row: row.get('text',None)).map(lambda line: tweet_tokenizer.tokenize(line)).map(lambda tokens: {\"features\":feature_extraction(tokens),\"populationGroup\":1})\n",
    "ethic_features = ethic_data.map(lambda row: row.get('text',None)).map(lambda line: tweet_tokenizer.tokenize(line)).map(lambda tokens: {\"features\":feature_extraction(tokens),\"populationGroup\":5})\n",
    "labour_features = labour_data.map(lambda row: row.get('text',None)).map(lambda line: tweet_tokenizer.tokenize(line)).map(lambda tokens: {\"features\":feature_extraction(tokens),\"populationGroup\":9})\n",
    "medical_features = medical_data.map(lambda row: row.get('text',None)).map(lambda line: tweet_tokenizer.tokenize(line)).map(lambda tokens: {\"features\":feature_extraction(tokens),\"populationGroup\":6})\n",
    "religious_features = religious_data.map(lambda row: row.get('text',None)).map(lambda line: tweet_tokenizer.tokenize(line)).map(lambda tokens: {\"features\":feature_extraction(tokens),\"populationGroup\":7})"
   ]
  },
  {
   "cell_type": "code",
   "execution_count": 66,
   "metadata": {
    "collapsed": false
   },
   "outputs": [],
   "source": [
    "twitter_data = agri_features.union(business_features.union(edu_features.union(ethic_features.union(labour_features))))\n",
    "twitter_data  = twitter_data .union(medical_features.union(religious_features))"
   ]
  },
  {
   "cell_type": "code",
   "execution_count": 47,
   "metadata": {
    "collapsed": false
   },
   "outputs": [],
   "source": [
    "tweet_tokens = raw_data.map(lambda row: row.get('text',None)).map(lambda line: tweet_tokenizer.tokenize(line))\n",
    "cleaned_data1 = tweet_tokens.map(lambda tokens: {\"features\":feature_extraction(tokens),\"populationGroup\":4})\n",
    "cleaned_data2 = tweet_tokens.map(lambda tokens: {\"features\":feature_extraction(tokens),\"populationGroup\":1})"
   ]
  },
  {
   "cell_type": "code",
   "execution_count": 55,
   "metadata": {
    "collapsed": true
   },
   "outputs": [],
   "source": [
    "twitter_test_data = cleaned_data1.union(cleaned_data2.union(cleaned_data1))"
   ]
  },
  {
   "cell_type": "markdown",
   "metadata": {
    "collapsed": false
   },
   "source": [
    "# RAKE"
   ]
  },
  {
   "cell_type": "code",
   "execution_count": 1,
   "metadata": {
    "collapsed": true
   },
   "outputs": [],
   "source": [
    "import string\n",
    "import re\n",
    "import nltk\n",
    "\n",
    "from nltk.tokenize import word_tokenize\n",
    "from nltk.corpus import stopwords\n",
    "from nltk.stem import WordNetLemmatizer"
   ]
  },
  {
   "cell_type": "code",
   "execution_count": 2,
   "metadata": {
    "collapsed": true
   },
   "outputs": [],
   "source": [
    "from nltk.tokenize import TweetTokenizer\n",
    "tweet_tokenizer = TweetTokenizer()"
   ]
  },
  {
   "cell_type": "code",
   "execution_count": 3,
   "metadata": {
    "collapsed": true
   },
   "outputs": [],
   "source": [
    "#global variables for the tokenize function \n",
    "PUNCTUATION = set(string.punctuation)\n",
    "STOPWORDS = set(stopwords.words('english'))\n",
    "LEMMER = WordNetLemmatizer()"
   ]
  },
  {
   "cell_type": "code",
   "execution_count": 4,
   "metadata": {
    "collapsed": false
   },
   "outputs": [],
   "source": [
    "def punct_remove(tokens):\n",
    "    #return len(word) == 1 and word in string.punctuation\n",
    "    no_punctuation = []\n",
    "    for word in tokens:\n",
    "        punct_removed = ''.join([letter for letter in word if not letter in PUNCTUATION])\n",
    "        no_punctuation.append(punct_removed)\n",
    "    stemmed = [LEMMER.lemmatize(w) for w in no_stopwords]\n",
    "    no_links = [word for word in stemmed if (not 'http' in word) and len(word)>2]\n",
    "    return no_punctuation\n",
    "\n",
    "def is_punct(word):\n",
    "    if word in string.punctuation:\n",
    "        return True\n",
    "    else:\n",
    "        return False\n",
    "\n",
    "def is_number(word):\n",
    "    try:\n",
    "        float(word) if '.' in word else int(word)\n",
    "        return True\n",
    "    except ValueError:\n",
    "        return False"
   ]
  },
  {
   "cell_type": "code",
   "execution_count": 5,
   "metadata": {
    "collapsed": false
   },
   "outputs": [],
   "source": [
    "PUNCTUATION = set(string.punctuation)\n",
    "STOPWORDS = set(stopwords.words('english'))\n",
    "LEMMER = WordNetLemmatizer()\n",
    "\n",
    "def feature_extraction(tokens):\n",
    "    nltk.data.path.append(\"/local/hdfs-volume/data/nltk_data\")\n",
    "    \n",
    "    #lowercased = [t.lower() for t in tokens]\n",
    "    no_punctuation = []\n",
    "    for word in tokens:\n",
    "        punct_removed = ''.join([letter for letter in word if not letter in PUNCTUATION and not letter.isdigit()])\n",
    "        no_punctuation.append(punct_removed)\n",
    "    no_stopwords = [w for w in no_punctuation if not w in STOPWORDS]\n",
    "    #stemmed = [STEMMER.stem(w) for w in no_stopwords]\n",
    "    stemmed = [LEMMER.lemmatize(w) for w in no_stopwords]\n",
    "    no_links = [word for word in stemmed if (not 'http' in word) and len(word)>2]\n",
    "    #return [w for w in no_links if w]\n",
    "    return no_links"
   ]
  },
  {
   "cell_type": "code",
   "execution_count": 6,
   "metadata": {
    "collapsed": false
   },
   "outputs": [],
   "source": [
    "def generate_candidate_keywords(sentences):\n",
    "    phrase_list = []\n",
    "    for sentence in sentences:\n",
    "        words = map(lambda x: \"|\" if x in STOPWORDS else x, nltk.word_tokenize(sentence.lower()))\n",
    "    #words = map(lambda x: \"|\" if x in STOPWORDS else x, tweet_tokenizer.tokenize(sentences.lower()))\n",
    "        phrase = []\n",
    "        for word in words:\n",
    "            if word == \"|\" or is_punct(word) or is_number(word):\n",
    "                if len(phrase) > 0:\n",
    "                    phrase_list.append(phrase)\n",
    "                    phrase = []\n",
    "            #phrase.append(word)\n",
    "            else:\n",
    "                phrase.append(word)\n",
    "    return phrase_list"
   ]
  },
  {
   "cell_type": "code",
   "execution_count": 7,
   "metadata": {
    "collapsed": false
   },
   "outputs": [],
   "source": [
    "def generate_candidate_tweetkeywords(sentences):\n",
    "    phrase_list = []\n",
    "    \n",
    "    tokens = tweet_tokenizer.tokenize(sentences.lower())\n",
    "    #print(tokens)\n",
    "    #no_punct_tweet = punct_remove(tokens)\n",
    "    words = map(lambda x: \"|\" if x in STOPWORDS else x,tokens)\n",
    "    phrase = []\n",
    "    for word in words:\n",
    "        #print(word)\n",
    "        if word == \"|\" or is_punct(word):\n",
    "            #print(word)\n",
    "            if len(word) > 0:\n",
    "                phrase_list.append(phrase)\n",
    "                phrase = []\n",
    "        else:\n",
    "            phrase.append(word)\n",
    "    print(phrase_list)    \n",
    "    #return  phrase_list"
   ]
  },
  {
   "cell_type": "code",
   "execution_count": 8,
   "metadata": {
    "collapsed": false
   },
   "outputs": [],
   "source": [
    "def extract(text):\n",
    "    #sentences = nltk.sent_tokenize(text)\n",
    "    #phrase_list = generate_candidate_keywords(sentences)\n",
    "    \n",
    "    #word_scores = \n",
    "    #calculate_word_scores(phrase_list)\n",
    "    \n",
    "    #phrase_list =\n",
    "    #generate_candidate_tweetkeywords(tweet)\n",
    "    #print(phrase_list)\n",
    "    \n",
    "    t_words = feature_extraction(tweet_tokenizer.tokenize(tweet.lower()))\n",
    "    print(t_words)\n",
    "    #d = nltk.FreqDist()\n",
    "    \n",
    "    #for p in phrase_list:\n",
    "        #print(p)\n",
    "        #fd[p]+=1\n",
    "    \n",
    "    \n",
    "    #print( word_scores)"
   ]
  },
  {
   "cell_type": "code",
   "execution_count": 13,
   "metadata": {
    "collapsed": true
   },
   "outputs": [],
   "source": [
    "text=\"\"\"Compatibility of systems of linear constraints over the set of natural \n",
    "numbers. Criteria of compatibility of a system of linear Diophantine \n",
    "equations, strict inequations, and nonstrict inequations are considered. \n",
    "Upper bounds for components of 1988 a minimal set of solutions and algorithms \n",
    "of construction of minimal generating sets of solutions for all types of \n",
    "systems are given. These 565 criteria and the corresponding algorithms for \n",
    "constructing a minimal supporting set of solutions can be 70.5% used in solving \n",
    "all the considered types of systems and systems of mixed types.\"\"\"\n",
    "\n",
    "tweet='@da_667 @threat_inc @TalosSecurity Aye, the tales of the mercenaries of the Talos have traveled to the far reaches of the western border.'\n",
    "\n",
    "texttweet=['***UNION or NON UNION submissions***\\nMust be registered with Central Casting\\n\\nKendall is taking submissions for a... http://t.co/g9tKTO6hHP',\n",
    " 'RT @Snowden: I was told to stop tweeting cat pictures. This is a protest. The cat pictures will continue until morale improves.  https://t.…',\n",
    " 'RT @Finance_Fan: Video: Undercover Israeli soldiers infiltrate Palestinian demonstration, beat protesters and shoot detain... http://t.co/e…',\n",
    " 'Video Game voice actors vote yes in regards to being able to start a strike.\\n#GameNews #Gaming #Voiceacting\\nhttp://t.co/UTU838u4wY',\n",
    " '@da_667 @threat_inc @TalosSecurity Aye, the tales of the mercenaries of the Talos have traveled to the far reaches of the western border.']"
   ]
  },
  {
   "cell_type": "code",
   "execution_count": 14,
   "metadata": {
    "collapsed": false
   },
   "outputs": [
    {
     "name": "stdout",
     "output_type": "stream",
     "text": [
      "['threatinc', 'talossecurity', 'aye', 'tale', 'mercenary', 'talos', 'traveled', 'far', 'reach', 'western', 'border']\n"
     ]
    }
   ],
   "source": [
    "extract(tweet)"
   ]
  },
  {
   "cell_type": "code",
   "execution_count": 10,
   "metadata": {
    "collapsed": false
   },
   "outputs": [
    {
     "name": "stdout",
     "output_type": "stream",
     "text": [
      "['snowden', 'told', 'stop', 'tweeting', 'cat', 'picture', 'protest', 'cat', 'picture', 'continue', 'morale', 'improves']\n"
     ]
    }
   ],
   "source": [
    "extract(tweet)"
   ]
  },
  {
   "cell_type": "code",
   "execution_count": 165,
   "metadata": {
    "collapsed": false
   },
   "outputs": [],
   "source": [
    "def calculate_word_scores(phrase_list):\n",
    "    word_freq = nltk.FreqDist()\n",
    "    word_degree = nltk.FreqDist()\n",
    "    for phrase in phrase_list:\n",
    "        degree = len(phrase)- 1\n",
    "        #print(degree)\n",
    "        for word in phrase:\n",
    "            word_freq[word]+=1\n",
    "            #print(word)\n",
    "            #word_degree.inc(word, degree) # other words\n",
    "        print(word_freq)\n",
    "    #for word in word_freq.keys():\n",
    "        #word_degree[word] = word_degree[word] + word_freq[word] # itself\n",
    "    ## word score = deg(w) / freq(w)\n",
    "    #word_scores = {}\n",
    "    #for word in word_freq.keys():\n",
    "        #word_scores[word] = word_degree[word] / word_freq[word]\n",
    "    #return degree"
   ]
  },
  {
   "cell_type": "code",
   "execution_count": 239,
   "metadata": {
    "collapsed": false
   },
   "outputs": [
    {
     "name": "stdout",
     "output_type": "stream",
     "text": [
      "['rt', '@snowden', ':', 'i', 'was', 'told', 'to', 'stop', 'tweeting', 'cat', 'pictures', '.', 'this', 'is', 'a', 'protest', '.', 'the', 'cat', 'pictures', 'will', 'continue', 'until', 'morale', 'improves', '.', 'https://t.…']\n"
     ]
    },
    {
     "data": {
      "text/plain": [
       "[('.', 3), ('pictures', 2)]"
      ]
     },
     "execution_count": 239,
     "metadata": {},
     "output_type": "execute_result"
    }
   ],
   "source": [
    "#phraseList =[['compatibility'], ['systems'], ['linear', 'constraints'], ['set'], ['natural', 'numbers'], ['criteria'], ['compatibility']]\n",
    "phraseList = tweet_tokenizer.tokenize(texttweet.lower())\n",
    "fd = nltk.FreqDist()\n",
    "print(phraseList)\n",
    "for p in phraseList:\n",
    "    #for w in p:\n",
    "    fd[p]+=1\n",
    "fd.most_common(2)   "
   ]
  },
  {
   "cell_type": "code",
   "execution_count": 176,
   "metadata": {
    "collapsed": false
   },
   "outputs": [
    {
     "data": {
      "text/plain": [
       "Counter({'compatibility': 1})"
      ]
     },
     "execution_count": 176,
     "metadata": {},
     "output_type": "execute_result"
    }
   ],
   "source": [
    "fd = nltk.FreqDist()\n",
    "fd['compatibility']+=1\n",
    "fd"
   ]
  },
  {
   "cell_type": "code",
   "execution_count": 77,
   "metadata": {
    "collapsed": false
   },
   "outputs": [
    {
     "data": {
      "text/plain": [
       "[('video', 'NN'),\n",
       " ('game', 'NN'),\n",
       " ('voice', 'NN'),\n",
       " ('actor', 'NN'),\n",
       " ('vote', 'NN'),\n",
       " ('yes', 'RB'),\n",
       " ('regard', 'VB'),\n",
       " ('able', 'JJ'),\n",
       " ('start', 'NN'),\n",
       " ('strike', 'NN'),\n",
       " ('gamenews', 'NNS'),\n",
       " ('gaming', 'VBG'),\n",
       " ('voiceacting', 'VBG')]"
      ]
     },
     "execution_count": 77,
     "metadata": {},
     "output_type": "execute_result"
    }
   ],
   "source": [
    "word_list = ['video', 'game', 'voice', 'actor', 'vote', 'yes', 'regard', 'able', 'start', 'strike', 'gamenews', 'gaming', 'voiceacting']\n",
    "nltk.pos_tag(word_list)\n"
   ]
  },
  {
   "cell_type": "code",
   "execution_count": 79,
   "metadata": {
    "collapsed": false
   },
   "outputs": [],
   "source": [
    "from nltk.corpus import wordnet as wn"
   ]
  },
  {
   "cell_type": "code",
   "execution_count": 91,
   "metadata": {
    "collapsed": false
   },
   "outputs": [
    {
     "name": "stdout",
     "output_type": "stream",
     "text": [
      "['strike', 'work_stoppage']\n",
      "['strike']\n",
      "['rap', 'strike', 'tap']\n",
      "['strike', 'ten-strike']\n",
      "['strike']\n",
      "['hit', 'smash', 'smasher', 'strike', 'bang']\n",
      "['strike']\n",
      "['affect', 'impress', 'move', 'strike']\n",
      "['hit', 'strike', 'impinge_on', 'run_into', 'collide_with']\n",
      "['strike', 'hit']\n",
      "['strike']\n",
      "['hit', 'strike']\n",
      "['strike', 'walk_out']\n",
      "['fall', 'shine', 'strike']\n",
      "['come_to', 'strike']\n",
      "['strike', 'hit']\n",
      "['strike']\n",
      "['fall_upon', 'strike', 'come_upon', 'light_upon', 'chance_upon', 'come_across', 'chance_on', 'happen_upon', 'attain', 'discover']\n",
      "['strike']\n",
      "['strike', 'scratch', 'expunge', 'excise']\n",
      "['hit', 'strike', 'come_to']\n",
      "['hit', 'strike']\n",
      "['assume', 'take', 'strike', 'take_up']\n",
      "['mint', 'coin', 'strike']\n",
      "['strickle', 'strike']\n",
      "['strike']\n",
      "['strike']\n"
     ]
    }
   ],
   "source": [
    "for synset in wn.synsets('strike'):\n",
    "    print(synset.lemma_names())\n",
    "    #for lemma in synset.lemmas():\n",
    "        #print(lemma.name())"
   ]
  },
  {
   "cell_type": "code",
   "execution_count": null,
   "metadata": {
    "collapsed": false
   },
   "outputs": [],
   "source": []
  },
  {
   "cell_type": "code",
   "execution_count": null,
   "metadata": {
    "collapsed": true
   },
   "outputs": [],
   "source": []
  }
 ],
 "metadata": {
  "kernelspec": {
   "display_name": "PySpark",
   "language": "python",
   "name": "pyspark"
  },
  "language_info": {
   "codemirror_mode": {
    "name": "ipython",
    "version": 3
   },
   "file_extension": ".py",
   "mimetype": "text/x-python",
   "name": "python",
   "nbconvert_exporter": "python",
   "pygments_lexer": "ipython3",
   "version": "3.5.2"
  }
 },
 "nbformat": 4,
 "nbformat_minor": 0
}
