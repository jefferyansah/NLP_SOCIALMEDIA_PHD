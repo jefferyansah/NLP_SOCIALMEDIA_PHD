{
 "cells": [
  {
   "cell_type": "code",
   "execution_count": 1,
   "metadata": {
    "collapsed": false
   },
   "outputs": [],
   "source": [
    "from pyspark.sql import SQLContext\n",
    "from pyspark.sql.functions import *\n",
    "from collections import Counter\n",
    "import matplotlib.pyplot as plt\n",
    "import matplotlib.cm as cm\n",
    "import pandas as pd\n",
    "import numpy as np\n",
    "import datetime as dt\n",
    "import time\n",
    "import json\n",
    "from pyspark.sql import SQLContext\n",
    "import json\n",
    "from IPython import display\n",
    "from IPython.core.display import HTML\n",
    "import pandas\n",
    "import time \n",
    "import numpy as np\n",
    "import matplotlib.pyplot as plt \n",
    "from pyspark.sql.functions import split, explode, col\n",
    "\n",
    "sql = SQLContext(sc)"
   ]
  },
  {
   "cell_type": "markdown",
   "metadata": {},
   "source": [
    "#  KEEP SYDNEY OPEN: 8 OCTOBER 2016\n",
    "# Event Description:\n",
    "\n",
    "About 4,000 people have turned out in central Sydney to protest against the New South Wales Government's controversial lockout laws. Aussie rocker Jimmy Barnes threw his support behind the rally, releasing a video message in which he said the lockout laws were not working. The Cold Chisel frontman said he made a career playing in live venues in Sydney, but that attendance at live music venues had dropped 40 per cent since the lockout laws were introduced. The rally heard calls for the 1:30am lockout to be lifted, and for the 10:00pm takeaway cut-off to be reverted to midnight. \n",
    "\n",
    "The popular hashtags  for the event were : #keepsydneyopen #KeepSydneyOpen #Nolockouts #nightlivesmatter #keepsydneyopenrally #keepsydneylate"
   ]
  },
  {
   "cell_type": "markdown",
   "metadata": {
    "collapsed": true
   },
   "source": [
    "# Get one Week Tweet Before the Event...."
   ]
  },
  {
   "cell_type": "code",
   "execution_count": 2,
   "metadata": {
    "collapsed": false
   },
   "outputs": [
    {
     "name": "stdout",
     "output_type": "stream",
     "text": [
      "root\n",
      " |-- key:salt: byte (nullable = true)\n",
      " |-- key:timestamp: timestamp (nullable = true)\n",
      " |-- key:id: string (nullable = true)\n",
      " |-- key:subIds: array (nullable = true)\n",
      " |    |-- element: string (containsNull = true)\n",
      " |-- data: string (nullable = true)\n",
      " |-- reference: string (nullable = true)\n",
      " |-- format: string (nullable = true)\n",
      " |-- type: string (nullable = true)\n",
      " |-- source: string (nullable = true)\n",
      " |-- ingestTime: timestamp (nullable = true)\n",
      " |-- author: string (nullable = true)\n",
      " |-- civilEvents: string (nullable = true)\n",
      " |-- locations: string (nullable = true)\n",
      " |-- geo: string (nullable = true)\n",
      " |-- nlp: string (nullable = true)\n",
      " |-- publicationTime: timestamp (nullable = true)\n",
      " |-- politicalParty: string (nullable = true)\n",
      " |-- sentiment: string (nullable = true)\n",
      " |-- times: string (nullable = true)\n",
      " |-- bodyText: string (nullable = true)\n",
      " |-- title: string (nullable = true)\n",
      " |-- phraseList: string (nullable = true)\n",
      "\n"
     ]
    }
   ],
   "source": [
    "lol = sql.read.load(format = \"au.com.d2dcrc.carbon.spark.tweets\", startTime = \"2016-10-01T11:00:00Z\", endTime = \"2016-10-10T20:10:00Z\")\n",
    "lol.printSchema()\n",
    "\n",
    "\n",
    "displaytweets = lol.select( \"author\", \"publicationTime\", \"bodyText\", \"locations\").orderBy(\"author\")\n",
    "#pd.set_option('display.max_colwidth', 500)\n",
    "#display.display(displaytweets.toPandas())"
   ]
  },
  {
   "cell_type": "code",
   "execution_count": 3,
   "metadata": {
    "collapsed": false
   },
   "outputs": [],
   "source": [
    "#lol.describe\n",
    "#realtweet = lol.select('bodyText').dropDuplicates() # \n",
    "#realtweet.show()\n",
    "#sqlContext.registerDataFrameAsTable(realtweet, \"table5\")\n",
    "#myretweet = sqlContext.sql(\"SELECT bodyText FROM table5 WHERE bodyText LIKE '%#%' or '%RT%'\").show\n",
    "#myretweet.show(50)"
   ]
  },
  {
   "cell_type": "code",
   "execution_count": 4,
   "metadata": {
    "collapsed": true
   },
   "outputs": [],
   "source": [
    "def get_tweets(df):\n",
    "    #return rows from dadtframe\n",
    "    return df.map(lambda row: row.data)"
   ]
  },
  {
   "cell_type": "code",
   "execution_count": 5,
   "metadata": {
    "collapsed": true
   },
   "outputs": [],
   "source": [
    "def get_jason(data):\n",
    "    #returns a pyspark.rdd.PipelinedRDD of jason data\n",
    "    return data.map(lambda data: json.loads(data))\n"
   ]
  },
  {
   "cell_type": "code",
   "execution_count": 6,
   "metadata": {
    "collapsed": true
   },
   "outputs": [],
   "source": [
    "\n",
    "def get_tweet_body(data):\n",
    "    #returns a pyspark.rdd.PipelinedRDD of tweet bodies\n",
    "    tweet_bodies = data.map(lambda tweet_as_json: tweet_as_json.get('body'))\n",
    "    return tweet_bodies "
   ]
  },
  {
   "cell_type": "code",
   "execution_count": 7,
   "metadata": {
    "collapsed": true
   },
   "outputs": [],
   "source": [
    "#This function obtains geo tag details from json tweets\n",
    "#input: json data\n",
    "#output: returns a pyspark.rdd.PipelinedRDD of tweet bodies\n",
    "def get_tweet_geo(data):\n",
    "    tweet_geo = data.map(lambda tweet_as_json: tweet_as_json.get('geo',\"none\"))\n",
    "    return tweet_geo"
   ]
  },
  {
   "cell_type": "code",
   "execution_count": 8,
   "metadata": {
    "collapsed": true
   },
   "outputs": [],
   "source": [
    "def get_tweet_BodyLocation(data):\n",
    "    bodys_with_location = data.filter(lambda line: 'location' in line).map(lambda line: (line.get('location', \"none\"),line.get('body',\"none\")))\n",
    "    return bodys_with_location"
   ]
  },
  {
   "cell_type": "markdown",
   "metadata": {},
   "source": [
    "# Specify possible HashTags relating to Event"
   ]
  },
  {
   "cell_type": "code",
   "execution_count": 9,
   "metadata": {
    "collapsed": true
   },
   "outputs": [],
   "source": [
    " #keepsydneyopen #KeepSydneyOpen #Nolockouts #nightlivesmatter #keepsydneyopenrally #keepsydneylate"
   ]
  },
  {
   "cell_type": "code",
   "execution_count": 10,
   "metadata": {
    "collapsed": true
   },
   "outputs": [],
   "source": [
    "def get_hashtags(jdata):\n",
    "    hash_tags = jdata.flatMap(lambda line: line.split(\" \")).filter(lambda word: word.startswith('#keepsydneyopen' or '#KeepSydneyOpen' or '#Nolockouts' or '#nightlivesmatter' or '#keepsydneyopenrally' or '#keepsydneylate'))\n",
    "    return hash_tags "
   ]
  },
  {
   "cell_type": "code",
   "execution_count": 11,
   "metadata": {
    "collapsed": true
   },
   "outputs": [],
   "source": [
    "def hashtag_counter(htags):\n",
    "    hashtag_counts = htags.map(lambda hashtag: (hashtag, 1)).reduceByKey(lambda a, b: a + b)\n",
    "    return hashtag_counts"
   ]
  },
  {
   "cell_type": "code",
   "execution_count": 12,
   "metadata": {
    "collapsed": true
   },
   "outputs": [],
   "source": [
    "#this fuction returns a given number of common hashtags\n",
    "#inputs: list of hashtags or hashtag counter dictionary\n",
    "#output: list of common hashtags \n",
    "def common_hashtags(htags,n):\n",
    "    return Counter(dict(htags)).most_common(n)"
   ]
  },
  {
   "cell_type": "code",
   "execution_count": 13,
   "metadata": {
    "collapsed": true
   },
   "outputs": [],
   "source": [
    "#this fuction takes a dictionary and plots key value pairs\n",
    "def plot_bargraph(d):\n",
    "    %matplotlib inline\n",
    "    plt.barh(range(len(d)), d.values(), align=\"center\")\n",
    "    plt.yticks(range(len(d)), list(d.keys()),rotation='horizontal')\n",
    "    plt.show()"
   ]
  },
  {
   "cell_type": "code",
   "execution_count": 14,
   "metadata": {
    "collapsed": false
   },
   "outputs": [],
   "source": [
    "#df = get_data() #get twitter data for a given number of minutes\n",
    "\n",
    "df = lol\n",
    "test =get_tweets(df)\n",
    "test= get_jason(test)\n",
    "test=get_tweet_body(test)\n",
    "hashTags = get_hashtags(test)\n",
    "hashtag_counts = hashtag_counter(hashTags)"
   ]
  },
  {
   "cell_type": "code",
   "execution_count": 15,
   "metadata": {
    "collapsed": false
   },
   "outputs": [],
   "source": [
    "hashtag_count_list = hashtag_counts.take(500)"
   ]
  },
  {
   "cell_type": "markdown",
   "metadata": {},
   "source": [
    "# Dataset missed most hashtags found in the twitter timeline :\n",
    "#keepsydneyopen #KeepSydneyOpen #Nolockouts #nightlivesmatter #keepsydneyopenrally #keepsydneylate\n"
   ]
  },
  {
   "cell_type": "code",
   "execution_count": 16,
   "metadata": {
    "collapsed": false
   },
   "outputs": [
    {
     "name": "stdout",
     "output_type": "stream",
     "text": [
      "[('#keepsydneyopen', 237), ('#keepsydneyopen…', 6), ('#keepsydneyopen.', 5), ('#keepsydneyopenrally', 5), ('#keepsydneyopen!', 2), ('#keepsydneyopen!!!!!!!', 1)]\n"
     ]
    }
   ],
   "source": [
    "#Ten common hashtags \n",
    "common_10 = common_hashtags(hashtag_count_list,30) \n",
    "print(common_10)"
   ]
  },
  {
   "cell_type": "code",
   "execution_count": 17,
   "metadata": {
    "collapsed": false
   },
   "outputs": [
    {
     "data": {
      "text/plain": [
       "list"
      ]
     },
     "execution_count": 17,
     "metadata": {},
     "output_type": "execute_result"
    }
   ],
   "source": [
    "type(common_10)"
   ]
  },
  {
   "cell_type": "code",
   "execution_count": 18,
   "metadata": {
    "collapsed": false
   },
   "outputs": [],
   "source": [
    "#for s in common_10:\n",
    "#    print(s[0].ljust(8)+(str(s[1])).ljust(30))"
   ]
  },
  {
   "cell_type": "code",
   "execution_count": 19,
   "metadata": {
    "collapsed": false
   },
   "outputs": [
    {
     "data": {
      "image/png": "[encoded data removed]",
      "text/plain": [
       "<matplotlib.figure.Figure at 0x7f94f4dcd470>"
      ]
     },
     "metadata": {},
     "output_type": "display_data"
    }
   ],
   "source": [
    "plot_bargraph(dict(common_10))"
   ]
  },
  {
   "cell_type": "markdown",
   "metadata": {},
   "source": [
    "# Insights on Hashtags Usage\n",
    "From the above diagram we present preliminary results on how hashtags are used during a protest event.\n",
    "We selected the top 10 protest related hashtags for the keep sydney open protest.\n",
    "\n",
    "Our results shows that the phrase \"keep"
   ]
  },
  {
   "cell_type": "markdown",
   "metadata": {},
   "source": [
    "# Futher Analysis:"
   ]
  },
  {
   "cell_type": "markdown",
   "metadata": {},
   "source": [
    "# Hashtags and Locations\n"
   ]
  }
 ],
 "metadata": {
  "anaconda-cloud": {},
  "kernelspec": {
   "display_name": "PySpark",
   "language": "python",
   "name": "pyspark"
  },
  "language_info": {
   "codemirror_mode": {
    "name": "ipython",
    "version": 3
   },
   "file_extension": ".py",
   "mimetype": "text/x-python",
   "name": "python",
   "nbconvert_exporter": "python",
   "pygments_lexer": "ipython3",
   "version": "3.5.2"
  }
 },
 "nbformat": 4,
 "nbformat_minor": 1
}
