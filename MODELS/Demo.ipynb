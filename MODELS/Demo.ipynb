{
 "cells": [
  {
   "cell_type": "code",
   "execution_count": 1,
   "metadata": {
    "collapsed": true,
    "slideshow": {
     "slide_type": "slide"
    }
   },
   "outputs": [],
   "source": [
    "# The Carbon data science platform in Jupyter"
   ]
  },
  {
   "cell_type": "markdown",
   "metadata": {},
   "source": [
    "First we import a set of python libaries we will need for this demo"
   ]
  },
  {
   "cell_type": "code",
   "execution_count": 2,
   "metadata": {
    "collapsed": false
   },
   "outputs": [],
   "source": [
    "from pyspark.sql import SQLContext\n",
    "import matplotlib.pyplot as plt\n",
    "import matplotlib.style\n",
    "import time\n",
    "import json\n",
    "from IPython import display\n",
    "from IPython.core.display import HTML\n",
    "import pandas\n",
    "\n",
    "\n"
   ]
  },
  {
   "cell_type": "markdown",
   "metadata": {},
   "source": [
    "The \"sc\" (SparkContext) object is the entry point for the Spark/Carbon"
   ]
  },
  {
   "cell_type": "code",
   "execution_count": 3,
   "metadata": {
    "collapsed": false
   },
   "outputs": [],
   "source": [
    "sql = SQLContext(sc) "
   ]
  },
  {
   "cell_type": "markdown",
   "metadata": {},
   "source": [
    "Define some functions"
   ]
  },
  {
   "cell_type": "code",
   "execution_count": 4,
   "metadata": {
    "collapsed": false
   },
   "outputs": [],
   "source": [
    "\n",
    "# Get the data we will be using. In this case we will get a parameterised number of minutes of Twitter data\n",
    "def get_data(mins=1):\n",
    "    now = int(time.time())\n",
    "    min_ago = now - (mins * 60)\n",
    "    \n",
    "    # The call below creates the Spark DAG (Directed Acyclic Graph) on the cluster \n",
    "    return sql.read.load(format = \"au.com.d2dcrc.carbon.spark.tweets\", startTimestamp = min_ago, endTimestamp = now)\n",
    "    \n",
    "    \n",
    "# Filter to only return true if \"#auspol\" is on body of text\n",
    "def is_auspol(row):\n",
    "    json_tweet = json.loads(row[0]) # parse the JSON\n",
    "    \n",
    "    # The JSON format is documented at http://support.gnip.com/sources/twitter/data_format.html\n",
    "    body = json_tweet['body']\n",
    "    \n",
    "    if ('#auspol' in body.lower()):\n",
    "        return True\n",
    "    else:\n",
    "        return False        \n",
    "\n",
    "\n",
    "# Take a spark RDD of JSON-formatted Tweet data and convert the top rows in it to a Pandas table\n",
    "def rdd_to_pandas_df(rdd, num_tweets=10):\n",
    "    result = pandas.DataFrame()\n",
    "    \n",
    "    tweets = rdd.take(num_tweets)\n",
    "\n",
    "    for row in tweets:\n",
    "        json_tweet = json.loads(row[0]) # rows 0-2 are metadata \n",
    "        \n",
    "        # extract the fields we are interested in\n",
    "        data = pandas.DataFrame({\"User Name\": json_tweet['actor']['displayName'], \n",
    "                                 \"Tweet\": json_tweet['body']}, index=[0])        \n",
    "        result = result.append(data)        \n",
    "    \n",
    "    return result \n"
   ]
  },
  {
   "cell_type": "markdown",
   "metadata": {},
   "source": [
    "## Using the system\n",
    "\n",
    "Here we actually do something!\n",
    "\n",
    "* Access the most recent set of data\n",
    "* Count the number of tweets\n",
    "* Filter for tweets about #auspol\n",
    "* Count #auspol tweets\n",
    "* Graph both counts\n",
    "* Display a table of sample #auspol tweets\n"
   ]
  },
  {
   "cell_type": "code",
   "execution_count": 5,
   "metadata": {
    "collapsed": false
   },
   "outputs": [
    {
     "data": {
      "text/html": [
       "<h1>Number of Tweets per 1 minute batch</h1>"
      ],
      "text/plain": [
       "<IPython.core.display.HTML object>"
      ]
     },
     "metadata": {},
     "output_type": "display_data"
    },
    {
     "data": {
      "image/png": "[encoded data removed]",
      "text/plain": [
       "<matplotlib.figure.Figure at 0x7ff0312e4588>"
      ]
     },
     "metadata": {},
     "output_type": "display_data"
    },
    {
     "data": {
      "text/html": [
       "<h1>Sample #auspol Tweets</h1>"
      ],
      "text/plain": [
       "<IPython.core.display.HTML object>"
      ]
     },
     "metadata": {},
     "output_type": "display_data"
    },
    {
     "data": {
      "text/html": [
       "<div>\n",
       "<table border=\"1\" class=\"dataframe\">\n",
       "  <thead>\n",
       "    <tr style=\"text-align: right;\">\n",
       "      <th></th>\n",
       "      <th>Tweet</th>\n",
       "      <th>User Name</th>\n",
       "    </tr>\n",
       "  </thead>\n",
       "  <tbody>\n",
       "    <tr>\n",
       "      <th>0</th>\n",
       "      <td>RT @StopShenhua: Ag &amp;amp; Water Minister @Barnaby_Joyce exposed for his failure to stop the #Shenhua Mine while he holds office #auspol  https:…</td>\n",
       "      <td>Janice</td>\n",
       "    </tr>\n",
       "    <tr>\n",
       "      <th>0</th>\n",
       "      <td>\"How dare #SafeSchools teach #LGBTQI students that their #sexuality is acceptable! We'll put a stop to THAT nonsense!\" - #LNP Govt #auspol</td>\n",
       "      <td>Peter Murphy</td>\n",
       "    </tr>\n",
       "    <tr>\n",
       "      <th>0</th>\n",
       "      <td>RT @workmanalice: So this happened to me during #SenateQT this week. #auspol https://t.co/IspWZjHveu https://t.co/8lgy4SG2p6</td>\n",
       "      <td>Rory</td>\n",
       "    </tr>\n",
       "    <tr>\n",
       "      <th>0</th>\n",
       "      <td>Join me in supporting the #HandsOffOurABC Campaign. #auspol   https://t.co/wSz281kcvh</td>\n",
       "      <td>Vampressa</td>\n",
       "    </tr>\n",
       "    <tr>\n",
       "      <th>0</th>\n",
       "      <td>10/ The history of George Christensen #auspol #GChristensenLNP #LNP https://t.co/o37vzmDXFc</td>\n",
       "      <td>michael halliday777</td>\n",
       "    </tr>\n",
       "  </tbody>\n",
       "</table>\n",
       "</div>"
      ],
      "text/plain": [
       "                                                                                                                                              Tweet  \\\n",
       "0  RT @StopShenhua: Ag &amp; Water Minister @Barnaby_Joyce exposed for his failure to stop the #Shenhua Mine while he holds office #auspol  https:…   \n",
       "0        \"How dare #SafeSchools teach #LGBTQI students that their #sexuality is acceptable! We'll put a stop to THAT nonsense!\" - #LNP Govt #auspol   \n",
       "0                      RT @workmanalice: So this happened to me during #SenateQT this week. #auspol https://t.co/IspWZjHveu https://t.co/8lgy4SG2p6   \n",
       "0                                                             Join me in supporting the #HandsOffOurABC Campaign. #auspol   https://t.co/wSz281kcvh   \n",
       "0                                                       10/ The history of George Christensen #auspol #GChristensenLNP #LNP https://t.co/o37vzmDXFc   \n",
       "\n",
       "             User Name  \n",
       "0               Janice  \n",
       "0         Peter Murphy  \n",
       "0                 Rory  \n",
       "0            Vampressa  \n",
       "0  michael halliday777  "
      ]
     },
     "metadata": {},
     "output_type": "display_data"
    }
   ],
   "source": [
    "display.display(HTML(\"<h1>Loading Data....</h1>\"))\n",
    "\n",
    "# Initialise the matplotlib graphing library and make it pretty\n",
    "matplotlib.style.use('fivethirtyeight')\n",
    "%matplotlib inline\n",
    "plt.figure(figsize=(12, 9))\n",
    "ax = plt.axes()\n",
    "\n",
    "# Set the width on the output table\n",
    "pandas.set_option('display.max_colwidth', 200)\n",
    "\n",
    "batches = []\n",
    "values = []\n",
    "auspol_values = []\n",
    "\n",
    "# The batch size defines how many of minutes of data we grab\n",
    "batch_size_in_minutes = 1\n",
    "\n",
    "# Loop, getting data, processing it and displaying it\n",
    "for i in range(0,3):\n",
    "    display.clear_output(wait=True)  \n",
    "    \n",
    "    batches.append(i)\n",
    "    \n",
    "    # get a reference to the stored data data    \n",
    "    df = get_data(batch_size_in_minutes)\n",
    "        \n",
    "    \n",
    "    # get the count of records. This processing is done on the server\n",
    "    count = df.count()    \n",
    "    values.append(count)\n",
    "    \n",
    "    # We want count the number of records that reference #auspol    \n",
    "    # First find these records\n",
    "    # The DataFrame schema is documented in https://d2dcrc.atlassian.net/wiki/display/ARP/Persistence\n",
    "    #\n",
    "    # We want to run a Spark \"filter\" operation, which runs against a RDD, not a DataFrame\n",
    "    # We convert the DataFrame to a RDD, then run the filter.\n",
    "    #\n",
    "    # Spark has a number of operations available. \n",
    "    # See http://spark.apache.org/docs/latest/programming-guide.html#transformations for a list\n",
    "    auspol_rdd = df.select(\"data\").rdd.filter(lambda row: is_auspol(row))\n",
    "    \n",
    "    # Now count them\n",
    "    auspol_count = auspol_rdd.count()        \n",
    "    auspol_values.append(auspol_count)\n",
    "        \n",
    "\n",
    "    # plot batch number vs count and auspol_count\n",
    "    totals_line, = ax.plot(batches, values, \"#30a2da\", marker='o')    \n",
    "    auspol_line, = ax.plot(batches, auspol_values, \"#fc4f30\", marker='o')    \n",
    "    ax.legend([totals_line, auspol_line], ['Total', '#auspol'])\n",
    "        \n",
    "    \n",
    "    for i in range(0, len(batches)):\n",
    "        ax.annotate(str(values[i]), (batches[i], values[i]))\n",
    "        ax.annotate(str(auspol_values[i]), (batches[i], auspol_values[i]))\n",
    "        \n",
    "    \n",
    "    \n",
    "    # get the first 5 tweets in the #auspol dataset as a sample\n",
    "    tbl = rdd_to_pandas_df(auspol_rdd, 5)\n",
    "    \n",
    "    \n",
    "    #plt.gcf(),\n",
    "    \n",
    "    # display all the data    \n",
    "    display.display(HTML(\"<h1>Number of Tweets per \" + str(batch_size_in_minutes) + \" minute batch</h1>\"),\n",
    "                    plt.gcf(),\n",
    "                    HTML(\"<h1>Sample #auspol Tweets</h1>\"), \n",
    "                    tbl)\n",
    "    \n",
    "    # clear the display, BUT wait until there is something ready to display\n",
    "    #display.clear_output(wait=True)   \n",
    "        \n",
    "    # Wait another batch_size_in_minutes \n",
    "    #   Note that this could miss data that was ingested while this processing loop was running\n",
    "    #   Fixing that is left as an exercise for the reader\n",
    "    \n",
    "    time.sleep((batch_size_in_minutes - 1) * 60)\n",
    "    \n",
    "    \n",
    "plt.close();"
   ]
  },
  {
   "cell_type": "code",
   "execution_count": null,
   "metadata": {
    "collapsed": true
   },
   "outputs": [],
   "source": []
  },
  {
   "cell_type": "code",
   "execution_count": null,
   "metadata": {
    "collapsed": true
   },
   "outputs": [],
   "source": []
  },
  {
   "cell_type": "code",
   "execution_count": null,
   "metadata": {
    "collapsed": true
   },
   "outputs": [],
   "source": []
  },
  {
   "cell_type": "code",
   "execution_count": null,
   "metadata": {
    "collapsed": true
   },
   "outputs": [],
   "source": []
  },
  {
   "cell_type": "code",
   "execution_count": null,
   "metadata": {
    "collapsed": true
   },
   "outputs": [],
   "source": []
  },
  {
   "cell_type": "code",
   "execution_count": null,
   "metadata": {
    "collapsed": true
   },
   "outputs": [],
   "source": []
  }
 ],
 "metadata": {
  "kernelspec": {
   "display_name": "PySpark",
   "language": "python",
   "name": "pyspark"
  },
  "language_info": {
   "codemirror_mode": {
    "name": "ipython",
    "version": 3
   },
   "file_extension": ".py",
   "mimetype": "text/x-python",
   "name": "python",
   "nbconvert_exporter": "python",
   "pygments_lexer": "ipython3",
   "version": "3.5.2"
  }
 },
 "nbformat": 4,
 "nbformat_minor": 0
}
