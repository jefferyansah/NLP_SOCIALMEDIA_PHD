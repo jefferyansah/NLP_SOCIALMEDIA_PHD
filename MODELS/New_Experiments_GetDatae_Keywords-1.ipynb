{
 "cells": [
  {
   "cell_type": "code",
   "execution_count": null,
   "metadata": {
    "collapsed": false
   },
   "outputs": [],
   "source": [
    "from pyspark.sql import SQLContext\n",
    "from pyspark.sql.functions import *\n",
    "from collections import Counter\n",
    "import matplotlib.pyplot as plt\n",
    "import matplotlib.cm as cm\n",
    "import pandas as pd\n",
    "import numpy as np\n",
    "import datetime as dt\n",
    "import time\n",
    "import json\n",
    "from pyspark.sql import SQLContext\n",
    "import json\n",
    "from IPython import display\n",
    "from IPython.core.display import HTML\n",
    "import pandas\n",
    "import time \n",
    "import numpy as np\n",
    "import matplotlib.pyplot as plt \n",
    "from pyspark.sql.functions import split, explode, col\n",
    "\n",
    "sql = SQLContext(sc)"
   ]
  },
  {
   "cell_type": "code",
   "execution_count": null,
   "metadata": {},
   "outputs": [],
   "source": [
    ""
   ]
  },
  {
   "cell_type": "markdown",
   "metadata": {},
   "source": [
    "#  1ST prediction :NEW CASTLE HABOUR PROTEST (8TH MARCH 2016)\n",
    "# Event Description:\n",
    "\n",
    "On 8th March 2016 about 1,500 anti-coal protesters descended on the NSW port of Newcastle on Sunday in a bid to blockade the port and prevent exports. The world's largest coal export port, north of Sydney, was targeted by demonstrators calling for action to tackle climate change. About noon, the port was filled with kayaks paddling out to the entrance of the harbour as part of the Break Free event. The aim was for the mass flotilla to stop coal ships entering and leaving the harbour, something protesters claimed to have achieved. Police said 66 people were arrested during the \"large civil disobedience\" protest. In total, 57 protesters who occupied a rail bridge to block coal train at Sandgate were issued with Field Court Attendance Notices (FCANs) for remaining on enclosed lands. Pictures posted on social media showed groups of protesters lying on train tracks. The day of protest was organized by a range of groups, supported by Greenpeace and climate action group 350.org. Hundreds of Rising Tide protesters took to Newcastle Harbour for its seventh annual anti-coal port blockade. The protesters took to canoes and kayaks to block the port and deny coal ships entry for the majority of the day, the Newcastle Herald reports. \n",
    "The popular hashtags for the event were:\n",
    "\n",
    "#breakfree    #keepitintheground    #ClimateAction     #Newcastle   #endcoal     #ClimateResistance  #quitcoal          #coal       #endfossilfuel "
   ]
  },
  {
   "cell_type": "markdown",
   "metadata": {
    "collapsed": true
   },
   "source": [
    "# Get one Week Tweet Before the Event...."
   ]
  },
  {
   "cell_type": "code",
   "execution_count": 71,
   "metadata": {
    "collapsed": false,
    "scrolled": true
   },
   "outputs": [
    {
     "name": "stdout",
     "output_type": "stream",
     "text": [
      "root\n",
      " |-- key:salt: byte (nullable = true)\n",
      " |-- key:timestamp: timestamp (nullable = true)\n",
      " |-- key:id: string (nullable = true)\n",
      " |-- key:subIds: array (nullable = true)\n",
      " |    |-- element: string (containsNull = true)\n",
      " |-- data: string (nullable = true)\n",
      " |-- reference: string (nullable = true)\n",
      " |-- format: string (nullable = true)\n",
      " |-- type: string (nullable = true)\n",
      " |-- source: string (nullable = true)\n",
      " |-- ingestTime: timestamp (nullable = true)\n",
      " |-- author: string (nullable = true)\n",
      " |-- civilEvents: string (nullable = true)\n",
      " |-- locations: string (nullable = true)\n",
      " |-- geo: string (nullable = true)\n",
      " |-- nlp: string (nullable = true)\n",
      " |-- publicationTime: timestamp (nullable = true)\n",
      " |-- politicalParty: string (nullable = true)\n",
      " |-- sentiment: string (nullable = true)\n",
      " |-- times: string (nullable = true)\n",
      " |-- bodyText: string (nullable = true)\n",
      " |-- title: string (nullable = true)\n",
      " |-- phraseList: string (nullable = true)\n",
      " |-- spam: string (nullable = true)\n",
      "\n"
     ]
    }
   ],
   "source": [
    "lol = sql.read.load(format = \"au.com.d2dcrc.carbon.spark.tweets\", startTime = \"2016-05-07T12:00:00Z\", endTime = \"2016-05-07T23:29:59Z\")\n",
    "lol.printSchema()\n",
    "\n",
    "\n",
    "displaytweets = lol.select( \"author\", \"publicationTime\", \"bodyText\", \"locations\").orderBy(\"publicationTime\")\n",
    "#pd.set_option('display.max_colwidth', 500)\n",
    "#display.display(displaytweets.toPandas())"
   ]
  },
  {
   "cell_type": "code",
   "execution_count": 72,
   "metadata": {
    "collapsed": false
   },
   "outputs": [
    {
     "name": "stdout",
     "output_type": "stream",
     "text": [
      "The script took 91.24707555770874 second !\n"
     ]
    }
   ],
   "source": [
    "import time \n",
    "startTime = time.time()\n",
    "sqlContext.registerDataFrameAsTable(displaytweets, \"doall\")\n",
    "saveall = sqlContext.sql(\"SELECT * FROM doall\")\n",
    "saveall.describe()\n",
    "sly1 = saveall.toPandas()\n",
    "#sly1.to_csv('realFinalNHB.csv')\n",
    "print('The script took {0} second !'.format(time.time() - startTime))"
   ]
  },
  {
   "cell_type": "code",
   "execution_count": 61,
   "metadata": {
    "collapsed": false
   },
   "outputs": [],
   "source": [
    "#print(len(sly1))\n",
    "#sly1.head()"
   ]
  },
  {
   "cell_type": "code",
   "execution_count": 74,
   "metadata": {
    "collapsed": true
   },
   "outputs": [],
   "source": [
    "#keywords = ['#coal', '#shenhua', '#csg', '#keepintheground', '#breakfree', '#coal', 'liverpoolplains']\n",
    "\n",
    "\n",
    "keywords = [\"protest\", \"muslim\", \"islam\", \"outcry\", \"asylum\", \"organisation\", \"threat\", \"union\", \"centrelink\",\n",
    "            \"opposition\", \"parade\", \"council\",\n",
    "            \"federal\", \"strike\", \"harass\", \"refugee\", \"riot\", \"community\", \"reclaim\", \"poster\", \"demonstration\",\n",
    "            \"petition\", \"funding\", \"barrier\", \"march\",\n",
    "            \"crowd\", \"celebration\", \"action\", \"barricade\", \"placard\", \"gather\", \"resident\", \"patriot\", \"bigot\",\n",
    "            \"racism\", \"national\", \"decision\", \"movement\",\n",
    "            \"mentality\", \"racist\", \"agency\", \"mosque\", \"highlight\", \"halaal\", \"turmoil\", \"activist\", \"disturbance\",\n",
    "            \"victory\", \"equality\", \"blockade\", \"anger\",\n",
    "\"ideal\", \"unite\", \"extremist\", \"anzac\", \"rally\", \"culture\", \"unrest\", \"terror\", \"terrorist\"\n",
    ", \"prevent\", \"cpsu\", \"anger\", \"concern\",\"stoppage\", \"park\",\"value\", \"claim\",\"immigrant\",\"opponent\",\n",
    "                 \"standoff\", \"spray\",\"sign\",\"urban\",\"pressure\",\"destroy\",\"side\", \"unrest\", \"stoking\"]"
   ]
  },
  {
   "cell_type": "code",
   "execution_count": null,
   "metadata": {
    "collapsed": false
   },
   "outputs": [],
   "source": [
    "import pandas as pd\n",
    "import datetime as dt\n",
    "import multiprocessing as mp\n",
    "\n",
    "\n",
    "def matches_util(args):\n",
    "    df_in, word_list, min_keywords = args\n",
    "\n",
    "    # Check for every keyword in ever row\n",
    "    values = pd.DataFrame()\n",
    "    for kw in word_list:\n",
    "        values[kw] = df_in.bodyText.str.contains(kw, case=False)\n",
    "\n",
    "    # Add keyword counts\n",
    "    values[\"wordCnt\"] = [v.sum() for k, v in values.iterrows()]\n",
    "\n",
    "    # If keyword count is greater than min_keywords then include in result\n",
    "    return df_in.loc[values.wordCnt >= min_keywords]\n",
    "\n",
    "\n",
    "def get_matches(df_in, word_list, min_keywords=2, output_filepath=\"\", multi_threads=False, thread_cnt=2):\n",
    "    print(\"Looking for matches.\\nmin_keywords={}\\noutput_filepath={}\\nmulti_threads={}\\nword_list={}\".format(\n",
    "        min_keywords,\n",
    "        output_filepath,\n",
    "        multi_threads,\n",
    "        word_list))\n",
    "\n",
    "    # Make sure bodyText field exists\n",
    "    assert \"bodyText\" in df_in.columns, \"Field 'bodyText' was not found in input DataFrame!\"\n",
    "    ts1 = dt.datetime.now()\n",
    "    result = None\n",
    "    resList = None\n",
    "\n",
    "    # Use multi-threading if enabled\n",
    "    if multi_threads:\n",
    "        with mp.Pool(thread_cnt) as p:\n",
    "            threadCnt = thread_cnt\n",
    "            bins = pd.cut(df_in.index, threadCnt, labels=range(threadCnt))\n",
    "            resList = p.map(matches_util, ((df_in.loc[bins == i], keywords, min_keywords) for i in range(thread_cnt)))\n",
    "\n",
    "    # Else process without multi-threading\n",
    "    else:\n",
    "        result = matches_util((df_in, keywords, min_keywords))\n",
    "\n",
    "    # Get results from queue\n",
    "    if result is None:\n",
    "        result = pd.concat(resList)\n",
    "\n",
    "    ft = dt.datetime.now() - ts1\n",
    "    print(\"Finished looking for matches.  Time Elapsed={:.1f}s\".format(ft.total_seconds()))\n",
    "\n",
    "    # Save resulting matches to file if a filepath was passed\n",
    "    if output_filepath != \"\":\n",
    "        result.to_csv(output_filepath)\n",
    "        print(\"Saved output to {}\".format(output_filepath))\n",
    "\n",
    "    return result"
   ]
  },
  {
   "cell_type": "code",
   "execution_count": null,
   "metadata": {},
   "outputs": [],
   "source": [
    "get_matches(sly1, word_list=keywords, min_keywords=2, output_filepath=\"output3.csv\", multi_threads=True, thread_cnt=8)"
   ]
  },
  {
   "cell_type": "code",
   "execution_count": null,
   "metadata": {
    "collapsed": false
   },
   "outputs": [],
   "source": [
    "import time \n",
    "startTime = time.time()\n",
    "aa = get_matches2(sly1, keywords, 2, \"output3.csv\")\n",
    "#print(aa)\n",
    "print('The script took {0} second !'.format(time.time() - startTime))\n",
    "import time \n",
    "\n",
    "startTime = time.time()\n",
    "sqlContext.registerDataFrameAsTable(displaytweets, \"timePlus\")\n",
    "feb10 = sqlContext.sql(\"SELECT * FROM timePlus WHERE publicationTime LIKE '%2016-03-07%'\")\n",
    "f10 = feb10.toPandas()\n",
    "\n",
    "f10.to_csv('short.csv')\n",
    "f10.describe()\n",
    "print('The script took {0} second !'.format(time.time() - startTime))\n",
    "#hashTags = newpd.where(newpd['bodyText'].str.contains('#coal')).dropna() #this works thesame as"
   ]
  },
  {
   "cell_type": "code",
   "execution_count": null,
   "metadata": {
    "collapsed": false
   },
   "outputs": [],
   "source": [
    "sqlContext.registerDataFrameAsTable(saveall, \"timePlus\")\n",
    "feb11 = sqlContext.sql(\"SELECT * FROM timePlus WHERE publicationTime LIKE '%2016-02-11%'\")\n",
    "f11 = feb11.toPandas()\n",
    "f11.to_csv('Feb11.csv')\n",
    "f11.describe()"
   ]
  },
  {
   "cell_type": "code",
   "execution_count": null,
   "metadata": {
    "collapsed": false
   },
   "outputs": [],
   "source": [
    "sqlContext.registerDataFrameAsTable(saveall, \"timePlus\")\n",
    "feb12 = sqlContext.sql(\"SELECT * FROM timePlus WHERE publicationTime LIKE '%2016-02-12%'\")\n",
    "f12 = feb12.toPandas()\n",
    "f12.to_csv('Feb12.csv')\n",
    "f12.describe()"
   ]
  },
  {
   "cell_type": "code",
   "execution_count": null,
   "metadata": {
    "collapsed": false
   },
   "outputs": [],
   "source": [
    "sqlContext.registerDataFrameAsTable(saveall, \"timePlus\")\n",
    "feb13 = sqlContext.sql(\"SELECT * FROM timePlus WHERE publicationTime LIKE '%2016-02-13%'\")\n",
    "f13 = feb13.toPandas()\n",
    "f13.to_csv('Feb13.csv')\n",
    "f13.describe()"
   ]
  },
  {
   "cell_type": "code",
   "execution_count": null,
   "metadata": {
    "collapsed": false
   },
   "outputs": [],
   "source": [
    "sqlContext.registerDataFrameAsTable(saveall, \"timePlus\")\n",
    "feb14 = sqlContext.sql(\"SELECT * FROM timePlus WHERE publicationTime LIKE '%2016-02-14%'\")\n",
    "f14 = feb14.toPandas()\n",
    "f14.to_csv('Feb14.csv')\n",
    "f14.describe()"
   ]
  },
  {
   "cell_type": "code",
   "execution_count": null,
   "metadata": {
    "collapsed": false
   },
   "outputs": [],
   "source": [
    "sqlContext.registerDataFrameAsTable(saveall, \"timePlus\")\n",
    "feb15 = sqlContext.sql(\"SELECT * FROM timePlus WHERE publicationTime LIKE '%2016-02-15%'\")\n",
    "f15 = feb15.toPandas()\n",
    "f15.to_csv('Feb15.csv')\n",
    "f15.describe()"
   ]
  },
  {
   "cell_type": "code",
   "execution_count": null,
   "metadata": {
    "collapsed": false
   },
   "outputs": [],
   "source": [
    "sqlContext.registerDataFrameAsTable(saveall, \"timePlus\")\n",
    "feb16 = sqlContext.sql(\"SELECT * FROM timePlus WHERE publicationTime LIKE '%2016-02-16%'\")\n",
    "f16 = feb16.toPandas()\n",
    "f16.to_csv('Feb16.csv')\n",
    "f16.describe()"
   ]
  },
  {
   "cell_type": "code",
   "execution_count": null,
   "metadata": {
    "collapsed": false
   },
   "outputs": [],
   "source": [
    "sqlContext.registerDataFrameAsTable(saveall, \"timePlus\")\n",
    "feb17 = sqlContext.sql(\"SELECT * FROM timePlus WHERE publicationTime LIKE '%2016-02-17%'\")\n",
    "f17 = feb17.toPandas()\n",
    "f17.to_csv('Feb17.csv')\n",
    "f17.describe()"
   ]
  },
  {
   "cell_type": "code",
   "execution_count": null,
   "metadata": {
    "collapsed": false
   },
   "outputs": [],
   "source": [
    "sqlContext.registerDataFrameAsTable(saveall, \"timePlus\")\n",
    "feb18 = sqlContext.sql(\"SELECT * FROM timePlus WHERE publicationTime LIKE '%2016-02-18%'\")\n",
    "f18 = feb18.toPandas()\n",
    "f18.to_csv('Feb17.csv')\n",
    "f18.describe()"
   ]
  },
  {
   "cell_type": "code",
   "execution_count": null,
   "metadata": {
    "collapsed": false
   },
   "outputs": [],
   "source": [
    "sqlContext.registerDataFrameAsTable(saveall, \"timePlus\")\n",
    "feb19 = sqlContext.sql(\"SELECT * FROM timePlus WHERE publicationTime LIKE '%2016-02-19%'\")\n",
    "f19 = feb19.toPandas()\n",
    "f19.to_csv('Feb19.csv')\n",
    "f19.describe()"
   ]
  },
  {
   "cell_type": "code",
   "execution_count": null,
   "metadata": {
    "collapsed": false
   },
   "outputs": [],
   "source": [
    "sqlContext.registerDataFrameAsTable(saveall, \"timePlus\")\n",
    "feb20 = sqlContext.sql(\"SELECT * FROM timePlus WHERE publicationTime LIKE '%2016-02-20%'\")\n",
    "f20 = feb20.toPandas()\n",
    "f20.to_csv('Feb20.csv')\n",
    "f20.describe()"
   ]
  },
  {
   "cell_type": "code",
   "execution_count": null,
   "metadata": {
    "collapsed": false
   },
   "outputs": [],
   "source": [
    "sqlContext.registerDataFrameAsTable(saveall, \"timePlus\")\n",
    "feb21 = sqlContext.sql(\"SELECT * FROM timePlus WHERE publicationTime LIKE '%2016-02-21%'\")\n",
    "f21 = feb21.toPandas()\n",
    "f21.to_csv('Feb21.csv')\n",
    "f21.describe()"
   ]
  },
  {
   "cell_type": "code",
   "execution_count": null,
   "metadata": {
    "collapsed": false
   },
   "outputs": [],
   "source": [
    "sqlContext.registerDataFrameAsTable(saveall, \"timePlus\")\n",
    "feb22 = sqlContext.sql(\"SELECT * FROM timePlus WHERE publicationTime LIKE '%2016-02-22%'\")\n",
    "f22 = feb22.toPandas()\n",
    "f22.to_csv('Feb22.csv')\n",
    "f22.describe()\n",
    "#rundata again and change name"
   ]
  },
  {
   "cell_type": "code",
   "execution_count": null,
   "metadata": {
    "collapsed": false
   },
   "outputs": [],
   "source": [
    "sqlContext.registerDataFrameAsTable(saveall, \"timePlus\")\n",
    "feb23 = sqlContext.sql(\"SELECT * FROM timePlus WHERE publicationTime LIKE '%2016-02-23%'\")\n",
    "f23 = feb23.toPandas()\n",
    "f23.to_csv('Feb22.csv')\n",
    "f23.describe()\n",
    "#run data again and change the name"
   ]
  },
  {
   "cell_type": "code",
   "execution_count": null,
   "metadata": {
    "collapsed": false
   },
   "outputs": [],
   "source": [
    "sqlContext.registerDataFrameAsTable(saveall, \"timePlus\")\n",
    "feb23 = sqlContext.sql(\"SELECT * FROM timePlus WHERE publicationTime LIKE '%2016-02-23%'\")\n",
    "f23 = feb23.toPandas()\n",
    "f23.to_csv('Feb23.csv')\n",
    "f23.describe()"
   ]
  },
  {
   "cell_type": "code",
   "execution_count": null,
   "metadata": {
    "collapsed": false
   },
   "outputs": [],
   "source": [
    "sqlContext.registerDataFrameAsTable(saveall, \"timePlus\")\n",
    "feb24 = sqlContext.sql(\"SELECT * FROM timePlus WHERE publicationTime LIKE '%2016-02-24%'\")\n",
    "f24 = feb24.toPandas()\n",
    "f24.to_csv('Feb24.csv')\n",
    "f24.describe()"
   ]
  },
  {
   "cell_type": "code",
   "execution_count": null,
   "metadata": {
    "collapsed": false
   },
   "outputs": [],
   "source": [
    "sqlContext.registerDataFrameAsTable(saveall, \"timePlus\")\n",
    "feb24 = sqlContext.sql(\"SELECT * FROM timePlus WHERE publicationTime LIKE '%2016-02-24%'\")\n",
    "f24 = feb24.toPandas()\n",
    "f24.to_csv('Feb24.csv')\n",
    "f24.describe()"
   ]
  },
  {
   "cell_type": "code",
   "execution_count": null,
   "metadata": {
    "collapsed": false
   },
   "outputs": [],
   "source": [
    "sqlContext.registerDataFrameAsTable(saveall, \"timePlus\")\n",
    "feb25 = sqlContext.sql(\"SELECT * FROM timePlus WHERE publicationTime LIKE '%2016-02-25%'\")\n",
    "f25 = feb25.toPandas()\n",
    "f25.to_csv('Feb25.csv')\n",
    "f25.describe()"
   ]
  },
  {
   "cell_type": "code",
   "execution_count": null,
   "metadata": {
    "collapsed": false
   },
   "outputs": [],
   "source": [
    "sqlContext.registerDataFrameAsTable(saveall, \"timePlus\")\n",
    "feb26 = sqlContext.sql(\"SELECT * FROM timePlus WHERE publicationTime LIKE '%2016-02-26%'\")\n",
    "f26 = feb26.toPandas()\n",
    "f26.to_csv('Feb26.csv')\n",
    "f26.describe()"
   ]
  },
  {
   "cell_type": "code",
   "execution_count": null,
   "metadata": {
    "collapsed": false
   },
   "outputs": [],
   "source": [
    "sqlContext.registerDataFrameAsTable(saveall, \"timePlus\")\n",
    "feb27 = sqlContext.sql(\"SELECT * FROM timePlus WHERE publicationTime LIKE '%2016-02-27%'\")\n",
    "f27 = feb27.toPandas()\n",
    "f27.to_csv('Feb27.csv')\n",
    "f27.describe()"
   ]
  },
  {
   "cell_type": "code",
   "execution_count": null,
   "metadata": {
    "collapsed": false
   },
   "outputs": [],
   "source": [
    "sqlContext.registerDataFrameAsTable(saveall, \"timePlus\")\n",
    "feb28 = sqlContext.sql(\"SELECT * FROM timePlus WHERE publicationTime LIKE '%2016-02-28%'\")\n",
    "f28 = feb28.toPandas()\n",
    "f28.to_csv('Feb28.csv')\n",
    "f28.describe()"
   ]
  },
  {
   "cell_type": "code",
   "execution_count": null,
   "metadata": {
    "collapsed": false
   },
   "outputs": [],
   "source": [
    "sqlContext.registerDataFrameAsTable(saveall, \"timePlus\")\n",
    "feb29 = sqlContext.sql(\"SELECT * FROM timePlus WHERE publicationTime LIKE '%2016-02-29%'\")\n",
    "f29 = feb29.toPandas()\n",
    "f29.to_csv('Feb29.csv')\n",
    "f29.describe()"
   ]
  },
  {
   "cell_type": "code",
   "execution_count": null,
   "metadata": {
    "collapsed": false
   },
   "outputs": [],
   "source": [
    "sqlContext.registerDataFrameAsTable(saveall, \"timePlus\")\n",
    "Mar1 = sqlContext.sql(\"SELECT * FROM timePlus WHERE publicationTime LIKE '%2016-03-01%'\")\n",
    "m1 = Mar1.toPandas()\n",
    "m1.to_csv('Mar1.csv')\n",
    "m1.describe()"
   ]
  },
  {
   "cell_type": "code",
   "execution_count": null,
   "metadata": {
    "collapsed": false
   },
   "outputs": [],
   "source": [
    "sqlContext.registerDataFrameAsTable(saveall, \"timePlus\")\n",
    "Mar2 = sqlContext.sql(\"SELECT * FROM timePlus WHERE publicationTime LIKE '%2016-03-02%'\")\n",
    "m2 = Mar2.toPandas()\n",
    "m2.to_csv('Mar2.csv')\n",
    "m2.describe()"
   ]
  },
  {
   "cell_type": "code",
   "execution_count": null,
   "metadata": {
    "collapsed": false
   },
   "outputs": [],
   "source": [
    "sqlContext.registerDataFrameAsTable(saveall, \"timePlus\")\n",
    "Mar3 = sqlContext.sql(\"SELECT * FROM timePlus WHERE publicationTime LIKE '%2016-03-03%'\")\n",
    "m3 = Mar3.toPandas()\n",
    "m3.to_csv('Mar3.csv')\n",
    "m3.describe()"
   ]
  },
  {
   "cell_type": "code",
   "execution_count": null,
   "metadata": {
    "collapsed": false
   },
   "outputs": [],
   "source": [
    "sqlContext.registerDataFrameAsTable(saveall, \"timePlus\")\n",
    "Mar4 = sqlContext.sql(\"SELECT * FROM timePlus WHERE publicationTime LIKE '%2016-03-04%'\")\n",
    "m4 = Mar4.toPandas()\n",
    "m4.to_csv('Mar4.csv')\n",
    "m4.describe()"
   ]
  },
  {
   "cell_type": "code",
   "execution_count": null,
   "metadata": {
    "collapsed": false
   },
   "outputs": [],
   "source": [
    "sqlContext.registerDataFrameAsTable(saveall, \"timePlus\")\n",
    "Mar5 = sqlContext.sql(\"SELECT * FROM timePlus WHERE publicationTime LIKE '%2016-03-05%'\")\n",
    "m5 = Mar5.toPandas()\n",
    "m5.to_csv('Mar5.csv')\n",
    "m5.describe()"
   ]
  },
  {
   "cell_type": "code",
   "execution_count": null,
   "metadata": {
    "collapsed": false
   },
   "outputs": [],
   "source": [
    "sqlContext.registerDataFrameAsTable(saveall, \"timePlus\")\n",
    "Mar6 = sqlContext.sql(\"SELECT * FROM timePlus WHERE publicationTime LIKE '%2016-03-06%'\")\n",
    "m6 = Mar6.toPandas()\n",
    "m6.to_csv('Mar6.csv')\n",
    "m6.describe()"
   ]
  },
  {
   "cell_type": "code",
   "execution_count": null,
   "metadata": {
    "collapsed": false
   },
   "outputs": [],
   "source": [
    "sqlContext.registerDataFrameAsTable(saveall, \"timePlus\")\n",
    "Mar7 = sqlContext.sql(\"SELECT * FROM timePlus WHERE publicationTime LIKE '%2016-03-07%'\")\n",
    "m7 = Mar7.toPandas()\n",
    "m7.to_csv('Mar7.csv')\n",
    "m7.describe()"
   ]
  },
  {
   "cell_type": "code",
   "execution_count": null,
   "metadata": {
    "collapsed": false
   },
   "outputs": [],
   "source": [
    "sqlContext.registerDataFrameAsTable(saveall, \"timePlus\")\n",
    "Mar8 = sqlContext.sql(\"SELECT * FROM timePlus WHERE publicationTime LIKE '%2016-03-08%'\")\n",
    "m8 = Mar8.toPandas()\n",
    "m8.to_csv('Mar8.csv')\n",
    "m8.describe()"
   ]
  },
  {
   "cell_type": "code",
   "execution_count": null,
   "metadata": {
    "collapsed": false
   },
   "outputs": [],
   "source": [
    "sqlContext.registerDataFrameAsTable(saveall, \"timePlus\")\n",
    "Mar9 = sqlContext.sql(\"SELECT * FROM timePlus WHERE publicationTime LIKE '%2016-03-09%'\")\n",
    "m9 = Mar9.toPandas()\n",
    "m9.to_csv('Mar9.csv')\n",
    "m9.describe()"
   ]
  },
  {
   "cell_type": "code",
   "execution_count": null,
   "metadata": {
    "collapsed": false
   },
   "outputs": [],
   "source": [
    "sqlContext.registerDataFrameAsTable(saveall, \"timePlus\")\n",
    "Mar10 = sqlContext.sql(\"SELECT * FROM timePlus WHERE publicationTime LIKE '%2016-03-10%'\")\n",
    "m10 = Mar10.toPandas()\n",
    "m10.to_csv('Mar10.csv')\n",
    "m10.describe()"
   ]
  },
  {
   "cell_type": "code",
   "execution_count": null,
   "metadata": {
    "collapsed": false
   },
   "outputs": [],
   "source": [
    "sqlContext.registerDataFrameAsTable(saveall, \"timePlus\")\n",
    "Mar11 = sqlContext.sql(\"SELECT * FROM timePlus WHERE publicationTime LIKE '%2016-03-11%'\")\n",
    "m11 = Mar11.toPandas()\n",
    "m11.to_csv('Mar11.csv')\n",
    "m11.describe()\n",
    "#rerun"
   ]
  },
  {
   "cell_type": "code",
   "execution_count": null,
   "metadata": {
    "collapsed": false
   },
   "outputs": [],
   "source": [
    "sqlContext.registerDataFrameAsTable(saveall, \"timePlus\")\n",
    "Mar12 = sqlContext.sql(\"SELECT * FROM timePlus WHERE publicationTime LIKE '%2016-03-12%'\")\n",
    "m12 = Mar12.toPandas()\n",
    "m12.to_csv('Mar12.csv')\n",
    "m12.describe()"
   ]
  },
  {
   "cell_type": "code",
   "execution_count": null,
   "metadata": {
    "collapsed": false
   },
   "outputs": [],
   "source": [
    "sqlContext.registerDataFrameAsTable(saveall, \"timePlus\")\n",
    "Mar13 = sqlContext.sql(\"SELECT * FROM timePlus WHERE publicationTime LIKE '%2016-03-13%'\")\n",
    "m13 = Mar13.toPandas()\n",
    "m13.to_csv('Mar13.csv')\n",
    "m13.describe()"
   ]
  },
  {
   "cell_type": "code",
   "execution_count": null,
   "metadata": {
    "collapsed": false
   },
   "outputs": [],
   "source": [
    "sqlContext.registerDataFrameAsTable(saveall, \"timePlus\")\n",
    "Mar14 = sqlContext.sql(\"SELECT * FROM timePlus WHERE publicationTime LIKE '%2016-03-14%'\")\n",
    "m14 = Mar14.toPandas()\n",
    "m14.to_csv('Mar14.csv')\n",
    "m14.describe()"
   ]
  },
  {
   "cell_type": "code",
   "execution_count": null,
   "metadata": {
    "collapsed": false
   },
   "outputs": [],
   "source": [
    "sqlContext.registerDataFrameAsTable(saveall, \"timePlus\")\n",
    "Mar15 = sqlContext.sql(\"SELECT * FROM timePlus WHERE publicationTime LIKE '%2016-03-15%'\")\n",
    "m15 = Mar15.toPandas()\n",
    "m15.to_csv('Mar15.csv')\n",
    "m15.describe()"
   ]
  }
 ],
 "metadata": {
  "kernelspec": {
   "display_name": "PySpark",
   "language": "python",
   "name": "pyspark"
  },
  "language_info": {
   "codemirror_mode": {
    "name": "ipython",
    "version": 3.0
   },
   "file_extension": ".py",
   "mimetype": "text/x-python",
   "name": "python",
   "nbconvert_exporter": "python",
   "pygments_lexer": "ipython3",
   "version": "3.5.3"
  }
 },
 "nbformat": 4,
 "nbformat_minor": 0
}