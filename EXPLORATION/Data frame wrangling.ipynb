{
 "cells": [
  {
   "cell_type": "markdown",
   "metadata": {},
   "source": [
    "# Scenario: Stolen phones in a nightclub\n",
    "\n",
    "Your friend owns a nightclub, and the nightclub is suffering an epidemic of stolen phones. At least one thief has been frequenting her club and stealing her visitors' phones.\n",
    "\n",
    "Her club has a licence scanner at its entrance, that records the name and date-of-birth of everyone who enters the club - so she should have the personal details of the thief or thieves; it's just mixed in with the details of her honest customers. \n",
    "She heard you call yourself a \"data scientist\", so has asked you to come up with a ranked list of up to 20 suspects to give to the police.\n",
    "\n",
    "She's given you:\n",
    "`visitor_log.csv` - details of who visited the club and on what day (those visiting 2AM Tuesday are counted as visiting on Monday).\n",
    "`theft_log.csv` - a list of days on which thefts were reported to occur (again, thefts after midnight are counted as the previous day - we're being nice to you)\n",
    "\n",
    "She wants from you:\n",
    "- A list of ID details for the 20 most suspicious patrons, ranked from most-suspicious to least-suspicious.\n",
    "- If you think there are fewer than 20 thieves, a list of ID details for everyone that you think is a thief.\n",
    "\n",
    "\n"
   ]
  },
  {
   "cell_type": "code",
   "execution_count": 1,
   "metadata": {},
   "outputs": [
    {
     "data": {
      "text/html": [
       "<div>\n",
       "<style scoped>\n",
       "    .dataframe tbody tr th:only-of-type {\n",
       "        vertical-align: middle;\n",
       "    }\n",
       "\n",
       "    .dataframe tbody tr th {\n",
       "        vertical-align: top;\n",
       "    }\n",
       "\n",
       "    .dataframe thead th {\n",
       "        text-align: right;\n",
       "    }\n",
       "</style>\n",
       "<table border=\"1\" class=\"dataframe\">\n",
       "  <thead>\n",
       "    <tr style=\"text-align: right;\">\n",
       "      <th></th>\n",
       "      <th>visit_date</th>\n",
       "      <th>name</th>\n",
       "      <th>dob</th>\n",
       "    </tr>\n",
       "  </thead>\n",
       "  <tbody>\n",
       "    <tr>\n",
       "      <th>0</th>\n",
       "      <td>2016-06-16</td>\n",
       "      <td>Samuel Casanova</td>\n",
       "      <td>1990-03-12</td>\n",
       "    </tr>\n",
       "    <tr>\n",
       "      <th>1</th>\n",
       "      <td>2016-06-16</td>\n",
       "      <td>Gerald Orozco</td>\n",
       "      <td>1990-10-05</td>\n",
       "    </tr>\n",
       "    <tr>\n",
       "      <th>2</th>\n",
       "      <td>2016-06-16</td>\n",
       "      <td>Sharon Davis</td>\n",
       "      <td>1990-10-18</td>\n",
       "    </tr>\n",
       "    <tr>\n",
       "      <th>3</th>\n",
       "      <td>2016-06-16</td>\n",
       "      <td>Spencer Spencer</td>\n",
       "      <td>1991-10-13</td>\n",
       "    </tr>\n",
       "    <tr>\n",
       "      <th>4</th>\n",
       "      <td>2016-06-16</td>\n",
       "      <td>Steven Estevez</td>\n",
       "      <td>1992-01-13</td>\n",
       "    </tr>\n",
       "  </tbody>\n",
       "</table>\n",
       "</div>"
      ],
      "text/plain": [
       "   visit_date             name         dob\n",
       "0  2016-06-16  Samuel Casanova  1990-03-12\n",
       "1  2016-06-16    Gerald Orozco  1990-10-05\n",
       "2  2016-06-16     Sharon Davis  1990-10-18\n",
       "3  2016-06-16  Spencer Spencer  1991-10-13\n",
       "4  2016-06-16   Steven Estevez  1992-01-13"
      ]
     },
     "execution_count": 1,
     "metadata": {},
     "output_type": "execute_result"
    }
   ],
   "source": [
    "import pandas as pd\n",
    "\n",
    "df_all = pd.read_csv('visitor_log.csv')\n",
    "\n",
    "df_all.head()"
   ]
  },
  {
   "cell_type": "code",
   "execution_count": 2,
   "metadata": {},
   "outputs": [
    {
     "data": {
      "text/html": [
       "<div>\n",
       "<style scoped>\n",
       "    .dataframe tbody tr th:only-of-type {\n",
       "        vertical-align: middle;\n",
       "    }\n",
       "\n",
       "    .dataframe tbody tr th {\n",
       "        vertical-align: top;\n",
       "    }\n",
       "\n",
       "    .dataframe thead th {\n",
       "        text-align: right;\n",
       "    }\n",
       "</style>\n",
       "<table border=\"1\" class=\"dataframe\">\n",
       "  <thead>\n",
       "    <tr style=\"text-align: right;\">\n",
       "      <th></th>\n",
       "      <th>date</th>\n",
       "    </tr>\n",
       "  </thead>\n",
       "  <tbody>\n",
       "    <tr>\n",
       "      <th>0</th>\n",
       "      <td>2017-01-01</td>\n",
       "    </tr>\n",
       "    <tr>\n",
       "      <th>1</th>\n",
       "      <td>2016-12-30</td>\n",
       "    </tr>\n",
       "    <tr>\n",
       "      <th>2</th>\n",
       "      <td>2016-12-25</td>\n",
       "    </tr>\n",
       "    <tr>\n",
       "      <th>3</th>\n",
       "      <td>2016-12-22</td>\n",
       "    </tr>\n",
       "    <tr>\n",
       "      <th>4</th>\n",
       "      <td>2016-12-19</td>\n",
       "    </tr>\n",
       "  </tbody>\n",
       "</table>\n",
       "</div>"
      ],
      "text/plain": [
       "         date\n",
       "0  2017-01-01\n",
       "1  2016-12-30\n",
       "2  2016-12-25\n",
       "3  2016-12-22\n",
       "4  2016-12-19"
      ]
     },
     "execution_count": 2,
     "metadata": {},
     "output_type": "execute_result"
    }
   ],
   "source": [
    "df_theft = pd.read_csv('theft_log.csv', header=None)\n",
    "\n",
    "df_theft.rename(index=str, columns={0: \"date\"}, inplace =True)\n",
    "\n",
    "df_theft.head()"
   ]
  },
  {
   "cell_type": "code",
   "execution_count": 3,
   "metadata": {},
   "outputs": [
    {
     "data": {
      "text/plain": [
       "date    object\n",
       "dtype: object"
      ]
     },
     "execution_count": 3,
     "metadata": {},
     "output_type": "execute_result"
    }
   ],
   "source": [
    "df_theft.dtypes"
   ]
  },
  {
   "cell_type": "code",
   "execution_count": 4,
   "metadata": {},
   "outputs": [
    {
     "data": {
      "text/plain": [
       "visit_date    object\n",
       "name          object\n",
       "dob           object\n",
       "dtype: object"
      ]
     },
     "execution_count": 4,
     "metadata": {},
     "output_type": "execute_result"
    }
   ],
   "source": [
    "df_all.dtypes"
   ]
  },
  {
   "cell_type": "code",
   "execution_count": 5,
   "metadata": {},
   "outputs": [],
   "source": [
    "import numpy as np\n",
    "\n",
    "#select from df_all common in df_theft\n",
    "\n",
    "df_all['was_present'] = df_all.visit_date.isin(df_theft.date).astype(np.int8)"
   ]
  },
  {
   "cell_type": "code",
   "execution_count": 6,
   "metadata": {
    "scrolled": true
   },
   "outputs": [
    {
     "data": {
      "text/html": [
       "<div>\n",
       "<style scoped>\n",
       "    .dataframe tbody tr th:only-of-type {\n",
       "        vertical-align: middle;\n",
       "    }\n",
       "\n",
       "    .dataframe tbody tr th {\n",
       "        vertical-align: top;\n",
       "    }\n",
       "\n",
       "    .dataframe thead th {\n",
       "        text-align: right;\n",
       "    }\n",
       "</style>\n",
       "<table border=\"1\" class=\"dataframe\">\n",
       "  <thead>\n",
       "    <tr style=\"text-align: right;\">\n",
       "      <th></th>\n",
       "      <th>visit_date</th>\n",
       "      <th>name</th>\n",
       "      <th>dob</th>\n",
       "      <th>was_present</th>\n",
       "    </tr>\n",
       "  </thead>\n",
       "  <tbody>\n",
       "    <tr>\n",
       "      <th>227</th>\n",
       "      <td>2016-06-17</td>\n",
       "      <td>Samuel Casanova</td>\n",
       "      <td>1990-03-12</td>\n",
       "      <td>1</td>\n",
       "    </tr>\n",
       "    <tr>\n",
       "      <th>228</th>\n",
       "      <td>2016-06-17</td>\n",
       "      <td>Lauryn George</td>\n",
       "      <td>1991-10-17</td>\n",
       "      <td>1</td>\n",
       "    </tr>\n",
       "    <tr>\n",
       "      <th>229</th>\n",
       "      <td>2016-06-17</td>\n",
       "      <td>Sherry Wilder</td>\n",
       "      <td>1992-04-26</td>\n",
       "      <td>1</td>\n",
       "    </tr>\n",
       "    <tr>\n",
       "      <th>230</th>\n",
       "      <td>2016-06-17</td>\n",
       "      <td>Frances Bateman</td>\n",
       "      <td>1992-05-06</td>\n",
       "      <td>1</td>\n",
       "    </tr>\n",
       "    <tr>\n",
       "      <th>231</th>\n",
       "      <td>2016-06-17</td>\n",
       "      <td>Darrell Wilson</td>\n",
       "      <td>1993-01-19</td>\n",
       "      <td>1</td>\n",
       "    </tr>\n",
       "  </tbody>\n",
       "</table>\n",
       "</div>"
      ],
      "text/plain": [
       "     visit_date             name         dob  was_present\n",
       "227  2016-06-17  Samuel Casanova  1990-03-12            1\n",
       "228  2016-06-17    Lauryn George  1991-10-17            1\n",
       "229  2016-06-17    Sherry Wilder  1992-04-26            1\n",
       "230  2016-06-17  Frances Bateman  1992-05-06            1\n",
       "231  2016-06-17   Darrell Wilson  1993-01-19            1"
      ]
     },
     "execution_count": 6,
     "metadata": {},
     "output_type": "execute_result"
    }
   ],
   "source": [
    "df_present = df_all[df_all['was_present']>0]\n",
    "\n",
    "df_present.head()"
   ]
  },
  {
   "cell_type": "code",
   "execution_count": 7,
   "metadata": {},
   "outputs": [
    {
     "data": {
      "text/plain": [
       "7288"
      ]
     },
     "execution_count": 7,
     "metadata": {},
     "output_type": "execute_result"
    }
   ],
   "source": [
    "len(df_present)"
   ]
  },
  {
   "cell_type": "code",
   "execution_count": 8,
   "metadata": {},
   "outputs": [
    {
     "data": {
      "text/html": [
       "<div>\n",
       "<style scoped>\n",
       "    .dataframe tbody tr th:only-of-type {\n",
       "        vertical-align: middle;\n",
       "    }\n",
       "\n",
       "    .dataframe tbody tr th {\n",
       "        vertical-align: top;\n",
       "    }\n",
       "\n",
       "    .dataframe thead th {\n",
       "        text-align: right;\n",
       "    }\n",
       "</style>\n",
       "<table border=\"1\" class=\"dataframe\">\n",
       "  <thead>\n",
       "    <tr style=\"text-align: right;\">\n",
       "      <th></th>\n",
       "      <th></th>\n",
       "      <th>visit_date</th>\n",
       "      <th>name</th>\n",
       "      <th>dob</th>\n",
       "      <th>was_present</th>\n",
       "    </tr>\n",
       "    <tr>\n",
       "      <th>name</th>\n",
       "      <th>dob</th>\n",
       "      <th></th>\n",
       "      <th></th>\n",
       "      <th></th>\n",
       "      <th></th>\n",
       "    </tr>\n",
       "  </thead>\n",
       "  <tbody>\n",
       "    <tr>\n",
       "      <th>Aaron Nelson</th>\n",
       "      <th>1994-12-12</th>\n",
       "      <td>11</td>\n",
       "      <td>1</td>\n",
       "      <td>1</td>\n",
       "      <td>1</td>\n",
       "    </tr>\n",
       "    <tr>\n",
       "      <th>Ada Tejeda</th>\n",
       "      <th>1997-05-24</th>\n",
       "      <td>22</td>\n",
       "      <td>1</td>\n",
       "      <td>1</td>\n",
       "      <td>1</td>\n",
       "    </tr>\n",
       "    <tr>\n",
       "      <th>Adam Berry</th>\n",
       "      <th>1995-11-02</th>\n",
       "      <td>5</td>\n",
       "      <td>1</td>\n",
       "      <td>1</td>\n",
       "      <td>1</td>\n",
       "    </tr>\n",
       "    <tr>\n",
       "      <th>Adam Dorsette</th>\n",
       "      <th>1996-12-07</th>\n",
       "      <td>4</td>\n",
       "      <td>1</td>\n",
       "      <td>1</td>\n",
       "      <td>1</td>\n",
       "    </tr>\n",
       "    <tr>\n",
       "      <th>Adam Johnson</th>\n",
       "      <th>1996-04-11</th>\n",
       "      <td>13</td>\n",
       "      <td>1</td>\n",
       "      <td>1</td>\n",
       "      <td>1</td>\n",
       "    </tr>\n",
       "  </tbody>\n",
       "</table>\n",
       "</div>"
      ],
      "text/plain": [
       "                          visit_date  name  dob  was_present\n",
       "name          dob                                           \n",
       "Aaron Nelson  1994-12-12          11     1    1            1\n",
       "Ada Tejeda    1997-05-24          22     1    1            1\n",
       "Adam Berry    1995-11-02           5     1    1            1\n",
       "Adam Dorsette 1996-12-07           4     1    1            1\n",
       "Adam Johnson  1996-04-11          13     1    1            1"
      ]
     },
     "execution_count": 8,
     "metadata": {},
     "output_type": "execute_result"
    }
   ],
   "source": [
    "df_suspects = df_present.groupby(['name', 'dob']).nunique()\n",
    "\n",
    "df_suspects.head()"
   ]
  },
  {
   "cell_type": "code",
   "execution_count": 9,
   "metadata": {},
   "outputs": [
    {
     "data": {
      "text/html": [
       "<div>\n",
       "<style scoped>\n",
       "    .dataframe tbody tr th:only-of-type {\n",
       "        vertical-align: middle;\n",
       "    }\n",
       "\n",
       "    .dataframe tbody tr th {\n",
       "        vertical-align: top;\n",
       "    }\n",
       "\n",
       "    .dataframe thead th {\n",
       "        text-align: right;\n",
       "    }\n",
       "</style>\n",
       "<table border=\"1\" class=\"dataframe\">\n",
       "  <thead>\n",
       "    <tr style=\"text-align: right;\">\n",
       "      <th></th>\n",
       "      <th>name</th>\n",
       "      <th>dob</th>\n",
       "      <th>visit_date</th>\n",
       "    </tr>\n",
       "  </thead>\n",
       "  <tbody>\n",
       "    <tr>\n",
       "      <th>0</th>\n",
       "      <td>Aaron Nelson</td>\n",
       "      <td>1994-12-12</td>\n",
       "      <td>11</td>\n",
       "    </tr>\n",
       "    <tr>\n",
       "      <th>1</th>\n",
       "      <td>Ada Tejeda</td>\n",
       "      <td>1997-05-24</td>\n",
       "      <td>22</td>\n",
       "    </tr>\n",
       "    <tr>\n",
       "      <th>2</th>\n",
       "      <td>Adam Berry</td>\n",
       "      <td>1995-11-02</td>\n",
       "      <td>5</td>\n",
       "    </tr>\n",
       "    <tr>\n",
       "      <th>3</th>\n",
       "      <td>Adam Dorsette</td>\n",
       "      <td>1996-12-07</td>\n",
       "      <td>4</td>\n",
       "    </tr>\n",
       "    <tr>\n",
       "      <th>4</th>\n",
       "      <td>Adam Johnson</td>\n",
       "      <td>1996-04-11</td>\n",
       "      <td>13</td>\n",
       "    </tr>\n",
       "  </tbody>\n",
       "</table>\n",
       "</div>"
      ],
      "text/plain": [
       "            name         dob  visit_date\n",
       "0   Aaron Nelson  1994-12-12          11\n",
       "1     Ada Tejeda  1997-05-24          22\n",
       "2     Adam Berry  1995-11-02           5\n",
       "3  Adam Dorsette  1996-12-07           4\n",
       "4   Adam Johnson  1996-04-11          13"
      ]
     },
     "execution_count": 9,
     "metadata": {},
     "output_type": "execute_result"
    }
   ],
   "source": [
    "df_suspects2 = df_present.groupby(['name', 'dob'], as_index=False)['visit_date'].count()\n",
    "df_suspects2.head()"
   ]
  },
  {
   "cell_type": "code",
   "execution_count": 10,
   "metadata": {},
   "outputs": [
    {
     "data": {
      "text/plain": [
       "7288"
      ]
     },
     "execution_count": 10,
     "metadata": {},
     "output_type": "execute_result"
    }
   ],
   "source": [
    "df_suspects2['visit_date'].sum()"
   ]
  },
  {
   "cell_type": "code",
   "execution_count": 63,
   "metadata": {},
   "outputs": [
    {
     "data": {
      "text/html": [
       "<div>\n",
       "<style scoped>\n",
       "    .dataframe tbody tr th:only-of-type {\n",
       "        vertical-align: middle;\n",
       "    }\n",
       "\n",
       "    .dataframe tbody tr th {\n",
       "        vertical-align: top;\n",
       "    }\n",
       "\n",
       "    .dataframe thead th {\n",
       "        text-align: right;\n",
       "    }\n",
       "</style>\n",
       "<table border=\"1\" class=\"dataframe\">\n",
       "  <thead>\n",
       "    <tr style=\"text-align: right;\">\n",
       "      <th></th>\n",
       "      <th>name</th>\n",
       "      <th>dob</th>\n",
       "      <th>visit_freq</th>\n",
       "    </tr>\n",
       "  </thead>\n",
       "  <tbody>\n",
       "    <tr>\n",
       "      <th>463</th>\n",
       "      <td>Karen Keeney</td>\n",
       "      <td>1993-12-25</td>\n",
       "      <td>30</td>\n",
       "    </tr>\n",
       "    <tr>\n",
       "      <th>454</th>\n",
       "      <td>Judith Sanders</td>\n",
       "      <td>1993-08-26</td>\n",
       "      <td>27</td>\n",
       "    </tr>\n",
       "    <tr>\n",
       "      <th>678</th>\n",
       "      <td>Patricia Whitley</td>\n",
       "      <td>1993-06-08</td>\n",
       "      <td>27</td>\n",
       "    </tr>\n",
       "    <tr>\n",
       "      <th>562</th>\n",
       "      <td>Lynn Bernhart</td>\n",
       "      <td>1995-11-13</td>\n",
       "      <td>27</td>\n",
       "    </tr>\n",
       "    <tr>\n",
       "      <th>301</th>\n",
       "      <td>Henry Brunson</td>\n",
       "      <td>1996-06-21</td>\n",
       "      <td>27</td>\n",
       "    </tr>\n",
       "    <tr>\n",
       "      <th>117</th>\n",
       "      <td>Christine Victoria</td>\n",
       "      <td>1996-11-26</td>\n",
       "      <td>27</td>\n",
       "    </tr>\n",
       "    <tr>\n",
       "      <th>151</th>\n",
       "      <td>Daniel Laster</td>\n",
       "      <td>1995-12-31</td>\n",
       "      <td>26</td>\n",
       "    </tr>\n",
       "    <tr>\n",
       "      <th>743</th>\n",
       "      <td>Roger Ballance</td>\n",
       "      <td>1996-05-16</td>\n",
       "      <td>26</td>\n",
       "    </tr>\n",
       "    <tr>\n",
       "      <th>47</th>\n",
       "      <td>Arthur Freund</td>\n",
       "      <td>1996-09-07</td>\n",
       "      <td>26</td>\n",
       "    </tr>\n",
       "    <tr>\n",
       "      <th>144</th>\n",
       "      <td>Dale Kirkwood</td>\n",
       "      <td>1993-05-22</td>\n",
       "      <td>26</td>\n",
       "    </tr>\n",
       "    <tr>\n",
       "      <th>821</th>\n",
       "      <td>Suzanne Larson</td>\n",
       "      <td>1996-12-02</td>\n",
       "      <td>25</td>\n",
       "    </tr>\n",
       "    <tr>\n",
       "      <th>53</th>\n",
       "      <td>Barbara Mchale</td>\n",
       "      <td>1994-12-19</td>\n",
       "      <td>25</td>\n",
       "    </tr>\n",
       "    <tr>\n",
       "      <th>631</th>\n",
       "      <td>Michael Mcbride</td>\n",
       "      <td>1993-04-26</td>\n",
       "      <td>25</td>\n",
       "    </tr>\n",
       "    <tr>\n",
       "      <th>469</th>\n",
       "      <td>Kathleen Benzi</td>\n",
       "      <td>1995-09-15</td>\n",
       "      <td>25</td>\n",
       "    </tr>\n",
       "    <tr>\n",
       "      <th>559</th>\n",
       "      <td>Luz Connelly</td>\n",
       "      <td>1995-03-26</td>\n",
       "      <td>25</td>\n",
       "    </tr>\n",
       "    <tr>\n",
       "      <th>602</th>\n",
       "      <td>Mary Laura</td>\n",
       "      <td>1994-04-09</td>\n",
       "      <td>24</td>\n",
       "    </tr>\n",
       "    <tr>\n",
       "      <th>708</th>\n",
       "      <td>Raymond Shannon</td>\n",
       "      <td>1997-08-06</td>\n",
       "      <td>24</td>\n",
       "    </tr>\n",
       "    <tr>\n",
       "      <th>108</th>\n",
       "      <td>Cheryl Robinson</td>\n",
       "      <td>1996-04-05</td>\n",
       "      <td>24</td>\n",
       "    </tr>\n",
       "    <tr>\n",
       "      <th>7</th>\n",
       "      <td>Adrienne Ruck</td>\n",
       "      <td>1995-07-13</td>\n",
       "      <td>24</td>\n",
       "    </tr>\n",
       "    <tr>\n",
       "      <th>242</th>\n",
       "      <td>Florine Kim</td>\n",
       "      <td>1996-07-14</td>\n",
       "      <td>24</td>\n",
       "    </tr>\n",
       "  </tbody>\n",
       "</table>\n",
       "</div>"
      ],
      "text/plain": [
       "                   name         dob  visit_freq\n",
       "463        Karen Keeney  1993-12-25          30\n",
       "454      Judith Sanders  1993-08-26          27\n",
       "678    Patricia Whitley  1993-06-08          27\n",
       "562       Lynn Bernhart  1995-11-13          27\n",
       "301       Henry Brunson  1996-06-21          27\n",
       "117  Christine Victoria  1996-11-26          27\n",
       "151       Daniel Laster  1995-12-31          26\n",
       "743      Roger Ballance  1996-05-16          26\n",
       "47        Arthur Freund  1996-09-07          26\n",
       "144       Dale Kirkwood  1993-05-22          26\n",
       "821      Suzanne Larson  1996-12-02          25\n",
       "53       Barbara Mchale  1994-12-19          25\n",
       "631     Michael Mcbride  1993-04-26          25\n",
       "469      Kathleen Benzi  1995-09-15          25\n",
       "559        Luz Connelly  1995-03-26          25\n",
       "602          Mary Laura  1994-04-09          24\n",
       "708     Raymond Shannon  1997-08-06          24\n",
       "108     Cheryl Robinson  1996-04-05          24\n",
       "7         Adrienne Ruck  1995-07-13          24\n",
       "242         Florine Kim  1996-07-14          24"
      ]
     },
     "execution_count": 63,
     "metadata": {},
     "output_type": "execute_result"
    }
   ],
   "source": [
    "#sort the data frame\n",
    "df_suspects2.rename(index=str, columns={'visit_date': 'visit_freq'}, inplace =True)\n",
    "\n",
    "df_suspects2 = df_suspects2.sort_values(by=['visit_freq'], ascending=False)\n",
    "#obtain ranked top 20 suspects \n",
    "df_suspects2.head(20)"
   ]
  },
  {
   "cell_type": "code",
   "execution_count": 67,
   "metadata": {},
   "outputs": [],
   "source": [
    "#save suspect list to csv\n",
    "suspect_list= df_suspects2.head(20)\n",
    "suspect_list.to_csv(r'Top_20_suspects.csv')"
   ]
  },
  {
   "cell_type": "code",
   "execution_count": 65,
   "metadata": {},
   "outputs": [
    {
     "data": {
      "text/plain": [
       "<matplotlib.axes._subplots.AxesSubplot at 0xfea54e0>"
      ]
     },
     "execution_count": 65,
     "metadata": {},
     "output_type": "execute_result"
    },
    {
     "data": {
      "image/png": "[encoded data removed]",
      "text/plain": [
       "<matplotlib.figure.Figure at 0xfe5b780>"
      ]
     },
     "metadata": {},
     "output_type": "display_data"
    }
   ],
   "source": [
    "#Basic Plot to view the suspect visit distribution\n",
    "import matplotlib.pyplot as plt\n",
    "suspect_list.plot(kind='bar', x='name', y='visit_freq', rot = 90)"
   ]
  },
  {
   "cell_type": "markdown",
   "metadata": {},
   "source": [
    "# Interactive Visualization of Suspects  Visit Distribution on Theft Days\n",
    "NB: Display might not work in HTML. "
   ]
  },
  {
   "cell_type": "code",
   "execution_count": 66,
   "metadata": {},
   "outputs": [
    {
     "data": {
      "application/vnd.plotly.v1+json": {
       "data": [
        {
         "type": "bar",
         "x": [
          "Karen Keeney",
          "Judith Sanders",
          "Patricia Whitley",
          "Lynn Bernhart",
          "Henry Brunson",
          "Christine Victoria",
          "Daniel Laster",
          "Roger Ballance",
          "Arthur Freund",
          "Dale Kirkwood",
          "Suzanne Larson",
          "Barbara Mchale",
          "Michael Mcbride",
          "Kathleen Benzi",
          "Luz Connelly",
          "Mary Laura",
          "Raymond Shannon",
          "Cheryl Robinson",
          "Adrienne Ruck",
          "Florine Kim"
         ],
         "y": [
          30,
          27,
          27,
          27,
          27,
          27,
          26,
          26,
          26,
          26,
          25,
          25,
          25,
          25,
          25,
          24,
          24,
          24,
          24,
          24
         ]
        }
       ],
       "layout": {}
      },
      "text/html": [
       "<div id=\"5526419f-ac18-4236-9e06-a52075ffb731\" style=\"height: 525px; width: 100%;\" class=\"plotly-graph-div\"></div><script type=\"text/javascript\">require([\"plotly\"], function(Plotly) { window.PLOTLYENV=window.PLOTLYENV || {};window.PLOTLYENV.BASE_URL=\"https://plot.ly\";Plotly.newPlot(\"5526419f-ac18-4236-9e06-a52075ffb731\", [{\"type\": \"bar\", \"x\": [\"Karen Keeney\", \"Judith Sanders\", \"Patricia Whitley\", \"Lynn Bernhart\", \"Henry Brunson\", \"Christine Victoria\", \"Daniel Laster\", \"Roger Ballance\", \"Arthur Freund\", \"Dale Kirkwood\", \"Suzanne Larson\", \"Barbara Mchale\", \"Michael Mcbride\", \"Kathleen Benzi\", \"Luz Connelly\", \"Mary Laura\", \"Raymond Shannon\", \"Cheryl Robinson\", \"Adrienne Ruck\", \"Florine Kim\"], \"y\": [30, 27, 27, 27, 27, 27, 26, 26, 26, 26, 25, 25, 25, 25, 25, 24, 24, 24, 24, 24]}], {}, {\"showLink\": true, \"linkText\": \"Export to plot.ly\"})});</script>"
      ],
      "text/vnd.plotly.v1+html": [
       "<div id=\"5526419f-ac18-4236-9e06-a52075ffb731\" style=\"height: 525px; width: 100%;\" class=\"plotly-graph-div\"></div><script type=\"text/javascript\">require([\"plotly\"], function(Plotly) { window.PLOTLYENV=window.PLOTLYENV || {};window.PLOTLYENV.BASE_URL=\"https://plot.ly\";Plotly.newPlot(\"5526419f-ac18-4236-9e06-a52075ffb731\", [{\"type\": \"bar\", \"x\": [\"Karen Keeney\", \"Judith Sanders\", \"Patricia Whitley\", \"Lynn Bernhart\", \"Henry Brunson\", \"Christine Victoria\", \"Daniel Laster\", \"Roger Ballance\", \"Arthur Freund\", \"Dale Kirkwood\", \"Suzanne Larson\", \"Barbara Mchale\", \"Michael Mcbride\", \"Kathleen Benzi\", \"Luz Connelly\", \"Mary Laura\", \"Raymond Shannon\", \"Cheryl Robinson\", \"Adrienne Ruck\", \"Florine Kim\"], \"y\": [30, 27, 27, 27, 27, 27, 26, 26, 26, 26, 25, 25, 25, 25, 25, 24, 24, 24, 24, 24]}], {}, {\"showLink\": true, \"linkText\": \"Export to plot.ly\"})});</script>"
      ]
     },
     "metadata": {},
     "output_type": "display_data"
    }
   ],
   "source": [
    "from plotly.graph_objs import *\n",
    "import plotly.graph_objs as go\n",
    "\n",
    "data = [go.Bar(\n",
    "            x= suspect_list['name'],\n",
    "            y= suspect_list['visit_freq']\n",
    "    )]\n",
    "\n",
    "\n",
    "plotly.offline.iplot(data, filename='basic-bar')"
   ]
  },
  {
   "cell_type": "code",
   "execution_count": null,
   "metadata": {},
   "outputs": [],
   "source": [
    "\n"
   ]
  }
 ],
 "metadata": {
  "kernelspec": {
   "display_name": "Python 3",
   "language": "python",
   "name": "python3"
  },
  "language_info": {
   "codemirror_mode": {
    "name": "ipython",
    "version": 3
   },
   "file_extension": ".py",
   "mimetype": "text/x-python",
   "name": "python",
   "nbconvert_exporter": "python",
   "pygments_lexer": "ipython3",
   "version": "3.6.4"
  }
 },
 "nbformat": 4,
 "nbformat_minor": 2
}
