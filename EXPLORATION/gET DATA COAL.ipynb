{
 "cells": [
  {
   "cell_type": "code",
   "execution_count": 211,
   "metadata": {
    "collapsed": false
   },
   "outputs": [],
   "source": [
    "from pyspark.sql import SQLContext\n",
    "from pyspark.sql.functions import *\n",
    "from collections import Counter\n",
    "import matplotlib.pyplot as plt\n",
    "import matplotlib.cm as cm\n",
    "import pandas as pd\n",
    "import numpy as np\n",
    "import datetime as dt\n",
    "import time\n",
    "import json\n",
    "from pyspark.sql import SQLContext\n",
    "import json\n",
    "from IPython import display\n",
    "from IPython.core.display import HTML\n",
    "import pandas\n",
    "import time \n",
    "import numpy as np\n",
    "import matplotlib.pyplot as plt \n",
    "from pyspark.sql.functions import split, explode, col\n",
    "\n",
    "sql = SQLContext(sc)"
   ]
  },
  {
   "cell_type": "markdown",
   "metadata": {},
   "source": [
    "#  NEW CASTLE HABOUR BLOCKADE (8TH MARCH 2016)\n",
    "# Event Description:\n",
    "\n",
    "On 8th March 2016 about 1,500 anti-coal protesters descended on the NSW port of Newcastle on Sunday in a bid to blockade the port and prevent exports. The world's largest coal export port, north of Sydney, was targeted by demonstrators calling for action to tackle climate change. About noon, the port was filled with kayaks paddling out to the entrance of the harbour as part of the Break Free event. The aim was for the mass flotilla to stop coal ships entering and leaving the harbour, something protesters claimed to have achieved. Police said 66 people were arrested during the \"large civil disobedience\" protest. In total, 57 protesters who occupied a rail bridge to block coal train at Sandgate were issued with Field Court Attendance Notices (FCANs) for remaining on enclosed lands. Pictures posted on social media showed groups of protesters lying on train tracks. The day of protest was organized by a range of groups, supported by Greenpeace and climate action group 350.org. Hundreds of Rising Tide protesters took to Newcastle Harbour for its seventh annual anti-coal port blockade. The protesters took to canoes and kayaks to block the port and deny coal ships entry for the majority of the day, the Newcastle Herald reports. \n",
    "The popular hashtags for the event were:\n",
    "\n",
    "#breakfree    #keepitintheground    #ClimateAction     #Newcastle   #endcoal     #ClimateResistance  #quitcoal          #coal       #endfossilfuel "
   ]
  },
  {
   "cell_type": "markdown",
   "metadata": {
    "collapsed": true
   },
   "source": [
    "# Get one Week Tweet Before the Event...."
   ]
  },
  {
   "cell_type": "code",
   "execution_count": 212,
   "metadata": {
    "collapsed": false,
    "scrolled": true
   },
   "outputs": [
    {
     "name": "stdout",
     "output_type": "stream",
     "text": [
      "root\n",
      " |-- key:salt: byte (nullable = true)\n",
      " |-- key:timestamp: timestamp (nullable = true)\n",
      " |-- key:id: string (nullable = true)\n",
      " |-- key:subIds: array (nullable = true)\n",
      " |    |-- element: string (containsNull = true)\n",
      " |-- data: string (nullable = true)\n",
      " |-- reference: string (nullable = true)\n",
      " |-- format: string (nullable = true)\n",
      " |-- type: string (nullable = true)\n",
      " |-- source: string (nullable = true)\n",
      " |-- ingestTime: timestamp (nullable = true)\n",
      " |-- author: string (nullable = true)\n",
      " |-- civilEvents: string (nullable = true)\n",
      " |-- locations: string (nullable = true)\n",
      " |-- geo: string (nullable = true)\n",
      " |-- nlp: string (nullable = true)\n",
      " |-- publicationTime: timestamp (nullable = true)\n",
      " |-- politicalParty: string (nullable = true)\n",
      " |-- sentiment: string (nullable = true)\n",
      " |-- times: string (nullable = true)\n",
      " |-- bodyText: string (nullable = true)\n",
      " |-- title: string (nullable = true)\n",
      " |-- phraseList: string (nullable = true)\n",
      "\n"
     ]
    }
   ],
   "source": [
    "lol = sql.read.load(format = \"au.com.d2dcrc.carbon.spark.tweets\", startTime = \"2016-03-07T00:00:00Z\", endTime = \"2016-03-07T23:59:59Z\")\n",
    "lol.printSchema()\n",
    "\n",
    "\n",
    "\n",
    "displaytweets = lol.select( \"author\", \"publicationTime\", \"bodyText\", \"locations\").orderBy(\"author\")\n",
    "#pd.set_option('display.max_colwidth', 500)\n",
    "#display.display(displaytweets.toPandas())b"
   ]
  },
  {
   "cell_type": "code",
   "execution_count": 230,
   "metadata": {
    "collapsed": true
   },
   "outputs": [],
   "source": [
    "realtweet = displaytweets.select('bodyText')"
   ]
  },
  {
   "cell_type": "code",
   "execution_count": 234,
   "metadata": {
    "collapsed": false
   },
   "outputs": [
    {
     "data": {
      "text/plain": [
       "388"
      ]
     },
     "execution_count": 234,
     "metadata": {},
     "output_type": "execute_result"
    }
   ],
   "source": [
    "#The following SQL statement selects all customers with a Country containing the pattern \"#coal\"\n",
    "sqlContext.registerDataFrameAsTable(realtweet, \"compareData\")\n",
    "sqlContext.sql(\"SELECT bodyText FROM compareData WHERE bodyText LIKE '%#coal%'\").count() \n"
   ]
  },
  {
   "cell_type": "code",
   "execution_count": 240,
   "metadata": {
    "collapsed": true
   },
   "outputs": [],
   "source": [
    "newpd = displaytweets.toPandas()\n",
    "hashTags = newpd.where(newpd['bodyText'].str.contains('#coal')).dropna() #this works thesame as "
   ]
  },
  {
   "cell_type": "code",
   "execution_count": 242,
   "metadata": {
    "collapsed": false
   },
   "outputs": [
    {
     "data": {
      "text/html": [
       "<div>\n",
       "<table border=\"1\" class=\"dataframe\">\n",
       "  <thead>\n",
       "    <tr style=\"text-align: right;\">\n",
       "      <th></th>\n",
       "      <th>author</th>\n",
       "      <th>publicationTime</th>\n",
       "      <th>bodyText</th>\n",
       "      <th>locations</th>\n",
       "    </tr>\n",
       "  </thead>\n",
       "  <tbody>\n",
       "    <tr>\n",
       "      <th>count</th>\n",
       "      <td>388</td>\n",
       "      <td>388</td>\n",
       "      <td>388</td>\n",
       "      <td>388</td>\n",
       "    </tr>\n",
       "    <tr>\n",
       "      <th>unique</th>\n",
       "      <td>296</td>\n",
       "      <td>383</td>\n",
       "      <td>130</td>\n",
       "      <td>3</td>\n",
       "    </tr>\n",
       "    <tr>\n",
       "      <th>top</th>\n",
       "      <td>id:twitter.com:288010117</td>\n",
       "      <td>2016-03-07 18:17:42</td>\n",
       "      <td>RT @StopShenhua: Farmers call for Windsor to c...</td>\n",
       "      <td></td>\n",
       "    </tr>\n",
       "    <tr>\n",
       "      <th>freq</th>\n",
       "      <td>8</td>\n",
       "      <td>3</td>\n",
       "      <td>52</td>\n",
       "      <td>374</td>\n",
       "    </tr>\n",
       "    <tr>\n",
       "      <th>first</th>\n",
       "      <td>NaN</td>\n",
       "      <td>2016-03-07 10:31:24</td>\n",
       "      <td>NaN</td>\n",
       "      <td>NaN</td>\n",
       "    </tr>\n",
       "    <tr>\n",
       "      <th>last</th>\n",
       "      <td>NaN</td>\n",
       "      <td>2016-03-08 10:16:24</td>\n",
       "      <td>NaN</td>\n",
       "      <td>NaN</td>\n",
       "    </tr>\n",
       "  </tbody>\n",
       "</table>\n",
       "</div>"
      ],
      "text/plain": [
       "                          author      publicationTime  \\\n",
       "count                        388                  388   \n",
       "unique                       296                  383   \n",
       "top     id:twitter.com:288010117  2016-03-07 18:17:42   \n",
       "freq                           8                    3   \n",
       "first                        NaN  2016-03-07 10:31:24   \n",
       "last                         NaN  2016-03-08 10:16:24   \n",
       "\n",
       "                                                 bodyText locations  \n",
       "count                                                 388       388  \n",
       "unique                                                130         3  \n",
       "top     RT @StopShenhua: Farmers call for Windsor to c...            \n",
       "freq                                                   52       374  \n",
       "first                                                 NaN       NaN  \n",
       "last                                                  NaN       NaN  "
      ]
     },
     "execution_count": 242,
     "metadata": {},
     "output_type": "execute_result"
    }
   ],
   "source": [
    "type(hashTags)\n",
    "hashTags.describe() #insight show that 374 text has locations "
   ]
  },
  {
   "cell_type": "code",
   "execution_count": 244,
   "metadata": {
    "collapsed": false
   },
   "outputs": [
    {
     "data": {
      "text/plain": [
       "pandas.core.frame.DataFrame"
      ]
     },
     "execution_count": 244,
     "metadata": {},
     "output_type": "execute_result"
    }
   ],
   "source": [
    "type(hashTags)"
   ]
  },
  {
   "cell_type": "code",
   "execution_count": 243,
   "metadata": {
    "collapsed": true
   },
   "outputs": [],
   "source": [
    "import csv\n",
    "\n",
    "#mysave.write.csv('ididit.csv')\n",
    "hashTags.to_csv('march7.csv') #This works perfectly"
   ]
  },
  {
   "cell_type": "code",
   "execution_count": 238,
   "metadata": {
    "collapsed": false
   },
   "outputs": [
    {
     "data": {
      "text/plain": [
       "0"
      ]
     },
     "execution_count": 238,
     "metadata": {},
     "output_type": "execute_result"
    }
   ],
   "source": [
    "sqlContext.registerDataFrameAsTable(realtweet, \"compareData1\")\n",
    "sqlContext.sql(\"SELECT bodyText FROM compareData1 WHERE bodyText LIKE '#coal%'\").count() #owkring very well\n"
   ]
  },
  {
   "cell_type": "code",
   "execution_count": 237,
   "metadata": {
    "collapsed": false
   },
   "outputs": [
    {
     "data": {
      "text/plain": [
       "6"
      ]
     },
     "execution_count": 237,
     "metadata": {},
     "output_type": "execute_result"
    }
   ],
   "source": [
    "#The following SQL statement selects all bodytext of tweets starting with the letter \"s\":\n",
    "#WHERE City LIKE 's%';\n",
    "sqlContext.registerDataFrameAsTable(realtweet, \"compareData2\")\n",
    "sqlContext.sql(\"SELECT bodyText FROM compareData2 WHERE bodyText LIKE '%#coal'\").count() #owkring very well\n"
   ]
  },
  {
   "cell_type": "code",
   "execution_count": 213,
   "metadata": {
    "collapsed": true
   },
   "outputs": [],
   "source": [
    "def get_tweets(df):\n",
    "    #return rows from dadtframe\n",
    "    return df.map(lambda row: row.data)"
   ]
  },
  {
   "cell_type": "code",
   "execution_count": 214,
   "metadata": {
    "collapsed": true
   },
   "outputs": [],
   "source": [
    "def get_jason(data):\n",
    "    #returns a pyspark.rdd.PipelinedRDD of jason data\n",
    "    return data.map(lambda data: json.loads(data))\n"
   ]
  },
  {
   "cell_type": "code",
   "execution_count": 215,
   "metadata": {
    "collapsed": true
   },
   "outputs": [],
   "source": [
    "\n",
    "def get_tweet_body(data):\n",
    "    #returns a pyspark.rdd.PipelinedRDD of tweet bodies\n",
    "    tweet_bodies = data.map(lambda tweet_as_json: tweet_as_json.get('body'))\n",
    "    return tweet_bodies "
   ]
  },
  {
   "cell_type": "code",
   "execution_count": 216,
   "metadata": {
    "collapsed": true
   },
   "outputs": [],
   "source": [
    "#This function obtains geo tag details from json tweets\n",
    "#input: json data\n",
    "#output: returns a pyspark.rdd.PipelinedRDD of tweet bodies\n",
    "def get_tweet_geo(data):\n",
    "    tweet_geo = data.map(lambda tweet_as_json: tweet_as_json.get('geo',\"none\"))\n",
    "    return tweet_geo"
   ]
  },
  {
   "cell_type": "code",
   "execution_count": 217,
   "metadata": {
    "collapsed": true
   },
   "outputs": [],
   "source": [
    "def get_tweet_BodyLocation(data):\n",
    "    bodys_with_location = data.filter(lambda line: 'location' in line).map(lambda line: (line.get('location', \"none\"),line.get('body',\"none\")))\n",
    "    return bodys_with_location"
   ]
  },
  {
   "cell_type": "markdown",
   "metadata": {},
   "source": [
    "# Specify possible HashTags relating to Event"
   ]
  },
  {
   "cell_type": "code",
   "execution_count": 218,
   "metadata": {
    "collapsed": false
   },
   "outputs": [],
   "source": [
    "def get_hashtags(jdata):\n",
    "# hash_tags = jdata.flatMap(lambda line: line.split(\" \")).filter(lambda word: word.startswith('#keepsydneyopen' or '#auspol' or '#ReclaimAustralia'  or '#Nolockouts' or '#nightlivesmatter' or '#keepsydneyopenrally' or '#keepsydneylate'))\n",
    " #return hash_tags \n",
    "    hash_tags = jdata.flatMap(lambda line: line.split(\" \")).filter(lambda word: word.startswith('#coal'))\n",
    "    return hash_tags "
   ]
  },
  {
   "cell_type": "code",
   "execution_count": 219,
   "metadata": {
    "collapsed": true
   },
   "outputs": [],
   "source": [
    "def hashtag_counter(htags):\n",
    "    hashtag_counts = htags.map(lambda hashtag: (hashtag, 1)).reduceByKey(lambda a, b: a + b)\n",
    "    return hashtag_counts"
   ]
  },
  {
   "cell_type": "code",
   "execution_count": 220,
   "metadata": {
    "collapsed": true
   },
   "outputs": [],
   "source": [
    "#this fuction returns a given number of common hashtags\n",
    "#inputs: list of hashtags or hashtag counter dictionary\n",
    "#output: list of common hashtags \n",
    "def common_hashtags(htags,n):\n",
    "    return Counter(dict(htags)).most_common(n)"
   ]
  },
  {
   "cell_type": "code",
   "execution_count": 221,
   "metadata": {
    "collapsed": true
   },
   "outputs": [],
   "source": [
    "#this fuction takes a dictionary and plots key value pairs\n",
    "def plot_bargraph(d):\n",
    "    %matplotlib inline\n",
    "    plt.barh(range(len(d)), d.values(), align=\"center\")\n",
    "    plt.yticks(range(len(d)), list(d.keys()),rotation='horizontal')\n",
    "    plt.show()"
   ]
  },
  {
   "cell_type": "code",
   "execution_count": 222,
   "metadata": {
    "collapsed": false
   },
   "outputs": [],
   "source": [
    "#df = get_data() #get twitter data for a given number of minutes\n",
    "\n",
    "df = lol\n",
    "test =get_tweets(df)\n",
    "test= get_jason(test)\n",
    "test=get_tweet_body(test)\n",
    "hashTags = get_hashtags(test)\n",
    "hashtag_counts = hashtag_counter(hashTags)"
   ]
  },
  {
   "cell_type": "code",
   "execution_count": 223,
   "metadata": {
    "collapsed": false
   },
   "outputs": [
    {
     "data": {
      "text/plain": [
       "pyspark.sql.dataframe.DataFrame"
      ]
     },
     "execution_count": 223,
     "metadata": {},
     "output_type": "execute_result"
    }
   ],
   "source": [
    "type(df)"
   ]
  },
  {
   "cell_type": "code",
   "execution_count": null,
   "metadata": {
    "collapsed": false
   },
   "outputs": [],
   "source": []
  },
  {
   "cell_type": "code",
   "execution_count": 224,
   "metadata": {
    "collapsed": false
   },
   "outputs": [],
   "source": [
    "hashtag_count_list = hashtag_counts.take(500)"
   ]
  },
  {
   "cell_type": "code",
   "execution_count": 239,
   "metadata": {
    "collapsed": false
   },
   "outputs": [
    {
     "name": "stdout",
     "output_type": "stream",
     "text": [
      "[('#coal', 338), ('#coal\"', 15), ('#coalisamazing', 3), ('#coalisover\\n', 2), ('#coal-powered', 2), ('#coalitiontounchaindogs', 1), ('#coalkings', 1), ('#coalrivervalley', 1), ('#coalplant', 1), ('#coal.', 1), ('#coalition', 1), ('#coalseamgasprotests...', 1), ('#coalash', 1), ('#coalmine', 1), ('#coal\\nhttps://t.co/P3CTI3AR6h', 1), ('#coalminer', 1)]\n"
     ]
    }
   ],
   "source": [
    "#Ten common hashtags \n",
    "#over 6000 tweets on Hashtag #coal\n",
    "common_10 = common_hashtags(hashtag_count_list,50) \n",
    "print(common_10)"
   ]
  },
  {
   "cell_type": "code",
   "execution_count": 226,
   "metadata": {
    "collapsed": false
   },
   "outputs": [
    {
     "data": {
      "text/plain": [
       "list"
      ]
     },
     "execution_count": 226,
     "metadata": {},
     "output_type": "execute_result"
    }
   ],
   "source": [
    "type(common_10)"
   ]
  },
  {
   "cell_type": "code",
   "execution_count": 227,
   "metadata": {
    "collapsed": false
   },
   "outputs": [],
   "source": [
    "#for s in common_10:\n",
    "#    print(s[0].ljust(8)+(str(s[1])).ljust(30))"
   ]
  },
  {
   "cell_type": "code",
   "execution_count": 228,
   "metadata": {
    "collapsed": false,
    "scrolled": true
   },
   "outputs": [
    {
     "data": {
      "image/png": "[encoded data removed]",
      "text/plain": [
       "<matplotlib.figure.Figure at 0x7fa32b1eb0f0>"
      ]
     },
     "metadata": {},
     "output_type": "display_data"
    }
   ],
   "source": [
    "plot_bargraph(dict(common_10))"
   ]
  },
  {
   "cell_type": "code",
   "execution_count": 229,
   "metadata": {
    "collapsed": false
   },
   "outputs": [
    {
     "data": {
      "image/png": "[encoded data removed]",
      "text/plain": [
       "<matplotlib.figure.Figure at 0x7fa32b250550>"
      ]
     },
     "metadata": {},
     "output_type": "display_data"
    }
   ],
   "source": [
    "daylist = [1,2,3,4,5,6,7,8,9,10]\n",
    "hashlist = [2,1,0,2,1,2,10,10,185,10] \n",
    "hashlist2 = [2,1,67,2,1,2,10,10,90,10] \n",
    "\n",
    "#daily count of hashtags\n",
    "\n",
    "plt.plot(daylist,hashlist)\n",
    "plt.title('Usage of Hashtag')\n",
    "plt.xlabel('Time periods of the day')\n",
    "plt.ylabel('Count of Hashtags')\n",
    "#plt.scatter(days, counthash)\n",
    "\n",
    "plt.show()"
   ]
  },
  {
   "cell_type": "markdown",
   "metadata": {},
   "source": [
    "# Futher Analysis:"
   ]
  },
  {
   "cell_type": "markdown",
   "metadata": {},
   "source": [
    "# Hashtags and Locations\n"
   ]
  }
 ],
 "metadata": {
  "kernelspec": {
   "display_name": "PySpark",
   "language": "python",
   "name": "pyspark"
  },
  "language_info": {
   "codemirror_mode": {
    "name": "ipython",
    "version": 3
   },
   "file_extension": ".py",
   "mimetype": "text/x-python",
   "name": "python",
   "nbconvert_exporter": "python",
   "pygments_lexer": "ipython3",
   "version": "3.5.3"
  }
 },
 "nbformat": 4,
 "nbformat_minor": 1
}
