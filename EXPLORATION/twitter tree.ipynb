{
 "cells": [
  {
   "cell_type": "code",
   "execution_count": 198,
   "metadata": {},
   "outputs": [],
   "source": [
    "import anytree, pandas as pd\n",
    "from anytree import Node, RenderTree"
   ]
  },
  {
   "cell_type": "code",
   "execution_count": 222,
   "metadata": {},
   "outputs": [
    {
     "data": {
      "text/html": [
       "<div>\n",
       "<style scoped>\n",
       "    .dataframe tbody tr th:only-of-type {\n",
       "        vertical-align: middle;\n",
       "    }\n",
       "\n",
       "    .dataframe tbody tr th {\n",
       "        vertical-align: top;\n",
       "    }\n",
       "\n",
       "    .dataframe thead th {\n",
       "        text-align: right;\n",
       "    }\n",
       "</style>\n",
       "<table border=\"1\" class=\"dataframe\">\n",
       "  <thead>\n",
       "    <tr style=\"text-align: right;\">\n",
       "      <th></th>\n",
       "      <th>1012</th>\n",
       "      <th>2013</th>\n",
       "      <th>23015</th>\n",
       "      <th>23910</th>\n",
       "      <th>3920</th>\n",
       "    </tr>\n",
       "  </thead>\n",
       "  <tbody>\n",
       "    <tr>\n",
       "      <th>0</th>\n",
       "      <td>2013</td>\n",
       "      <td>3920.0</td>\n",
       "      <td>4820032.0</td>\n",
       "      <td>41023.0</td>\n",
       "      <td>329832.0</td>\n",
       "    </tr>\n",
       "    <tr>\n",
       "      <th>1</th>\n",
       "      <td>23015</td>\n",
       "      <td>2848492.0</td>\n",
       "      <td>41023.0</td>\n",
       "      <td>3920.0</td>\n",
       "      <td>637261291.0</td>\n",
       "    </tr>\n",
       "    <tr>\n",
       "      <th>2</th>\n",
       "      <td>2848492</td>\n",
       "      <td>NaN</td>\n",
       "      <td>NaN</td>\n",
       "      <td>NaN</td>\n",
       "      <td>NaN</td>\n",
       "    </tr>\n",
       "  </tbody>\n",
       "</table>\n",
       "</div>"
      ],
      "text/plain": [
       "      1012       2013      23015    23910         3920\n",
       "0     2013     3920.0  4820032.0  41023.0     329832.0\n",
       "1    23015  2848492.0    41023.0   3920.0  637261291.0\n",
       "2  2848492        NaN        NaN      NaN          NaN"
      ]
     },
     "execution_count": 222,
     "metadata": {},
     "output_type": "execute_result"
    }
   ],
   "source": [
    "followerList = pd.read_csv('followerlist.csv')\n",
    "tweetList = pd.read_csv(\"sample.csv\")\n",
    "followerList.head()"
   ]
  },
  {
   "cell_type": "code",
   "execution_count": 200,
   "metadata": {},
   "outputs": [],
   "source": [
    "#tweetList = tweetList['author'].unique()\n",
    "#df.loc[df['column_name'].isin(some_values)]   "
   ]
  },
  {
   "cell_type": "code",
   "execution_count": 180,
   "metadata": {},
   "outputs": [],
   "source": [
    "def checkFollower(followerId, followeeId):\n",
    "    if str(followeeId) in followerList.columns:\n",
    "        if followerList.loc[followerList[str(followeeId)] == followerId][str(followeeId)].any():\n",
    "            return True\n",
    "    return False"
   ]
  },
  {
   "cell_type": "code",
   "execution_count": 226,
   "metadata": {},
   "outputs": [
    {
     "name": "stdout",
     "output_type": "stream",
     "text": [
      "1012\n",
      "├── 2013\n",
      "│   └── 3920\n",
      "└── 23015\n",
      "\n",
      "23015\n",
      "\n",
      "23910\n",
      "└── 3920\n",
      "\n",
      "23910\n",
      "└── 3920\n",
      "\n",
      "23910\n",
      "└── 3920\n",
      "\n",
      "23910\n",
      "└── 3920\n",
      "\n",
      "3920\n",
      "\n",
      "3920\n",
      "\n",
      "3920\n",
      "\n"
     ]
    }
   ],
   "source": [
    "nodeList = []\n",
    "rootList = []\n",
    "for index, row in tweetList.iterrows():\n",
    "    #if ([item for item in nodeList if row['author'] not in item]):\n",
    "    if (len(nodeList)) == 0:\n",
    "        nodeList.append((row['author'], Node(row['author']))) \n",
    "        rootList.append(nodeList[-1])\n",
    "    else:\n",
    "        for i in range(len(nodeList)-1, -1, -1):\n",
    "            if checkFollower(row['author'], nodeList[i][0]):\n",
    "                nodeList.append((row['author'], Node(row['author'], parent=nodeList[i][1]))) \n",
    "            else:\n",
    "                nodeList.append((row['author'], Node(row['author']))) \n",
    "                rootList.append(nodeList[-1])\n",
    "                \n",
    "for bla in rootList:\n",
    "    for pre, fill, node in RenderTree(bla[1]):\n",
    "        print(\"%s%s\" % (pre, node.name))\n",
    "    print()"
   ]
  },
  {
   "cell_type": "code",
   "execution_count": 227,
   "metadata": {},
   "outputs": [],
   "source": [
    "#from anytree.exporter import DotExporter\n",
    "#DotExporter(rootList[0][1]).to_picture(\"tree.png\")"
   ]
  },
  {
   "cell_type": "code",
   "execution_count": null,
   "metadata": {},
   "outputs": [],
   "source": []
  }
 ],
 "metadata": {
  "kernelspec": {
   "display_name": "Python 3",
   "language": "python",
   "name": "python3"
  },
  "language_info": {
   "codemirror_mode": {
    "name": "ipython",
    "version": 3
   },
   "file_extension": ".py",
   "mimetype": "text/x-python",
   "name": "python",
   "nbconvert_exporter": "python",
   "pygments_lexer": "ipython3",
   "version": "3.6.3"
  }
 },
 "nbformat": 4,
 "nbformat_minor": 2
}
