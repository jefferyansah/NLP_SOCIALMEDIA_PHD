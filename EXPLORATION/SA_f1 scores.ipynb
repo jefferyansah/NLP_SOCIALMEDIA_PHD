{
 "cells": [
  {
   "cell_type": "code",
   "execution_count": 11,
   "metadata": {
    "collapsed": false
   },
   "outputs": [
    {
     "name": "stderr",
     "output_type": "stream",
     "text": [
      "C:\\Users\\ansja001\\AppData\\Local\\Continuum\\Anaconda3\\lib\\site-packages\\matplotlib\\__init__.py:1401: UserWarning:  This call to matplotlib.use() has no effect\n",
      "because the backend has already been chosen;\n",
      "matplotlib.use() must be called *before* pylab, matplotlib.pyplot,\n",
      "or matplotlib.backends is imported for the first time.\n",
      "\n",
      "  warnings.warn(_use_error_msg)\n"
     ]
    },
    {
     "data": {
      "image/png": "[encoded data removed]",
      "text/plain": [
       "<matplotlib.figure.Figure at 0x80c2ac8>"
      ]
     },
     "metadata": {},
     "output_type": "display_data"
    }
   ],
   "source": [
    "import numpy as np\n",
    "\n",
    "import matplotlib as mpl\n",
    "\n",
    "import matplotlib.pyplot as plt\n",
    "\n",
    "import pylab\n",
    "\n",
    "## agg backend is used to create plot as a .png file\n",
    "\n",
    "mpl.use('agg')\n",
    "\n",
    "import matplotlib.pyplot as plt\n",
    "\n",
    "Baseline = [0.81,0.88,0.79,0.80,0.69]\n",
    "\n",
    "EMVBM = [0.87,0.92,0.85,0.80,0.80]\n",
    "\n",
    "plotall= [Baseline,EMVBM]\n",
    "\n",
    "# Create a figure instance\n",
    "\n",
    "fig = plt.figure(1, figsize=(3, 5))\n",
    "\n",
    "# Create an axes instance\n",
    "\n",
    "ax = fig.add_subplot(111)\n",
    "\n",
    "# Create the boxplot\n",
    "\n",
    "bp = ax.boxplot(plotall)\n",
    "# Save the figure\n",
    "fig.savefig('fig1.png', bbox_inches='tight')\n",
    "bp = ax.boxplot(plotall, patch_artist=True)\n",
    "## change outline color, fill color and linewidth of the boxes\n",
    "for box in bp['boxes']:\n",
    "    # change outline color\n",
    "    box.set( color='black', linewidth=1)\n",
    "    # change fill color\n",
    "    box.set( facecolor = 'blue' )\n",
    "## change color and linewidth of the whiskers\n",
    "for whisker in bp['whiskers']:\n",
    "    whisker.set(color='black', linewidth=1)\n",
    "## change color and linewidth of the caps\n",
    "for cap in bp['caps']:\n",
    "    cap.set(color='black', linewidth=1)\n",
    "## change color and linewidth of the medians\n",
    "for median in bp['medians']:\n",
    "    median.set(color='yellow', linewidth=1)\n",
    "## change the style of fliers and their fill\n",
    "for flier in bp['fliers']:\n",
    "    flier.set(marker='o', color='black', alpha=0.5)\n",
    "ax.set_xticklabels(['STEC_knn', 'STEC_svm'])\n",
    "plt.ylabel(\"F1 SCORE\")\n",
    "plt.title('SA LeadTime 1')\n",
    "#plt.xlabel(\"Models\")\n",
    "\n",
    "ax.get_xaxis().tick_bottom()\n",
    "\n",
    "ax.get_yaxis().tick_left()\n",
    "ax.set_aspect(4)\n",
    "#ax.set_xlim(0.7,5.3)\n",
    "plt.ylim(ymax = 1, ymin = 0.6) #set limist for axes\n",
    "plt.show()\n",
    "fig.savefig('sa1.png', bbox_inches='tight')"
   ]
  },
  {
   "cell_type": "code",
   "execution_count": 13,
   "metadata": {
    "collapsed": false
   },
   "outputs": [
    {
     "name": "stderr",
     "output_type": "stream",
     "text": [
      "C:\\Users\\ansja001\\AppData\\Local\\Continuum\\Anaconda3\\lib\\site-packages\\matplotlib\\__init__.py:1401: UserWarning:  This call to matplotlib.use() has no effect\n",
      "because the backend has already been chosen;\n",
      "matplotlib.use() must be called *before* pylab, matplotlib.pyplot,\n",
      "or matplotlib.backends is imported for the first time.\n",
      "\n",
      "  warnings.warn(_use_error_msg)\n"
     ]
    },
    {
     "data": {
      "image/png": "[encoded data removed]",
      "text/plain": [
       "<matplotlib.figure.Figure at 0x81c61d0>"
      ]
     },
     "metadata": {},
     "output_type": "display_data"
    }
   ],
   "source": [
    "import numpy as np\n",
    "\n",
    "import matplotlib as mpl\n",
    "\n",
    "import matplotlib.pyplot as plt\n",
    "\n",
    "import pylab\n",
    "\n",
    "## agg backend is used to create plot as a .png file\n",
    "\n",
    "mpl.use('agg')\n",
    "\n",
    "import matplotlib.pyplot as plt\n",
    "\n",
    "Baseline = [0.81,0.88,0.93,0.76,0.75]\n",
    "\n",
    "EMVBM = [0.81,0.88,0.93,0.76,0.73]\n",
    "\n",
    "plotall= [Baseline,EMVBM]\n",
    "\n",
    "# Create a figure instance\n",
    "\n",
    "fig = plt.figure(1, figsize=(3, 5))\n",
    "\n",
    "# Create an axes instance\n",
    "\n",
    "ax = fig.add_subplot(111)\n",
    "\n",
    "# Create the boxplot\n",
    "\n",
    "bp = ax.boxplot(plotall)\n",
    "# Save the figure\n",
    "fig.savefig('fig1.png', bbox_inches='tight')\n",
    "bp = ax.boxplot(plotall, patch_artist=True)\n",
    "## change outline color, fill color and linewidth of the boxes\n",
    "for box in bp['boxes']:\n",
    "    # change outline color\n",
    "    box.set( color='black', linewidth=1)\n",
    "    # change fill color\n",
    "    box.set( facecolor = 'blue' )\n",
    "## change color and linewidth of the whiskers\n",
    "for whisker in bp['whiskers']:\n",
    "    whisker.set(color='black', linewidth=1)\n",
    "## change color and linewidth of the caps\n",
    "for cap in bp['caps']:\n",
    "    cap.set(color='black', linewidth=1)\n",
    "## change color and linewidth of the medians\n",
    "for median in bp['medians']:\n",
    "    median.set(color='yellow', linewidth=1)\n",
    "## change the style of fliers and their fill\n",
    "for flier in bp['fliers']:\n",
    "    flier.set(marker='o', color='black', alpha=0.5)\n",
    "ax.set_xticklabels(['STEC_knn', 'STEC_svm'])\n",
    "plt.ylabel(\"F1 SCORE\")\n",
    "plt.title('SA LeadTime 2')\n",
    "#plt.xlabel(\"Models\")\n",
    "\n",
    "ax.get_xaxis().tick_bottom()\n",
    "\n",
    "ax.get_yaxis().tick_left()\n",
    "ax.set_aspect(4)\n",
    "#ax.set_xlim(0.7,5.3)\n",
    "plt.ylim(ymax = 1, ymin = 0.60) #set limist for axes\n",
    "plt.show()\n",
    "fig.savefig('sa2.png', bbox_inches='tight')"
   ]
  },
  {
   "cell_type": "code",
   "execution_count": 15,
   "metadata": {
    "collapsed": false
   },
   "outputs": [
    {
     "name": "stderr",
     "output_type": "stream",
     "text": [
      "C:\\Users\\ansja001\\AppData\\Local\\Continuum\\Anaconda3\\lib\\site-packages\\matplotlib\\__init__.py:1401: UserWarning:  This call to matplotlib.use() has no effect\n",
      "because the backend has already been chosen;\n",
      "matplotlib.use() must be called *before* pylab, matplotlib.pyplot,\n",
      "or matplotlib.backends is imported for the first time.\n",
      "\n",
      "  warnings.warn(_use_error_msg)\n"
     ]
    },
    {
     "data": {
      "image/png": "[encoded data removed]",
      "text/plain": [
       "<matplotlib.figure.Figure at 0x83e2390>"
      ]
     },
     "metadata": {},
     "output_type": "display_data"
    }
   ],
   "source": [
    "import numpy as np\n",
    "\n",
    "import matplotlib as mpl\n",
    "\n",
    "import matplotlib.pyplot as plt\n",
    "\n",
    "import pylab\n",
    "\n",
    "## agg backend is used to create plot as a .png file\n",
    "\n",
    "mpl.use('agg')\n",
    "\n",
    "import matplotlib.pyplot as plt\n",
    "\n",
    "Baseline = [0.81,0.86,0.86,0.70,0.73]\n",
    "\n",
    "EMVBM = [0.8,0.86,0.86,0.66,0.73]\n",
    "\n",
    "plotall= [Baseline,EMVBM]\n",
    "\n",
    "# Create a figure instance\n",
    "\n",
    "fig = plt.figure(1, figsize=(3, 5))\n",
    "\n",
    "# Create an axes instance\n",
    "\n",
    "ax = fig.add_subplot(111)\n",
    "\n",
    "# Create the boxplot\n",
    "\n",
    "bp = ax.boxplot(plotall)\n",
    "# Save the figure\n",
    "fig.savefig('fig1.png', bbox_inches='tight')\n",
    "bp = ax.boxplot(plotall, patch_artist=True)\n",
    "## change outline color, fill color and linewidth of the boxes\n",
    "for box in bp['boxes']:\n",
    "    # change outline color\n",
    "    box.set( color='black', linewidth=1)\n",
    "    # change fill color\n",
    "    box.set( facecolor = 'blue' )\n",
    "## change color and linewidth of the whiskers\n",
    "for whisker in bp['whiskers']:\n",
    "    whisker.set(color='black', linewidth=1)\n",
    "## change color and linewidth of the caps\n",
    "for cap in bp['caps']:\n",
    "    cap.set(color='black', linewidth=1)\n",
    "## change color and linewidth of the medians\n",
    "for median in bp['medians']:\n",
    "    median.set(color='yellow', linewidth=1)\n",
    "## change the style of fliers and their fill\n",
    "for flier in bp['fliers']:\n",
    "    flier.set(marker='o', color='black', alpha=0.5)\n",
    "ax.set_xticklabels(['STEC_knn', 'STEC_svm'])\n",
    "plt.ylabel(\"F1 SCORE\")\n",
    "plt.title('SA LeadTime 3')\n",
    "#plt.xlabel(\"Models\")\n",
    "\n",
    "ax.get_xaxis().tick_bottom()\n",
    "\n",
    "ax.get_yaxis().tick_left()\n",
    "ax.set_aspect(4)\n",
    "#ax.set_xlim(0.7,5.3)\n",
    "plt.ylim(ymax = 1, ymin = 0.60) #set limist for axes\n",
    "plt.show()\n",
    "fig.savefig('sa3.png', bbox_inches='tight')"
   ]
  }
 ],
 "metadata": {
  "kernelspec": {
   "display_name": "Python 3",
   "language": "python",
   "name": "python3"
  },
  "language_info": {
   "codemirror_mode": {
    "name": "ipython",
    "version": 3
   },
   "file_extension": ".py",
   "mimetype": "text/x-python",
   "name": "python",
   "nbconvert_exporter": "python",
   "pygments_lexer": "ipython3",
   "version": "3.6.0"
  }
 },
 "nbformat": 4,
 "nbformat_minor": 2
}
