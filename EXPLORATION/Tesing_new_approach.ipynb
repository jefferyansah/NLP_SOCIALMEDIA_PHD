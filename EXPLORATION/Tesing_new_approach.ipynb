{
 "cells": [
  {
   "cell_type": "code",
   "execution_count": 11,
   "metadata": {
    "collapsed": false,
    "scrolled": true
   },
   "outputs": [
    {
     "data": {
      "text/html": [
       "<div>\n",
       "<table border=\"1\" class=\"dataframe\">\n",
       "  <thead>\n",
       "    <tr style=\"text-align: right;\">\n",
       "      <th></th>\n",
       "      <th>Unnamed: 0</th>\n",
       "      <th>author</th>\n",
       "      <th>publicationTime</th>\n",
       "      <th>bodyText</th>\n",
       "    </tr>\n",
       "  </thead>\n",
       "  <tbody>\n",
       "    <tr>\n",
       "      <th>count</th>\n",
       "      <td>320</td>\n",
       "      <td>319</td>\n",
       "      <td>319</td>\n",
       "      <td>319</td>\n",
       "    </tr>\n",
       "    <tr>\n",
       "      <th>unique</th>\n",
       "      <td>320</td>\n",
       "      <td>221</td>\n",
       "      <td>316</td>\n",
       "      <td>319</td>\n",
       "    </tr>\n",
       "    <tr>\n",
       "      <th>top</th>\n",
       "      <td>50</td>\n",
       "      <td>id:twitter.com:3310347050</td>\n",
       "      <td>2016-03-08 10:54:16</td>\n",
       "      <td>RT @swampgirl64: &amp;lt;(' ) Anthony Roberts, doe...</td>\n",
       "    </tr>\n",
       "    <tr>\n",
       "      <th>freq</th>\n",
       "      <td>1</td>\n",
       "      <td>10</td>\n",
       "      <td>2</td>\n",
       "      <td>1</td>\n",
       "    </tr>\n",
       "  </tbody>\n",
       "</table>\n",
       "</div>"
      ],
      "text/plain": [
       "       Unnamed: 0                     author      publicationTime  \\\n",
       "count         320                        319                  319   \n",
       "unique        320                        221                  316   \n",
       "top            50  id:twitter.com:3310347050  2016-03-08 10:54:16   \n",
       "freq            1                         10                    2   \n",
       "\n",
       "                                                 bodyText  \n",
       "count                                                 319  \n",
       "unique                                                319  \n",
       "top     RT @swampgirl64: &lt;(' ) Anthony Roberts, doe...  \n",
       "freq                                                    1  "
      ]
     },
     "execution_count": 11,
     "metadata": {},
     "output_type": "execute_result"
    }
   ],
   "source": [
    "import pandas as pd\n",
    "import numpy as np\n",
    "import sql\n",
    "\n",
    "ds8 = pd.read_csv(\"C:\\\\Users\\\\ansja001\\\\Desktop\\\\\\Coal protest Dataset\\\\tiMESERIES DATA\\\\Cascade_NewCastle Habour\\\\Mar8.csv\") #loads the csv correctly\n",
    "#ds.drop_duplicates()\n",
    "#ds['bodyText']\n",
    "mike1= ds8.drop_duplicates(['bodyText']) #Working perfecrly well.. shows tweets that can be counted cascades\n",
    "mike1.describe()\n",
    "\n",
    "#ds8\n",
    "#extract8 = pd.value_counts(ds8['bodyText','author'].values, sort= False)\n",
    "#extract8\n",
    "#my8 = extract8\n",
    "\n",
    "#dsf8 = my8.to_frame().reset_index()\n",
    "#dsf8.columns = ['Cascade-ID','Cascade Size']\n",
    "#dsf8.to_csv('RTCascade_Day8.csv')"
   ]
  },
  {
   "cell_type": "code",
   "execution_count": 31,
   "metadata": {
    "collapsed": false
   },
   "outputs": [
    {
     "data": {
      "text/html": [
       "<div>\n",
       "<table border=\"1\" class=\"dataframe\">\n",
       "  <thead>\n",
       "    <tr style=\"text-align: right;\">\n",
       "      <th></th>\n",
       "      <th>Cascade-ID</th>\n",
       "      <th>Cascade Size</th>\n",
       "    </tr>\n",
       "  </thead>\n",
       "  <tbody>\n",
       "    <tr>\n",
       "      <th>97</th>\n",
       "      <td>RT @StopShenhua: \"It'd be better to knock down...</td>\n",
       "      <td>24</td>\n",
       "    </tr>\n",
       "    <tr>\n",
       "      <th>107</th>\n",
       "      <td>RT @StopShenhua: \"It's dumb to rip up world cl...</td>\n",
       "      <td>30</td>\n",
       "    </tr>\n",
       "    <tr>\n",
       "      <th>112</th>\n",
       "      <td>RT @StopShenhua: Farmers call for @TonyHWindso...</td>\n",
       "      <td>40</td>\n",
       "    </tr>\n",
       "  </tbody>\n",
       "</table>\n",
       "</div>"
      ],
      "text/plain": [
       "                                            Cascade-ID  Cascade Size\n",
       "97   RT @StopShenhua: \"It'd be better to knock down...            24\n",
       "107  RT @StopShenhua: \"It's dumb to rip up world cl...            30\n",
       "112  RT @StopShenhua: Farmers call for @TonyHWindso...            40"
      ]
     },
     "execution_count": 31,
     "metadata": {},
     "output_type": "execute_result"
    }
   ],
   "source": [
    "#ds8\n",
    "extract8 = pd.value_counts(ds8['bodyText'].values, sort= False)\n",
    "extract8\n",
    "dsf8 = extract8.to_frame().reset_index()\n",
    "dsf8.columns = ['Cascade-ID','Cascade Size']\n",
    "dsf8\n",
    "sfilter = dsf8[dsf8['Cascade Size'] > 20]\n",
    "sfilter\n",
    "#dsf8.to_csv('RTCascade_Day8.csv')\n",
    "\n",
    "#lolw = extract8.columns = ['Cascade-ID','Cascade Size']\n",
    "\n",
    "#my8 = extract8\n",
    "\n",
    "#dsf8 = my8.to_frame().reset_index()\n",
    "#dsf8.columns = ['Cascade-ID','Cascade Size']\n",
    "#dsf8.to_csv('RTCascade_Day8.csv')"
   ]
  },
  {
   "cell_type": "markdown",
   "metadata": {},
   "source": [
    "From the Prelinminary anaylsis on cascades"
   ]
  }
 ],
 "metadata": {
  "kernelspec": {
   "display_name": "Python 3",
   "language": "python",
   "name": "python3"
  },
  "language_info": {
   "codemirror_mode": {
    "name": "ipython",
    "version": 3
   },
   "file_extension": ".py",
   "mimetype": "text/x-python",
   "name": "python",
   "nbconvert_exporter": "python",
   "pygments_lexer": "ipython3",
   "version": "3.6.0"
  }
 },
 "nbformat": 4,
 "nbformat_minor": 2
}
