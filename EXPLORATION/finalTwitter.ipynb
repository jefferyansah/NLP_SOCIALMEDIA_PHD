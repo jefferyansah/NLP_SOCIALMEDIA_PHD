{
 "cells": [
  {
   "cell_type": "code",
   "execution_count": 1,
   "metadata": {},
   "outputs": [
    {
     "data": {
      "text/html": [
       "<div>\n",
       "<style scoped>\n",
       "    .dataframe tbody tr th:only-of-type {\n",
       "        vertical-align: middle;\n",
       "    }\n",
       "\n",
       "    .dataframe tbody tr th {\n",
       "        vertical-align: top;\n",
       "    }\n",
       "\n",
       "    .dataframe thead th {\n",
       "        text-align: right;\n",
       "    }\n",
       "</style>\n",
       "<table border=\"1\" class=\"dataframe\">\n",
       "  <thead>\n",
       "    <tr style=\"text-align: right;\">\n",
       "      <th></th>\n",
       "      <th>Unnamed: 0</th>\n",
       "      <th>author</th>\n",
       "      <th>publicationTime</th>\n",
       "      <th>bodyText</th>\n",
       "    </tr>\n",
       "  </thead>\n",
       "  <tbody>\n",
       "    <tr>\n",
       "      <th>0</th>\n",
       "      <td>0</td>\n",
       "      <td>2.209799e+09</td>\n",
       "      <td>10/02/2016 10:30</td>\n",
       "      <td>RT @350Australia: Adani Group's Aust #coal min...</td>\n",
       "    </tr>\n",
       "    <tr>\n",
       "      <th>1</th>\n",
       "      <td>1</td>\n",
       "      <td>2.209799e+09</td>\n",
       "      <td>10/02/2016 10:36</td>\n",
       "      <td>RT @avivaimhof: Poor old #coal. Now even #Viet...</td>\n",
       "    </tr>\n",
       "    <tr>\n",
       "      <th>2</th>\n",
       "      <td>2</td>\n",
       "      <td>4.306011e+07</td>\n",
       "      <td>10/02/2016 10:37</td>\n",
       "      <td>RT @market_forces: Funds have burned billions ...</td>\n",
       "    </tr>\n",
       "    <tr>\n",
       "      <th>3</th>\n",
       "      <td>3</td>\n",
       "      <td>2.209799e+09</td>\n",
       "      <td>10/02/2016 10:37</td>\n",
       "      <td>RT @avivaimhof: #Vietnam PM Announces Retreat ...</td>\n",
       "    </tr>\n",
       "    <tr>\n",
       "      <th>4</th>\n",
       "      <td>4</td>\n",
       "      <td>5.855606e+08</td>\n",
       "      <td>10/02/2016 10:41</td>\n",
       "      <td>RT @350Australia: Adani Group's Aust #coal min...</td>\n",
       "    </tr>\n",
       "  </tbody>\n",
       "</table>\n",
       "</div>"
      ],
      "text/plain": [
       "  Unnamed: 0        author   publicationTime  \\\n",
       "0          0  2.209799e+09  10/02/2016 10:30   \n",
       "1          1  2.209799e+09  10/02/2016 10:36   \n",
       "2          2  4.306011e+07  10/02/2016 10:37   \n",
       "3          3  2.209799e+09  10/02/2016 10:37   \n",
       "4          4  5.855606e+08  10/02/2016 10:41   \n",
       "\n",
       "                                            bodyText  \n",
       "0  RT @350Australia: Adani Group's Aust #coal min...  \n",
       "1  RT @avivaimhof: Poor old #coal. Now even #Viet...  \n",
       "2  RT @market_forces: Funds have burned billions ...  \n",
       "3  RT @avivaimhof: #Vietnam PM Announces Retreat ...  \n",
       "4  RT @350Australia: Adani Group's Aust #coal min...  "
      ]
     },
     "execution_count": 1,
     "metadata": {},
     "output_type": "execute_result"
    }
   ],
   "source": [
    "import pandas as pd\n",
    "import matplotlib.pyplot as plt\n",
    "import numpy as np\n",
    "import itertools\n",
    "df = pd.read_csv('data.csv')\n",
    "df.head()"
   ]
  },
  {
   "cell_type": "code",
   "execution_count": 2,
   "metadata": {},
   "outputs": [
    {
     "name": "stdout",
     "output_type": "stream",
     "text": [
      "Enter Interval in seconds : 300\n"
     ]
    }
   ],
   "source": [
    "interval = input('Enter Interval in seconds : ')"
   ]
  },
  {
   "cell_type": "code",
   "execution_count": 3,
   "metadata": {},
   "outputs": [],
   "source": [
    "df[\"publicationTime\"] = pd.to_datetime(df[\"publicationTime\"])\n",
    "df['bodyText'].fillna('not found',inplace=True)\n"
   ]
  },
  {
   "cell_type": "code",
   "execution_count": 4,
   "metadata": {},
   "outputs": [
    {
     "name": "stdout",
     "output_type": "stream",
     "text": [
      "    count      publicationTime\n",
      "1       2  2016-10-02 10:37:00\n",
      "2       3  2016-10-02 10:48:00\n",
      "3       2  2016-10-02 11:20:00\n",
      "4       3  2016-10-02 11:46:00\n",
      "5       5  2016-10-02 11:53:00\n",
      "6       6  2016-10-02 12:03:00\n",
      "7       2  2016-10-02 12:09:00\n",
      "8       2  2016-10-02 12:19:00\n",
      "9       2  2016-10-02 12:34:00\n",
      "10      2  2016-10-02 12:47:00\n",
      "        publicationTime  users\n",
      "1   2016-10-02 10:37:00      2\n",
      "2   2016-10-02 10:48:00      5\n",
      "3   2016-10-02 11:20:00      3\n",
      "4   2016-10-02 11:46:00      2\n",
      "5   2016-10-02 11:53:00      1\n",
      "6   2016-10-02 12:03:00      4\n",
      "7   2016-10-02 12:09:00      2\n",
      "8   2016-10-02 12:19:00      0\n",
      "9   2016-10-02 12:34:00      1\n",
      "10  2016-10-02 12:47:00      1\n",
      "        publicationTime  retweet\n",
      "1   2016-10-02 10:37:00        2\n",
      "2   2016-10-02 10:48:00        3\n",
      "3   2016-10-02 11:20:00        0\n",
      "4   2016-10-02 11:46:00        2\n",
      "5   2016-10-02 11:53:00        3\n",
      "6   2016-10-02 12:03:00        4\n",
      "7   2016-10-02 12:09:00        1\n",
      "8   2016-10-02 12:19:00        0\n",
      "9   2016-10-02 12:34:00        1\n",
      "10  2016-10-02 12:47:00        0\n"
     ]
    }
   ],
   "source": [
    "import time\n",
    "import datetime\n",
    "users = []\n",
    "combine_data = []\n",
    "counter  = 0\n",
    "tweet_time = 0\n",
    "old_timestamp = 0\n",
    "row_count = 0\n",
    "df_user = pd.DataFrame()\n",
    "df_retweet = pd.DataFrame()\n",
    "df_count = pd.DataFrame()\n",
    "index_counter = 0\n",
    "def filter_data(text, combine_data):\n",
    "    for t in text.split(' '):\n",
    "        if t.startswith('@'):\n",
    "            combine_data.append(t)\n",
    "    return combine_data\n",
    "\n",
    "def filter_retweet(text, count):\n",
    "    for index, t in enumerate(text.split(' ')):\n",
    "        if index == 0 and t == 'RT':\n",
    "            count += 1\n",
    "    return count  \n",
    "for i, row in df.iterrows():\n",
    "    type = pd.isnull(row['publicationTime'])\n",
    "    if not type:\n",
    "        timestamp = time.mktime(row['publicationTime'].timetuple())\n",
    "        if i == 0:\n",
    "            old_timestamp = timestamp\n",
    "        if tweet_time > old_timestamp + float(interval):\n",
    "            index_counter += 1\n",
    "            pub = datetime.datetime.fromtimestamp(int(timestamp)).strftime('%Y-%m-%d %H:%M:%S')\n",
    "            temp1 = pd.DataFrame({'publicationTime': pub, 'users': len(set(combine_data))},index=[index_counter])\n",
    "            temp2 = pd.DataFrame({'publicationTime': pub, 'retweet': counter},index=[index_counter])\n",
    "            temp3 = pd.DataFrame({'publicationTime': pub, 'count': row_count},index=[index_counter])\n",
    "            df_user = pd.concat([df_user, temp1])\n",
    "            df_retweet = pd.concat([df_retweet, temp2])\n",
    "            df_count = pd.concat([df_count, temp3])\n",
    "            old_timestamp = timestamp\n",
    "            combine_data = []\n",
    "            counter = 0\n",
    "            row_count = 0\n",
    "        else:\n",
    "            combine_data = filter_data(row['bodyText'], combine_data)\n",
    "            counter = filter_retweet(row['bodyText'], counter)\n",
    "            tweet_time = timestamp\n",
    "            row_count += 1\n",
    "print(df_count.head(10))\n",
    "print(df_user.head(10)) \n",
    "print(df_retweet.head(10))"
   ]
  },
  {
   "cell_type": "code",
   "execution_count": 5,
   "metadata": {},
   "outputs": [],
   "source": [
    "#%matplotlib inline\n",
    "#plt.bar(df_count['publicationTime'], df_count['count'], align='center')\n",
    "#plt.title('Interval')\n",
    "#plt.show()\n"
   ]
  },
  {
   "cell_type": "code",
   "execution_count": 6,
   "metadata": {},
   "outputs": [],
   "source": [
    "def gen_window(df):\n",
    "    window = []\n",
    "    count = 1\n",
    "    for i, row in df.iterrows():\n",
    "        window.append(\"Window {}\".format(count))\n",
    "        count += 1\n",
    "    return window"
   ]
  },
  {
   "cell_type": "code",
   "execution_count": 7,
   "metadata": {},
   "outputs": [],
   "source": [
    "df_count['window'] = gen_window(df_count)\n",
    "df_user['windows'] = gen_window(df_user)\n",
    "df_retweet['windows'] = gen_window(df_retweet)\n",
    "df_count.to_csv('count_with_interval.csv')\n",
    "df_user.to_csv('count_with_users.csv')\n",
    "df_retweet.to_csv('count_with_retweets.csv')"
   ]
  },
  {
   "cell_type": "code",
   "execution_count": null,
   "metadata": {},
   "outputs": [],
   "source": []
  }
 ],
 "metadata": {
  "kernelspec": {
   "display_name": "Python 3",
   "language": "python",
   "name": "python3"
  },
  "language_info": {
   "codemirror_mode": {
    "name": "ipython",
    "version": 3
   },
   "file_extension": ".py",
   "mimetype": "text/x-python",
   "name": "python",
   "nbconvert_exporter": "python",
   "pygments_lexer": "ipython3",
   "version": "3.6.4"
  }
 },
 "nbformat": 4,
 "nbformat_minor": 2
}
