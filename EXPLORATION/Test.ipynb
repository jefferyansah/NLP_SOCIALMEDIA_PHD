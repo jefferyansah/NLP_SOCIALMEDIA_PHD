{
 "cells": [
  {
   "cell_type": "code",
   "execution_count": 5,
   "metadata": {
    "collapsed": true
   },
   "outputs": [],
   "source": [
    "import numpy as np\n",
    "import matplotlib.mlab as mlab\n",
    "import matplotlib.pyplot as plt\n",
    "import matplotlib\n",
    "\n",
    "mu, sigma = 100, 15\n",
    "x = mu + sigma*np.random.randn(10000)\n",
    "\n",
    "# the histogram of the data\n",
    "n, bins, patches = plt.hist(x, 50, normed=1, facecolor='green', alpha=0.75)\n",
    "\n",
    "# add a 'best fit' line\n",
    "y = mlab.normpdf( bins, mu, sigma)\n",
    "l = plt.plot(bins, y, 'r--', linewidth=1)\n",
    "\n",
    "plt.xlabel('Smarts')\n",
    "plt.ylabel('Probability')\n",
    "plt.title(r'$\\mathrm{Histogram\\ of\\ IQ:}\\ \\mu=100,\\ \\sigma=15$')\n",
    "plt.axis([40, 160, 0, 0.03])\n",
    "plt.grid(True)\n",
    "\n",
    "plt.show()"
   ]
  },
  {
   "cell_type": "code",
   "execution_count": null,
   "metadata": {
    "collapsed": true
   },
   "outputs": [],
   "source": []
  },
  {
   "cell_type": "code",
   "execution_count": 15,
   "metadata": {
    "collapsed": false
   },
   "outputs": [
    {
     "data": {
      "text/plain": [
       "datetime.datetime(2016, 1, 1, 0, 0)"
      ]
     },
     "execution_count": 15,
     "metadata": {},
     "output_type": "execute_result"
    }
   ],
   "source": [
    "import datetime\n",
    "\n",
    "startTime = \"2016-01-01T00:00:00Z\"\n",
    "startT = datetime.datetime.strptime(startTime, \"%Y-%m-%dT%H:%M:%SZ\")\n",
    "\n",
    "startT "
   ]
  },
  {
   "cell_type": "code",
   "execution_count": 17,
   "metadata": {
    "collapsed": false
   },
   "outputs": [
    {
     "name": "stdout",
     "output_type": "stream",
     "text": [
      "2003-08-02 12:04:05\n",
      "2003-08-03 12:04:05\n",
      "2003-08-04 12:04:05\n",
      "2003-08-05 12:04:05\n",
      "2003-08-06 12:04:05\n"
     ]
    }
   ],
   "source": [
    "\n",
    "date = datetime.datetime(2003,8,1,12,4,5)\n",
    "for i in range(5): \n",
    "    date += datetime.timedelta(days=1)\n",
    "    print(date) "
   ]
  },
  {
   "cell_type": "code",
   "execution_count": 2,
   "metadata": {
    "collapsed": true
   },
   "outputs": [],
   "source": [
    "import random\n",
    "import pylab as plt\n",
    "import datetime\n",
    "from matplotlib.dates import  DateFormatter, DayLocator\n",
    "\n",
    "fig, ax = plt.subplots(2,1, figsize=(6,8))\n",
    "\n",
    "# Sample 1: use xticks\n",
    "days = [29,30,31,1,2,3,4,5]\n",
    "values = [random.random() for x in days]\n",
    "\n",
    "xs = range(len(days))\n",
    "\n",
    "plt.axes(ax[0])\n",
    "plt.plot(xs, values)\n",
    "plt.xticks(xs, days)\n",
    "\n",
    "# Sample 2: Work with dates\n",
    "date_strings = [\"2013-01-30\",\n",
    "                \"2013-01-31\",\n",
    "                \"2013-02-01\",\n",
    "                \"2013-02-02\",\n",
    "                \"2013-02-03\"]\n",
    "\n",
    "dates = [datetime.datetime.strptime(x, \"%Y-%m-%d\") for x in date_strings]\n",
    "values = [random.random() for x in dates]\n",
    "\n",
    "plt.axes(ax[1])\n",
    "plt.plot(dates,values)\n",
    "ax[1].xaxis.set_major_formatter(DateFormatter(\"%b %d\"))\n",
    "ax[1].xaxis.set_major_locator(DayLocator())\n",
    "plt.show()"
   ]
  },
  {
   "cell_type": "code",
   "execution_count": 10,
   "metadata": {
    "collapsed": true
   },
   "outputs": [],
   "source": [
    "import pandas as pd\n",
    "from IPython import display\n",
    "\n",
    "df1 = pd.DataFrame({'HPI':[80,85,88,85],\n",
    "                    'Int_rate':[2, 3, 2, 2],\n",
    "                    'US_GDP_Thousands':[50, 55, 65, 55]},\n",
    "                   index = [2001, 2002, 2003, 2004])\n",
    "\n",
    "df2 = pd.DataFrame({'HPI':[80,85,88,85],\n",
    "                    'Int_rate':[2, 3, 2, 2],\n",
    "                    'US_GDP_Thousands':[50, 55, 65, 55]},\n",
    "                   index = [2005, 2006, 2007, 2008])\n",
    "\n",
    "df3 = pd.DataFrame({'HPI':[80,85,88,85],\n",
    "                    'Int_rate':[2, 3, 2, 2],\n",
    "                    'Low_tier_HPI':[50, 52, 50, 53]},\n",
    "                   index = [2001, 2002, 2003, 2004])\n",
    "\n"
   ]
  },
  {
   "cell_type": "code",
   "execution_count": 12,
   "metadata": {
    "collapsed": false
   },
   "outputs": [
    {
     "data": {
      "text/html": [
       "<div style=\"max-height:1000px;max-width:1500px;overflow:auto;\">\n",
       "<table border=\"1\" class=\"dataframe\">\n",
       "  <thead>\n",
       "    <tr style=\"text-align: right;\">\n",
       "      <th></th>\n",
       "      <th>HPI</th>\n",
       "      <th>Int_rate</th>\n",
       "      <th>US_GDP_Thousands</th>\n",
       "    </tr>\n",
       "  </thead>\n",
       "  <tbody>\n",
       "    <tr>\n",
       "      <th>2001</th>\n",
       "      <td> 80</td>\n",
       "      <td> 2</td>\n",
       "      <td> 50</td>\n",
       "    </tr>\n",
       "    <tr>\n",
       "      <th>2002</th>\n",
       "      <td> 85</td>\n",
       "      <td> 3</td>\n",
       "      <td> 55</td>\n",
       "    </tr>\n",
       "    <tr>\n",
       "      <th>2003</th>\n",
       "      <td> 88</td>\n",
       "      <td> 2</td>\n",
       "      <td> 65</td>\n",
       "    </tr>\n",
       "    <tr>\n",
       "      <th>2004</th>\n",
       "      <td> 85</td>\n",
       "      <td> 2</td>\n",
       "      <td> 55</td>\n",
       "    </tr>\n",
       "    <tr>\n",
       "      <th>2005</th>\n",
       "      <td> 80</td>\n",
       "      <td> 2</td>\n",
       "      <td> 50</td>\n",
       "    </tr>\n",
       "    <tr>\n",
       "      <th>2006</th>\n",
       "      <td> 85</td>\n",
       "      <td> 3</td>\n",
       "      <td> 55</td>\n",
       "    </tr>\n",
       "    <tr>\n",
       "      <th>2007</th>\n",
       "      <td> 88</td>\n",
       "      <td> 2</td>\n",
       "      <td> 65</td>\n",
       "    </tr>\n",
       "    <tr>\n",
       "      <th>2008</th>\n",
       "      <td> 85</td>\n",
       "      <td> 2</td>\n",
       "      <td> 55</td>\n",
       "    </tr>\n",
       "  </tbody>\n",
       "</table>\n",
       "<p>8 rows × 3 columns</p>\n",
       "</div>"
      ],
      "text/plain": [
       "      HPI  Int_rate  US_GDP_Thousands\n",
       "2001   80         2                50\n",
       "2002   85         3                55\n",
       "2003   88         2                65\n",
       "2004   85         2                55\n",
       "2005   80         2                50\n",
       "2006   85         3                55\n",
       "2007   88         2                65\n",
       "2008   85         2                55\n",
       "\n",
       "[8 rows x 3 columns]"
      ]
     },
     "execution_count": 12,
     "metadata": {},
     "output_type": "execute_result"
    }
   ],
   "source": [
    "concat = pd.concat([df1,df2])\n",
    "(concat)\n",
    "\n",
    "concat = pd.concat([df1,df2,df3])\n",
    "print(concat)\n",
    "\n",
    "df4 = df1.append(df2)\n",
    "print(df4)"
   ]
  },
  {
   "cell_type": "code",
   "execution_count": 8,
   "metadata": {
    "collapsed": false
   },
   "outputs": [
    {
     "name": "stdout",
     "output_type": "stream",
     "text": [
      "                     lib                   qty1                   qty2\n",
      "0                    2.1                    2.2                    2.3\n",
      "1  {'lib': 1, 'qty1': 2}  {'lib': 1, 'qty1': 2}  {'lib': 1, 'qty1': 2}\n",
      "\n",
      "[2 rows x 3 columns]\n",
      "     0    1    2\n",
      "0  1.1  1.2  1.3\n",
      "\n",
      "[1 rows x 3 columns]\n",
      "1\n",
      "     0    1    2\n",
      "0  1.1  1.2  1.3\n",
      "1  2.1  2.2  2.3\n",
      "2  2.1  2.2  2.3\n",
      "\n",
      "[3 rows x 3 columns]\n",
      "1.2\n"
     ]
    }
   ],
   "source": [
    "# Add a row to df\n",
    "from pandas import DataFrame\n",
    "\n",
    "df111 = DataFrame(columns=('lib', 'qty1', 'qty2'))\n",
    "arow2 = [2.1, 2.2, 2.3]\n",
    "arow3 = {'lib':1, 'qty1':2, 'qty2':3}\n",
    "df111.loc[len(df111)] = arow2\n",
    "df111.loc[len(df111)] = arow3\n",
    "print(df111)\n",
    "\n",
    "mydf = DataFrame([1.1, 1.2, 1.3]).T\n",
    "print(mydf)\n",
    "print(len(mydf))\n",
    "\n",
    "arow2 = [2.1, 2.2, 2.3]  \n",
    "mydf.loc[len(mydf)] = arow2\n",
    "mydf.loc[len(mydf)] = arow2\n",
    "print(mydf)\n",
    "\n",
    "print(mydf[1][0])"
   ]
  },
  {
   "cell_type": "code",
   "execution_count": 30,
   "metadata": {
    "collapsed": false
   },
   "outputs": [
    {
     "data": {
      "text/html": [
       "<div style=\"max-height:1000px;max-width:1500px;overflow:auto;\">\n",
       "<table border=\"1\" class=\"dataframe\">\n",
       "  <thead>\n",
       "    <tr style=\"text-align: right;\">\n",
       "      <th></th>\n",
       "      <th>0</th>\n",
       "      <th>1</th>\n",
       "      <th>2</th>\n",
       "    </tr>\n",
       "  </thead>\n",
       "  <tbody>\n",
       "    <tr>\n",
       "      <th>0</th>\n",
       "      <td> 1.1</td>\n",
       "      <td> 1.1</td>\n",
       "      <td> 1.1</td>\n",
       "    </tr>\n",
       "    <tr>\n",
       "      <th>1</th>\n",
       "      <td> 2.2</td>\n",
       "      <td> 2.2</td>\n",
       "      <td> 2.2</td>\n",
       "    </tr>\n",
       "    <tr>\n",
       "      <th>2</th>\n",
       "      <td> 2.2</td>\n",
       "      <td> 2.2</td>\n",
       "      <td> 2.2</td>\n",
       "    </tr>\n",
       "  </tbody>\n",
       "</table>\n",
       "<p>3 rows × 3 columns</p>\n",
       "</div>"
      ],
      "text/plain": [
       "     0    1    2\n",
       "0  1.1  1.1  1.1\n",
       "1  2.2  2.2  2.2\n",
       "2  2.2  2.2  2.2\n",
       "\n",
       "[3 rows x 3 columns]"
      ]
     },
     "execution_count": 30,
     "metadata": {},
     "output_type": "execute_result"
    }
   ],
   "source": [
    "# Add a row to df  \n",
    "from pandas import DataFrame as df  \n",
    "import numpy as np  \n",
    "mydf = df([1.1, 1.1, 1.1]).T  \n",
    "arow2 = [2.2, 2.2, 2.2]  \n",
    "mynparray = mydf.values  \n",
    "mynparray = np.vstack((mynparray,arow2,arow2))  \n",
    "mydf = df(mynparray)\n",
    "mydf"
   ]
  },
  {
   "cell_type": "code",
   "execution_count": 10,
   "metadata": {
    "collapsed": false
   },
   "outputs": [
    {
     "name": "stdout",
     "output_type": "stream",
     "text": [
      "2016-06-23\n",
      "00:00:00\n",
      "Thu Jun 23 00:00:00 2016 sss\n"
     ]
    }
   ],
   "source": [
    "import datetime\n",
    "\n",
    "time = datetime.datetime.now()\n",
    "time = time.date()\n",
    "print(time)\n",
    "print(datetime.datetime.min.time())\n",
    "datetime.datetime.combine(time, datetime.datetime.min.time())\n",
    "\n",
    "print(time.ctime() + \" sss\")"
   ]
  },
  {
   "cell_type": "code",
   "execution_count": 12,
   "metadata": {
    "collapsed": false
   },
   "outputs": [
    {
     "data": {
      "text/plain": [
       "1.11"
      ]
     },
     "execution_count": 12,
     "metadata": {},
     "output_type": "execute_result"
    }
   ],
   "source": [
    "aaa= 1.111111111\n",
    "round(aaa, 2)"
   ]
  },
  {
   "cell_type": "code",
   "execution_count": 4,
   "metadata": {
    "collapsed": false
   },
   "outputs": [
    {
     "name": "stdout",
     "output_type": "stream",
     "text": [
      "count: 26\n"
     ]
    }
   ],
   "source": [
    "startTimeStr = \"2016-06-03T00:00:00Z\"\n",
    "endTimeStr   = \"2016-06-05T23:59:59Z\"\n",
    "#endTimeStr   = (datetime.datetime.now().date() + datetime.timedelta(-1)).isoformat() + \"T23:59:59Z\" # set endTimeStr to yesterday  \n",
    "\n",
    "gsrDf = sqlContext.read.load(format = \"au.com.d2dcrc.carbon.spark.gsr\", startTime=startTimeStr, endTime=endTimeStr)\n",
    "\n",
    "print(\"count:\", gsrDf.count())"
   ]
  },
  {
   "cell_type": "code",
   "execution_count": null,
   "metadata": {
    "collapsed": false
   },
   "outputs": [
    {
     "name": "stdout",
     "output_type": "stream",
     "text": [
      "0\n",
      "1\n",
      "2\n",
      "3\n",
      "4\n",
      "5\n",
      "6\n",
      "7\n",
      "8\n",
      "9\n",
      "10\n",
      "11\n",
      "12\n",
      "13\n",
      "14\n",
      "15\n",
      "16\n",
      "17\n"
     ]
    }
   ],
   "source": [
    "from time import sleep\n",
    "\n",
    "for i in range(100):\n",
    "    print(i)\n",
    "    sleep(1)\n",
    "print(\"done\")"
   ]
  },
  {
   "cell_type": "code",
   "execution_count": 2,
   "metadata": {
    "collapsed": false,
    "scrolled": true
   },
   "outputs": [
    {
     "ename": "ImportError",
     "evalue": "No module named 'swalign'",
     "output_type": "error",
     "traceback": [
      "\u001b[0;31m---------------------------------------------------------------------------\u001b[0m",
      "\u001b[0;31mImportError\u001b[0m                               Traceback (most recent call last)",
      "\u001b[0;32m<ipython-input-2-90b4a1a63167>\u001b[0m in \u001b[0;36m<module>\u001b[0;34m()\u001b[0m\n\u001b[0;32m----> 1\u001b[0;31m \u001b[0;32mimport\u001b[0m \u001b[0mswalign\u001b[0m \u001b[0;31m# choose your own values here… 2 and -1 are common. match = 2 mismatch = -1 scoring = swalign.NucleotideScoringMatrix(match, mismatch)\u001b[0m\u001b[0;34m\u001b[0m\u001b[0m\n\u001b[0m\u001b[1;32m      2\u001b[0m \u001b[0;34m\u001b[0m\u001b[0m\n\u001b[1;32m      3\u001b[0m \u001b[0msw\u001b[0m \u001b[0;34m=\u001b[0m \u001b[0mswalign\u001b[0m\u001b[0;34m.\u001b[0m\u001b[0mLocalAlignment\u001b[0m\u001b[0;34m(\u001b[0m\u001b[0mscoring\u001b[0m\u001b[0;34m)\u001b[0m \u001b[0;31m# you can also choose gap penalties, etc… alignment = sw.align(‘ACACACTA’,’AGCACACA’) alignment.dump()\u001b[0m\u001b[0;34m\u001b[0m\u001b[0m\n",
      "\u001b[0;31mImportError\u001b[0m: No module named 'swalign'"
     ]
    }
   ],
   "source": [
    "import swalign # choose your own values here… 2 and -1 are common. match = 2 mismatch = -1 scoring = swalign.NucleotideScoringMatrix(match, mismatch)\n",
    "\n",
    "sw = swalign.LocalAlignment(scoring) # you can also choose gap penalties, etc… alignment = sw.align(‘ACACACTA’,’AGCACACA’) alignment.dump()"
   ]
  },
  {
   "cell_type": "code",
   "execution_count": 33,
   "metadata": {
    "collapsed": false
   },
   "outputs": [
    {
     "data": {
      "text/plain": [
       "[1, 2, 3, 4, 5]"
      ]
     },
     "execution_count": 33,
     "metadata": {},
     "output_type": "execute_result"
    }
   ],
   "source": [
    "aaa= [1,2,3,4,5,6]\n",
    "aaa[:-1]"
   ]
  },
  {
   "cell_type": "code",
   "execution_count": 2,
   "metadata": {
    "collapsed": false
   },
   "outputs": [
    {
     "name": "stdout",
     "output_type": "stream",
     "text": [
      "[5, 6, 7]\n",
      "[8, 6, 7]\n"
     ]
    }
   ],
   "source": [
    "v0=[5,6,7]\n",
    "v1=[x for x in v0]\n",
    "v1[0]+=3\n",
    "print(v0)\n",
    "print(v1)"
   ]
  },
  {
   "cell_type": "code",
   "execution_count": null,
   "metadata": {
    "collapsed": false
   },
   "outputs": [],
   "source": []
  }
 ],
 "metadata": {
  "kernelspec": {
   "display_name": "PySpark",
   "language": "python",
   "name": "pyspark"
  },
  "language_info": {
   "codemirror_mode": {
    "name": "ipython",
    "version": 3
   },
   "file_extension": ".py",
   "mimetype": "text/x-python",
   "name": "python",
   "nbconvert_exporter": "python",
   "pygments_lexer": "ipython3",
   "version": "3.5.2"
  }
 },
 "nbformat": 4,
 "nbformat_minor": 0
}
