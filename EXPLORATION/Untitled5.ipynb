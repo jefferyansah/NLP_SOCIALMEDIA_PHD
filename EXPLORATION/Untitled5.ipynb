{
 "cells": [
  {
   "cell_type": "code",
   "execution_count": 17,
   "metadata": {
    "collapsed": false
   },
   "outputs": [
    {
     "data": {
      "image/png": "[encoded data removed]",
      "text/plain": [
       "<matplotlib.figure.Figure at 0x80060f0>"
      ]
     },
     "metadata": {},
     "output_type": "display_data"
    }
   ],
   "source": [
    "import numpy as np\n",
    "\n",
    "import matplotlib as mpl\n",
    "\n",
    "import matplotlib.pyplot as plt\n",
    "\n",
    "import pylab\n",
    "\n",
    "## agg backend is used to create plot as a .png file\n",
    "\n",
    "#mpl.use('agg')\n",
    "\n",
    "import matplotlib.pyplot as plt\n",
    "\n",
    "\n",
    "KNN =  [0.72,0.77,0.80,0.87,0.89]\n",
    "SVM =  [0.78,0.81,0.86,0.87,0.89]\n",
    "\n",
    "plotall= [ KNN, SVM]\n",
    "\n",
    "# Create a figure instance\n",
    "\n",
    "fig = plt.figure(1, figsize=(6, 6))\n",
    "\n",
    "\n",
    "# Create an axes instance\n",
    "\n",
    "ax = fig.add_subplot(111)\n",
    "\n",
    "# Create the boxplot\n",
    "\n",
    "bp = ax.boxplot(plotall)\n",
    "bp = ax.boxplot(plotall, patch_artist=True)\n",
    "\n",
    "## change outline color, fill color and linewidth of the boxes\n",
    "for box in bp['boxes']:\n",
    "    # change outline color\n",
    "    box.set( color='#7570b3', linewidth=2)\n",
    "    # change fill color\n",
    "    box.set( facecolor = 'red' )\n",
    "\n",
    "## change color and linewidth of the whiskers\n",
    "for whisker in bp['whiskers']:\n",
    "    whisker.set(color='#7570b3', linewidth=2)\n",
    "\n",
    "## change color and linewidth of the caps\n",
    "for cap in bp['caps']:\n",
    "    cap.set(color='#7570b3', linewidth=2)\n",
    "\n",
    "## change color and linewidth of the medians\n",
    "for median in bp['medians']:\n",
    "    median.set(color='#b2df8a', linewidth=2)\n",
    "\n",
    "## change the style of fliers and their fill\n",
    "for flier in bp['fliers']:\n",
    "   flier.set(marker='o', color='#e7298a', alpha=0.5)\n",
    "\n",
    "ax.set_xticklabels(['X_CPT1', 'X_CPT2'], fontsize=13)\n",
    "ax.set_yticklabels([0.6,0.65,0.7,0.75,0.8,0.85,0.9,0.95], fontsize=13)\n",
    "\n",
    "plt.ylabel(\"F1 SCORE\", fontsize=15)\n",
    "plt.title(' (b) Western Australia (WA)', fontsize=15)\n",
    "plt.xlabel(\"Models\", fontsize=16)\n",
    "\n",
    "ax.get_xaxis().tick_bottom()\n",
    "\n",
    "ax.get_yaxis().tick_left()\n",
    "#ax.set_aspect(10)\n",
    "#ax.set_xlim(0.7,5.3)\n",
    "\n",
    "plt.ylim(ymax = 0.9, ymin = 0.6) #set limist for axes\n",
    "\n",
    "plt.show()\n",
    "fig.savefig('af1.png', bbox_inches='tight')"
   ]
  }
 ],
 "metadata": {
  "kernelspec": {
   "display_name": "Python 3",
   "language": "python",
   "name": "python3"
  },
  "language_info": {
   "codemirror_mode": {
    "name": "ipython",
    "version": 3
   },
   "file_extension": ".py",
   "mimetype": "text/x-python",
   "name": "python",
   "nbconvert_exporter": "python",
   "pygments_lexer": "ipython3",
   "version": "3.6.0"
  }
 },
 "nbformat": 4,
 "nbformat_minor": 2
}
