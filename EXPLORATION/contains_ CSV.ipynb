{
 "cells": [
  {
   "cell_type": "code",
   "execution_count": 94,
   "metadata": {
    "collapsed": true
   },
   "outputs": [],
   "source": [
    "CUE_KEYWORDS = [\"aboriginal\",\"abortion\",\"abuse\",\"act\",\"action\",\"activism\",\"activist\",\"activists\",\"address\",\"adelaide\",\"adelaide hills\",\"affect\",\"against\",\"ageing\",\"agency\",\"agree\",\n",
    "\"agreement\",\"agriculture\",\"airport\",\"albany\",\"alice springs\",\"alliance\",\"alphington\",\"anger\",\"animal\",\"anniversary\",\"annual\",\"anti\",\"antimuslim\",\"anzac\",\"approach\",\n",
    "\"approval\",\"april\",\"argue\",\"armed\",\"armidale\",\"assistance\",\"association\",\"asylum\",\"attend\",\"attention\",\"attitude\",\"august\",\"australia\",\"australian\",\"authority\",\n",
    "\"available\",\"avenue\",\"avoidable\",\"baby\",\"ballandean\",\"ballarat\",\"ballina\",\"balloons\",\"ban\",\"banner\",\"barricade\",\"barrier\",\"battle\",\"begin\",\"behaviour\",\"belief\",\n",
    "\"believe\",\"bendigo\",\"beneficiaries\",\"benefit\",\"bermagui\",\"bigot\",\"bill\",\"bishop\",\"black\",\"block\",\"blockade\",\"board\",\"bondi\",\"bondi beach\",\"border\",\"borroloola\",\n",
    "\"boundary\",\"boycott\",\"boys\",\"bridge\",\"briggs\",\"brisbane\",\"broken\",\"broken hill\",\"brother\",\"bruise\",\"budget\",\"building\",\"bulga\",\"bureaucracy\",\"burnout\",\"bus\",\n",
    "\"business\",\"cairns\",\"call\",\"camp\",\"campaign\",\"campus\",\"canbera\",\"canberra\",\"capacity\",\"caravan\",\"care\",\"carried\",\"carry\",\"case\",\"catholic\",\"cbd\",\"celebrate\",\n",
    "\"celebration\",\"celebrity\",\"centre\",\"centrelink\",\"challenge\",\"change\",\"changes\",\"charge\",\"child\",\"children\",\"china\",\"choice\",\"choose\",\"christian\",\"church\",\n",
    "\"citizen\",\"city\",\"civil\",\"claim\",\"class\",\"clean\",\"cleaners\",\"climate\",\"climbed\",\"close\",\"closure\",\"clown\",\"coal\",\"coalition\",\"coast\",\"coerce\",\"coffs harbour\",\n",
    "\"coles\",\"collaborate\",\"colleague\",\"collective\",\"college\",\"collingwood\",\"colourful\",\"come\",\"commemorate\",\"comment\",\"commission\",\"commitment\",\"communication\",\n",
    "\"community\",\"companies\",\"company\",\"complaint\",\"comrade\",\"concern\",\"condition\",\"conflict\",\"confuse\",\"congress\",\"conservation\",\"construction\",\"contract\",\"control\",\n",
    "\"conversation\",\"coolangata\",\"coolum\",\"cop\",\"corporate\",\"corporations\",\"cost\",\"costume\",\"council\",\"counter\",\"country\",\"court\",\"crafers\",\"creates\",\"crime\",\"crisis\",\n",
    "\"critical\",\"criticise\",\"crowd\",\"culture\",\"custom\",\"customers\",\"cut\",\"cuts\",\"dalby\",\"darwin\",\"dawn\",\"day\",\"dead\",\"deal\",\"dealer\",\"death\",\"debate\",\"debt\",\"december\",\n",
    "\"decision\",\"declared\",\"decline\",\"decrease\",\"defect\",\"defence\",\"deflation\",\"delay\",\"demand\",\"democracy\",\"democratic\",\"demonstration\",\"deny\",\"department\",\"dependent\",\n",
    "\"deployment\",\"depression\",\"deprivation\",\"detention\",\"development\",\"devonport\",\"dirty\",\"disadvantage\",\"disagree\",\"disaster\",\"discontent\",\"discrimination\",\"discussion\",\n",
    "\"disengage\",\"disgrace\",\"displacement\",\"disturbance\",\"division\",\"doctor\",\"dollar\",\"dominate\",\"donâ€™t\",\"doubt\",\"down\",\"drayton\",\"driver\",\"drivers\",\"drug\",\"dutton\",\n",
    "\"duttons\",\"earth\",\"east\",\"eastern\",\"economic\",\"edgecliff\",\"education\",\"effect\",\"elite\",\"emergency\",\"emotion\",\"employment\",\"end\",\"energy\",\"engage\",\"england\",\"enquiry\",\n",
    "\"enrol\",\"enterprise\",\"environment\",\"equality\",\"errors\",\"essential\",\"essentialism\",\"esssendon\",\"estimated\",\"ethnicity\",\"europe\",\"event\",\"excuse\",\"expense\",\"exploration\",\n",
    "\"extreme\",\"extremist\",\"fact\",\"fail\",\"fair\",\"fairness\",\"family\",\"far\",\"farm\",\"february\",\"federal\",\"fee\",\"feeling\",\"fellow\",\"festival\",\"fight\",\"flag\",\"flyers\",\"flying\",\n",
    "\"focus\",\"folk\",\"food\",\"force\",\"foreign\",\"forest\",\"frack\",\"free\",\"freedom\",\"freemantle\",\"freeze\",\"fremantle\",\"friday\",\"friend\",\"fuck\",\"fuel\",\"fund\",\"funding\",\"future\",\n",
    "\"gas\",\"gather\",\"gathered\",\"gay\",\"geelong\",\"gender\",\"general\",\"geraldton\",\"getup\",\"gippsland\",\"global\",\"goal\",\"god\",\"gold coast\",\"goldcoast\",\"good\",\"gosford\",\n",
    "\"government\",\"graduate\",\"grafton\",\"great keppel island\",\"green\",\"greenpeace\",\"ground\",\"group\",\"growth\",\"guy\",\"haberfield\",\"halaal\",\"hands off\",\"harass\",\"harassment\",\n",
    "\"harbour\",\"hard\",\"harm\",\"hate\",\"health\",\"hegemony\",\"heirisson\",\"heirisson island\",\"held\",\"help\",\"hervey bay\",\"hey\",\"highlight\",\"hills\",\"hit\",\"hobart\",\"home\",\n",
    "\"homebush\",\"hope\",\"hospital\",\"hot\",\"house\",\"human\",\"hundreds\",\"hungary\",\"hunger\",\"hunter\",\"hurt\",\"ideal\",\"identity\",\"ideology\",\"illawarra\",\"illegal\",\"immigrant\",\n",
    "\"immigration\",\"income\",\"inconvenience\",\"increase\",\"independent\",\"indigenous\",\"individual\",\"industrial\",\"industry\",\"inflation\",\"information\",\"initiate\",\"initiative\",\n",
    "\"injure\",\"innovation\",\"insane\",\"insider\",\"insurance\",\"insurgency\",\"interact\",\"interest\",\"intermediate\",\"international\",\"intervention\",\"invasion\",\"inverell port\",\n",
    "\"investigate\",\"invite\",\"involvement\",\"ipswich\",\"irritated\",\"islam\",\"island\",\"issue\",\"jail\",\"january\",\"jesus\",\"job\",\"join\",\"july\",\"june\",\"jurisdiction\",\"justice\",\n",
    "\"keep\",\"kembla\",\"kew\",\"kids\",\"kilburn\",\"kilcoy\",\"kilda\",\"kill\",\"kirribilli\",\"know\",\"knowledge\",\"kwinana\",\"labor\",\"labour\",\"labours\",\"lagoon\",\"lake\",\"lake illawarra\",\n",
    "\"land\",\"lapoinya\",\"launceston\",\"laverton\",\"law\",\"laws\",\"layoff\",\"lead\",\"league\",\"left\",\"legislation\",\"lesbian\",\"let them stay\",\"liberal\",\"liberty\",\"life\",\"light\",\n",
    "\"lined\",\"lismore\",\"live\",\"lobbying\",\"local\",\"logging\",\"long\",\"look after\",\"lose\",\"lost\",\"love\",\"low\",\"loyalty\",\"mackay\",\"magistrates\",\"maiden\",\"main\",\"maintain\",\n",
    "\"maitland\",\"major\",\"majority\",\"malcolm\",\"man\",\"manage\",\"maningrida\",\"manufacture\",\"march\",\"marched\",\"marches\",\"market\",\"maroubra\",\"marriage\",\"mask\",\"mass\",\"match\",\n",
    "\"mate\",\"material\",\"maules creek\",\"may\",\"mcg\",\"media\",\"mediation\",\"meet\",\"meeting\",\"melbourne\",\"melton\",\"member\",\"members\",\"memorial\",\"men\",\"mentality\",\"merge\",\n",
    "\"message\",\"middle\",\"middle-class\",\"midsumma\",\"migrant\",\"military\",\"mining\",\"minister\",\"minority\",\"misconduct\",\"mistake\",\"mob\",\"mobilisation\",\"mobilise\",\"monday\",\n",
    "\"mondays\",\"moral\",\"morning\",\"morwell\",\"mosque\",\"motherhood\",\"motivation\",\"moulting\",\"mount gambier\",\"mount isa\",\"move\",\"movement\",\"mr\",\"murrumbeena\",\"muslim\",\n",
    "\"must\",\"mutual\",\"narrabri\",\"nation\",\"national\",\"natural\",\"need\",\"negotiation\",\"network\",\"new\",\"newcastke\",\"newcastle\",\"newspaper\",\"night\",\"no\",\"north\",\"northam\",\n",
    "\"november\",\"now\",\"nowra\",\"nsw\",\"objective\",\"occupation\",\"occupy\",\"occurred\",\"october\",\"offence\",\"offensive\",\"office\",\"officers\",\"onkaparinga\",\"operation\",\"opinion\",\n",
    "\"opponents\",\"opportunity\",\"opposed\",\"opposition\",\"oppression\",\"orchard\",\"organisation\",\"outcry\",\"outrage\",\"outside\",\"outsider\",\"outsource\",\"oversea\",\"oxfam\",\"parade\",\n",
    "\"parents\",\"park\",\"parkdale\",\"parkes\",\"parliament\",\"participate\",\"party\",\"passengers\",\"patience\",\"patient\",\"patriot\",\"patriots\",\"pay\",\"peace\",\"penalty\",\"pension\",\n",
    "\"people\",\"percent\",\"personal\",\"perth\",\"peter\",\"petition\",\"pilliga\",\"placard\",\"placards\",\"plan\",\"planet\",\"pluralism\",\"point\",\"police\",\"policy\",\"political\",\"politics\",\n",
    "\"poll\",\"pollution\",\"population\",\"port\",\"port botany\",\"post\",\"poster\",\"potential\",\"power\",\"pregnant\",\"president\",\"prevent\",\"prime\",\"prison\",\"problematic\",\"proceed\",\n",
    "\"process\",\"product\",\"progress\",\"project\",\"promote\",\"protection\",\"protest\",\"protesters\",\"protesting\",\"public\",\"punch\",\"quality\",\"queensland\",\"queer\",\"quit\",\"racism\",\n",
    "\"racist\",\"radical\",\"radio\",\"rail\",\"raise\",\"rallied\",\"rally\",\"rape\",\"rates\",\"rational\",\"rationality\",\"raymond\",\"reason\",\"rebel\",\"recession\",\"reclaim\",\"recruit\",\n",
    "\"reform\",\"refugee\",\"regulations\",\"reinstate\",\"relation\",\"relative\",\"religious\",\"repression\",\"research\",\"resident\",\"residents\",\"resign\",\"resistance\",\"resolution\",\n",
    "\"resource\",\"respect\",\"respects\",\"response\",\"restaurant\",\"revolution\",\"richmond\",\"right\",\"right-wing\",\"rights\",\"riot\",\"rise\",\"risk\",\"road\",\"rockhampton\",\"rockingham\",\n",
    "\"role\",\"roof\",\"room\",\"royal\",\"rule\",\"sad\",\"safety\",\"said\",\"salamander bay\",\"saturday\",\"save\",\"say\",\"saying\",\"says\",\"school\",\"seam\",\"seaspray\",\"sector\",\"security\",\n",
    "\"senate\",\"september\",\"service\",\"services\",\"set\",\"settlement\",\"sex\",\"shame\",\"shit\",\"shock\",\"shout\",\"shut\",\"side\",\"sign\",\"sin\",\"sister\",\"sit-in\",\"situation\",\"skies\",\n",
    "\"slogan\",\"social\",\"society\",\"solution\",\"south\",\"southport\",\"specialist\",\"speech\",\"spend\",\"sphere\",\"spray\",\"square\",\"st\",\"st kilda\",\"staff\",\"stand up\",\"standoff\",\n",
    "\"state\",\"status\",\"stop\",\"stoppage\",\"strategy\",\"street\",\"streets\",\"strike\",\"strong\",\"structure\",\"student\",\"students\",\"stupid\",\"suburbs\",\"success\",\"sunday\",\"sunshine\",\n",
    "\"supermarket\",\"support\",\"supporters\",\"suppress\",\"sydney\",\"syndey\",\"t-shirt\",\"tactics\",\"tafe\",\"take part in\",\"takehome\",\"target\",\"tasmania\",\"tatura\",\"tax\",\"teachers\",\n",
    "\"team\",\"term\",\"terrace\",\"territory\",\"terror\",\"terrorism\",\"terrorist\",\"text\",\"th\",\"thank\",\"thousands\",\"threat\",\"thursday\",\"time\",\"tiwi island\",\"tomago\",\"topic\",\n",
    "\"townsville\",\"trade\",\"tragedy\",\"transform\",\"transport\",\"travel\",\"trees\",\"truck\",\"trust\",\"tshirt\",\"tuesday\",\"turmoil\",\"turn up\",\"turnbull\",\"turnbulls\",\"turned\",\n",
    "\"ulverstone\",\"underpay\",\"understand\",\"unemployment\",\"unfortunately\",\"unhappy\",\"union\",\"unionists\",\"unions\",\"unite\",\"united\",\"university\",\"unrest\",\"upper hunter\",\n",
    "\"upset\",\"urban\",\"valley\",\"value\",\"veteran\",\"veterans\",\"victim\",\"victor harbour\",\"victoria\",\"victory\",\"vietnam\",\"view\",\"vigil\",\"violent\",\"vital\",\"volunteer\",\"vote\",\n",
    "\"wage\",\"wales\",\"walked\",\"wangaratta\",\"want\",\"war\",\"warrnambool\",\"watch\",\"water\",\"waving\",\"way\",\"we\",\"weapon\",\"wear\",\"weather\",\"wednesday\",\"week\",\"weekend\",\"welfare\",\n",
    "\"west\",\"western\",\"whistle-blower\",\"white\",\"why\",\"whyalla\",\"williamton\",\"withdraw\",\"wodonga\",\"wollongong\",\"women\",\"work\",\"worker\",\"workers\",\"working\",\"workplace\",\n",
    "\"world\",\"worst\",\"years\",\"yeelanna\",\"young\",\"yourself\",\"youth\"]"
   ]
  },
  {
   "cell_type": "code",
   "execution_count": 95,
   "metadata": {
    "collapsed": true
   },
   "outputs": [],
   "source": [
    "MY_CUE_TERMS = [\"protest\", \"rally\", \"march\", \"detention\", \"united patriot\", \"#reclaimaustralia\", \"racism\", \n",
    "                \"racist\", \"asylum\", \"civil\", \"far-left\", \"far-right\"]"
   ]
  },
  {
   "cell_type": "code",
   "execution_count": 96,
   "metadata": {
    "collapsed": true
   },
   "outputs": [],
   "source": [
    "TRIVIAL_KEYWORDS = ['love']"
   ]
  },
  {
   "cell_type": "code",
   "execution_count": 100,
   "metadata": {
    "collapsed": true
   },
   "outputs": [],
   "source": [
    "\"\"\"\n",
    "Returns true if tweet_body has n or more keywords from CUE_KEYWORDS\n",
    "and therefore allows a record to be collected.\n",
    "n = o disables the filter. \n",
    "\"\"\"\n",
    "def include_if_contains_n_keywords(tweet_body, n):\n",
    "    if n == 0:\n",
    "        return True\n",
    "    included_kws = [kw for kw in CUE_KEYWORDS if tweet_body.lower().__contains__(kw)]\n",
    "    return len(included_kws) >= n\n",
    "\n",
    "\n",
    "def include_if_contains_less_than_n_keywords(tweet_body, n):\n",
    "    included_kws = [kw for kw in CUE_KEYWORDS if tweet_body.lower().__contains__(kw)]\n",
    "    return len(included_kws) < n\n",
    "\n",
    "\"\"\"\n",
    "Returns true if tweet_body has less than n instances of keywords\n",
    "from TRIVIAL_KEYWORDS\n",
    "n = 0 disables the filter.\n",
    "\"\"\"\n",
    "def omit_if_contains_n_keywords(tweet_body, n):\n",
    "    if n == 0:\n",
    "        return True\n",
    "    exclude_kws = [kw for kw in TRIVIAL_KEYWORDS if tweet_body.lower().__contains__(kw)]\n",
    "    return len(exclude_kws) < n"
   ]
  },
  {
   "cell_type": "code",
   "execution_count": 101,
   "metadata": {
    "collapsed": false,
    "scrolled": false
   },
   "outputs": [
    {
     "data": {
      "text/plain": [
       "DataFrame[key:salt: tinyint, key:timestamp: timestamp, key:id: string, key:subIds: array<string>, data: string, reference: string, format: string, type: string, source: string, ingestTime: timestamp, author: string, civilEvents: string, locations: string, geo: string, nlp: string, publicationTime: timestamp, politicalParty: string, sentiment: string, times: string, bodyText: string, title: string, phraseList: string]"
      ]
     },
     "execution_count": 101,
     "metadata": {},
     "output_type": "execute_result"
    }
   ],
   "source": [
    "import json\n",
    "\n",
    "sqlContext = SQLContext(sc)\n",
    "\n",
    "dd = \"23\"\n",
    "mm = \"06\"\n",
    "\n",
    "start = \"2016-\"+mm+\"-\"+dd+\"T00:00:00+08:00\" \n",
    "end = \"2016-\"+mm+\"-\"+dd+\"T23:59:59+08:00\"\n",
    "\n",
    "\n",
    "TARGET_COUNTRIES = ['Australia']\n",
    "TARGET_STATES = ['Victoria', 'VIC']\n",
    "TARGET_CITIES = ['Melbourne', 'melbourne']\n",
    "\n",
    "\n",
    "df = sqlContext.read.load(format=\"au.com.d2dcrc.carbon.spark.tweets\", startTime=start, endTime=end)\n",
    "df.cache()"
   ]
  },
  {
   "cell_type": "code",
   "execution_count": 92,
   "metadata": {
    "collapsed": false,
    "scrolled": true
   },
   "outputs": [
    {
     "name": "stdout",
     "output_type": "stream",
     "text": [
      "Pre:  1294055\n",
      "Post: 120910\n"
     ]
    }
   ],
   "source": [
    "print(\"Pre:  \" + str(df.count()))\n",
    "\n",
    "rdd = df.map(lambda row:(json.loads(row.data)) )\\\n",
    "        .filter(lambda row:(row['twitter_lang'] == \"en\"\n",
    "                            if ('twitter_lang' in row) else()))\\\n",
    "        .filter(lambda row:(row[\"gnip\"][\"profileLocations\"][0][\"address\"][\"country\"]\n",
    "                            in TARGET_COUNTRIES\n",
    "                            if(\"gnip\" in row and\n",
    "                               \"profileLocations\" in row[\"gnip\"] and\n",
    "                               \"address\" in row[\"gnip\"][\"profileLocations\"][0] and\n",
    "                               \"country\" in row[\"gnip\"][\"profileLocations\"][0][\"address\"])\n",
    "                            else())) \\\n",
    "        .filter(lambda row: (row[\"gnip\"][\"profileLocations\"][0][\"address\"][\"region\"]\n",
    "                             in TARGET_STATES\n",
    "                             if (\"gnip\" in row and\n",
    "                                 \"profileLocations\" in row[\"gnip\"] and\n",
    "                                 \"address\" in row[\"gnip\"][\"profileLocations\"][0] and\n",
    "                                 \"region\" in row[\"gnip\"][\"profileLocations\"][0][\"address\"])\n",
    "                             else())) \\\n",
    "        .filter(lambda row: (row[\"gnip\"][\"profileLocations\"][0][\"address\"][\"locality\"]\n",
    "                             in TARGET_CITIES\n",
    "                             if (\"gnip\" in row and\n",
    "                                 \"profileLocations\" in row[\"gnip\"] and\n",
    "                                 \"address\" in row[\"gnip\"][\"profileLocations\"][0] and\n",
    "                                 \"locality\" in row[\"gnip\"][\"profileLocations\"][0][\"address\"])\n",
    "                             else()))\\\n",
    "        .filter(lambda row: (include_if_contains_n_keywords(row[\"body\"], 3)))\\\n",
    "        .filter(lambda row: (omit_if_contains_n_keywords(row[\"body\"], 0)))\\\n",
    "        .map(lambda row: (row[\"id\"],\n",
    "                          row[\"gnip\"][\"profileLocations\"][0][\"address\"][\"locality\"],\n",
    "                          row[\"twitter_lang\"],\n",
    "                          row[\"postedTime\"],\n",
    "                          row[\"body\"]))\n",
    "\n",
    "print(\"Post: \" + str(rdd.count()))"
   ]
  },
  {
   "cell_type": "code",
   "execution_count": 93,
   "metadata": {
    "collapsed": false
   },
   "outputs": [
    {
     "name": "stdout",
     "output_type": "stream",
     "text": [
      "file saved\n"
     ]
    }
   ],
   "source": [
    "def write_rdd_to_csv(rdd):\n",
    "    filename = \"[Sydney]Tweets \"+ start[0:10] + \" to \" + end[0:10] + \"[3kw].csv\"\n",
    "\n",
    "    f = open(filename, 'w', encoding='utf-8')\n",
    "\n",
    "    for lineItem in rdd:\n",
    "        # Tweet ID\n",
    "        lineItemZero = lineItem[0]\n",
    "        # Profile Location\n",
    "        lineItemOne = lineItem[1]\n",
    "        # Twitter Language\n",
    "        lineItemTwo = lineItem[2]\n",
    "        # Posted Time of Tweet\n",
    "        lineItemThree = lineItem[3]\n",
    "        # Tweet Body\n",
    "        lineItemFour = lineItem[4]\n",
    "\n",
    "        # Tidy up Tweets for CSV Saving\n",
    "        lineItemZero = lineItemZero.replace(\"\\n\", \"\")\n",
    "        lineItemZero = lineItemZero.replace(\"\\\"\", \"'\")\n",
    "\n",
    "        lineItemOne = lineItemOne.replace(\"\\n\", \"\")\n",
    "        lineItemOne = lineItemOne.replace(\"\\\"\", \"'\")\n",
    "\n",
    "        lineItemTwo = lineItemTwo.replace(\"\\n\", \"\")\n",
    "        lineItemTwo = lineItemTwo.replace(\"\\\"\", \"'\")\n",
    "\n",
    "        lineItemFour = lineItemFour.replace(\"\\n\", \"\")\n",
    "        lineItemFour = lineItemFour.replace(\",\", \" \")\n",
    "        lineItemFour = lineItemFour.replace('\"', \"'\")\n",
    "\n",
    "        # Write tweet to file\n",
    "        f.write(\"\\\"\" +\n",
    "                lineItemZero + \"\\\",\\\"\" +\n",
    "                lineItemOne + \"\\\",\\\"\" +\n",
    "                lineItemTwo + \"\\\",\\\"\" +\n",
    "                lineItemThree + \"\\\",\\\"\" +\n",
    "                lineItemFour + \"\\\"\\n\")\n",
    "\n",
    "        # END FOR\n",
    "\n",
    "    f.close()\n",
    "    \n",
    "    print(\"file saved\")\n",
    "\n",
    "write_rdd_to_csv(rdd.collect())\n",
    "\n",
    "#print_as_csv(rdd.collect())"
   ]
  },
  {
   "cell_type": "code",
   "execution_count": null,
   "metadata": {
    "collapsed": true
   },
   "outputs": [],
   "source": []
  }
 ],
 "metadata": {
  "kernelspec": {
   "display_name": "PySpark",
   "language": "python",
   "name": "pyspark"
  },
  "language_info": {
   "codemirror_mode": {
    "name": "ipython",
    "version": 3
   },
   "file_extension": ".py",
   "mimetype": "text/x-python",
   "name": "python",
   "nbconvert_exporter": "python",
   "pygments_lexer": "ipython3",
   "version": "3.5.3"
  }
 },
 "nbformat": 4,
 "nbformat_minor": 0
}
