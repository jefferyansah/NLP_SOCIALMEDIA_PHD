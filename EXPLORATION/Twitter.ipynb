{
 "cells": [
  {
   "cell_type": "code",
   "execution_count": 1,
   "metadata": {},
   "outputs": [
    {
     "data": {
      "text/html": [
       "<div>\n",
       "<style>\n",
       "    .dataframe thead tr:only-child th {\n",
       "        text-align: right;\n",
       "    }\n",
       "\n",
       "    .dataframe thead th {\n",
       "        text-align: left;\n",
       "    }\n",
       "\n",
       "    .dataframe tbody tr th {\n",
       "        vertical-align: top;\n",
       "    }\n",
       "</style>\n",
       "<table border=\"1\" class=\"dataframe\">\n",
       "  <thead>\n",
       "    <tr style=\"text-align: right;\">\n",
       "      <th></th>\n",
       "      <th>Unnamed: 0</th>\n",
       "      <th>author</th>\n",
       "      <th>publicationTime</th>\n",
       "      <th>bodyText</th>\n",
       "    </tr>\n",
       "  </thead>\n",
       "  <tbody>\n",
       "    <tr>\n",
       "      <th>0</th>\n",
       "      <td>0</td>\n",
       "      <td>2.209799e+09</td>\n",
       "      <td>10/02/2016 10:30</td>\n",
       "      <td>RT @350Australia: Adani Group's Aust #coal min...</td>\n",
       "    </tr>\n",
       "    <tr>\n",
       "      <th>1</th>\n",
       "      <td>1</td>\n",
       "      <td>2.209799e+09</td>\n",
       "      <td>10/02/2016 10:36</td>\n",
       "      <td>RT @avivaimhof: Poor old #coal. Now even #Viet...</td>\n",
       "    </tr>\n",
       "    <tr>\n",
       "      <th>2</th>\n",
       "      <td>2</td>\n",
       "      <td>4.306011e+07</td>\n",
       "      <td>10/02/2016 10:37</td>\n",
       "      <td>RT @market_forces: Funds have burned billions ...</td>\n",
       "    </tr>\n",
       "    <tr>\n",
       "      <th>3</th>\n",
       "      <td>3</td>\n",
       "      <td>2.209799e+09</td>\n",
       "      <td>10/02/2016 10:37</td>\n",
       "      <td>RT @avivaimhof: #Vietnam PM Announces Retreat ...</td>\n",
       "    </tr>\n",
       "    <tr>\n",
       "      <th>4</th>\n",
       "      <td>4</td>\n",
       "      <td>5.855606e+08</td>\n",
       "      <td>10/02/2016 10:41</td>\n",
       "      <td>RT @350Australia: Adani Group's Aust #coal min...</td>\n",
       "    </tr>\n",
       "  </tbody>\n",
       "</table>\n",
       "</div>"
      ],
      "text/plain": [
       "  Unnamed: 0        author   publicationTime  \\\n",
       "0          0  2.209799e+09  10/02/2016 10:30   \n",
       "1          1  2.209799e+09  10/02/2016 10:36   \n",
       "2          2  4.306011e+07  10/02/2016 10:37   \n",
       "3          3  2.209799e+09  10/02/2016 10:37   \n",
       "4          4  5.855606e+08  10/02/2016 10:41   \n",
       "\n",
       "                                            bodyText  \n",
       "0  RT @350Australia: Adani Group's Aust #coal min...  \n",
       "1  RT @avivaimhof: Poor old #coal. Now even #Viet...  \n",
       "2  RT @market_forces: Funds have burned billions ...  \n",
       "3  RT @avivaimhof: #Vietnam PM Announces Retreat ...  \n",
       "4  RT @350Australia: Adani Group's Aust #coal min...  "
      ]
     },
     "execution_count": 1,
     "metadata": {},
     "output_type": "execute_result"
    }
   ],
   "source": [
    "import pandas as pd\n",
    "df = pd.read_csv('data.csv')\n",
    "df.head()"
   ]
  },
  {
   "cell_type": "code",
   "execution_count": 2,
   "metadata": {},
   "outputs": [
    {
     "name": "stdout",
     "output_type": "stream",
     "text": [
      "<class 'pandas.core.frame.DataFrame'>\n",
      "RangeIndex: 13394 entries, 0 to 13393\n",
      "Data columns (total 4 columns):\n",
      "Unnamed: 0         13378 non-null object\n",
      "author             13373 non-null float64\n",
      "publicationTime    13373 non-null object\n",
      "bodyText           13373 non-null object\n",
      "dtypes: float64(1), object(3)\n",
      "memory usage: 418.6+ KB\n"
     ]
    }
   ],
   "source": [
    "df.info()"
   ]
  },
  {
   "cell_type": "code",
   "execution_count": 3,
   "metadata": {},
   "outputs": [
    {
     "name": "stdout",
     "output_type": "stream",
     "text": [
      "Enter Interval in seconds : 15\n"
     ]
    }
   ],
   "source": [
    "interval = raw_input('Enter Interval in seconds : ') + 'S'"
   ]
  },
  {
   "cell_type": "code",
   "execution_count": 4,
   "metadata": {},
   "outputs": [],
   "source": [
    "df[\"publicationTime\"] = pd.to_datetime(df[\"publicationTime\"])"
   ]
  },
  {
   "cell_type": "code",
   "execution_count": 5,
   "metadata": {},
   "outputs": [
    {
     "data": {
      "text/html": [
       "<div>\n",
       "<style>\n",
       "    .dataframe thead tr:only-child th {\n",
       "        text-align: right;\n",
       "    }\n",
       "\n",
       "    .dataframe thead th {\n",
       "        text-align: left;\n",
       "    }\n",
       "\n",
       "    .dataframe tbody tr th {\n",
       "        vertical-align: top;\n",
       "    }\n",
       "</style>\n",
       "<table border=\"1\" class=\"dataframe\">\n",
       "  <thead>\n",
       "    <tr style=\"text-align: right;\">\n",
       "      <th></th>\n",
       "      <th>publicationTime</th>\n",
       "      <th>Count</th>\n",
       "    </tr>\n",
       "  </thead>\n",
       "  <tbody>\n",
       "    <tr>\n",
       "      <th>0</th>\n",
       "      <td>2016-01-03 04:27:00</td>\n",
       "      <td>1</td>\n",
       "    </tr>\n",
       "    <tr>\n",
       "      <th>1</th>\n",
       "      <td>2016-01-03 04:27:15</td>\n",
       "      <td>0</td>\n",
       "    </tr>\n",
       "    <tr>\n",
       "      <th>2</th>\n",
       "      <td>2016-01-03 04:27:30</td>\n",
       "      <td>0</td>\n",
       "    </tr>\n",
       "    <tr>\n",
       "      <th>3</th>\n",
       "      <td>2016-01-03 04:27:45</td>\n",
       "      <td>0</td>\n",
       "    </tr>\n",
       "    <tr>\n",
       "      <th>4</th>\n",
       "      <td>2016-01-03 04:28:00</td>\n",
       "      <td>0</td>\n",
       "    </tr>\n",
       "  </tbody>\n",
       "</table>\n",
       "</div>"
      ],
      "text/plain": [
       "      publicationTime  Count\n",
       "0 2016-01-03 04:27:00      1\n",
       "1 2016-01-03 04:27:15      0\n",
       "2 2016-01-03 04:27:30      0\n",
       "3 2016-01-03 04:27:45      0\n",
       "4 2016-01-03 04:28:00      0"
      ]
     },
     "execution_count": 5,
     "metadata": {},
     "output_type": "execute_result"
    }
   ],
   "source": [
    "df1 = df.groupby(pd.Grouper(key='publicationTime', freq=interval)).size().reset_index(name='Count')\n",
    "df1.head()"
   ]
  },
  {
   "cell_type": "code",
   "execution_count": 6,
   "metadata": {},
   "outputs": [],
   "source": [
    "df1 = df1[df1.Count != 0]"
   ]
  },
  {
   "cell_type": "code",
   "execution_count": 7,
   "metadata": {},
   "outputs": [],
   "source": [
    "df1.to_csv('count_with_interval.csv')"
   ]
  },
  {
   "cell_type": "code",
   "execution_count": null,
   "metadata": {},
   "outputs": [],
   "source": []
  }
 ],
 "metadata": {
  "kernelspec": {
   "display_name": "Python 2",
   "language": "python",
   "name": "python2"
  },
  "language_info": {
   "codemirror_mode": {
    "name": "ipython",
    "version": 2
   },
   "file_extension": ".py",
   "mimetype": "text/x-python",
   "name": "python",
   "nbconvert_exporter": "python",
   "pygments_lexer": "ipython2",
   "version": "2.7.10"
  }
 },
 "nbformat": 4,
 "nbformat_minor": 2
}
