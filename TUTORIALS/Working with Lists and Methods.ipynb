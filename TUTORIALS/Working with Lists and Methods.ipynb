{
 "cells": [
  {
   "cell_type": "code",
   "execution_count": 2,
   "metadata": {
    "collapsed": false
   },
   "outputs": [
    {
     "data": {
      "text/plain": [
       "4"
      ]
     },
     "execution_count": 2,
     "metadata": {},
     "output_type": "execute_result"
    }
   ],
   "source": [
    "jeffList = ['car', 'gold', 1.0, 2.0, 3.0, 4.0, 4.0, 4.0, 4.0]\n",
    "jeffList.index(2.0)\n",
    "\n",
    "jeffList.count(4.0)\n",
    "#jeffList.append(32183781)\n",
    "#jeffList\n",
    "\n",
    "#help(str)"
   ]
  },
  {
   "cell_type": "code",
   "execution_count": 32,
   "metadata": {
    "collapsed": false
   },
   "outputs": [
    {
     "data": {
      "text/plain": [
       "[1, 24, 2, 2, 453, 543, 535, 355]"
      ]
     },
     "execution_count": 32,
     "metadata": {},
     "output_type": "execute_result"
    }
   ],
   "source": [
    "jeff = 'xkvsdkjdf'\n",
    "jeff.upper()\n",
    "\n",
    "tList = [1,24,2,2,453,543,535,355]\n",
    "sorted(tList, reverse = True)\n",
    "tList\n",
    "\n"
   ]
  },
  {
   "cell_type": "code",
   "execution_count": 17,
   "metadata": {
    "collapsed": false
   },
   "outputs": [
    {
     "data": {
      "text/plain": [
       "'dislike mangoes'"
      ]
     },
     "execution_count": 17,
     "metadata": {},
     "output_type": "execute_result"
    }
   ],
   "source": [
    "alphaList = \"I like mangoes\"\n",
    "alphaList.capitalize()\n",
    "alphaList.replace(\"I like\" , \"dislike\")"
   ]
  },
  {
   "cell_type": "code",
   "execution_count": 6,
   "metadata": {
    "collapsed": false
   },
   "outputs": [
    {
     "data": {
      "text/plain": [
       "['car', 'gold', 1.0, 2.0, 3.0, 4.0, 5.0]"
      ]
     },
     "execution_count": 6,
     "metadata": {},
     "output_type": "execute_result"
    }
   ],
   "source": [
    "jeffList[1]\n",
    "jeffList[:4]\n",
    "jeffList[1:5]\n",
    "jeffList[6:]\n",
    "jeffList[-1]\n",
    "jeffList[:6]\n",
    "jeffList[3]= 'silver'\n",
    "\n",
    "newjeffList = ['car', 'gold', 1.0, 2.0, 3.0, 4.0, 5.0]\n",
    "newjeffList\n"
   ]
  },
  {
   "cell_type": "code",
   "execution_count": 64,
   "metadata": {
    "collapsed": false
   },
   "outputs": [
    {
     "data": {
      "text/plain": [
       "['gold', 2.0, 3.0, 4.0, 5.0]"
      ]
     },
     "execution_count": 64,
     "metadata": {},
     "output_type": "execute_result"
    }
   ],
   "source": [
    "jeffList = ['car', 'gold', 1.0, 2.0, 3.0, 4.0, 5.0]\n",
    "jeffList\n",
    "del(jeffList[0]); del(jeffList[1])\n",
    "jeffList"
   ]
  },
  {
   "cell_type": "code",
   "execution_count": 66,
   "metadata": {
    "collapsed": false
   },
   "outputs": [
    {
     "data": {
      "text/plain": [
       "[2.0, 3.0, 4.0, 5.0]"
      ]
     },
     "execution_count": 66,
     "metadata": {},
     "output_type": "execute_result"
    }
   ],
   "source": [
    "jeffList\n",
    "del(jeffList[0:1])\n",
    "jeffList"
   ]
  },
  {
   "cell_type": "code",
   "execution_count": 69,
   "metadata": {
    "collapsed": false
   },
   "outputs": [
    {
     "data": {
      "text/plain": [
       "['car', 'gold', 1.0, 2.0, 3.0, 4.0, 5.0]"
      ]
     },
     "execution_count": 69,
     "metadata": {},
     "output_type": "execute_result"
    }
   ],
   "source": [
    "jeffList = ['car', 'gold', 1.0, 2.0, 3.0, 4.0, 5.0]\n",
    "jeffList"
   ]
  },
  {
   "cell_type": "code",
   "execution_count": 76,
   "metadata": {
    "collapsed": false
   },
   "outputs": [
    {
     "data": {
      "text/plain": [
       "5.0"
      ]
     },
     "execution_count": 76,
     "metadata": {},
     "output_type": "execute_result"
    }
   ],
   "source": [
    "del(jeffList[0:1])\n",
    "jeffList\n",
    "max(jeffList)\n"
   ]
  },
  {
   "cell_type": "code",
   "execution_count": 72,
   "metadata": {
    "collapsed": false
   },
   "outputs": [
    {
     "data": {
      "text/plain": [
       "['gold', 1.0, 4.0, 5.0]"
      ]
     },
     "execution_count": 72,
     "metadata": {},
     "output_type": "execute_result"
    }
   ],
   "source": [
    "jeffList\n",
    "del(jeffList[-4:-2])\n",
    "jeffList\n"
   ]
  },
  {
   "cell_type": "code",
   "execution_count": 51,
   "metadata": {
    "collapsed": false
   },
   "outputs": [
    {
     "data": {
      "text/plain": [
       "['toyota', 'silver', 3.0, 4.0, 5.0]"
      ]
     },
     "execution_count": 51,
     "metadata": {},
     "output_type": "execute_result"
    }
   ],
   "source": [
    "jeffList[3]\n",
    "del(jeffList[2])\n",
    "jeffList[0] = 'toyota'\n",
    "jeffList"
   ]
  },
  {
   "cell_type": "code",
   "execution_count": 75,
   "metadata": {
    "collapsed": false
   },
   "outputs": [
    {
     "data": {
      "text/plain": [
       "[1, 2, 3, 4, 5, 6, 7]"
      ]
     },
     "execution_count": 75,
     "metadata": {},
     "output_type": "execute_result"
    }
   ],
   "source": [
    "xList = [1,2,3,4,5,6,7]\n",
    "yList = list(xList)\n",
    "yList[0] = 25\n",
    "xList\n"
   ]
  },
  {
   "cell_type": "code",
   "execution_count": 46,
   "metadata": {
    "collapsed": false
   },
   "outputs": [
    {
     "data": {
      "text/plain": [
       "[['jeff', 23], ['she is gone', 45], ['Call me', 9]]"
      ]
     },
     "execution_count": 46,
     "metadata": {},
     "output_type": "execute_result"
    }
   ],
   "source": [
    "myList = [[\"jeff\", 23], [\"serina\", 24], [\"love\", 35, \"say it\"]]\n",
    "type(myList)\n",
    "myList[0]\n",
    "myList[0][1]\n",
    "myList[2][2]\n",
    "myList[1]= [\"she is gone\", 45 ]\n",
    "myList\n",
    "newList = myList + [[\"Call me\" , 9]]\n",
    "newList[3]\n",
    "newList\n",
    "del(newList[2])\n",
    "newList"
   ]
  }
 ],
 "metadata": {
  "anaconda-cloud": {},
  "kernelspec": {
   "display_name": "Python [conda root]",
   "language": "python",
   "name": "conda-root-py"
  },
  "language_info": {
   "codemirror_mode": {
    "name": "ipython",
    "version": 3
   },
   "file_extension": ".py",
   "mimetype": "text/x-python",
   "name": "python",
   "nbconvert_exporter": "python",
   "pygments_lexer": "ipython3",
   "version": "3.5.2"
  }
 },
 "nbformat": 4,
 "nbformat_minor": 1
}
