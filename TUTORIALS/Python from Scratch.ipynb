{
 "cells": [
  {
   "cell_type": "code",
   "execution_count": 120,
   "metadata": {
    "collapsed": false
   },
   "outputs": [
    {
     "name": "stdout",
     "output_type": "stream",
     "text": [
      "7\n",
      "jeff\n",
      "is a \t good boy\n"
     ]
    },
    {
     "data": {
      "text/plain": [
       "17"
      ]
     },
     "execution_count": 120,
     "metadata": {},
     "output_type": "execute_result"
    }
   ],
   "source": [
    "import pandas as pd\n",
    "import numpy as np\n",
    "a = 7\n",
    "print(a)\n",
    "type(a)\n",
    "b = a\n",
    "b\n",
    "type('strong')\n",
    "type(45.34)\n",
    "\n",
    "_abc = a\n",
    "_abc\n",
    "5\n",
    "200/6\n",
    "\n",
    "a = 95\n",
    "temp = a - 3\n",
    "a = temp\n",
    "temp\n",
    "a = a - 3\n",
    "a -= 3\n",
    "a\n",
    "25 % 4\n",
    "divmod(25,4)\n",
    "\n",
    "2 / 4 * 2 + 6 -1 \n",
    "0b10\n",
    "0o10\n",
    "0x10\n",
    "0xf\n",
    "v = 'jeff'\n",
    "\n",
    "6 + 7.8\n",
    "\n",
    "True + False - True\n",
    "\n",
    "100**100\n",
    "float('1.4')\n",
    "\n",
    "poem = ''' There was a young  Lady of Norway,\n",
    "...         wWho casually sat at the door;\n",
    "...          When the door squeezed her flat \n",
    "...          She exclaimed \"what of that?\" ... \n",
    "This courageous Young Lady of Norway'''\n",
    "poem\n",
    "\n",
    "\n",
    "bottles = 99\n",
    "base = ' '\n",
    "base = 'current inventory: '\n",
    "base += str(bottles)\n",
    "\n",
    "\n",
    "jeff = 25 \n",
    "name = 'Ansah'\n",
    "name += ' Jeffery'\n",
    "name += ' is '\n",
    "name += str(jeff)\n",
    "print('jeff\\nis a \\t good boy')\n",
    "\n",
    "metry = 'na' * 4\n",
    "metry += 'ababababa' \n",
    "newmetry = metry.replace('n', 't')\n",
    "newmetry.replace('b', 'l')\n",
    "\n",
    "\n",
    "me = np.array(metry)\n",
    "me.shape\n",
    "len(metry)\n",
    "\n",
    "\n",
    "\n",
    "\n",
    "\n"
   ]
  },
  {
   "cell_type": "code",
   "execution_count": 1,
   "metadata": {
    "collapsed": false
   },
   "outputs": [
    {
     "data": {
      "text/plain": [
       "{'\\n',\n",
       " '\\r',\n",
       " ' ',\n",
       " '!',\n",
       " '\"',\n",
       " '#',\n",
       " '&',\n",
       " \"'\",\n",
       " '(',\n",
       " ')',\n",
       " '*',\n",
       " '+',\n",
       " ',',\n",
       " '-',\n",
       " '.',\n",
       " '/',\n",
       " '0',\n",
       " '1',\n",
       " '2',\n",
       " '3',\n",
       " '4',\n",
       " '5',\n",
       " '6',\n",
       " '7',\n",
       " '8',\n",
       " '9',\n",
       " ':',\n",
       " '<',\n",
       " '=',\n",
       " '>',\n",
       " '@',\n",
       " 'A',\n",
       " 'B',\n",
       " 'C',\n",
       " 'D',\n",
       " 'E',\n",
       " 'F',\n",
       " 'G',\n",
       " 'H',\n",
       " 'I',\n",
       " 'J',\n",
       " 'K',\n",
       " 'L',\n",
       " 'M',\n",
       " 'N',\n",
       " 'O',\n",
       " 'P',\n",
       " 'Q',\n",
       " 'R',\n",
       " 'S',\n",
       " 'T',\n",
       " 'U',\n",
       " 'V',\n",
       " 'W',\n",
       " 'Y',\n",
       " 'Z',\n",
       " '[',\n",
       " '\\\\',\n",
       " ']',\n",
       " '_',\n",
       " '`',\n",
       " 'a',\n",
       " 'b',\n",
       " 'c',\n",
       " 'd',\n",
       " 'e',\n",
       " 'f',\n",
       " 'g',\n",
       " 'h',\n",
       " 'i',\n",
       " 'j',\n",
       " 'k',\n",
       " 'l',\n",
       " 'm',\n",
       " 'n',\n",
       " 'o',\n",
       " 'p',\n",
       " 'q',\n",
       " 'r',\n",
       " 's',\n",
       " 't',\n",
       " 'u',\n",
       " 'v',\n",
       " 'w',\n",
       " 'x',\n",
       " 'y',\n",
       " 'z',\n",
       " '{',\n",
       " '|',\n",
       " '}',\n",
       " '¡',\n",
       " 'á',\n",
       " 'ã',\n",
       " 'ý',\n",
       " '·',\n",
       " '…',\n",
       " '⊂',\n",
       " '⊃',\n",
       " '❤',\n",
       " '⠀',\n",
       " '⤵',\n",
       " '【',\n",
       " '】',\n",
       " 'い',\n",
       " 'う',\n",
       " 'し',\n",
       " 'た',\n",
       " 'ち',\n",
       " 'っ',\n",
       " 'て',\n",
       " 'ど',\n",
       " 'な',\n",
       " 'に',\n",
       " 'の',\n",
       " 'は',\n",
       " 'ぶ',\n",
       " 'ぽ',\n",
       " 'ま',\n",
       " 'も',\n",
       " 'ら',\n",
       " 'り',\n",
       " 'ん',\n",
       " 'ク',\n",
       " 'ス',\n",
       " 'マ',\n",
       " 'リ',\n",
       " '乗',\n",
       " '今',\n",
       " '体',\n",
       " '兎',\n",
       " '山',\n",
       " '巻',\n",
       " '年',\n",
       " '形',\n",
       " '提',\n",
       " '溝',\n",
       " '督',\n",
       " '筐',\n",
       " '色',\n",
       " '雲',\n",
       " '黄',\n",
       " '？',\n",
       " 'ﾂ',\n",
       " 'ﾊ',\n",
       " 'ﾝ',\n",
       " 'ﾟ'}"
      ]
     },
     "execution_count": 1,
     "metadata": {},
     "output_type": "execute_result"
    }
   ],
   "source": [
    "sports = 'soccer, table-tennis, beach-volley, judo, basketball'\n",
    "sports.split()\n",
    "len(sports)\n",
    "nsports = 'car-racing, american-footbal, footie'\n",
    "sports\n",
    "''.join(sports)\n",
    "\n",
    "\n",
    "poem = '''All that doth flow we cannot liquid name\n",
    "Or else would fire and water be the same;\n",
    "But that is liquid which is moist and wet\n",
    "Fire that property can never get.\n",
    "Then 'tis not cold that doth the fire put out\n",
    "But 'tis the wet that makes it die, no doubt.'''\n",
    "\n",
    "poem[:13]\n",
    "len(poem)\n",
    "\n",
    "\n",
    "tweets = '''\"created_at\":\"Wed Dec 17 01:13:45 +0000 2014\",\"id\":545024014042017793,\"id_str\":\"545024014042017793\",\"text\":\"RT @marleylilly: Nothing goes with a #monogram like #bow!! Get our Monogrammed Bow Bracelet here: https:\\/\\/t.co\\/ehi6UhiDh0 http:\\/\\/t.co\\/huxUr\\u2026\",\"source\":\"\\u003ca href=\\\"http:\\/\\/twitter.com\\/download\\/iphone\\\" rel=\\\"nofollow\\\"\\u003eTwitter for iPhone\\u003c\\/a\\u003e\",\"truncated\":false,\"in_reply_to_status_id\":null,\"in_reply_to_status_id_str\":null,\"in_reply_to_user_id\":null,\"in_reply_to_user_id_str\":null,\"in_reply_to_screen_name\":null,\"user\":{\"id\":2243421766,\"id_str\":\"2243421766\",\"name\":\"Peyton Smith\",\"screen_name\":\"SmithPey\",\"location\":\"\",\"url\":null,\"description\":\"#TheMotto\",\"protected\":false,\"verified\":false,\"followers_count\":355,\"friends_count\":264,\"listed_count\":0,\"favourites_count\":3244,\"statuses_count\":2357,\"created_at\":\"Wed Dec 25 16:05:14 +0000 2013\",\"utc_offset\":null,\"time_zone\":null,\"geo_enabled\":true,\"lang\":\"en\",\"contributors_enabled\":false,\"is_translator\":false,\"profile_background_color\":\"C0DEED\",\"profile_background_image_url\":\"http:\\/\\/abs.twimg.com\\/images\\/themes\\/theme1\\/bg.png\",\"profile_background_image_url_https\":\"https:\\/\\/abs.twimg.com\\/images\\/themes\\/theme1\\/bg.png\",\"profile_background_tile\":false,\"profile_link_color\":\"0084B4\",\"profile_sidebar_border_color\":\"C0DEED\",\"profile_sidebar_fill_color\":\"DDEEF6\",\"profile_text_color\":\"333333\",\"profile_use_background_image\":true,\"profile_image_url\":\"http:\\/\\/pbs.twimg.com\\/profile_images\\/541346895969652737\\/3h-VTYoG_normal.jpeg\",\"profile_image_url_https\":\"https:\\/\\/pbs.twimg.com\\/profile_images\\/541346895969652737\\/3h-VTYoG_normal.jpeg\",\"profile_banner_url\":\"https:\\/\\/pbs.twimg.com\\/profile_banners\\/2243421766\\/1417902132\",\"default_profile\":true,\"default_profile_image\":false,\"following\":null,\"follow_request_sent\":null,\"notifications\":null},\"geo\":null,\"coordinates\":null,\"place\":null,\"contributors\":null,\"retweeted_status\":{\"created_at\":\"Wed Dec 17 01:00:09 +0000 2014\",\"id\":545020589706985472,\"id_str\":\"545020589706985472\",\"text\":\"Nothing goes with a #monogram like #bow!! Get our Monogrammed Bow Bracelet here: https:\\/\\/t.co\\/ehi6UhiDh0 http:\\/\\/t.co\\/huxUrfBQoV\",\"source\":\"\\u003ca href=\\\"https:\\/\\/about.twitter.com\\/products\\/tweetdeck\\\" rel=\\\"nofollow\\\"\\u003eTweetDeck\\u003c\\/a\\u003e\",\"truncated\":false,\"in_reply_to_status_id\":null,\"in_reply_to_status_id_str\":null,\"in_reply_to_user_id\":null,\"in_reply_to_user_id_str\":null,\"in_reply_to_screen_name\":null,\"user\":{\"id\":213548970,\"id_str\":\"213548970\",\"name\":\"MARLEYLILLY\",\"screen_name\":\"marleylilly\",\"location\":\"Monogram Headquarters\",\"url\":\"http:\\/\\/www.marleylilly.com\",\"description\":\"Just tweeting about monogramming the world!! #marleylilly Shop our website: http:\\/\\/www.MARLEYLILLY.com Contact  Email: Customerservice@marleylilly.com\",\"protected\":false,\"verified\":false,\"followers_count\":120910,\"friends_count\":524,\"listed_count\":145,\"favourites_count\":4136,\"statuses_count\":18004,\"created_at\":\"Tue Nov 09 05:44:25 +0000 2010\",\"utc_offset\":-18000,\"time_zone\":\"Eastern Time (US & Canada)\",\"geo_enabled\":false,\"lang\":\"en\",\"contributors_enabled\":false,\"is_translator\":false,\"profile_background_color\":\"6EF054\",\"profile_background_image_url\":\"http:\\/\\/pbs.twimg.com\\/profile_background_images\\/387066337\\/back2.jpg\",\"profile_background_image_url_https\":\"https:\\/\\/pbs.twimg.com\\/profile_background_images\\/387066337\\/back2.jpg\",\"profile_background_tile\":true,\"profile_link_color\":\"3BAD0E\",\"profile_sidebar_border_color\":\"FFFFFF\",\"profile_sidebar_fill_color\":\"DDEEF6\",\"profile_text_color\":\"333333\",\"profile_use_background_image\":true,\"profile_image_url\":\"http:\\/\\/pbs.twimg.com\\/profile_images\\/1163053510\\/Screen_shot_2010-10-16_at_12.18.53_PM_normal.png\",\"profile_image_url_https\":\"https:\\/\\/pbs.twimg.com\\/profile_images\\/1163053510\\/Screen_shot_2010-10-16_at_12.18.53_PM_normal.png\",\"profile_banner_url\":\"https:\\/\\/pbs.twimg.com\\/profile_banners\\/213548970\\/1398788278\",\"default_profile\":false,\"default_profile_image\":false,\"following\":null,\"follow_request_sent\":null,\"notifications\":null},\"geo\":null,\"coordinates\":null,\"place\":null,\"contributors\":null,\"retweet_count\":2,\"favorite_count\":22,\"entities\":{\"hashtags\":[{\"text\":\"monogram\",\"indices\":[20,29]},{\"text\":\"bow\",\"indices\":[35,39]}],\"trends\":[],\"urls\":[{\"url\":\"https:\\/\\/t.co\\/ehi6UhiDh0\",\"expanded_url\":\"https:\\/\\/marleylilly.com\\/product\\/monogrammed-german-silver-bow-bracelet\\/\",\"display_url\":\"marleylilly.com\\/product\\/monogr\\u2026\",\"indices\":[81,104]}],\"user_mentions\":[],\"symbols\":[],\"media\":[{\"id\":544846928739987456,\"id_str\":\"544846928739987456\",\"indices\":[105,127],\"media_url\":\"http:\\/\\/pbs.twimg.com\\/media\\/B4-vZRyCcAAS5Bs.jpg\",\"media_url_https\":\"https:\\/\\/pbs.twimg.com\\/media\\/B4-vZRyCcAAS5Bs.jpg\",\"url\":\"http:\\/\\/t.co\\/huxUrfBQoV\",\"display_url\":\"pic.twitter.com\\/huxUrfBQoV\",\"expanded_url\":\"http:\\/\\/twitter.com\\/marleylilly\\/status\\/545020589706985472\\/photo\\/1\",\"type\":\"photo\",\"sizes\":{\"small\":{\"w\":340,\"h\":340,\"resize\":\"fit\"},\"thumb\":{\"w\":150,\"h\":150,\"resize\":\"crop\"},\"large\":{\"w\":640,\"h\":640,\"resize\":\"fit\"},\"medium\":{\"w\":600,\"h\":600,\"resize\":\"fit\"}}}]},\"extended_entities\":{\"media\":[{\"id\":544846928739987456,\"id_str\":\"544846928739987456\",\"indices\":[105,127],\"media_url\":\"http:\\/\\/pbs.twimg.com\\/media\\/B4-vZRyCcAAS5Bs.jpg\",\"media_url_https\":\"https:\\/\\/pbs.twimg.com\\/media\\/B4-vZRyCcAAS5Bs.jpg\",\"url\":\"http:\\/\\/t.co\\/huxUrfBQoV\",\"display_url\":\"pic.twitter.com\\/huxUrfBQoV\",\"expanded_url\":\"http:\\/\\/twitter.com\\/marleylilly\\/status\\/545020589706985472\\/photo\\/1\",\"type\":\"photo\",\"sizes\":{\"small\":{\"w\":340,\"h\":340,\"resize\":\"fit\"},\"thumb\":{\"w\":150,\"h\":150,\"resize\":\"crop\"},\"large\":{\"w\":640,\"h\":640,\"resize\":\"fit\"},\"medium\":{\"w\":600,\"h\":600,\"resize\":\"fit\"}}}]},\"favorited\":false,\"retweeted\":false,\"possibly_sensitive\":false,\"filter_level\":\"low\",\"lang\":\"en\"},\"retweet_count\":0,\"favorite_count\":0,\"entities\":{\"hashtags\":[{\"text\":\"monogram\",\"indices\":[37,46]},{\"text\":\"bow\",\"indices\":[52,56]}],\"trends\":[],\"urls\":[{\"url\":\"https:\\/\\/t.co\\/ehi6UhiDh0\",\"expanded_url\":\"https:\\/\\/marleylilly.com\\/product\\/monogrammed-german-silver-bow-bracelet\\/\",\"display_url\":\"marleylilly.com\\/product\\/monogr\\u2026\",\"indices\":[98,121]}],\"user_mentions\":[{\"screen_name\":\"marleylilly\",\"name\":\"MARLEYLILLY\",\"id\":213548970,\"id_str\":\"213548970\",\"indices\":[3,15]}],\"symbols\":[],\"media\":[{\"id\":544846928739987456,\"id_str\":\"544846928739987456\",\"indices\":[139,140],\"media_url\":\"http:\\/\\/pbs.twimg.com\\/media\\/B4-vZRyCcAAS5Bs.jpg\",\"media_url_https\":\"https:\\/\\/pbs.twimg.com\\/media\\/B4-vZRyCcAAS5Bs.jpg\",\"url\":\"http:\\/\\/t.co\\/huxUrfBQoV\",\"display_url\":\"pic.twitter.com\\/huxUrfBQoV\",\"expanded_url\":\"http:\\/\\/twitter.com\\/marleylilly\\/status\\/545020589706985472\\/photo\\/1\",\"type\":\"photo\",\"sizes\":{\"small\":{\"w\":340,\"h\":340,\"resize\":\"fit\"},\"thumb\":{\"w\":150,\"h\":150,\"resize\":\"crop\"},\"large\":{\"w\":640,\"h\":640,\"resize\":\"fit\"},\"medium\":{\"w\":600,\"h\":600,\"resize\":\"fit\"}},\"source_status_id\":545020589706985472,\"source_status_id_str\":\"545020589706985472\"}]},\"extended_entities\":{\"media\":[{\"id\":544846928739987456,\"id_str\":\"544846928739987456\",\"indices\":[139,140],\"media_url\":\"http:\\/\\/pbs.twimg.com\\/media\\/B4-vZRyCcAAS5Bs.jpg\",\"media_url_https\":\"https:\\/\\/pbs.twimg.com\\/media\\/B4-vZRyCcAAS5Bs.jpg\",\"url\":\"http:\\/\\/t.co\\/huxUrfBQoV\",\"display_url\":\"pic.twitter.com\\/huxUrfBQoV\",\"expanded_url\":\"http:\\/\\/twitter.com\\/marleylilly\\/status\\/545020589706985472\\/photo\\/1\",\"type\":\"photo\",\"sizes\":{\"small\":{\"w\":340,\"h\":340,\"resize\":\"fit\"},\"thumb\":{\"w\":150,\"h\":150,\"resize\":\"crop\"},\"large\":{\"w\":640,\"h\":640,\"resize\":\"fit\"},\"medium\":{\"w\":600,\"h\":600,\"resize\":\"fit\"}},\"source_status_id\":545020589706985472,\"source_status_id_str\":\"545020589706985472\"}]},\"favorited\":false,\"retweeted\":false,\"possibly_sensitive\":false,\"filter_level\":\"medium\",\"lang\":\"en\",\"timestamp_ms\":\"1418778825661\"}\n",
    "{\"created_at\":\"Wed Dec 17 01:13:45 +0000 2014\",\"id\":545024014046199808,\"id_str\":\"545024014046199808\",\"text\":\"RT @KvngSuavee: \\\"@verrlust: Relax baby girl, I'm all yours.\\\" @QveenSuavee\",\"source\":\"\\u003ca href=\\\"http:\\/\\/twitter.com\\/download\\/android\\\" rel=\\\"nofollow\\\"\\u003eTwitter for Android\\u003c\\/a\\u003e\",\"truncated\":false,\"in_reply_to_status_id\":null,\"in_reply_to_status_id_str\":null,\"in_reply_to_user_id\":null,\"in_reply_to_user_id_str\":null,\"in_reply_to_screen_name\":null,\"user\":{\"id\":438827148,\"id_str\":\"438827148\",\"name\":\"..(Mo-N\\u00e3\\u00fd) \",\"screen_name\":\"QveenSuavee\",\"location\":\"..\\u2282On\\u0387the\\u0387Track\\u2283\",\"url\":null,\"description\":\"*Not everyone you lose is a loss. Not everything you learn is a lesson.*\",\"protected\":false,\"verified\":false,\"followers_count\":802,\"friends_count\":664,\"listed_count\":0,\"favourites_count\":5497,\"statuses_count\":26204,\"created_at\":\"Sat Dec 17 02:17:00 +0000 2011\",\"utc_offset\":-36000,\"time_zone\":\"Hawaii\",\"geo_enabled\":true,\"lang\":\"en\",\"contributors_enabled\":false,\"is_translator\":false,\"profile_background_color\":\"0099B9\",\"profile_background_image_url\":\"http:\\/\\/pbs.twimg.com\\/profile_background_images\\/456061769828425728\\/4Px4BP4i.jpeg\",\"profile_background_image_url_https\":\"https:\\/\\/pbs.twimg.com\\/profile_background_images\\/456061769828425728\\/4Px4BP4i.jpeg\",\"profile_background_tile\":true,\"profile_link_color\":\"3B94D9\",\"profile_sidebar_border_color\":\"FFFFFF\",\"profile_sidebar_fill_color\":\"95E8EC\",\"profile_text_color\":\"3C3940\",\"profile_use_background_image\":true,\"profile_image_url\":\"http:\\/\\/pbs.twimg.com\\/profile_images\\/544695563766480897\\/EzHFh2Gw_normal.jpeg\",\"profile_image_url_https\":\"https:\\/\\/pbs.twimg.com\\/profile_images\\/544695563766480897\\/EzHFh2Gw_normal.jpeg\",\"profile_banner_url\":\"https:\\/\\/pbs.twimg.com\\/profile_banners\\/438827148\\/1418703773\",\"default_profile\":false,\"default_profile_image\":false,\"following\":null,\"follow_request_sent\":null,\"notifications\":null},\"geo\":null,\"coordinates\":null,\"place\":null,\"contributors\":null,\"retweeted_status\":{\"created_at\":\"Wed Dec 17 01:11:57 +0000 2014\",\"id\":545023561149460481,\"id_str\":\"545023561149460481\",\"text\":\"\\\"@verrlust: Relax baby girl, I'm all yours.\\\" @QveenSuavee\",\"source\":\"\\u003ca href=\\\"https:\\/\\/mobile.twitter.com\\\" rel=\\\"nofollow\\\"\\u003eMobile Web (M5)\\u003c\\/a\\u003e\",\"truncated\":false,\"in_reply_to_status_id\":null,\"in_reply_to_status_id_str\":null,\"in_reply_to_user_id\":null,\"in_reply_to_user_id_str\":null,\"in_reply_to_screen_name\":null,\"user\":{\"id\":2716083874,\"id_str\":\"2716083874\",\"name\":\"#SuaveeGang \\u2935\",\"screen_name\":\"KvngSuavee\",\"location\":\"\",\"url\":null,\"description\":\"Producer and Artist \\r\\n#MoreSuaveeLessKhalil \\r\\nHappily Taken 7\\/11 \\u2764 Bae was Here..Hoes hahaa\",\"protected\":false,\"verified\":false,\"followers_count\":548,\"friends_count\":510,\"listed_count\":1,\"favourites_count\":2795,\"statuses_count\":5653,\"created_at\":\"Thu Jul 17 22:14:49 +0000 2014\",\"utc_offset\":null,\"time_zone\":null,\"geo_enabled\":true,\"lang\":\"en\",\"contributors_enabled\":false,\"is_translator\":false,\"profile_background_color\":\"C0DEED\",\"profile_background_image_url\":\"http:\\/\\/abs.twimg.com\\/images\\/themes\\/theme1\\/bg.png\",\"profile_background_image_url_https\":\"https:\\/\\/abs.twimg.com\\/images\\/themes\\/theme1\\/bg.png\",\"profile_background_tile\":false,\"profile_link_color\":\"0084B4\",\"profile_sidebar_border_color\":\"C0DEED\",\"profile_sidebar_fill_color\":\"DDEEF6\",\"profile_text_color\":\"333333\",\"profile_use_background_image\":true,\"profile_image_url\":\"http:\\/\\/pbs.twimg.com\\/profile_images\\/542442546761195521\\/pgCsqDzU_normal.jpeg\",\"profile_image_url_https\":\"https:\\/\\/pbs.twimg.com\\/profile_images\\/542442546761195521\\/pgCsqDzU_normal.jpeg\",\"profile_banner_url\":\"https:\\/\\/pbs.twimg.com\\/profile_banners\\/2716083874\\/1418531907\",\"default_profile\":true,\"default_profile_image\":false,\"following\":null,\"follow_request_sent\":null,\"notifications\":null},\"geo\":null,\"coordinates\":null,\"place\":null,\"contributors\":null,\"retweet_count\":1,\"favorite_count\":0,\"entities\":{\"hashtags\":[],\"trends\":[],\"urls\":[],\"user_mentions\":[{\"screen_name\":\"verrlust\",\"name\":\"\\u2800\",\"id\":319899020,\"id_str\":\"319899020\",\"indices\":[1,10]},{\"screen_name\":\"QveenSuavee\",\"name\":\"..(Mo-N\\u00e3\\u00fd) \",\"id\":438827148,\"id_str\":\"438827148\",\"indices\":[45,57]}],\"symbols\":[]},\"favorited\":false,\"retweeted\":false,\"possibly_sensitive\":false,\"filter_level\":\"low\",\"lang\":\"en\"},\"retweet_count\":0,\"favorite_count\":0,\"entities\":{\"hashtags\":[],\"trends\":[],\"urls\":[],\"user_mentions\":[{\"screen_name\":\"KvngSuavee\",\"name\":\"#SuaveeGang \\u2935\",\"id\":2716083874,\"id_str\":\"2716083874\",\"indices\":[3,14]},{\"screen_name\":\"verrlust\",\"name\":\"\\u2800\",\"id\":319899020,\"id_str\":\"319899020\",\"indices\":[17,26]},{\"screen_name\":\"QveenSuavee\",\"name\":\"..(Mo-N\\u00e3\\u00fd) \",\"id\":438827148,\"id_str\":\"438827148\",\"indices\":[61,73]}],\"symbols\":[]},\"favorited\":false,\"retweeted\":false,\"possibly_sensitive\":false,\"filter_level\":\"medium\",\"lang\":\"en\",\"timestamp_ms\":\"1418778825662\"}\n",
    "{\"created_at\":\"Wed Dec 17 01:13:45 +0000 2014\",\"id\":545024014037823488,\"id_str\":\"545024014037823488\",\"text\":\"RT @sdronline: 6 cosas que puedes hacer con acondicionador para el cabello que no sabias, \\u00a1te asombrar\\u00e1s! http:\\/\\/t.co\\/5KSQiEjsEf http:\\/\\/t.c\\u2026\",\"source\":\"\\u003ca href=\\\"http:\\/\\/deck.smdeck.com\\\" rel=\\\"nofollow\\\"\\u003ewenfonsi\\u003c\\/a\\u003e\",\"truncated\":false,\"in_reply_to_status_id\":null,\"in_reply_to_status_id_str\":null,\"in_reply_to_user_id\":null,\"in_reply_to_user_id_str\":null,\"in_reply_to_screen_name\":null,\"user\":{\"id\":705849410,\"id_str\":\"705849410\",\"name\":\"TipsDeCaballero\",\"screen_name\":\"TipDeCaballero\",\"location\":\"El Mundo\",\"url\":null,\"description\":\"Un hombre ilusiona - Un caballero enamora\",\"protected\":false,\"verified\":false,\"followers_count\":11652,\"friends_count\":8085,\"listed_count\":24,\"favourites_count\":4233,\"statuses_count\":985,\"created_at\":\"Thu Jul 19 21:48:48 +0000 2012\",\"utc_offset\":-21600,\"time_zone\":\"Central Time (US & Canada)\",\"geo_enabled\":false,\"lang\":\"es\",\"contributors_enabled\":false,\"is_translator\":false,\"profile_background_color\":\"131516\",\"profile_background_image_url\":\"http:\\/\\/pbs.twimg.com\\/profile_background_images\\/808352798\\/e65563e57a7137786698ce3ea5b651fc.jpeg\",\"profile_background_image_url_https\":\"https:\\/\\/pbs.twimg.com\\/profile_background_images\\/808352798\\/e65563e57a7137786698ce3ea5b651fc.jpeg\",\"profile_background_tile\":false,\"profile_link_color\":\"009999\",\"profile_sidebar_border_color\":\"000000\",\"profile_sidebar_fill_color\":\"EFEFEF\",\"profile_text_color\":\"333333\",\"profile_use_background_image\":true,\"profile_image_url\":\"http:\\/\\/pbs.twimg.com\\/profile_images\\/3348187266\\/3a023d73165ba413ef7dfb23083cff7c_normal.jpeg\",\"profile_image_url_https\":\"https:\\/\\/pbs.twimg.com\\/profile_images\\/3348187266\\/3a023d73165ba413ef7dfb23083cff7c_normal.jpeg\",\"profile_banner_url\":\"https:\\/\\/pbs.twimg.com\\/profile_banners\\/705849410\\/1362634493\",\"default_profile\":false,\"default_profile_image\":false,\"following\":null,\"follow_request_sent\":null,\"notifications\":null},\"geo\":null,\"coordinates\":null,\"place\":null,\"contributors\":null,\"retweeted_status\":{\"created_at\":\"Fri Dec 12 11:17:25 +0000 2014\",\"id\":543363991977070592,\"id_str\":\"543363991977070592\",\"text\":\"6 cosas que puedes hacer con acondicionador para el cabello que no sabias, \\u00a1te asombrar\\u00e1s! http:\\/\\/t.co\\/5KSQiEjsEf http:\\/\\/t.co\\/SRifVc983j\",\"source\":\"\\u003ca href=\\\"http:\\/\\/twitter.com\\\" rel=\\\"nofollow\\\"\\u003eTwitter Web Client\\u003c\\/a\\u003e\",\"truncated\":false,\"in_reply_to_status_id\":null,\"in_reply_to_status_id_str\":null,\"in_reply_to_user_id\":null,\"in_reply_to_user_id_str\":null,\"in_reply_to_screen_name\":null,\"user\":{\"id\":105108936,\"id_str\":\"105108936\",\"name\":\"Siempre Activos!\",\"screen_name\":\"sdronline\",\"location\":\"Republica Dominicana\",\"url\":\"http:\\/\\/www.santodomingoenlared.com\",\"description\":\"NOTICIAS | VIDEOS | CURIOSIDADES, Pero si se me ocurre otra cosa tambien...  http:\\/\\/www.facebook.com\\/santodomingoenlared\",\"protected\":false,\"verified\":false,\"followers_count\":9183,\"friends_count\":5486,\"listed_count\":17,\"favourites_count\":11,\"statuses_count\":27965,\"created_at\":\"Fri Jan 15 11:27:05 +0000 2010\",\"utc_offset\":-14400,\"time_zone\":\"La Paz\",\"geo_enabled\":true,\"lang\":\"es\",\"contributors_enabled\":false,\"is_translator\":false,\"profile_background_color\":\"022330\",\"profile_background_image_url\":\"http:\\/\\/pbs.twimg.com\\/profile_background_images\\/74149141\\/background-d-ela-pagina.jpg\",\"profile_background_image_url_https\":\"https:\\/\\/pbs.twimg.com\\/profile_background_images\\/74149141\\/background-d-ela-pagina.jpg\",\"profile_background_tile\":false,\"profile_link_color\":\"0084B4\",\"profile_sidebar_border_color\":\"A8C7F7\",\"profile_sidebar_fill_color\":\"C0DFEC\",\"profile_text_color\":\"333333\",\"profile_use_background_image\":true,\"profile_image_url\":\"http:\\/\\/pbs.twimg.com\\/profile_images\\/517825129997279232\\/nTQuvx3K_normal.png\",\"profile_image_url_https\":\"https:\\/\\/pbs.twimg.com\\/profile_images\\/517825129997279232\\/nTQuvx3K_normal.png\",\"profile_banner_url\":\"https:\\/\\/pbs.twimg.com\\/profile_banners\\/105108936\\/1405715798\",\"default_profile\":false,\"default_profile_image\":false,\"following\":null,\"follow_request_sent\":null,\"notifications\":null},\"geo\":null,\"coordinates\":null,\"place\":null,\"contributors\":null,\"retweet_count\":410,\"favorite_count\":29,\"entities\":{\"hashtags\":[],\"trends\":[],\"urls\":[{\"url\":\"http:\\/\\/t.co\\/5KSQiEjsEf\",\"expanded_url\":\"http:\\/\\/ow.ly\\/FLKNu\",\"display_url\":\"ow.ly\\/FLKNu\",\"indices\":[91,113]}],\"user_mentions\":[],\"symbols\":[],\"media\":[{\"id\":543363991234293760,\"id_str\":\"543363991234293760\",\"indices\":[114,136],\"media_url\":\"http:\\/\\/pbs.twimg.com\\/media\\/B4pqq9FCMAAwmtz.jpg\",\"media_url_https\":\"https:\\/\\/pbs.twimg.com\\/media\\/B4pqq9FCMAAwmtz.jpg\",\"url\":\"http:\\/\\/t.co\\/SRifVc983j\",\"display_url\":\"pic.twitter.com\\/SRifVc983j\",\"expanded_url\":\"http:\\/\\/twitter.com\\/sdronline\\/status\\/543363991977070592\\/photo\\/1\",\"type\":\"photo\",\"sizes\":{\"large\":{\"w\":520,\"h\":343,\"resize\":\"fit\"},\"medium\":{\"w\":520,\"h\":343,\"resize\":\"fit\"},\"small\":{\"w\":340,\"h\":224,\"resize\":\"fit\"},\"thumb\":{\"w\":150,\"h\":150,\"resize\":\"crop\"}}}]},\"extended_entities\":{\"media\":[{\"id\":543363991234293760,\"id_str\":\"543363991234293760\",\"indices\":[114,136],\"media_url\":\"http:\\/\\/pbs.twimg.com\\/media\\/B4pqq9FCMAAwmtz.jpg\",\"media_url_https\":\"https:\\/\\/pbs.twimg.com\\/media\\/B4pqq9FCMAAwmtz.jpg\",\"url\":\"http:\\/\\/t.co\\/SRifVc983j\",\"display_url\":\"pic.twitter.com\\/SRifVc983j\",\"expanded_url\":\"http:\\/\\/twitter.com\\/sdronline\\/status\\/543363991977070592\\/photo\\/1\",\"type\":\"photo\",\"sizes\":{\"large\":{\"w\":520,\"h\":343,\"resize\":\"fit\"},\"medium\":{\"w\":520,\"h\":343,\"resize\":\"fit\"},\"small\":{\"w\":340,\"h\":224,\"resize\":\"fit\"},\"thumb\":{\"w\":150,\"h\":150,\"resize\":\"crop\"}}}]},\"favorited\":false,\"retweeted\":false,\"possibly_sensitive\":false,\"filter_level\":\"low\",\"lang\":\"es\"},\"retweet_count\":0,\"favorite_count\":0,\"entities\":{\"hashtags\":[],\"trends\":[],\"urls\":[{\"url\":\"http:\\/\\/t.co\\/5KSQiEjsEf\",\"expanded_url\":\"http:\\/\\/ow.ly\\/FLKNu\",\"display_url\":\"ow.ly\\/FLKNu\",\"indices\":[106,128]}],\"user_mentions\":[{\"screen_name\":\"sdronline\",\"name\":\"Siempre Activos!\",\"id\":105108936,\"id_str\":\"105108936\",\"indices\":[3,13]}],\"symbols\":[],\"media\":[{\"id\":543363991234293760,\"id_str\":\"543363991234293760\",\"indices\":[139,140],\"media_url\":\"http:\\/\\/pbs.twimg.com\\/media\\/B4pqq9FCMAAwmtz.jpg\",\"media_url_https\":\"https:\\/\\/pbs.twimg.com\\/media\\/B4pqq9FCMAAwmtz.jpg\",\"url\":\"http:\\/\\/t.co\\/SRifVc983j\",\"display_url\":\"pic.twitter.com\\/SRifVc983j\",\"expanded_url\":\"http:\\/\\/twitter.com\\/sdronline\\/status\\/543363991977070592\\/photo\\/1\",\"type\":\"photo\",\"sizes\":{\"large\":{\"w\":520,\"h\":343,\"resize\":\"fit\"},\"medium\":{\"w\":520,\"h\":343,\"resize\":\"fit\"},\"small\":{\"w\":340,\"h\":224,\"resize\":\"fit\"},\"thumb\":{\"w\":150,\"h\":150,\"resize\":\"crop\"}},\"source_status_id\":543363991977070592,\"source_status_id_str\":\"543363991977070592\"}]},\"extended_entities\":{\"media\":[{\"id\":543363991234293760,\"id_str\":\"543363991234293760\",\"indices\":[139,140],\"media_url\":\"http:\\/\\/pbs.twimg.com\\/media\\/B4pqq9FCMAAwmtz.jpg\",\"media_url_https\":\"https:\\/\\/pbs.twimg.com\\/media\\/B4pqq9FCMAAwmtz.jpg\",\"url\":\"http:\\/\\/t.co\\/SRifVc983j\",\"display_url\":\"pic.twitter.com\\/SRifVc983j\",\"expanded_url\":\"http:\\/\\/twitter.com\\/sdronline\\/status\\/543363991977070592\\/photo\\/1\",\"type\":\"photo\",\"sizes\":{\"large\":{\"w\":520,\"h\":343,\"resize\":\"fit\"},\"medium\":{\"w\":520,\"h\":343,\"resize\":\"fit\"},\"small\":{\"w\":340,\"h\":224,\"resize\":\"fit\"},\"thumb\":{\"w\":150,\"h\":150,\"resize\":\"crop\"}},\"source_status_id\":543363991977070592,\"source_status_id_str\":\"543363991977070592\"}]},\"favorited\":false,\"retweeted\":false,\"possibly_sensitive\":false,\"filter_level\":\"medium\",\"lang\":\"es\",\"timestamp_ms\":\"1418778825660\"}\n",
    "{\"created_at\":\"Wed Dec 17 01:13:45 +0000 2014\",\"id\":545024014025252864,\"id_str\":\"545024014025252864\",\"text\":\"@null http:\\/\\/t.co\\/VfEyi9mqkr December 17, 2014 at 09:57AM #\\u3061\\u3093\\u3061\\u3093\\u3069\\u3076\\u3069\\u3076\",\"source\":\"\\u003ca href=\\\"http:\\/\\/ifttt.com\\\" rel=\\\"nofollow\\\"\\u003eIFTTT\\u003c\\/a\\u003e\",\"truncated\":false,\"in_reply_to_status_id\":null,\"in_reply_to_status_id_str\":null,\"in_reply_to_user_id\":3562471,\"in_reply_to_user_id_str\":\"3562471\",\"in_reply_to_screen_name\":\"null\",\"user\":{\"id\":1018694832,\"id_str\":\"1018694832\",\"name\":\"\\u6e9d\\u514e('A`)\",\"screen_name\":\"dobuEVO3\",\"location\":\"fatlace10\\u3010\\u5c71\\u5f62\\u3011\",\"url\":null,\"description\":\"\\u9ec4\\u8272\\u3044\\u7b50\\u4f53\\u306b\\u306f\\u3082\\u3046\\u4e57\\u3089\\u306a\\u3044\\n9\\/17 \\u63d0\\u7763\\u306b\\u306a\\u308a\\u307e\\u3057\\u305f \\u5dfb\\u96f2\\u306e\\uff8a\\uff9f\\uff9d\\uff82\\u306b\\u306a\\u308a\\u305f\\u3044 \\u4eca\\u5e74\\u306f\\u30af\\u30ea\\u30b9\\u30de\\u30b9\\u306a\\u3093\\u3066\\u306a\\u3044\\u3063\\u307d\\u3044\\uff1f\",\"protected\":false,\"verified\":false,\"followers_count\":431,\"friends_count\":358,\"listed_count\":1,\"favourites_count\":4968,\"statuses_count\":28014,\"created_at\":\"Tue Dec 18 01:11:22 +0000 2012\",\"utc_offset\":null,\"time_zone\":null,\"geo_enabled\":true,\"lang\":\"ja\",\"contributors_enabled\":false,\"is_translator\":false,\"profile_background_color\":\"C0DEED\",\"profile_background_image_url\":\"http:\\/\\/abs.twimg.com\\/images\\/themes\\/theme1\\/bg.png\",\"profile_background_image_url_https\":\"https:\\/\\/abs.twimg.com\\/images\\/themes\\/theme1\\/bg.png\",\"profile_background_tile\":false,\"profile_link_color\":\"0084B4\",\"profile_sidebar_border_color\":\"C0DEED\",\"profile_sidebar_fill_color\":\"DDEEF6\",\"profile_text_color\":\"333333\",\"profile_use_background_image\":true,\"profile_image_url\":\"http:\\/\\/pbs.twimg.com\\/profile_images\\/544168727466360832\\/pA_Qgy5y_normal.jpeg\",\"profile_image_url_https\":\"https:\\/\\/pbs.twimg.com\\/profile_images\\/544168727466360832\\/pA_Qgy5y_normal.jpeg\",\"profile_banner_url\":\"https:\\/\\/pbs.twimg.com\\/profile_banners\\/1018694832\\/1418733612\",\"default_profile\":true,\"default_profile_image\":false,\"following\":null,\"follow_request_sent\":null,\"notifications\":null},\"geo\":null,\"coordinates\":null,\"place\":null,\"contributors\":null,\"retweet_count\":0,\"favorite_count\":0,\"entities\":{\"hashtags\":[{\"text\":\"\\u3061\\u3093\\u3061\\u3093\\u3069\\u3076\\u3069\\u3076\",\"indices\":[58,67]}],\"trends\":[],\"urls\":[{\"url\":\"http:\\/\\/t.co\\/VfEyi9mqkr\",\"expanded_url\":\"http:\\/\\/ift.tt\\/1GrsneI\",\"display_url\":\"ift.tt\\/1GrsneI\",\"indices\":[6,28]}],\"user_mentions\":[{\"screen_name\":\"null\",\"name\":\"not quite nothing\",\"id\":3562471,\"id_str\":\"3562471\",\"indices\":[0,5]}],\"symbols\":[]},\"favorited\":false,\"retweeted\":false,\"possibly_sensitive\":false,\"filter_level\":\"medium\",\"lang\":\"en\",\"timestamp_ms\":\"1418778825657\"}'''\n",
    "\n",
    "keyword = '#monogram'\n",
    "tweets.find(keyword) # this outputs the first occurence of the keyword specified\n",
    "tweets.count(keyword) # this counts the number of that particular keyword occurs in the datasets\n",
    "#tweets.strip('\"id\", \"created_at\"') # strips certain strings from the datasets\n",
    "#tweets.remove('''\"created_at\":\"Wed Dec 17 01:13:45 +0000 2014\"''')\n",
    "newtweets = list(tweets) # converts a string to a list\n",
    "''.join(newtweets)\n",
    "tweets.strip('Wed')\n",
    "#newtweets.remove('created_at\":\"Wed Dec 17 01:13:45 +0000 2014')\n",
    "#newtweets\n",
    "\n",
    "\n",
    "#the above count is for strings we can do same for list try this\n",
    "\n",
    "\n",
    "#now we will move on to create dictionaries: \n",
    "\n",
    "mydict = {'I was at the beach'}\n",
    "mydict\n",
    "cm = [['john', 'idriss'], ['mavis', 'amakwah'], ['ama', 'kofi']]\n",
    "dict(cm)\n",
    "mydict\n",
    "\n",
    "###############\n",
    "set(tweets)\n"
   ]
  },
  {
   "cell_type": "code",
   "execution_count": 173,
   "metadata": {
    "collapsed": false
   },
   "outputs": [
    {
     "data": {
      "text/plain": [
       "'            the quick brown fox jump over lazy dog'"
      ]
     },
     "execution_count": 173,
     "metadata": {},
     "output_type": "execute_result"
    }
   ],
   "source": [
    "sentence = 'the quick brown fox jump over lazy dog'\n",
    "sentence.capitalize()\n",
    "sentence.upper()\n",
    "sentence.title()\n",
    "sentence.lower()\n",
    "sentence.title()\n",
    "sentence.swapcase()\n",
    "sentence.center(30)\n",
    "sentence.rjust(50)\n"
   ]
  },
  {
   "cell_type": "code",
   "execution_count": 177,
   "metadata": {
    "collapsed": false
   },
   "outputs": [
    {
     "data": {
      "text/plain": [
       "24"
      ]
     },
     "execution_count": 177,
     "metadata": {},
     "output_type": "execute_result"
    }
   ],
   "source": [
    "seconds_per_hour = 60 * 60\n",
    "seconds_per_day =  seconds_per_hour * 24\n",
    "seconds_per_day / seconds_per_hour\n",
    "seconds_per_day // seconds_per_hour"
   ]
  },
  {
   "cell_type": "code",
   "execution_count": 189,
   "metadata": {
    "collapsed": false
   },
   "outputs": [
    {
     "data": {
      "text/plain": [
       "'car'"
      ]
     },
     "execution_count": 189,
     "metadata": {},
     "output_type": "execute_result"
    }
   ],
   "source": [
    "animals = ['car', 'dogs', 'rabbit']\n",
    "cars = ['bmw', 'opel', 'toyota']\n",
    "empty_list = list() # how to make an empty list\n",
    "empty_list\n",
    "cars += ['animals'] #append animals to list\n",
    "cars.append('today') # annother was to add items to a list\n",
    "cars\n",
    "books = ('animal farm', 'legend of the seeker')\n",
    "list(books)\n",
    "\n",
    "\n",
    "#splitting list\n",
    "\n",
    "birthday = '12/03/1993'\n",
    "birthday.split('/')\n",
    "animals[0]"
   ]
  },
  {
   "cell_type": "code",
   "execution_count": 258,
   "metadata": {
    "collapsed": false
   },
   "outputs": [
    {
     "data": {
      "text/plain": [
       "True"
      ]
     },
     "execution_count": 258,
     "metadata": {},
     "output_type": "execute_result"
    }
   ],
   "source": [
    "# trying the join and the split stuffs\n",
    "church = ['PIWC', 'COP', 'PENSA' ]\n",
    "joinchurch = ' * '\n",
    "joined = joinchurch.join(church)\n",
    "joined\n",
    "seperated = joined.split(joinchurch)\n",
    "seperated\n",
    "seperated == church"
   ]
  },
  {
   "cell_type": "code",
   "execution_count": 269,
   "metadata": {
    "collapsed": false
   },
   "outputs": [
    {
     "data": {
      "text/plain": [
       "['prado',\n",
       " 'rav4',\n",
       " 'lancruiser',\n",
       " 'hilux',\n",
       " 'tundra',\n",
       " 'yaris',\n",
       " 'corolla',\n",
       " 'porsche',\n",
       " 'avensis']"
      ]
     },
     "execution_count": 269,
     "metadata": {},
     "output_type": "execute_result"
    }
   ],
   "source": [
    "#creating a list of listyas\n",
    "saloncars = ['yaris', 'corolla', 'avalon', 'avensis']\n",
    "suvs = ['prado', 'rav4', 'lancruiser', 'hilux', 'tundra']\n",
    "sportscars = ['bugatti', 'porsche', 'aston_martin', 'ferrari' ]\n",
    "mycars = [saloncars, suvs, sportscars]\n",
    "mycars[2][3]\n",
    "mycars[0][2]= 'porsche'\n",
    "mycars[2::]\n",
    "suvs.extend(saloncars)\n",
    "suvs\n",
    "saloncars\n",
    "saloncars += sportscars\n",
    "saloncars\n",
    "mysort = sorted(suvs)\n",
    "mysort\n",
    "suvs\n",
    "\n"
   ]
  },
  {
   "cell_type": "code",
   "execution_count": 267,
   "metadata": {
    "collapsed": false
   },
   "outputs": [
    {
     "data": {
      "text/plain": [
       "['avensis',\n",
       " 'corolla',\n",
       " 'hilux',\n",
       " 'lancruiser',\n",
       " 'porsche',\n",
       " 'prado',\n",
       " 'rav4',\n",
       " 'tundra',\n",
       " 'yaris']"
      ]
     },
     "execution_count": 267,
     "metadata": {},
     "output_type": "execute_result"
    }
   ],
   "source": [
    "suvs\n",
    "suvs.sort()\n",
    "suvs"
   ]
  },
  {
   "cell_type": "code",
   "execution_count": 281,
   "metadata": {
    "collapsed": false
   },
   "outputs": [
    {
     "data": {
      "text/plain": [
       "['Sunday', 'Tuesday', 'Wednesday']"
      ]
     },
     "execution_count": 281,
     "metadata": {},
     "output_type": "execute_result"
    }
   ],
   "source": [
    "# different ways of conpying  a list into a varaible\n",
    "days = ['Sunday', 'Tuesday', 'Wednesday']\n",
    "a = days.copy()\n",
    "a\n",
    "c = list(days)\n",
    "c\n",
    "d = a[:]\n",
    "d\n",
    "#these assignments however does not affects the outcome of  the string days\n",
    "days[0] = '2'\n",
    "days\n",
    "a\n",
    "c\n",
    "d"
   ]
  },
  {
   "cell_type": "code",
   "execution_count": 287,
   "metadata": {
    "collapsed": false
   },
   "outputs": [
    {
     "ename": "ValueError",
     "evalue": "not enough values to unpack (expected 4, got 3)",
     "output_type": "error",
     "traceback": [
      "\u001b[0;31m---------------------------------------------------------------------------\u001b[0m",
      "\u001b[0;31mValueError\u001b[0m                                Traceback (most recent call last)",
      "\u001b[0;32m<ipython-input-287-c5b2ceacc9d3>\u001b[0m in \u001b[0;36m<module>\u001b[0;34m()\u001b[0m\n\u001b[1;32m      6\u001b[0m \u001b[0mmore_than\u001b[0m\u001b[1;33m\u001b[0m\u001b[0m\n\u001b[1;32m      7\u001b[0m \u001b[1;33m\u001b[0m\u001b[0m\n\u001b[0;32m----> 8\u001b[0;31m \u001b[0ma\u001b[0m\u001b[1;33m,\u001b[0m \u001b[0mb\u001b[0m\u001b[1;33m,\u001b[0m \u001b[0md\u001b[0m\u001b[1;33m,\u001b[0m \u001b[0mc\u001b[0m\u001b[1;33m,\u001b[0m \u001b[1;33m=\u001b[0m \u001b[0mmore_than\u001b[0m \u001b[1;31m# this is used to assign enteries in to the tuple\u001b[0m\u001b[1;33m\u001b[0m\u001b[0m\n\u001b[0m\u001b[1;32m      9\u001b[0m \u001b[0ma\u001b[0m\u001b[1;33m\u001b[0m\u001b[0m\n\u001b[1;32m     10\u001b[0m \u001b[0mb\u001b[0m\u001b[1;33m\u001b[0m\u001b[0m\n",
      "\u001b[0;31mValueError\u001b[0m: not enough values to unpack (expected 4, got 3)"
     ]
    }
   ],
   "source": [
    "# all about tuples, dont forget the comma if its at the end of the single entry, if its more than; leave the comma out.\n",
    "\n",
    "one_tuple = 'justone',\n",
    "one_tuple\n",
    "more_than = 'hurry', 'serious', 'check'\n",
    "more_than\n",
    "\n",
    "a, b, c, = more_than # this is used to assign enteries in to the tuple\n",
    "a\n",
    "b\n",
    "c"
   ]
  },
  {
   "cell_type": "code",
   "execution_count": 242,
   "metadata": {
    "collapsed": false
   },
   "outputs": [
    {
     "data": {
      "text/plain": [
       "'yaris_avalon_camry_avalon_avensis_avensis_corolla_avalon_avensis_corolla_avalon_avensis_corolla'"
      ]
     },
     "execution_count": 242,
     "metadata": {},
     "output_type": "execute_result"
    }
   ],
   "source": [
    "saloncars = ['yaris','avalon', 'avalon', 'avensis','avensis',  'corolla', 'avalon', 'avensis', 'corolla', 'avalon', 'avensis', 'corolla']\n",
    "suvs = ['prado', 'rav4', 'lancruiser', 'hilux', 'tundra']\n",
    "saloncars.insert(2,'camry') # inserting an item at a speicific point\n",
    "saloncars\n",
    "del suvs[0]\n",
    "suvs.remove('hilux')\n",
    "suvs.append('hilux')\n",
    "suvs.insert(0,\"'Jeffery's cars:\") #Inserting a string at specified position\n",
    "suvs\n",
    "suvs.pop()\n",
    "suvs.pop(-1) #The pop() function returns the value contained at the offset index and the deletes it as well (pops it out)\n",
    "suvs.index('rav4')\n",
    "'rav4' in suvs\n",
    "'jeff' in suvs\n",
    "saloncars.count('avalon')\n",
    "saloncars\n",
    "'_'.join(saloncars)"
   ]
  }
 ],
 "metadata": {
  "anaconda-cloud": {},
  "kernelspec": {
   "display_name": "Python [conda root]",
   "language": "python",
   "name": "conda-root-py"
  },
  "language_info": {
   "codemirror_mode": {
    "name": "ipython",
    "version": 3
   },
   "file_extension": ".py",
   "mimetype": "text/x-python",
   "name": "python",
   "nbconvert_exporter": "python",
   "pygments_lexer": "ipython3",
   "version": "3.5.2"
  }
 },
 "nbformat": 4,
 "nbformat_minor": 1
}
