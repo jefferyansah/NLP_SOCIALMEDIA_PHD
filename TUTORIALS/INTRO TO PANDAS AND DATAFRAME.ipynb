{
 "cells": [
  {
   "cell_type": "code",
   "execution_count": 14,
   "metadata": {
    "collapsed": false
   },
   "outputs": [
    {
     "name": "stdout",
     "output_type": "stream",
     "text": [
      "   DAILY_COUNT            HASHTAG  NO._DAYS_TO_PROTEST\n",
      "0          134  #ReclaimAustralia                    4\n",
      "1          425            #Auspol                    4\n",
      "2          342  #Blacklivesmatter                    4\n",
      "3         1334          #stopcoal                    4\n",
      "4          532   #newcastlehabour                    4\n"
     ]
    }
   ],
   "source": [
    "import pandas as pd\n",
    "\n",
    "data = { \n",
    "        \n",
    "        \n",
    "         'HASHTAG' : ['#ReclaimAustralia',  '#Auspol',  '#Blacklivesmatter', '#stopcoal', '#newcastlehabour'],\n",
    "           'DAILY_COUNT': [134, 425, 342,1334,532],\n",
    "         'NO._DAYS_TO_PROTEST': [4,4,4,4,4],\n",
    "        }\n",
    "hashtag = pd.DataFrame(data)\n",
    "print(hashtag)"
   ]
  },
  {
   "cell_type": "code",
   "execution_count": null,
   "metadata": {
    "collapsed": true
   },
   "outputs": [],
   "source": [
    "c"
   ]
  }
 ],
 "metadata": {
  "kernelspec": {
   "display_name": "Python [conda root]",
   "language": "python",
   "name": "conda-root-py"
  },
  "language_info": {
   "codemirror_mode": {
    "name": "ipython",
    "version": 3
   },
   "file_extension": ".py",
   "mimetype": "text/x-python",
   "name": "python",
   "nbconvert_exporter": "python",
   "pygments_lexer": "ipython3",
   "version": "3.5.2"
  }
 },
 "nbformat": 4,
 "nbformat_minor": 1
}
