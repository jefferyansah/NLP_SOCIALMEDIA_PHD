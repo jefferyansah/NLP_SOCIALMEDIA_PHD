{
 "cells": [
  {
   "cell_type": "code",
   "execution_count": 7,
   "metadata": {
    "collapsed": false
   },
   "outputs": [
    {
     "data": {
      "text/plain": [
       "array([['MF', '179'],\n",
       "       ['MF', '180'],\n",
       "       ['MF', '190']], \n",
       "      dtype='<U11')"
      ]
     },
     "execution_count": 7,
     "metadata": {},
     "output_type": "execute_result"
    }
   ],
   "source": [
    "import numpy as np\n",
    "positions = (['GK', 'MF', 'CD', 'LF', 'STK', 'MF', 'GK', 'CD', 'GK', 'LF',  'MF', 'CD', 'LF', 'STK', 'STK'])\n",
    "\n",
    "\n",
    "realPositions = np.array(positions)\n",
    "\n",
    "heights = (170, 179,178,176,172,180,168,178,189,181,190,191,191, 170, 175)\n",
    "realHeights = np.array(heights)\n",
    "realHeights.size\n",
    "\n",
    "myFifaData = np.column_stack((realPositions,realHeights))\n",
    "myFifaData\n",
    "\n",
    "gk_heights = realHeights[realPositions == 'Gk'] # this code brings out the \n",
    "gk_heights\n",
    "\n",
    "gk_positions = realPositions[realHeights> 180]\n",
    "gk_positions\n",
    "\n",
    "myFifaData = np.column_stack((realPositions,realHeights))\n",
    "myFifaData\n",
    "\n",
    "gk1 = myFifaData[realPositions == 'GK']  # prints out the heights of all Goal Keepers in out datasets\n",
    "gk1\n",
    "\n",
    "strk = myFifaData[realPositions == 'MF' ]\n",
    "strk\n",
    "\n",
    "\n",
    "\n"
   ]
  }
 ],
 "metadata": {
  "anaconda-cloud": {},
  "kernelspec": {
   "display_name": "Python [conda root]",
   "language": "python",
   "name": "conda-root-py"
  },
  "language_info": {
   "codemirror_mode": {
    "name": "ipython",
    "version": 3
   },
   "file_extension": ".py",
   "mimetype": "text/x-python",
   "name": "python",
   "nbconvert_exporter": "python",
   "pygments_lexer": "ipython3",
   "version": "3.5.2"
  }
 },
 "nbformat": 4,
 "nbformat_minor": 1
}
