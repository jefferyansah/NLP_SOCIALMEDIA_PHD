{
 "cells": [
  {
   "cell_type": "code",
   "execution_count": 4,
   "metadata": {
    "collapsed": false
   },
   "outputs": [
    {
     "data": {
      "text/plain": [
       "{'Capitals': ['Accra', 'Lome', 'Abijan', 'Ougadougu'],\n",
       " 'Nation': ['Ghana', 'Togo', 'Ivory-coast', 'Burkina Faso'],\n",
       " 'Population': ['26', '14', '43', '20']}"
      ]
     },
     "execution_count": 4,
     "metadata": {},
     "output_type": "execute_result"
    }
   ],
   "source": [
    "# we are trying to integrate all what we have learnt so far\n",
    "\n",
    "countries = ['Ghana', 'Togo', 'Ivory-coast', 'Burkina Faso']\n",
    "capitals =  ['Accra', 'Lome', 'Abijan', 'Ougadougu']\n",
    "population = ['26', '14', '43', '20']\n",
    "\n",
    "country_tuple = countries, capitals, population\n",
    "\n",
    "country_tuple\n",
    "\n",
    "country_list = [countries,capitals,population]\n",
    "country_list\n",
    "\n",
    "country_dict = {'Nation':countries, 'Capitals':capitals, 'Population': population}\n",
    "\n",
    "country_dict          #dictionary of the list\n",
    "\n",
    "\n",
    "\n"
   ]
  },
  {
   "cell_type": "code",
   "execution_count": 40,
   "metadata": {
    "collapsed": false
   },
   "outputs": [],
   "source": [
    "#assignments to do\n",
    "\n",
    "years_list = ['1993','1994','1995','1996','1997']\n",
    "years_list[-1]\n",
    "years_list[0]\n",
    "\n",
    "\n",
    "things = ['mozilla', 'chrome', 'safari','explorer']\n",
    "#things.title()\n",
    "luke = str(things)\n",
    "luke.upper()\n",
    "luke.capitalize()\n",
    "luke.upper()\n",
    "things[2] ='Safari'\n",
    "things\n",
    "del things[2]\n",
    "things\n",
    "\n",
    "e2f = {'Dog':'chien' , 'Cat': 'Chat', 'Walrus': 'mouse'}\n",
    "e2f\n",
    "\n",
    "for animals, content in e2f.items():\n",
    "    if 'Walrus' in content:\n",
    "        print(animals)\n"
   ]
  }
 ],
 "metadata": {
  "anaconda-cloud": {},
  "kernelspec": {
   "display_name": "Python [conda root]",
   "language": "python",
   "name": "conda-root-py"
  },
  "language_info": {
   "codemirror_mode": {
    "name": "ipython",
    "version": 3
   },
   "file_extension": ".py",
   "mimetype": "text/x-python",
   "name": "python",
   "nbconvert_exporter": "python",
   "pygments_lexer": "ipython3",
   "version": "3.5.2"
  }
 },
 "nbformat": 4,
 "nbformat_minor": 1
}
