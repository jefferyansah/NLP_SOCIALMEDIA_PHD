{
 "cells": [
  {
   "cell_type": "code",
   "execution_count": 21,
   "metadata": {},
   "outputs": [
    {
     "name": "stdout",
     "output_type": "stream",
     "text": [
      "YfgLoIEota\n"
     ]
    }
   ],
   "source": [
    "import re\n",
    " \n",
    "urls = ['https://t.co/YfgLoIEota']\n",
    " \n",
    "regex = re.compile(r'(?<=/)([-\\w]+)(?=[.?/#]|$)')\n",
    "digits = re.compile(r'-?\\d{3,}-?')\n",
    " \n",
    "for url in urls:\n",
    "    substrings = regex.findall(url)\n",
    "    longest = max(substrings, key=len)\n",
    "    headline = re.sub(digits, '', longest)\n",
    "    print(headline)\n"
   ]
  },
  {
   "cell_type": "code",
   "execution_count": 25,
   "metadata": {},
   "outputs": [
    {
     "name": "stdout",
     "output_type": "stream",
     "text": [
      "0\n",
      "[]\n"
     ]
    }
   ],
   "source": [
    "import requests\n",
    "from lxml import html\n",
    "import pandas\n",
    "from bs4 import BeautifulSoup\n",
    "\n",
    "# Note trailing backslash removed\n",
    "url = \"https://t.co/C6FuC647It\"\n",
    "response = requests.get(url)\n",
    "doc = html.fromstring(response.text)\n",
    "\n",
    "headlineNode = doc.xpath('//div[@class=\"headline\"]')\n",
    "print(len(headlineNode))\n",
    "\n",
    "result_list  = []\n",
    "for node in headlineNode:\n",
    "    url_node = node.xpath('./a/@href')\n",
    "    title = node.xpath('./a/text()')\n",
    "    # Figure out logic to get that pic banner news URL\n",
    "    if len(url_node) == 0:\n",
    "        continue\n",
    "    else:\n",
    "        news_html = requests.get(url + url_node[0])\n",
    "        soup = BeautifulSoup(news_html.content)\n",
    "        text =[''.join(s.findAll(text=True)) for s in soup.findAll(\"div\", {\"class\":\"group\"})]\n",
    "        if (url_node and title and text) :\n",
    "            result_list.append({'URL' : url + url_node[0].strip(),\n",
    "                                'TITLE' : title[0].strip(),\n",
    "                                'TEXT' : text[0].strip()})\n",
    "print(result_list)\n",
    "#len(result_list)"
   ]
  },
  {
   "cell_type": "code",
   "execution_count": 39,
   "metadata": {},
   "outputs": [],
   "source": [
    "import io\n",
    "import urllib.request\n",
    "\n",
    "response = urllib.request.urlopen(\"http://google.com\")\n",
    "text = io.TextIOWrapper(response)\n"
   ]
  },
  {
   "cell_type": "code",
   "execution_count": 40,
   "metadata": {},
   "outputs": [
    {
     "name": "stdout",
     "output_type": "stream",
     "text": [
      "['galaxy5univ', 'BestOfGalaxies', 'jonghyun__bot', 'yosizo', 'LDH_3_yui']\n",
      "[]\n"
     ]
    }
   ],
   "source": [
    "import re\n",
    "p = re.compile(r'@([^\\s:]+)')\n",
    "test_str = \"@galaxy5univ I like you\\nRT @BestOfGalaxies: Let's sit under the stars ...\\n@jonghyun__bot .........((thanks)\\nRT @yosizo: thanks.ddddd <https://y...content-available-to-author-only...o.com>\\nRT @LDH_3_yui: #fam, ccccc https://m...content-available-to-author-only...s.com\"\n",
    "print(p.findall(test_str)) \n",
    "p2 = re.compile(r'(?:http|ftp|https)://(?:[\\w_-]+(?:(?:\\.[\\w_-]+)+))(?:[\\w.,@?^=%&:/~+#-]*[\\w@?^=%&/~+#-])?')\n",
    "print(p2.findall(test_str))"
   ]
  },
  {
   "cell_type": "code",
   "execution_count": 57,
   "metadata": {},
   "outputs": [
    {
     "name": "stdout",
     "output_type": "stream",
     "text": [
      "['https://t.co/YfgLoIEota', 'https://t.co/8CfgQSK2Q4']\n"
     ]
    },
    {
     "data": {
      "text/plain": [
       "list"
      ]
     },
     "execution_count": 57,
     "metadata": {},
     "output_type": "execute_result"
    }
   ],
   "source": [
    "import re\n",
    "\n",
    "url = \"RT @avivaimhof: Poor old #coal. Now even #Vietnam is moving away from it. https://t.co/YfgLoIEota https://t.co/8CfgQSK2Q4\"\n",
    "\n",
    "urls = re.findall('http[s]?://(?:[a-zA-Z]|[0-9]|[$-_@.&+]|[!*\\(\\),]|(?:%[0-9a-fA-F][0-9a-fA-F]))+', url)\n",
    "\n",
    "print(urls)\n",
    "type(urls)\n"
   ]
  }
 ],
 "metadata": {
  "kernelspec": {
   "display_name": "Python 3",
   "language": "python",
   "name": "python3"
  },
  "language_info": {
   "codemirror_mode": {
    "name": "ipython",
    "version": 3
   },
   "file_extension": ".py",
   "mimetype": "text/x-python",
   "name": "python",
   "nbconvert_exporter": "python",
   "pygments_lexer": "ipython3",
   "version": "3.6.4"
  }
 },
 "nbformat": 4,
 "nbformat_minor": 2
}
