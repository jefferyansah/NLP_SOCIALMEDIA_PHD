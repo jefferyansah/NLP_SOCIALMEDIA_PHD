{
 "cells": [
  {
   "cell_type": "markdown",
   "metadata": {},
   "source": [
    "#Generating Random Numbers"
   ]
  },
  {
   "cell_type": "code",
   "execution_count": 2,
   "metadata": {
    "collapsed": false
   },
   "outputs": [
    {
     "data": {
      "text/plain": [
       "(20, 2)"
      ]
     },
     "execution_count": 2,
     "metadata": {},
     "output_type": "execute_result"
    }
   ],
   "source": [
    " import numpy as np\n",
    "\n",
    "\n",
    "income = np.round(np.random.normal(250, 23.99393, 20), 2) # generate random numbers for some normal distribution \n",
    "#age =  np.random.randint(2, size=100)\n",
    "age = np.random.randint(low = 20, high= 35, size=20)  #this code generate random numbers between 20 and 35\n",
    "\n",
    "inc_ageRatio = np.column_stack((income, age))    # \n",
    "\n",
    "\n",
    "\n",
    "#inc_ageRatio.size\n",
    "inc_ageRatio.shape\n",
    "#inc_ageRatio\n",
    "\n",
    "#agecol = np.array(inc_ageRatio[:, 1])\n",
    "#agecol\n",
    "\n",
    "\n"
   ]
  },
  {
   "cell_type": "code",
   "execution_count": 4,
   "metadata": {
    "collapsed": false
   },
   "outputs": [
    {
     "data": {
      "text/plain": [
       "[27,\n",
       " 33,\n",
       " 24,\n",
       " 21,\n",
       " 31,\n",
       " 28,\n",
       " 28,\n",
       " 27,\n",
       " 26,\n",
       " 22,\n",
       " 25,\n",
       " 21,\n",
       " 25,\n",
       " 25,\n",
       " 27,\n",
       " 31,\n",
       " 20,\n",
       " 24,\n",
       " 22,\n",
       " 20]"
      ]
     },
     "execution_count": 4,
     "metadata": {},
     "output_type": "execute_result"
    }
   ],
   "source": [
    "type(age)\n",
    "age.tolist()"
   ]
  },
  {
   "cell_type": "code",
   "execution_count": 34,
   "metadata": {
    "collapsed": false
   },
   "outputs": [
    {
     "data": {
      "text/plain": [
       "141.21674999999999"
      ]
     },
     "execution_count": 34,
     "metadata": {},
     "output_type": "execute_result"
    }
   ],
   "source": [
    "np.mean(inc_ageRatio[])"
   ]
  },
  {
   "cell_type": "code",
   "execution_count": 43,
   "metadata": {
    "collapsed": false
   },
   "outputs": [
    {
     "data": {
      "text/plain": [
       "array([ 215.75,   22.  ])"
      ]
     },
     "execution_count": 43,
     "metadata": {},
     "output_type": "execute_result"
    }
   ],
   "source": [
    "inc_ageRatio[0, :]"
   ]
  },
  {
   "cell_type": "code",
   "execution_count": 50,
   "metadata": {
    "collapsed": false
   },
   "outputs": [
    {
     "data": {
      "text/plain": [
       "array([[ 215.75,   22.  ],\n",
       "       [ 215.68,   28.  ],\n",
       "       [ 266.79,   22.  ],\n",
       "       [ 242.04,   29.  ],\n",
       "       [ 252.9 ,   22.  ],\n",
       "       [ 287.02,   32.  ],\n",
       "       [ 273.42,   28.  ],\n",
       "       [ 214.92,   28.  ],\n",
       "       [ 246.19,   32.  ],\n",
       "       [ 226.41,   24.  ],\n",
       "       [ 239.06,   20.  ],\n",
       "       [ 226.4 ,   34.  ],\n",
       "       [ 251.7 ,   21.  ],\n",
       "       [ 232.2 ,   26.  ],\n",
       "       [ 267.14,   21.  ],\n",
       "       [ 250.41,   28.  ],\n",
       "       [ 274.11,   27.  ],\n",
       "       [ 214.44,   30.  ],\n",
       "       [ 288.5 ,   26.  ],\n",
       "       [ 251.98,   32.  ]])"
      ]
     },
     "execution_count": 50,
     "metadata": {},
     "output_type": "execute_result"
    }
   ],
   "source": [
    "lastone = inc_ageRatio\n",
    "lastone"
   ]
  },
  {
   "cell_type": "code",
   "execution_count": 51,
   "metadata": {
    "collapsed": false
   },
   "outputs": [
    {
     "data": {
      "text/plain": [
       "array([[ 215.75,   22.  ],\n",
       "       [ 215.68,   28.  ],\n",
       "       [ 266.79,   22.  ],\n",
       "       [ 242.04,   29.  ],\n",
       "       [ 252.9 ,   22.  ],\n",
       "       [ 287.02,   32.  ],\n",
       "       [ 273.42,   28.  ],\n",
       "       [ 214.92,   28.  ],\n",
       "       [ 246.19,   32.  ],\n",
       "       [ 226.41,   24.  ],\n",
       "       [ 239.06,   20.  ],\n",
       "       [ 226.4 ,   34.  ],\n",
       "       [ 251.7 ,   21.  ],\n",
       "       [ 232.2 ,   26.  ],\n",
       "       [ 267.14,   21.  ],\n",
       "       [ 250.41,   28.  ],\n",
       "       [ 274.11,   27.  ],\n",
       "       [ 214.44,   30.  ],\n",
       "       [ 288.5 ,   26.  ],\n",
       "       [ 251.98,   32.  ]])"
      ]
     },
     "execution_count": 51,
     "metadata": {},
     "output_type": "execute_result"
    }
   ],
   "source": [
    "lastone"
   ]
  },
  {
   "cell_type": "code",
   "execution_count": 52,
   "metadata": {
    "collapsed": false
   },
   "outputs": [
    {
     "data": {
      "text/plain": [
       "136.72649999999999"
      ]
     },
     "execution_count": 52,
     "metadata": {},
     "output_type": "execute_result"
    }
   ],
   "source": [
    "np.mean(lastone)"
   ]
  },
  {
   "cell_type": "code",
   "execution_count": 53,
   "metadata": {
    "collapsed": false
   },
   "outputs": [
    {
     "data": {
      "text/plain": [
       "26.600000000000001"
      ]
     },
     "execution_count": 53,
     "metadata": {},
     "output_type": "execute_result"
    }
   ],
   "source": [
    "np.mean(lastone[:, 1])"
   ]
  },
  {
   "cell_type": "code",
   "execution_count": 55,
   "metadata": {
    "collapsed": false
   },
   "outputs": [
    {
     "data": {
      "text/plain": [
       "array([[ 1.        , -0.04973076],\n",
       "       [-0.04973076,  1.        ]])"
      ]
     },
     "execution_count": 55,
     "metadata": {},
     "output_type": "execute_result"
    }
   ],
   "source": [
    "#corellation co-efficient\n",
    "\n",
    "np.corrcoef(lastone[:, 0], lastone[:, 1])"
   ]
  }
 ],
 "metadata": {
  "anaconda-cloud": {},
  "kernelspec": {
   "display_name": "Python [conda root]",
   "language": "python",
   "name": "conda-root-py"
  },
  "language_info": {
   "codemirror_mode": {
    "name": "ipython",
    "version": 3
   },
   "file_extension": ".py",
   "mimetype": "text/x-python",
   "name": "python",
   "nbconvert_exporter": "python",
   "pygments_lexer": "ipython3",
   "version": "3.5.2"
  }
 },
 "nbformat": 4,
 "nbformat_minor": 1
}
