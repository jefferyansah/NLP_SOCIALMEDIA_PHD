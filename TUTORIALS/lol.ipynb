{
 "cells": [
  {
   "cell_type": "code",
   "execution_count": 56,
   "metadata": {},
   "outputs": [
    {
     "data": {
      "text/html": [
       "<div>\n",
       "<style scoped>\n",
       "    .dataframe tbody tr th:only-of-type {\n",
       "        vertical-align: middle;\n",
       "    }\n",
       "\n",
       "    .dataframe tbody tr th {\n",
       "        vertical-align: top;\n",
       "    }\n",
       "\n",
       "    .dataframe thead th {\n",
       "        text-align: right;\n",
       "    }\n",
       "</style>\n",
       "<table border=\"1\" class=\"dataframe\">\n",
       "  <thead>\n",
       "    <tr style=\"text-align: right;\">\n",
       "      <th></th>\n",
       "      <th>Unnamed: 0</th>\n",
       "      <th>author</th>\n",
       "      <th>publicationTime</th>\n",
       "      <th>bodyText</th>\n",
       "    </tr>\n",
       "  </thead>\n",
       "  <tbody>\n",
       "    <tr>\n",
       "      <th>0</th>\n",
       "      <td>0</td>\n",
       "      <td>2.209799e+09</td>\n",
       "      <td>10/02/2016 10:30</td>\n",
       "      <td>RT @350Australia: Adani Group's Aust #coal min...</td>\n",
       "    </tr>\n",
       "    <tr>\n",
       "      <th>1</th>\n",
       "      <td>1</td>\n",
       "      <td>2.209799e+09</td>\n",
       "      <td>10/02/2016 10:36</td>\n",
       "      <td>RT @avivaimhof: Poor old #coal. Now even #Viet...</td>\n",
       "    </tr>\n",
       "    <tr>\n",
       "      <th>2</th>\n",
       "      <td>2</td>\n",
       "      <td>4.306011e+07</td>\n",
       "      <td>10/02/2016 10:37</td>\n",
       "      <td>RT @market_forces: Funds have burned billions ...</td>\n",
       "    </tr>\n",
       "    <tr>\n",
       "      <th>3</th>\n",
       "      <td>3</td>\n",
       "      <td>2.209799e+09</td>\n",
       "      <td>10/02/2016 10:37</td>\n",
       "      <td>RT @avivaimhof: #Vietnam PM Announces Retreat ...</td>\n",
       "    </tr>\n",
       "    <tr>\n",
       "      <th>4</th>\n",
       "      <td>4</td>\n",
       "      <td>5.855606e+08</td>\n",
       "      <td>10/02/2016 10:41</td>\n",
       "      <td>RT @350Australia: Adani Group's Aust #coal min...</td>\n",
       "    </tr>\n",
       "  </tbody>\n",
       "</table>\n",
       "</div>"
      ],
      "text/plain": [
       "  Unnamed: 0        author   publicationTime  \\\n",
       "0          0  2.209799e+09  10/02/2016 10:30   \n",
       "1          1  2.209799e+09  10/02/2016 10:36   \n",
       "2          2  4.306011e+07  10/02/2016 10:37   \n",
       "3          3  2.209799e+09  10/02/2016 10:37   \n",
       "4          4  5.855606e+08  10/02/2016 10:41   \n",
       "\n",
       "                                            bodyText  \n",
       "0  RT @350Australia: Adani Group's Aust #coal min...  \n",
       "1  RT @avivaimhof: Poor old #coal. Now even #Viet...  \n",
       "2  RT @market_forces: Funds have burned billions ...  \n",
       "3  RT @avivaimhof: #Vietnam PM Announces Retreat ...  \n",
       "4  RT @350Australia: Adani Group's Aust #coal min...  "
      ]
     },
     "execution_count": 56,
     "metadata": {},
     "output_type": "execute_result"
    }
   ],
   "source": [
    "import pandas as pd\n",
    "import matplotlib.pyplot as plt\n",
    "import numpy as np\n",
    "import itertools\n",
    "df = pd.read_csv('data.csv')\n",
    "df.head()"
   ]
  },
  {
   "cell_type": "code",
   "execution_count": 57,
   "metadata": {},
   "outputs": [
    {
     "name": "stdout",
     "output_type": "stream",
     "text": [
      "Enter Interval in seconds : 3600\n"
     ]
    }
   ],
   "source": [
    "interval = input('Enter Interval in seconds : ')"
   ]
  },
  {
   "cell_type": "code",
   "execution_count": 58,
   "metadata": {},
   "outputs": [],
   "source": [
    "df[\"publicationTime\"] = pd.to_datetime(df[\"publicationTime\"],  format='%d/%m/%Y %H:%M')\n",
    "df['bodyText'].fillna('not found',inplace=True)\n"
   ]
  },
  {
   "cell_type": "code",
   "execution_count": 59,
   "metadata": {},
   "outputs": [
    {
     "name": "stdout",
     "output_type": "stream",
     "text": [
      "datetime>  2016-02-10 11:30:00\n",
      "datetime>  2016-02-10 12:30:00\n",
      "datetime>  2016-02-10 13:30:00\n",
      "datetime>  2016-02-10 14:30:00\n",
      "datetime>  2016-02-10 15:30:00\n",
      "datetime>  2016-02-10 16:30:00\n",
      "datetime>  2016-02-10 17:30:00\n",
      "datetime>  2016-02-10 18:30:00\n",
      "datetime>  2016-02-10 19:30:00\n",
      "datetime>  2016-02-10 20:30:00\n",
      "datetime>  2016-02-10 21:30:00\n",
      "datetime>  2016-02-10 22:30:00\n",
      "datetime>  2016-02-10 23:30:00\n",
      "datetime>  2016-02-11 00:30:00\n",
      "datetime>  2016-02-11 01:30:00\n",
      "datetime>  2016-02-11 02:30:00\n",
      "datetime>  2016-02-11 03:30:00\n",
      "datetime>  2016-02-11 04:30:00\n",
      "datetime>  2016-02-11 05:30:00\n",
      "datetime>  2016-02-11 06:30:00\n",
      "datetime>  2016-02-11 07:30:00\n",
      "datetime>  2016-02-11 08:30:00\n",
      "datetime>  2016-02-11 09:30:00\n",
      "datetime>  2016-02-11 10:30:00\n",
      "datetime>  2016-02-11 11:30:00\n",
      "datetime>  2016-02-11 12:30:00\n",
      "datetime>  2016-02-11 13:30:00\n",
      "datetime>  2016-02-11 14:30:00\n",
      "datetime>  2016-02-11 15:30:00\n",
      "datetime>  2016-02-11 16:30:00\n",
      "datetime>  2016-02-11 17:30:00\n",
      "datetime>  2016-02-11 18:30:00\n",
      "datetime>  2016-02-11 19:30:00\n",
      "datetime>  2016-02-11 20:30:00\n",
      "datetime>  2016-02-11 21:30:00\n",
      "datetime>  2016-02-11 22:30:00\n",
      "datetime>  2016-02-11 23:30:00\n",
      "datetime>  2016-02-12 00:30:00\n",
      "datetime>  2016-02-12 01:30:00\n",
      "datetime>  2017-04-03 17:30:00\n"
     ]
    },
    {
     "ename": "OSError",
     "evalue": "[Errno 22] Invalid argument",
     "output_type": "error",
     "traceback": [
      "\u001b[1;31m---------------------------------------------------------------------------\u001b[0m",
      "\u001b[1;31mOSError\u001b[0m                                   Traceback (most recent call last)",
      "\u001b[1;32m<ipython-input-59-73e09e6470ec>\u001b[0m in \u001b[0;36m<module>\u001b[1;34m()\u001b[0m\n\u001b[0;32m     32\u001b[0m             \u001b[1;32mfor\u001b[0m \u001b[0md\u001b[0m \u001b[1;32min\u001b[0m \u001b[0mrange\u001b[0m\u001b[1;33m(\u001b[0m\u001b[1;36m1\u001b[0m\u001b[1;33m,\u001b[0m\u001b[0mint\u001b[0m\u001b[1;33m(\u001b[0m\u001b[0mdiff\u001b[0m\u001b[1;33m)\u001b[0m\u001b[1;33m)\u001b[0m\u001b[1;33m:\u001b[0m\u001b[1;33m\u001b[0m\u001b[0m\n\u001b[0;32m     33\u001b[0m                 \u001b[0mindex_counter\u001b[0m \u001b[1;33m+=\u001b[0m \u001b[1;36m1\u001b[0m\u001b[1;33m\u001b[0m\u001b[0m\n\u001b[1;32m---> 34\u001b[1;33m                 \u001b[0mpub\u001b[0m \u001b[1;33m=\u001b[0m \u001b[0mdatetime\u001b[0m\u001b[1;33m.\u001b[0m\u001b[0mdatetime\u001b[0m\u001b[1;33m.\u001b[0m\u001b[0mfromtimestamp\u001b[0m\u001b[1;33m(\u001b[0m\u001b[0mint\u001b[0m\u001b[1;33m(\u001b[0m\u001b[0mold_timestamp\u001b[0m\u001b[1;33m+\u001b[0m\u001b[1;33m(\u001b[0m\u001b[0mfloat\u001b[0m\u001b[1;33m(\u001b[0m\u001b[0minterval\u001b[0m\u001b[1;33m*\u001b[0m\u001b[0md\u001b[0m\u001b[1;33m)\u001b[0m\u001b[1;33m)\u001b[0m\u001b[1;33m)\u001b[0m\u001b[1;33m)\u001b[0m\u001b[1;33m.\u001b[0m\u001b[0mstrftime\u001b[0m\u001b[1;33m(\u001b[0m\u001b[1;34m'%Y-%m-%d %H:%M:%S'\u001b[0m\u001b[1;33m)\u001b[0m\u001b[1;33m\u001b[0m\u001b[0m\n\u001b[0m\u001b[0;32m     35\u001b[0m                 \u001b[0mprint\u001b[0m\u001b[1;33m(\u001b[0m\u001b[1;34m\"datetime> \"\u001b[0m\u001b[1;33m,\u001b[0m\u001b[0mpub\u001b[0m\u001b[1;33m)\u001b[0m\u001b[1;33m\u001b[0m\u001b[0m\n\u001b[0;32m     36\u001b[0m                 \u001b[0mtemp1\u001b[0m \u001b[1;33m=\u001b[0m \u001b[0mpd\u001b[0m\u001b[1;33m.\u001b[0m\u001b[0mDataFrame\u001b[0m\u001b[1;33m(\u001b[0m\u001b[1;33m{\u001b[0m\u001b[1;34m'publicationTime'\u001b[0m\u001b[1;33m:\u001b[0m \u001b[0mpub\u001b[0m\u001b[1;33m,\u001b[0m \u001b[1;34m'users'\u001b[0m\u001b[1;33m:\u001b[0m \u001b[0mlen\u001b[0m\u001b[1;33m(\u001b[0m\u001b[0mset\u001b[0m\u001b[1;33m(\u001b[0m\u001b[0mcombine_data\u001b[0m\u001b[1;33m)\u001b[0m\u001b[1;33m)\u001b[0m\u001b[1;33m}\u001b[0m\u001b[1;33m,\u001b[0m\u001b[0mindex\u001b[0m\u001b[1;33m=\u001b[0m\u001b[1;33m[\u001b[0m\u001b[0mindex_counter\u001b[0m\u001b[1;33m]\u001b[0m\u001b[1;33m)\u001b[0m\u001b[1;33m\u001b[0m\u001b[0m\n",
      "\u001b[1;31mOSError\u001b[0m: [Errno 22] Invalid argument"
     ]
    }
   ],
   "source": [
    "import time\n",
    "import datetime\n",
    "users = []\n",
    "combine_data = []\n",
    "counter  = 0\n",
    "tweet_time = 0\n",
    "old_timestamp = 0\n",
    "row_count = 0\n",
    "df_user = pd.DataFrame()\n",
    "df_retweet = pd.DataFrame()\n",
    "df_count = pd.DataFrame()\n",
    "index_counter = 0\n",
    "def filter_data(text, combine_data):\n",
    "    for t in text.split(' '):\n",
    "        if t.startswith('@'):\n",
    "            combine_data.append(t)\n",
    "    return combine_data\n",
    "\n",
    "def filter_retweet(text, count):\n",
    "    for index, t in enumerate(text.split(' ')):\n",
    "        if index == 0 and t == 'RT':\n",
    "            count += 1\n",
    "    return count  \n",
    "for i, row in df.iterrows():\n",
    "    type = pd.isnull(row['publicationTime'])\n",
    "    if not type:\n",
    "        timestamp = time.mktime(row['publicationTime'].timetuple())\n",
    "        if i == 0:\n",
    "            old_timestamp = timestamp\n",
    "        if tweet_time > old_timestamp + float(interval):\n",
    "            diff = (tweet_time - old_timestamp + float(interval))/float(interval)\n",
    "            for d in range(1,int(diff)):\n",
    "                index_counter += 1\n",
    "                pub = datetime.datetime.fromtimestamp(int(old_timestamp+(float(interval*d)))).strftime('%Y-%m-%d %H:%M:%S')\n",
    "                print(\"datetime> \",pub)\n",
    "                temp1 = pd.DataFrame({'publicationTime': pub, 'users': len(set(combine_data))},index=[index_counter])\n",
    "                temp2 = pd.DataFrame({'publicationTime': pub, 'retweet': counter},index=[index_counter])\n",
    "                temp3 = pd.DataFrame({'publicationTime': pub, 'count': row_count},index=[index_counter])\n",
    "                df_user = pd.concat([df_user, temp1])\n",
    "                df_retweet = pd.concat([df_retweet, temp2])\n",
    "                df_count = pd.concat([df_count, temp3])\n",
    "                old_timestamp = old_timestamp+(float(interval*d))           \n",
    "            combine_data = []\n",
    "            counter = 0\n",
    "            row_count = 0\n",
    "        else:\n",
    "            combine_data = filter_data(row['bodyText'], combine_data)\n",
    "            counter = filter_retweet(row['bodyText'], counter)\n",
    "            tweet_time = timestamp\n",
    "            row_count += 1\n",
    "print(df_count.head(10))\n",
    "print(df_user.head(10))  \n",
    "print(df_retweet.head(10))"
   ]
  },
  {
   "cell_type": "code",
   "execution_count": 60,
   "metadata": {},
   "outputs": [
    {
     "data": {
      "image/png": "[encoded data removed]",
      "text/plain": [
       "<matplotlib.figure.Figure at 0xb3da668>"
      ]
     },
     "metadata": {},
     "output_type": "display_data"
    }
   ],
   "source": [
    "%matplotlib inline\n",
    "plt.bar(df_count['publicationTime'], df_count['count'], align='center')\n",
    "plt.title('Interval')\n",
    "plt.show()"
   ]
  },
  {
   "cell_type": "code",
   "execution_count": null,
   "metadata": {},
   "outputs": [],
   "source": [
    "def gen_window(df):\n",
    "    window = []\n",
    "    count = 1\n",
    "    for i, row in df.iterrows():\n",
    "        window.append(\"Window {}\".format(count))\n",
    "        count += 1\n",
    "    return window"
   ]
  },
  {
   "cell_type": "code",
   "execution_count": null,
   "metadata": {},
   "outputs": [],
   "source": [
    "df_count['window'] = gen_window(df_count)\n",
    "df_user['windows'] = gen_window(df_user)\n",
    "df_retweet['windows'] = gen_window(df_retweet)\n",
    "df_count.to_csv('count_with_interval.csv')\n",
    "df_user.to_csv('count_with_users.csv')\n",
    "df_retweet.to_csv('count_with_retweets.csv')"
   ]
  },
  {
   "cell_type": "code",
   "execution_count": null,
   "metadata": {},
   "outputs": [],
   "source": []
  }
 ],
 "metadata": {
  "kernelspec": {
   "display_name": "Python 3",
   "language": "python",
   "name": "python3"
  },
  "language_info": {
   "codemirror_mode": {
    "name": "ipython",
    "version": 3
   },
   "file_extension": ".py",
   "mimetype": "text/x-python",
   "name": "python",
   "nbconvert_exporter": "python",
   "pygments_lexer": "ipython3",
   "version": "3.6.4"
  }
 },
 "nbformat": 4,
 "nbformat_minor": 2
}
