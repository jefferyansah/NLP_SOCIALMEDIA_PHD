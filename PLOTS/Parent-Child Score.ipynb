{
 "cells": [
  {
   "cell_type": "code",
   "execution_count": null,
   "metadata": {},
   "outputs": [],
   "source": []
  },
  {
   "cell_type": "code",
   "execution_count": 35,
   "metadata": {},
   "outputs": [
    {
     "data": {
      "image/png": "[encoded data removed]",
      "text/plain": [
       "<matplotlib.figure.Figure at 0xc9bd7f0>"
      ]
     },
     "metadata": {},
     "output_type": "display_data"
    }
   ],
   "source": [
    "import matplotlib.pyplot as plt\n",
    "from mpl_toolkits.axes_grid1 import make_axes_locatable\n",
    "import numpy as np\n",
    "\n",
    "harvest = np.array([\n",
    "    [0, 5, 5, 5, 5],\n",
    "    [0, 1, 20 ,3, 12],\n",
    "    [0, 56, 2 ,32, 15],\n",
    "    [0, 20, 20 ,21, 17],\n",
    "    [0, 3, 20, 2, 11]\n",
    "])\n",
    "\n",
    "\n",
    "plt.figure(figsize=(8,10))\n",
    "ax = plt.gca()\n",
    "im = ax.imshow(harvest, \"viridis\")\n",
    "plt.xticks([])\n",
    "plt.yticks([])\n",
    "#ax.set_title(\"Tree Data Grid Heatmap of Bursty Windows(T=60min)\", fontsize=12)\n",
    "divider = make_axes_locatable(ax)\n",
    "cax = divider.append_axes(\"right\", size=\"3%\", pad=0.12)\n",
    "plt.colorbar(im, cax=cax)\n",
    "plt.savefig('hm60.png',bbox_inches='tight', dpi= 100)"
   ]
  }
 ],
 "metadata": {
  "kernelspec": {
   "display_name": "Python 3",
   "language": "python",
   "name": "python3"
  },
  "language_info": {
   "codemirror_mode": {
    "name": "ipython",
    "version": 3
   },
   "file_extension": ".py",
   "mimetype": "text/x-python",
   "name": "python",
   "nbconvert_exporter": "python",
   "pygments_lexer": "ipython3",
   "version": "3.6.4"
  }
 },
 "nbformat": 4,
 "nbformat_minor": 2
}
