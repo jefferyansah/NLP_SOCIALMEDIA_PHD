{
 "cells": [
  {
   "cell_type": "code",
   "execution_count": 10,
   "metadata": {
    "collapsed": false
   },
   "outputs": [
    {
     "name": "stdout",
     "output_type": "stream",
     "text": [
      "[2, 3, 4, 5, 6, 7, 10, 11, 13, 14, 16, 19, 19, 20, 21, 21, 22, 23, 24, 25, 25, 26, 27, 28, 29, 29, 32, 37, 38, 39, 42, 42, 42, 43, 44, 50, 50, 53, 56, 56, 62, 62, 63, 63, 64, 65, 69, 73, 73, 74, 74, 75, 81, 81, 84, 84, 84, 85, 87, 89, 89, 90, 90, 91, 92, 95, 96]\n"
     ]
    }
   ],
   "source": [
    "import numpy as np\n",
    "from sklearn.cluster import MeanShift, estimate_bandwidth\n",
    "\n",
    "#x = [1,1,5,6,1,5,10,22,23,23,50,51,51,52,100,112,130,500,512,600,12000,12230]\n",
    "templist = (np.random.randint(low = 1, high= 100, size= 67))\n",
    "d = sorted(templist, key= int,)\n",
    "print(d)"
   ]
  },
  {
   "cell_type": "markdown",
   "metadata": {},
   "source": [
    "# Mean shift is a non-parametric feature-space analysis technique for locating. It aims to discover “blobs” in a smooth density of samples. It is a centroid-based algorithm, which works by updating candidates for centroids to be the mean of the points within a given region. "
   ]
  },
  {
   "cell_type": "code",
   "execution_count": 1,
   "metadata": {
    "collapsed": false
   },
   "outputs": [
    {
     "name": "stdout",
     "output_type": "stream",
     "text": [
      "Number or Clustered partitions\n",
      "Partions 0 [1467542520 1467542520 1467542580 1467542640]\n",
      "Partions 1 [1467546420 1467546420 1467546540]\n",
      "Partions 2 [1467548340 1467548400]\n",
      "Partions 3 [1467547560 1467547620 1467547680]\n",
      "Partions 4 [1467548220]\n",
      "Partions 5 [1467543720 1467543720 1467544260 1467544260]\n",
      "Partions 6 [1467541980 1467542100 1467542280]\n",
      "Partions 7 [1467547080 1467547200]\n",
      "Partions 8 [1467546900]\n",
      "Partions 9 [1467541860]\n",
      "Partions 10 [1467547380]\n",
      "Partions 11 [1467542880]\n",
      "Partions 12 [1467545400]\n",
      "Partions 13 [1467545220]\n"
     ]
    }
   ],
   "source": [
    "import numpy as np\n",
    "from sklearn.cluster import MeanShift, estimate_bandwidth\n",
    "\n",
    "#x = [1,1,5,6,1,5,10,22,23,23,50,51,51,52,100,112,130,500,512,600,12000,12230]\n",
    "x = [1467541860,\n",
    "1467541980,\n",
    "1467542100,\n",
    "1467542280,\n",
    "1467542520,\n",
    "1467542520,\n",
    "1467542580,\n",
    "1467542640,\n",
    "1467542880,\n",
    "1467543720,\n",
    "1467543720,\n",
    "1467544260,\n",
    "1467544260,\n",
    "1467545220,\n",
    "1467545400,\n",
    "1467546420,\n",
    "1467546420,\n",
    "1467546540,\n",
    "1467546900,\n",
    "1467547080,\n",
    "1467547200,\n",
    "1467547380,\n",
    "1467547560,\n",
    "1467547620,\n",
    "1467547680,\n",
    "1467548220,\n",
    "1467548340,\n",
    "1467548400\n",
    "]\n",
    "#templist = (np.random.randint(low = 1, high= 100, size= 67))\n",
    "#x = sorted(templist, key= int, reverse=True)\n",
    "ziplist = zip(x,np.zeros(len(x)))\n",
    "normal_list = [z for z in ziplist]\n",
    "#print(normal_list)\n",
    "X = np.array(normal_list, dtype=np.int)\n",
    "#print('Modified List')\n",
    "#print(X)\n",
    "\n",
    "bandwidth = estimate_bandwidth(X, quantile=0.1)\n",
    "ms = MeanShift(bandwidth=bandwidth, bin_seeding=True)\n",
    "ms.fit(X)\n",
    "labels = ms.labels_\n",
    "cluster_centers = ms.cluster_centers_\n",
    "\n",
    "labels_unique = np.unique(labels)\n",
    "n_clusters_ = len(labels_unique)\n",
    "\n",
    "print('Number or Clustered partitions')\n",
    "for k in range(n_clusters_):\n",
    "    my_members = labels == k\n",
    "    print(('Partions {0} {1}').format(k, X[my_members, 0]))\n"
   ]
  },
  {
   "cell_type": "code",
   "execution_count": 2,
   "metadata": {
    "collapsed": false
   },
   "outputs": [
    {
     "data": {
      "image/png": "[encoded data removed]",
      "text/plain": [
       "<matplotlib.figure.Figure at 0x4e90400>"
      ]
     },
     "metadata": {},
     "output_type": "display_data"
    }
   ],
   "source": [
    "import matplotlib.pyplot as plt\n",
    "from itertools import cycle\n",
    "\n",
    "plt.figure(1)\n",
    "plt.clf()\n",
    "\n",
    "colors = cycle('bgrcmykbgrcmykbgrcmykbgrcmyk')\n",
    "for k, col in zip(range(n_clusters_), colors):\n",
    "    my_members = labels == k\n",
    "    cluster_center = cluster_centers[k]\n",
    "    plt.plot(X[my_members, 0], X[my_members, 1], col + '.')\n",
    "    plt.plot(cluster_center[0], cluster_center[1], 'o', markerfacecolor=col,\n",
    "             markeredgecolor='k', markersize=25)\n",
    "plt.title('Estimated number of clusters: %d' % n_clusters_)\n",
    "plt.show()"
   ]
  },
  {
   "cell_type": "code",
   "execution_count": null,
   "metadata": {
    "collapsed": true
   },
   "outputs": [],
   "source": []
  },
  {
   "cell_type": "code",
   "execution_count": 2,
   "metadata": {
    "collapsed": false
   },
   "outputs": [
    {
     "data": {
      "text/plain": [
       "list"
      ]
     },
     "execution_count": 2,
     "metadata": {},
     "output_type": "execute_result"
    }
   ],
   "source": [
    "type(x)"
   ]
  }
 ],
 "metadata": {
  "anaconda-cloud": {},
  "kernelspec": {
   "display_name": "Python [conda root]",
   "language": "python",
   "name": "conda-root-py"
  },
  "language_info": {
   "codemirror_mode": {
    "name": "ipython",
    "version": 3
   },
   "file_extension": ".py",
   "mimetype": "text/x-python",
   "name": "python",
   "nbconvert_exporter": "python",
   "pygments_lexer": "ipython3",
   "version": "3.5.2"
  }
 },
 "nbformat": 4,
 "nbformat_minor": 1
}
