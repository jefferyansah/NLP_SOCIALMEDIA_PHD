{
 "cells": [
  {
   "cell_type": "code",
   "execution_count": 12,
   "metadata": {
    "collapsed": false
   },
   "outputs": [
    {
     "name": "stdout",
     "output_type": "stream",
     "text": [
      "You dont have money and so you cant have a girlfriend\n"
     ]
    }
   ],
   "source": [
    "#Checking Condtions\n",
    "\n",
    "money = False\n",
    "Relationship = False\n",
    "\n",
    "if money:\n",
    "    if Relationship:\n",
    "        print('You have money so you can have a girlfriend')\n",
    "    else :\n",
    "        print('You have money but you cant have a girlfriend')\n",
    "else:\n",
    "    if Relationship:\n",
    "        print('You dont have money but you can have a girlfriend')\n",
    "    else :\n",
    "        print('You dont have money and so you cant have a girlfriend')\n",
    "\n",
    " "
   ]
  },
  {
   "cell_type": "code",
   "execution_count": 20,
   "metadata": {
    "collapsed": false
   },
   "outputs": [
    {
     "name": "stdout",
     "output_type": "stream",
     "text": [
      "It's is True there is going to be a protest\n"
     ]
    }
   ],
   "source": [
    "# Write a program to check for the protest based on some features\n",
    "c_score = 10\n",
    "s_score = 0.5\n",
    "t_score = 0.6\n",
    "protest = True\n",
    "\n",
    "if c_score >= 10:\n",
    "        if s_score >= 0.5:\n",
    "             if t_score == 0.6:\n",
    "                    print(\"It's is \" + str(protest) + \" there is going to be a protest\")\n",
    "                    \n",
    "                    #To bbe continued\n",
    "\n"
   ]
  },
  {
   "cell_type": "code",
   "execution_count": 22,
   "metadata": {
    "collapsed": false
   },
   "outputs": [
    {
     "name": "stdout",
     "output_type": "stream",
     "text": [
      " no math found\n"
     ]
    }
   ],
   "source": [
    "# now lets try the IF with the elif\n",
    "#with the fruit game\n",
    "color = 'pruce'\n",
    "\n",
    "if color == 'red':\n",
    "    print('its a tomato')\n",
    "elif color == 'green':\n",
    "        print(\"its a cabbage\")\n",
    "elif color == 'yellow':\n",
    "        print(\" its a banana\")\n",
    "else :\n",
    "        print(\" no math found\")\n",
    "    "
   ]
  },
  {
   "cell_type": "code",
   "execution_count": 26,
   "metadata": {
    "collapsed": false
   },
   "outputs": [
    {
     "data": {
      "text/plain": [
       "True"
      ]
     },
     "execution_count": 26,
     "metadata": {},
     "output_type": "execute_result"
    }
   ],
   "source": [
    "#testing inequalities\n",
    "x = 7\n",
    "x == 5 \n",
    "x!= 5\n",
    "\n",
    "5 < x and x<10\n",
    "\n",
    "# for mutliple comparison use boolean indicators 'and, or  not'"
   ]
  },
  {
   "cell_type": "code",
   "execution_count": 27,
   "metadata": {
    "collapsed": false
   },
   "outputs": [
    {
     "data": {
      "text/plain": [
       "5416.666666666667"
      ]
     },
     "execution_count": 27,
     "metadata": {},
     "output_type": "execute_result"
    }
   ],
   "source": [
    "65000/12\n"
   ]
  }
 ],
 "metadata": {
  "anaconda-cloud": {},
  "kernelspec": {
   "display_name": "Python [conda root]",
   "language": "python",
   "name": "conda-root-py"
  },
  "language_info": {
   "codemirror_mode": {
    "name": "ipython",
    "version": 3
   },
   "file_extension": ".py",
   "mimetype": "text/x-python",
   "name": "python",
   "nbconvert_exporter": "python",
   "pygments_lexer": "ipython3",
   "version": "3.5.2"
  }
 },
 "nbformat": 4,
 "nbformat_minor": 1
}
